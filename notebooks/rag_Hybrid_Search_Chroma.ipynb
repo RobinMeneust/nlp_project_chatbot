{
  "nbformat": 4,
  "nbformat_minor": 0,
  "metadata": {
    "colab": {
      "provenance": [],
      "gpuType": "T4"
    },
    "kernelspec": {
      "name": "python3",
      "display_name": "Python 3"
    },
    "language_info": {
      "name": "python"
    },
    "accelerator": "GPU"
  },
  "cells": [
    {
      "cell_type": "code",
      "source": [
        "!pip install -qU langchain-community langchain-openai rank_bm25 tiktoken faiss-gpu"
      ],
      "metadata": {
        "colab": {
          "base_uri": "https://localhost:8080/"
        },
        "id": "NDHbB6celebt",
        "outputId": "2a495642-1ede-4291-c4f2-3e8e06729ec0"
      },
      "execution_count": 4,
      "outputs": [
        {
          "output_type": "stream",
          "name": "stdout",
          "text": [
            "\u001b[?25l   \u001b[90m━━━━━━━━━━━━━━━━━━━━━━━━━━━━━━━━━━━━━━━━\u001b[0m \u001b[32m0.0/50.9 kB\u001b[0m \u001b[31m?\u001b[0m eta \u001b[36m-:--:--\u001b[0m\r\u001b[2K   \u001b[90m━━━━━━━━━━━━━━━━━━━━━━━━━━━━━━━━━━━━━━━━\u001b[0m \u001b[32m50.9/50.9 kB\u001b[0m \u001b[31m3.0 MB/s\u001b[0m eta \u001b[36m0:00:00\u001b[0m\n",
            "\u001b[?25h"
          ]
        }
      ]
    },
    {
      "cell_type": "code",
      "source": [
        "import os\n",
        "os.environ[\"OPENAI_API_KEY\"] = input()"
      ],
      "metadata": {
        "id": "oBPvCw_3woin"
      },
      "execution_count": null,
      "outputs": []
    },
    {
      "cell_type": "code",
      "source": [
        "from langchain.retrievers import BM25Retriever, EnsembleRetriever\n",
        "from langchain.schema import Document\n",
        "\n",
        "from langchain.vectorstores import Chroma, FAISS\n",
        "\n",
        "from langchain_openai import OpenAIEmbeddings\n",
        "embeddings = OpenAIEmbeddings()"
      ],
      "metadata": {
        "id": "pZGYBEJAk5I0"
      },
      "execution_count": 6,
      "outputs": []
    },
    {
      "cell_type": "code",
      "source": [
        "import kagglehub\n",
        "import pandas as pd\n",
        "\n",
        "# Download latest version\n",
        "path = kagglehub.dataset_download(\"cryptexcode/mpst-movie-plot-synopses-with-tags\")\n",
        "\n",
        "print(\"Path to dataset files:\", path)\n",
        "# Assuming the dataset is a CSV file named 'mpst_full_data.csv'\n",
        "try:\n",
        "    df = pd.read_csv(path + '/mpst_full_data.csv')\n",
        "    print(df.head())\n",
        "except FileNotFoundError:\n",
        "    print(f\"Error: File not found at {path + '/mpst_full_data.csv'}. Check the path or filename.\")\n",
        "except Exception as e:\n",
        "    print(f\"An error occurred: {e}\")"
      ],
      "metadata": {
        "colab": {
          "base_uri": "https://localhost:8080/"
        },
        "collapsed": true,
        "id": "scsQjaJDcNw6",
        "outputId": "09843b33-1300-4eb7-e3a1-16e474c279ae"
      },
      "execution_count": 8,
      "outputs": [
        {
          "output_type": "stream",
          "name": "stdout",
          "text": [
            "Path to dataset files: /root/.cache/kagglehub/datasets/cryptexcode/mpst-movie-plot-synopses-with-tags/versions/1\n",
            "     imdb_id                                          title  \\\n",
            "0  tt0057603                        I tre volti della paura   \n",
            "1  tt1733125  Dungeons & Dragons: The Book of Vile Darkness   \n",
            "2  tt0033045                     The Shop Around the Corner   \n",
            "3  tt0113862                             Mr. Holland's Opus   \n",
            "4  tt0086250                                       Scarface   \n",
            "\n",
            "                                       plot_synopsis  \\\n",
            "0  Note: this synopsis is for the orginal Italian...   \n",
            "1  Two thousand years ago, Nhagruul the Foul, a s...   \n",
            "2  Matuschek's, a gift store in Budapest, is the ...   \n",
            "3  Glenn Holland, not a morning person by anyone'...   \n",
            "4  In May 1980, a Cuban man named Tony Montana (A...   \n",
            "\n",
            "                                                tags  split synopsis_source  \n",
            "0          cult, horror, gothic, murder, atmospheric  train            imdb  \n",
            "1                                           violence  train            imdb  \n",
            "2                                           romantic   test            imdb  \n",
            "3             inspiring, romantic, stupid, feel-good  train            imdb  \n",
            "4  cruelty, murder, dramatic, cult, violence, atm...    val            imdb  \n"
          ]
        }
      ]
    },
    {
      "cell_type": "code",
      "source": [
        "doc_list = []\n",
        "for index, row in df.iterrows():\n",
        "    doc_list.append(f\"{row['title']}: {row['plot_synopsis']}\")"
      ],
      "metadata": {
        "id": "UPnX-xQ0mNuN"
      },
      "execution_count": 9,
      "outputs": []
    },
    {
      "cell_type": "code",
      "source": [
        "# intialize the bm25 retriever and faiss retriever\n",
        "bm25_retriever = BM25Retriever.from_texts(doc_list)\n",
        "bm25_retriever.k = 2"
      ],
      "metadata": {
        "id": "NO64VecgmogP"
      },
      "execution_count": 10,
      "outputs": []
    },
    {
      "cell_type": "code",
      "source": [
        "bm25_retriever.invoke(\"Titanic\")"
      ],
      "metadata": {
        "colab": {
          "base_uri": "https://localhost:8080/"
        },
        "id": "ms8fb5M4nG0-",
        "outputId": "a701aab4-5da1-4955-d140-2bc892cff529"
      },
      "execution_count": 11,
      "outputs": [
        {
          "output_type": "execute_result",
          "data": {
            "text/plain": [
              "[Document(metadata={}, page_content='Keeping Up with the Steins: Benjamin Fiedler (Daryl Sabara) is the 13-year-old son of Jewish couple Adam and Joanne Fiedler (Jeremy Piven and Jami Gertz). After attending the elaborate bar mitzvah party for the son of Arnie Stein (Larry Miller) - which was done on a cruise ship, with a Titanic theme - Benjamin\\'s parents decide to go all out for his bar mitzvah. The plan is to rent Dodger Stadium for the bar mitzvah party, complete with movie stars and everything. Adam even kombooks Neil Diamond to sing the National Anthem. However, Benjamin does not want to go through with it, as he does not even understand the words of the haftorah he has to read as part of his bar mitzvah rite. To try to stall the planning, he secretly invites his grandfather Irwin (Garry Marshall), who is now living on an Indian reservation with a New Age woman named Sacred Feather (Daryl Hannah). When Benjamin\\'s grandfather arrives, it puts a kink in the planning - as Irwin had a falling out with his son Adam, both for having left Adam when he was a teenager, and for Adam\\'s own humiliating bar mitzvah. Irwin must then pull off somehow reconciling with his son while helping his grandson deal with the question of what it means to be a \"man.\"\\nNow appreciating his bar mitzvah not as an excuse to throw a party but rather as a rite of passage in his Jewish life, Benjamin gets up the courage to tell his parents to call off the over-the-top bash they had planned. After he does very well at the service the party is just a casual backyard affair with lunch, a klezmer band (with a guest-star singer and guitarist, as Adam \"couldn\\'t cancel Neil Diamond\") and lots of family and friends.'),\n",
              " Document(metadata={}, page_content='Volere volare: \\'Volere Volare\\' may be introduced as a film akin to \\'Who Framed Roger Rabbit\\', but if you know of this director\\'s work from \\'The Icicle Thief\\', you\\'ll be expecting much more - which it delivers. Maurizio Nichetti\\'s charming and quirky comedy blends live action and animation in a lighthearted, though cheerfully lightweight, love story.Nichetti\\'s fondness for combining fantasy with reality is again given reign with a story of Maurizio, a sound dubber looking for love. Shy, bumbling, and naive, he devotes himself to his low-paying job by recording odd sounds - people falling over, hammers tapping, wandering the streets of his town looking for the perfect accompaniment to old-fashioned and out-of-fashion cartoons. His brother Patrizio (Patrizio Roversi) is exasperated by his lack of initiative in love and provides a hilarious foil as a director of soft-porn \"art films\" with a bevy of non-Italian-speaking, lingerie-clad aspiring actresses. He ends up offering to employ Maurizio as a sound technician for one of these lurid films, with the hope that it will add some courage to his love life.The introduction of Angela Finocchiaro\\'s Martina provides the romance Maurizio seeks - a working-girl who specializes in fetishes, fulfilling some of the most comical and interesting fantasies with a tender and accepting smile. Twin architects get to clean her apartment and watch her shower; a taxi driver gets to take her on full-speed races around Rome just to hear her scream and with a fantastic spin on The Cook, the Thief, His Wife and Her Lover, a chef decorates her in bittersweet chocolate - and tops it off with a flourish of confectionary.Their chance meeting ends up with Maurizio becoming accidently entangled in the working life of Martina and becoming part of the clients stories. Delighted with his non-judgmental attitude, Martina asks him on a date... which leads to the weirdest development yet. Maurizo\\'s shy nature suddenly becomes implicit as he begins to turn into a cartoon, limb by limb. Fleeing the date, things only get worse as his hands develop ideas of their own and he disastrously presents his soundtrack ideas to a horrified Patrizio.Can he keep his developing animated state hidden? Will he succeed as a soundtrack creator for pornography? And most importantly... has he found love? Nichetti hasn\\'t made a Titanic or Gone With the Wind - but as a modern, quirky tale that implicitly questions preconceptions about kinky consensual relationships, it succeeds beautifully. Consider it a social-comment confectionary with a hint of cartoon chocolate.')]"
            ]
          },
          "metadata": {},
          "execution_count": 11
        }
      ]
    },
    {
      "cell_type": "code",
      "source": [
        "bm25_retriever.dict"
      ],
      "metadata": {
        "colab": {
          "base_uri": "https://localhost:8080/",
          "height": 138
        },
        "id": "ezEqcCO0nVNS",
        "outputId": "799b8564-e024-4285-af3b-1b85329c478b"
      },
      "execution_count": 12,
      "outputs": [
        {
          "output_type": "execute_result",
          "data": {
            "text/plain": [
              "<bound method BaseModel.dict of BM25Retriever(vectorizer=<rank_bm25.BM25Okapi object at 0x7bff97a97910>, k=2)>"
            ],
            "text/html": [
              "<div style=\"max-width:800px; border: 1px solid var(--colab-border-color);\"><style>\n",
              "      pre.function-repr-contents {\n",
              "        overflow-x: auto;\n",
              "        padding: 8px 12px;\n",
              "        max-height: 500px;\n",
              "      }\n",
              "\n",
              "      pre.function-repr-contents.function-repr-contents-collapsed {\n",
              "        cursor: pointer;\n",
              "        max-height: 100px;\n",
              "      }\n",
              "    </style>\n",
              "    <pre style=\"white-space: initial; background:\n",
              "         var(--colab-secondary-surface-color); padding: 8px 12px;\n",
              "         border-bottom: 1px solid var(--colab-border-color);\"><b>pydantic.main.BaseModel.dict</b><br/>def dict(*, include: IncEx | None=None, exclude: IncEx | None=None, by_alias: bool=False, exclude_unset: bool=False, exclude_defaults: bool=False, exclude_none: bool=False) -&gt; Dict[str, Any]</pre><pre class=\"function-repr-contents function-repr-contents-collapsed\" style=\"\"><a class=\"filepath\" style=\"display:none\" href=\"#\">/usr/local/lib/python3.10/dist-packages/pydantic/main.py</a>&lt;no docstring&gt;</pre>\n",
              "      <script>\n",
              "      if (google.colab.kernel.accessAllowed && google.colab.files && google.colab.files.view) {\n",
              "        for (const element of document.querySelectorAll('.filepath')) {\n",
              "          element.style.display = 'block'\n",
              "          element.onclick = (event) => {\n",
              "            event.preventDefault();\n",
              "            event.stopPropagation();\n",
              "            google.colab.files.view(element.textContent, 1156);\n",
              "          };\n",
              "        }\n",
              "      }\n",
              "      for (const element of document.querySelectorAll('.function-repr-contents')) {\n",
              "        element.onclick = (event) => {\n",
              "          event.preventDefault();\n",
              "          event.stopPropagation();\n",
              "          element.classList.toggle('function-repr-contents-collapsed');\n",
              "        };\n",
              "      }\n",
              "      </script>\n",
              "      </div>"
            ]
          },
          "metadata": {},
          "execution_count": 12
        }
      ]
    },
    {
      "cell_type": "markdown",
      "source": [
        "### Embeddings - Dense retrievers FAISS"
      ],
      "metadata": {
        "id": "y4c3iJv7naUg"
      }
    },
    {
      "cell_type": "code",
      "source": [
        "faiss_vectorstore = FAISS.from_texts(doc_list, embeddings)\n",
        "faiss_retriever = faiss_vectorstore.as_retriever(search_kwargs={\"k\": 2})"
      ],
      "metadata": {
        "id": "eyzw0uKOnrcx"
      },
      "execution_count": 13,
      "outputs": []
    },
    {
      "cell_type": "code",
      "source": [
        "faiss_retriever.invoke(\"Dragon\")"
      ],
      "metadata": {
        "colab": {
          "base_uri": "https://localhost:8080/"
        },
        "id": "Ozsa6h5Ln_qQ",
        "outputId": "bb36b2d7-a897-40ed-a0c4-2006cb10f374"
      },
      "execution_count": 14,
      "outputs": [
        {
          "output_type": "execute_result",
          "data": {
            "text/plain": [
              "[Document(id='3ed0c4b5-6811-4245-ba2f-92b9fa654219', metadata={}, page_content='DragonHeart: Dragonheart begins with Bowen (Dennis Quaid), a Knight of the \"Old Code\" of honor, valor and chivalry, tutoring his young protege, Einon (Lee Oakes) in both swordplay and the values of a knight. Einon is the king\\'s son and heir to the throne. The lesson, conducted amongst the ruins of an old Roman fortress, is interrupted by Brok (Brian Thompson), leader of the armies of King Freyne (Peter Hric). Brok tells Einon of a peasant rebellion, and King Freyne wants Einon to witness it being crushed. Einon rushes to the village where the fighting is taking place, forcing Bowen to follow to protect him. Einon thinks Bowen\\'s blade will be the best on the battlefield, but Bowen warns Einon to learn the difference between battle and butchery, and only by doing so will he be a greater ruler than his father. Einon promises that he will be a greater ruler.(During the battle, a caption says the movie takes place in England in the year 984 A.D.)Bowen is separated from Einon when the youth rushes off as his father, who brazenly rode off alone to set fire to huts and homes, is surrounded by peasants in an ambush. Freyne is dismounted and killed. When the villagers disperse, Einon rushes from a hiding place and takes the crown off his father\\'s head. Freyne, who isn\\'t quite dead yet, grabs at Einon who struggles free, yelling, \"It\\'s mine!\" In the confusion, a young girl (Sandra Kovacicova) wearing a bucket on her head as a helmet, falls off of the balcony of a smoking hut and knocks Einon into a spiked post which pierces through his chest, grievously wounding him. The girl takes off her helm to reveal long red hair. They look at each other for a moment, the girl remorseful and Einon with pain. Bowen rides in and grabs Einon, rushing him to the castle. Royal physicians prepare to work on saving Einon, who is crying in pain, but Einon\\'s mother, Queen Aislinn (Julie Christie), orders them all out except for Bowen. As Aislinn examines her son\\'s wound, Bowen says Einon is beyond all help. Aislinn looks at a small statue of a dragon and says, \"Not all.\"Aislinn, Bowen, and a small company of soldiers go to a cave in the mountains where Aislinn calls to a being of reverence. To the shock of everyone else, a dragon appears, though most of him is hidden in shadow. When he sees the severity of Einon\\'s wound, he is reluctant to help and warns Aislinn the consequences of what must be done to save him. Aislinn assures the dragon that Einon is not like his father and vows to ensure that he grows up to be a fine leader and role model for his people, but the dragon insists that Einon swear to all this himself. Einon swears by the dragon just as he breathes his last. Bowen angrily shouts at the dragon but is reprimanded as the dragon opens a chest plate and removes half his heart, placing it in Einon\\'s chest. He then seals the wound with a blast of fire. As Einon wakes up, he commands the boy to do as he promised. Aislinn kneels before the dragon in gratitude, and Bowen promises to repay the favor any way he can, any time in the future when the dragon might need him. On the way back down the mountain, Einon calls Brok to him and tells him that he will rebuild the Roman fortress as the new royal castle. Brok states that the task will take many men, and Einon says, \"Yes, it will.\"The rebellion is crushed and the peasants are all forced to provide hard labor to rebuild the castle. The rebel leader, Redbeard (Terry O\\'Neill) and several of his best cohorts are brought before young Einon in chains. Einon decrees that their eyes should be burned out. Bowen interferes and breaks the restraints binding Redbeard and the peasant leaders, allowing them to flee. Einon berates Bowen for interefering but Bowen protests Einon\\'s cruelty towards his subjects, reminding him of the Code. Einon replies that the king is above the Code. Angry, Bowen tells Einon that the king is even more bound to the Code than anyone. Outraged at Einon\\'s sudden cruel demeanor, Bowen rushes to the dragon\\'s cave, shouting that the dragon\\'s \\'gift\\' corrupted Einon and that Bowen has decided on a new vow-- to spend the rest of his life hunting the dragon down to ultimately kill him.Twelve years later we encounter a traveling monk named Brother Gilbert (Pete Postlethwaite) spouting poetry and prose to himself to be written down. Suddenly, he sees a dragon fly past, with Bowen charging after it. He catches up to the dragon beyond the edge of a hill (we see grass, earth, and hay flying up). Brother Gilbert sighs in sorrow as he sees Bowen\\'s horse run over the hill riderless until, finally, Bowen emerges, victorious. Brother Gilbert praises Bowen on his bravery, as a servant for King Einon, Lord Felton (Jason Isaacs), arrives to give Bowen the kingdom\\'s gratitude. But Bowen wants the gold he was apparently promised for killing the dragon, insisting that despite his honor as a knight, he still has to eat and upkeep his horse and gear. Lord Felton scoffs at Bowen as having become a rogue mercenary only interested in money.Meanwhile Redbeard, now old, blind, and feeble, is working in a quarry, when his daughter, Kara (Dina Meyer) comes to bring him some water. The cup is shot out of his hand by a now-adult King Einon (David Thewlis), accompanied by Brok and Felton. Kara begs that Einon show some mercy on her father and to release him. Einon agrees to do so-- and shoots Redbeard through the heart with an arrow. Einon exclaims that death is a release, not a punishment. He rides off with Felton and Brok chuckling, leaving Kara to grieve.Brother Gilbert follows Bowen, seeking to write poetry about his deeds as a dragonslayer. Pausing to rest near a waterfall, they discover that behind this waterfall is a cave housing another dragon (voiced by Sean Connery). Bowen moves forward through the falls to kill the dragon, but it escapes and leads Bowen on a wild chase, taunting him along the way. Soon, they come to an empty field where they fight face-to-face. The dragon scoops Bowen into his mouth where Bowen stabs his sword against the dragon\\'s palate. Both stuck, they come to an impasse and remain that way for a number of hours. Brother Gilbert, watching nearby and reciting more prose, eventually falls asleep. After some arguing, the dragon has had enough; he pushes Bowen out of his mouth and traps him under his claws. Instead of killing Bowen, the dragon offers an alternative which would be beneficial for both of them.The next day we see the dragon flying over a village, terrorizing the peasants. Bowen arrives and agrees to save the villagers for a price. He and the dragon stage a mock battle where Bowen appears to kill the dragon with a large spear projected from a ballista. The dragon feigns a hit and falls into the river where he stealthily swims away. They meet later, Bowen counting his gold. He is satisfied with the new partnership but is wondering about his draconian partner, who claims to now be the last of his kind. The dragon admits he does long to die but is frightened at the prospect of losing his soul.We see Einon and his retinue enjoying a nightly feast in the castle; Queen Aislinn sits morosely nearby, alone and clearly distasteful at what Einon has become. As Einon lifts a silver flagon to drink, in its reflection he sees a figure crouched high in a window directly behind him. He moves quickly just as Kara, holding a knife and bent on killing Einon, crashes down onto the table. The guards drag Kara off to the dungeon as she kicks and screams of how Einon murdered her father. Aislinn glares at Einon who takes the knife and stabs it angrily into a roasted boar.Some time later, Einon goes down to the dungeon to see Kara. She is now grimy from the filth of the dungeon and long chains bolted into the wall are attached to heavy steel manacles around her wrists. Kara rushes at Einon only for the chains to stop her short. Einon recognizes the fire in Kara\\'s eyes, and looking at her fiery red hair, realizes that Kara was the young girl who accidentally fell into him many years ago, thus the one responsible for the wound that required the dragon\\'s gift to heal him. He tells her that he is indebted to her for this.The scene switches to Bowen and the dragon at their camp, Bowen has been calling the dragon simply \\'dragon,\\' and the dragon decides he\\'s tired of it since he has a name. Bowen asks what it is, though the dragon claims he couldn\\'t possibly pronounce it. Still, he obliges to answer but is cut off as his shoulder flares red and he falls back, roaring in pain.The scene quickly switches to Einon\\'s bedroom. He falls against a wall with a fresh wound on his shoulder (this implies the link between him and the dragon). Kara backs away from him, holding a knife. They are both dressed in sleeping clothes. Einon mocks Kara to hit more flesh, less cloth next time and forces her to his bed, grabbing the knife away from her. He offers her the chance to be his bride, an idea Kara finds repugnant. He leaves her in his room to think it over and walks away.Back at the camp, Bowen places a blanket over the dragon\\'s wound who explains that it is merely something the just pops up every now and then. The dragon closes his eyes to sleep and wakes up some time later to see Bowen still awake. Bowen says that he\\'s been thinking of a name for the dragon and offers to call him Draco, after the constellation. Although amused that the name only means \\'dragon\\' in another tongue, the dragon is honored.Later still, Kara remains locked in Einon\\'s bedroom alone, looking to escape, when a large stone in the floor suddenly slides aside and Aislinn appears. She tells Kara that she will lead her through a hidden tunnel so she can escape. Kara is grateful for the release, but Aislinn is gone before Kara can properly thank her.Once free, Kara goes to her home village looking to incite another rebellion against Einon. However, the villagers, remembering what happened last time, want none of it and pelt her with rotten vegetables. One of the senior villagers, Hewe (Wolf Christian), who aided Kara\\'s father Redbeard in the previous rebellion and now without one of his eyes, is incensed at Kara. Before she can argue further, Draco appears and pretends to attack. Bowen arrives soon after, offering to rid the village of the nuisance for a price. Kara berates Bowen as a blackmailer who is no different than Einon. Needing to get Kara out of the way, Bowen slyly suggests that a maiden sacrifice to the dragon might get him to leave the people alone.The villagers waste no time tying Kara to a stake placed in a wagon for the dragon. Of course, Draco finds the idea of a sacrifice distasteful, and it turns out he is quite opposed to eating humans. In order to finish the scam, Draco grabs Kara and flies off, pretending to be appeased by the \\'sacrifice.\\' When Bowen chases after Draco to see where he\\'s gone to, he finds him sitting at the waterfall where they first met singing pleasantly to Kara, who sits on a rock nearby. No longer at all afraid, Kara questions Draco\\'s benign nature against his decision to attack her village. When Bowen arrives, she waves a dagger in his face to defend Draco, though she quickly realizes that they indeed work together.The scene is interrupted by Einon and a group of soldiers. Draco enters his cave, escaping notice. Einon does not fail to notice, however, that Bowen is in company of Kara, the woman he intends to marry. When Bowen tells Einon to leave them alone, Einon challenges him to battle. Bowen\\'s swordplay skills are as sharp as ever but Einon proves to be a match for him. Bowen berates Einon for betraying the code and the vows he spoke. Einon retorts that he lied; as far as he was concerned, Bowen taught him to fight, nothing more. Bowen\\'s spirit is broken at the realization that Einon was always as treacherous and malevolent as his father and that all he wanted was the absolute power of the king\\'s crown. His concentration lapses and Einon defeats him, stabbing him in the chest. Einon pretends to leave Bowen merely wounded and when he turns back to throw a dagger at him, Draco lunges forward menacingly and pulls back his chest plate, revealing to a frightened Einon his half heart and an open target. Einon flees while Bowen angrily states that he had everything under control.Kara accompanies Bowen on the road, trying to talk him into leading a rebellion against Einon, but Bowen is too disillusioned to do so. Draco flies past him en route to another village that he and Bowen are planning to bilk out of its gold. At the village, the elder is counting out gold when Kara, disgusted at the scam, arrives to proclaim Bowen a fraud. But Brother Gilbert arrives to defend him as a great dragonslayer. Kara knows that Bowen and Draco are working together, but of course her claim is met with uproarious laughter and ridicule, Bowen laughing with the villagers to cover himself.Bowen and Draco carry out the routine with Kara and Brother Gilbert watching, but the scam goes wrong when the river Draco lands in after pretending to be killed is too shallow for him to swim away unseen. The villagers advance, intending to cut Draco up for meat to feed themselves. To save himself, Draco flies off, proving the scam. The villagers decide they will cut up and eat Bowen, Kara and Brother Gilbert instead. As they sit on Bowen\\'s horse, surrounded, Draco grabs them and flies them all to Avalon, the legendary resting place of King Arthur.At Avalon, Draco tells the tale of how dragons must earn entry into their equivalent of heaven, and those who fail fade into oblivion. Draco is frightened that this fate now awaits him because of a sacrifice he made long ago that proved malevolent, despite his best intentions. He is the dragon that gave Einon half his heart and he did so knowing that Einon would betray all the vows he made. Desperate to redeem himself, he offers to return to the villages with Kara and help her start a new rebellion. Despondent and having lost faith in the Old Code, Bowen refuses. Later on, during a rainstorm, Bowen is brought out to a large courtyard surrounded by statues of kings past, by the voice of Draco muttering an old tenant. Bowen then sees a vision at the statue of King Arthur who recites the creed of the Old Code. Bowen repeats the words and is filled with a new sense of purpose, reminded of all that he once swore himself to. Draco appears, smiling, and shields Bowen from the rain with one of his wings.Back at Kara\\'s home village, Bowen tells the people that he is starting a war against Einon, and when they see that he has the support of a dragon, they are all moved to rebellion. The men are trained by Bowen to fight and even Brother Gilbert proves to be a master archer.Brok happens to ride by the village and finds the people fletching arrows and smithing whatever weapons of war they can; practicing combat and adapting farm tools to be used as weapons. He sees Draco in the village, hears him roar, and rushes off to inform Einon.Lord Felton smugly dismisses the revolt, but Einon warns him that he will not underestimate either Bowen or the dragon. Einon knows Bowen too well and takes the threat very seriously. Aislinn comes to Einon and presents him with a gift... a team of five of the finest dragonslayers in the land.When Bowen feels the villagers are ready, he leads the forces to Einon\\'s castle. Einon is suited up in chain-mail armor and eager for battle. Felton and Brok try to stop him from rushing out, arguing that the castle is impregnable and the villagers will soon give up... but Draco begins assaulting the castle from the air, taking out many of its defenses, and easily outwitting the dragonslayers.Einon leads his men out to meet Bowen. Looking to crush Bowen, he signals a charge. Bowen signals a retreat and the villagers lead Einon\\'s men into the woods, where suddenly the villagers turn to face the soldiers and more villagers come out of hiding, showing their numbers to be far greater than was thought. Numerous traps are set up through the forest and Brother Gilbert hides in the trees with fellow archers, though hesitant to kill. He soon devises clever ways to distract and wound the soldiers. Bowen fights on horseback with his sword, while Kara leads the footsoldiers, battling with twin hand axes and slaying several soldiers in her own right.Seeing his soldiers losing the battle, Einon signals a retreat, turning and fleeing for the castle. Several villagers try to stop him but Einon dispatches them easily. Bowen yells for Brother Gilbert to stop Einon. Brother Gilbert struggles with the Commandment, \"Thou shalt not kill,\" before finally releasing an arrow right into Einon\\'s heart. No sooner does the arrow strike, when Draco drops from the sky like a stone with a harsh cry. Bowen freezes in his tracks, stricken with horror, watching Einon slowly pull the arrow out of his chest in bewilderment. Suddenly Einon spurs his horse and races to the castle, where the dragonslayers have chained Draco down with a web of steel chains. Einon reaches them and orders them not to kill Draco... he wants him alive, and safe...\"for all eternity.\" Draco moans, \"Oh... no.\"Bowen goes to the castle to save Draco with Kara and Brother Gilbert. Kara starts to lead them through the secret passage she was led through by Aislinn, and Hewe and the peasant soldiers meet up with them, saying they need to open a gate so the other villagers can enter. Bowen emerges with Kara and Brother Gilbert inside the castle in Einon\\'s room, where they find Einon waiting for them. Bowen and Einon battle through the underground sewers and back to the castle.Hewe and the peasant soldiers kill several guards through the gate and open it. Felton is looking to escape and sees Kara approaching. Hiding, he grabs her from behind, looking to use her as a hostage to escape, but Hewe stabs him in the back and kills him.Running through the castle, Kara is ambushed by Brok, but he is too overconfident, and he leaves himself wide open for a killing strike from a two-handed battle axe Kara grabs. He dies in astonishment, saying \"a girl\" several times.In the courtyard where Draco is being held and guarded, we see a silhouetted figure approach a soldier, who bows to the silhouette, before being stabbed dead with a knife. Draco recognizes Aislinn and calls her forth. Aislinn kneels before Draco, who knows that she is here for only one reason. Aislinn picks up a long spear and prepares to stab Draco with it, but Einon stops her. The hit he took from the arrow helped Einon figure out that his life is tied to Draco\\'s and that as long as Draco lives, Einon is virtually immortal...but if Draco was killed, Einon would die as well. Aislinn explains that she made a mistake years ago when she \"saved a creature not worth saving.\" Einon, angry and disappointed at his mother\\'s betrayal, merely says, \"How unmotherly of you.\" Draco strains against his chains, growling, as Aislinn turns away from Einon and walks off. Einon follows her into the shadows, carrying the spear, and we hear Aislinn cry out.Einon comes across Bowen and they battle their way up onto the parapets as Kara watches. Einon breaks Bowen\\'s sword. As Bowen swings away from Einon on a pulley, Einon loses his balance and plunges off the parapet, breaking through a wooden walkway into the bottom of the castle. Bowen reaches Draco and starts to unchain him, and Draco reveals the final piece of the puzzle... through the shared heart, he and Einon share each other\\'s physical pain, but Draco\\'s half holds the life force, and he must die in order to vanquish Einon. Bowen has come to respect and admire Draco too much and cannot bring himself to kill his friend. But Einon appears, bloody but alive, grabbing Kara from behind and putting his sword to her neck. Draco bites hard on his own hand and Einon feels the pain and is forced to drop his sword. Kara pulls away from him, and Einon draws a dagger and rushes at Bowen. In a tense moment, Bown seems unsure until Draco gives him a reassuring smile, pulling back his chest plate. Bowen hurls Kara\\'s axe into Draco\\'s heart. Einon gasps and collapses in shock as Draco smiles at Bowen one last time before peacefully dying.Kara, Brother Gilbert, and the victorious villagers gather around the body of Draco where Bowen is mourning his passing, not knowing who or where to turn to for inspiration. Then he hears Draco\\'s voice telling him to look to the stars. Draco\\'s body dissipates into a rolling ball of reddish light that slowly ascends into the skies, heading toward the constellation that Bowen named him after. The other stars gather around Draco\\'s soul-- the collective of dragons welcoming the last of their kind home. Bowen smiles as he sees that Draco has redeemed himself and gained entry into his heaven.The movie closes with a voiceover from Brother Gilbert, recounting that Bowen and Kara led the people of the kingdom through a golden age of wisdom, justice, and brotherhood for many years, and that Draco\\'s star always shone down on them as a source of inspiration and strength, whenever they needed him.'),\n",
              " Document(id='90430993-299c-468a-a880-8d92bcfda3af', metadata={}, page_content='Dragonheart: A New Beginning: One year before his death, Sir Bowen visits the cave-home of his long-dead friend Draco, and there discovers a dragon egg. He takes the egg to a monastery where his friend Brother Gilbert, a monk, lives. The friars at the monastery pledge to hide the dragon away, with Friar Peter (John Woodnutt) protecting him and teaching him for 20 years. The task of taking care of the dragon is passed to a young and gullible friar named Mansel (Matt Hickey).\\nAn orphaned stable boy named Geoff (Christopher Masterson), who dreams of one day becoming a knight like Bowen, lives at the monastery, doing menial chores; he tricks Mansel into manual labor and discovers the hidden Drake, the dragon (voiced by Robby Benson). At first Geoff is afraid, but realizes Drake is more afraid of him. They soon form a friendship.\\nMeanwhile, two Chinese citizens (Henry O and Rona Figueroa), appearing to be a frail old man and his son, enter the kingdom and ask Friar Peter if he knows anything about dragons, as there is a prophecy stating that \"a dragon\\'s heart will doom mankind when a two-tailed comet blazes across the night sky\". The comet will come in a matter of days, so they want to make sure that there are either no dragons around, or, if there is one, confirm that its heart is pure and that it will not be tempted into fulfilling the prophecy. Meanwhile, the King (Ken Shorter) makes a mysterious man named Osric (Harry Van Gorkum) his adviser, and Osric pledges to unite the kingdom under the old code, but corrupts it by forcing each status of citizen to wear a certain color of tunic.\\nWhile Geoff is complaining about this new law, he and Drake are surprised by some bullies, and Drake is forced to take his first flight. During this, the two Chinese learn of Drake\\'s existence and start to train him to use his dragon abilities, including fire-breathing, flight, using his tail, claws, and teeth, and to exhale ice breath, the last of which is a rare skill that few dragons manage to master. Before this time of teaching, Geoff discovers that the Chinese grandson is the princess of China in disguise, who reveals that dragons once abetted mankind until an evil dragon named Griffin betrayed the dragons and killed humans. Fearing that all dragons were akin to Griffin, the Chinese emperor ordered the killing of every dragon in the country, so that Drake is the last dragon in the world.\\nThe Chinese citizens are captured and Geoff is made a knight for his friendship with Drake. Osric takes them to battle a group of rebels where a fight engages, during which Osric fakes a fatal blow and asks Drake to give him half his heart. Realizing that the attempt is a trick, Geoff rallies Drake in an escape. Drake masters his fire-breathing skills for the first time. At the castle, Osric recognizes a familiar box. Master Kwan, the elder Chinese, recognizes Osric\\'s true identity and orders the amulet burned. Osric recovers the box and discovers his lost heart. Out of revenge for her ancestor\\'s slaying of the dragons, Osric throws a knife at Master Kwan\\'s companion Lian, but Kwan intervenes and dies.\\nGeoff and Drake arrive, and as the comet comes into view, Osric reveals himself as Griffin, whose heart was cut out by the emperor. Lian carried his heart with her to protect it. When he recovers possession of his heart, he resumes his dragon form and asks Drake to join him in the conquest of mankind. Recalling how Griffin would have cost him his soul if Geoff had not intervened, Drake refuses and challenges Griffin. After a short but fierce dragon fight, Drake uses his ice breath to freeze Griffin to death. Geoff is injured by a piece of ice lodged in his heart; so Drake offers a piece of his own, securing his place in the constellation Draco. The old code is restored and Lian returns to her royal duties for a time. Mansel is awarded guardianship of Brother Gilbert\\'s scrolls and has a life of prayer and devotion. Geoff and Drake go on to become brothers, having discovered the familial bond that is all they ever truly wanted.')]"
            ]
          },
          "metadata": {},
          "execution_count": 14
        }
      ]
    },
    {
      "cell_type": "code",
      "source": [
        "# initialize the ensemble retriever\n",
        "ensemble_retriever = EnsembleRetriever(\n",
        "    retrievers=[bm25_retriever, faiss_retriever],\n",
        "    weights=[0.5, 0.5])"
      ],
      "metadata": {
        "id": "zYXhGYoWndVe"
      },
      "execution_count": 15,
      "outputs": []
    },
    {
      "cell_type": "code",
      "source": [
        "docs = ensemble_retriever.invoke(\"Titanic\")\n",
        "docs"
      ],
      "metadata": {
        "colab": {
          "base_uri": "https://localhost:8080/"
        },
        "id": "4jMQI4DqtoV6",
        "outputId": "2e708e47-9df9-4c2e-f2c5-b9b1b3f3df8a"
      },
      "execution_count": 16,
      "outputs": [
        {
          "output_type": "execute_result",
          "data": {
            "text/plain": [
              "[Document(metadata={}, page_content='Keeping Up with the Steins: Benjamin Fiedler (Daryl Sabara) is the 13-year-old son of Jewish couple Adam and Joanne Fiedler (Jeremy Piven and Jami Gertz). After attending the elaborate bar mitzvah party for the son of Arnie Stein (Larry Miller) - which was done on a cruise ship, with a Titanic theme - Benjamin\\'s parents decide to go all out for his bar mitzvah. The plan is to rent Dodger Stadium for the bar mitzvah party, complete with movie stars and everything. Adam even kombooks Neil Diamond to sing the National Anthem. However, Benjamin does not want to go through with it, as he does not even understand the words of the haftorah he has to read as part of his bar mitzvah rite. To try to stall the planning, he secretly invites his grandfather Irwin (Garry Marshall), who is now living on an Indian reservation with a New Age woman named Sacred Feather (Daryl Hannah). When Benjamin\\'s grandfather arrives, it puts a kink in the planning - as Irwin had a falling out with his son Adam, both for having left Adam when he was a teenager, and for Adam\\'s own humiliating bar mitzvah. Irwin must then pull off somehow reconciling with his son while helping his grandson deal with the question of what it means to be a \"man.\"\\nNow appreciating his bar mitzvah not as an excuse to throw a party but rather as a rite of passage in his Jewish life, Benjamin gets up the courage to tell his parents to call off the over-the-top bash they had planned. After he does very well at the service the party is just a casual backyard affair with lunch, a klezmer band (with a guest-star singer and guitarist, as Adam \"couldn\\'t cancel Neil Diamond\") and lots of family and friends.'),\n",
              " Document(id='42227b8e-a6ce-4446-bee0-32a41a52a89c', metadata={}, page_content='The Sinking of the Lusitania: The film opens with a live-action prologue in which McCay busies himself studying a picture of the Lusitania as a model for his film-in-progress. Intertitles boast of McCay as \"the originator and inventor of Animated Cartoons\", and of the 25,000 drawings needed to complete the film. McCay is shown working with a group of anonymous assistants on \"the first record of the sinking of the Lusitania\".\\nThe liner passes the Statue of Liberty and leaves New York Harbor. After some time, a German submarine cuts through the waters and fires a torpedo at the Lusitania, which billows smoke that builds until it envelops the screen. Passengers scramble to lower lifeboats, some of which capsize in the confusion. The liner tilts from one side to the other and passengers are tossed into the ocean.\\nA second blast rocks the Lusitania, which sinks slowly into the deep as more passengers fall off its edges, and the ship submerges amid scenes of drowning bodies. The liner vanishes from sight, and the film closes with a mother struggling to keep her baby above the waves. An intertitle declares: \"The man who fired the shot was decorated for it by the Kaiser! And yet they tell us not to hate the Hun.\"'),\n",
              " Document(metadata={}, page_content='Volere volare: \\'Volere Volare\\' may be introduced as a film akin to \\'Who Framed Roger Rabbit\\', but if you know of this director\\'s work from \\'The Icicle Thief\\', you\\'ll be expecting much more - which it delivers. Maurizio Nichetti\\'s charming and quirky comedy blends live action and animation in a lighthearted, though cheerfully lightweight, love story.Nichetti\\'s fondness for combining fantasy with reality is again given reign with a story of Maurizio, a sound dubber looking for love. Shy, bumbling, and naive, he devotes himself to his low-paying job by recording odd sounds - people falling over, hammers tapping, wandering the streets of his town looking for the perfect accompaniment to old-fashioned and out-of-fashion cartoons. His brother Patrizio (Patrizio Roversi) is exasperated by his lack of initiative in love and provides a hilarious foil as a director of soft-porn \"art films\" with a bevy of non-Italian-speaking, lingerie-clad aspiring actresses. He ends up offering to employ Maurizio as a sound technician for one of these lurid films, with the hope that it will add some courage to his love life.The introduction of Angela Finocchiaro\\'s Martina provides the romance Maurizio seeks - a working-girl who specializes in fetishes, fulfilling some of the most comical and interesting fantasies with a tender and accepting smile. Twin architects get to clean her apartment and watch her shower; a taxi driver gets to take her on full-speed races around Rome just to hear her scream and with a fantastic spin on The Cook, the Thief, His Wife and Her Lover, a chef decorates her in bittersweet chocolate - and tops it off with a flourish of confectionary.Their chance meeting ends up with Maurizio becoming accidently entangled in the working life of Martina and becoming part of the clients stories. Delighted with his non-judgmental attitude, Martina asks him on a date... which leads to the weirdest development yet. Maurizo\\'s shy nature suddenly becomes implicit as he begins to turn into a cartoon, limb by limb. Fleeing the date, things only get worse as his hands develop ideas of their own and he disastrously presents his soundtrack ideas to a horrified Patrizio.Can he keep his developing animated state hidden? Will he succeed as a soundtrack creator for pornography? And most importantly... has he found love? Nichetti hasn\\'t made a Titanic or Gone With the Wind - but as a modern, quirky tale that implicitly questions preconceptions about kinky consensual relationships, it succeeds beautifully. Consider it a social-comment confectionary with a hint of cartoon chocolate.'),\n",
              " Document(id='33a4bf5e-e70e-4b90-a088-d4f58ee4ec2a', metadata={}, page_content=\"Titanic: In 1996, treasure hunter Brock Lovett and his team aboard the research vessel Keldysh search the wreck of RMS Titanic for a necklace with a rare diamond, the Heart of the Ocean. They recover a safe containing a drawing of a young woman wearing only the necklace. It is dated April 14, 1912, the day the ship struck the iceberg. Rose Dawson Calvert, claiming to be the person in the drawing, visits Lovett and tells of her experiences aboard the ship.\\nIn 1912 Southampton, 17-year-old first-class passenger Rose DeWitt Bukater, her fiancé Cal Hockley, and her mother Ruth board the Titanic. Ruth emphasizes that Rose's marriage will resolve the DeWitt Bukaters' financial problems. Distraught over the engagement, Rose considers committing suicide by jumping from the stern; Jack Dawson, a penniless artist, convinces her not to. Discovered with Jack, Rose tells Cal that she was peering over the edge and Jack saved her from falling. Cal is indifferent, but when Rose indicates some recognition is due, he offers Jack a small amount of money. After Rose asks whether saving her life meant so little, he invites Jack to dine with them in first class the following night. Jack and Rose develop a tentative friendship, though Cal and Ruth are wary of him. Following dinner, Rose secretly joins Jack at a party in third class.\\nAware of Cal and Ruth's disapproval, Rose rebuffs Jack's advances, but later realizes that she prefers him over Cal. After rendezvousing on the bow at sunset, Rose takes Jack to her state room and displays Cal's engagement present: the Heart of the Ocean. At her request, Jack sketches Rose posing nude wearing it. They evade Cal's bodyguard and have sex in an automobile inside the cargo hold. They later visit the forward deck, witnessing a collision with an iceberg and overhearing the officers and designer discussing its seriousness.\\nCal discovers Jack's sketch of Rose and a mocking note from her in his safe along with the necklace. When Jack and Rose attempt to tell Cal of the collision, he has his butler slip the necklace into Jack's pocket and accuses him of theft. He is arrested, taken to the Master-at-arms' office, and handcuffed to a pipe. Cal puts the necklace in his own coat pocket.\\nWith the ship sinking, Rose is desperate to free Jack. She flees Cal and her mother, who has boarded a lifeboat, and rescues him. They return to the boat deck, where Cal and Jack encourage her to board a lifeboat; Cal claims he can get himself and Jack off safely. After Rose boards one, Cal tells Jack the arrangement is only for himself. As her boat lowers, Rose decides that she cannot leave Jack and jumps back on board. Cal takes his butler's pistol and chases Rose and Jack into the flooding first class dining saloon. After using up his ammunition, Cal realizes he gave his coat and consequently the necklace to Rose. He later boards a collapsible lifeboat by carrying a lost child.\\nAfter braving several obstacles, Jack and Rose return to the boat deck. All the lifeboats have departed and passengers are falling to their deaths as the stern rises out of the water. The ship breaks in half, lifting the stern into the air. Jack and Rose ride it into the ocean and he helps her onto a wooden panel only buoyant enough for one person. Holding the edge, he assures her that she will die an old woman, warm in her bed. He dies of hypothermia but she is saved.\\nWith Rose hiding from Cal en route, the RMS Carpathia takes the survivors to New York. There she gives her name as Rose Dawson. She later learns that Cal committed suicide after losing everything in the 1929 Wall Street Crash.\\nLovett abandons his search after hearing Rose's story. Alone on the stern of the Keldysh, Rose takes out the Heart of the Oceanin her possession all alongand drops it into the sea over the wreck site. While she is seemingly asleep in her bed, photos on her dresser depict a life of freedom and adventure, partly inspired by Jack. A young Rose reunites with him at the ship's Grand Staircase, applauded by those who perished.\")]"
            ]
          },
          "metadata": {},
          "execution_count": 16
        }
      ]
    }
  ]
}
