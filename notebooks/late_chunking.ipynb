{
 "cells": [
  {
   "cell_type": "code",
   "metadata": {
    "ExecuteTime": {
     "end_time": "2025-01-11T17:47:37.775511Z",
     "start_time": "2025-01-11T17:47:15.681616Z"
    }
   },
   "source": [
    "from langchain_text_splitters import RecursiveCharacterTextSplitter\n",
    "\n",
    "from nlp_chat_bot.rag.classic_rag import ClassicRAG\n",
    "from nlp_chat_bot.model.embedding.late_chunking_embedding import LateChunkingEmbedding\n",
    "from langchain_google_genai import ChatGoogleGenerativeAI\n",
    "\n",
    "from nlp_chat_bot.vector_store.late_chunking_chroma_vector_store_builder import LateChunkingChromaVectorStoreBuilder"
   ],
   "outputs": [
    {
     "name": "stderr",
     "output_type": "stream",
     "text": [
      "d:\\Programs\\Anaconda\\envs\\nlp_project_chatbot\\lib\\site-packages\\tqdm\\auto.py:21: TqdmWarning: IProgress not found. Please update jupyter and ipywidgets. See https://ipywidgets.readthedocs.io/en/stable/user_install.html\n",
      "  from .autonotebook import tqdm as notebook_tqdm\n"
     ]
    }
   ],
   "execution_count": 1
  },
  {
   "metadata": {
    "ExecuteTime": {
     "end_time": "2025-01-11T17:47:37.822386Z",
     "start_time": "2025-01-11T17:47:37.775511Z"
    }
   },
   "cell_type": "code",
   "source": [
    "from dotenv import load_dotenv\n",
    "load_dotenv()"
   ],
   "outputs": [
    {
     "data": {
      "text/plain": [
       "True"
      ]
     },
     "execution_count": 2,
     "metadata": {},
     "output_type": "execute_result"
    }
   ],
   "execution_count": 2
  },
  {
   "metadata": {
    "ExecuteTime": {
     "end_time": "2025-01-11T17:58:43.899465Z",
     "start_time": "2025-01-11T17:47:38.545619Z"
    }
   },
   "cell_type": "code",
   "source": [
    "dataset_path = \"../data\"\n",
    "model_download_path = \"../models\"\n",
    "vector_store_path = \"../chromadb\"\n",
    "embedding_function = LateChunkingEmbedding(model_download_path)\n",
    "\n",
    "splitter = RecursiveCharacterTextSplitter(\n",
    "    chunk_size=1000,  # chunk size (characters)\n",
    "    chunk_overlap=0,  # chunk overlap (characters)\n",
    "    add_start_index=True,  # track index in original document\n",
    ")\n",
    "\n",
    "llm_gemini = ChatGoogleGenerativeAI(model=\"gemini-1.5-flash\")\n",
    "vector_store = LateChunkingChromaVectorStoreBuilder(dataset_path,\n",
    "                                        embedding_function,\n",
    "                                        vector_store_path,\n",
    "                                        splitter=splitter).build()\n",
    "\n",
    "rag = ClassicRAG(vector_store, llm_gemini)\n",
    "print(\"LENGTH\", rag.get_num_docs())\n",
    "docs_retrieved = rag.retrieve(state = {\"question\": \"What is my conclusion in my project report on image inpainting?\", \"context\": []})\n",
    "\n",
    "print(\"Num docs:\", len(docs_retrieved[\"context\"]))\n",
    "\n",
    "for i in range(len(docs_retrieved[\"context\"])):\n",
    "    doc = docs_retrieved[\"context\"][i]\n",
    "    print(\"\\n\\n\", \"#\"*30,\"\\n\")\n",
    "    print(f\"doc {i}: (score: {doc.metadata['score']})\")\n",
    "    print(doc.page_content)"
   ],
   "outputs": [
    {
     "name": "stderr",
     "output_type": "stream",
     "text": [
      "100%|██████████| 1/1 [00:00<00:00,  3.17it/s]\n",
      "100%|██████████| 1/1 [00:00<00:00,  1.81it/s]\n",
      "100%|██████████| 1/1 [00:03<00:00,  3.94s/it]\n",
      "0it [00:00, ?it/s]\n",
      "Filtering existing documents: 100%|██████████| 15344/15344 [00:00<00:00, 34916.24it/s]\n",
      "Storing 15344 documents embeddings (batch size is 100): 15400it [10:41, 23.99it/s]                           \n",
      "d:\\Programs\\Anaconda\\envs\\nlp_project_chatbot\\lib\\site-packages\\langsmith\\client.py:256: LangSmithMissingAPIKeyWarning: API key must be provided when using hosted LangSmith API\n",
      "  warnings.warn(\n"
     ]
    },
    {
     "name": "stdout",
     "output_type": "stream",
     "text": [
      "Documents are now loaded\n",
      "LENGTH 109627\n",
      "Num docs: 3\n",
      "\n",
      "\n",
      " ############################## \n",
      "\n",
      "doc 0: (score: 44.04249572753906)\n",
      "imdb_id: tt2113148\n",
      "title: Arne Dahl: Misterioso\n",
      "plot_synopsis: Arne Dahl - Misterioso\n",
      "A failed robbery attempt at Sydbanken outside Avesta leaves one robber lying dead with a dart through his eye, but there are no witnesses to the incident and no perpetrator is ever identified.\n",
      "In Stockholm, three high-profile businessmen are assassinated in a short period of time, and Jenny Hultin of National CID is assigned the task of putting together a special team to solve the case before the assassin strikes again. Dependable Paul Hjelm, computer expert Jorge Chavez, old warhorse Viggo Norlander, freethinker Arto Söderstedt, muscle-man Gunnar Nyberg and outstanding interrogator Kerstin Holm together form the A-group.\n",
      "\n",
      "\n",
      " ############################## \n",
      "\n",
      "doc 1: (score: 44.096435546875)\n",
      "imdb_id: tt0478813\n",
      "title: Klopka\n",
      "plot_synopsis: === Intro ===\n",
      "The film opens with Mladen Pavlović (Nebojša Glogovac), sporting bumps and bruises on his face, nervously smoking a cigarette while talking to unrevealed individual(s). Among other things, he says that he is trying to \"do this one thing right, after a series of wrongs that never should have happened\".\n",
      "The movie occasionally returns to the scene of Mladen talking to the unseen individual(s) and discussing different details following key plot points or displaying inner torment over the unfolding story.\n",
      "=== Story ===\n",
      "\n",
      "\n",
      " ############################## \n",
      "\n",
      "doc 2: (score: 44.27655029296875)\n",
      "imdb_id: tt0405034\n",
      "title: Ico\n",
      "plot_synopsis: Ico (イコ, pronounced \"Ee-ko\"), a horned boy, is taken by a group of warriors to an abandoned castle and locked inside a stone coffin to be sacrificed. A tremor topples the coffin and Ico escapes. As he searches the castle, he comes across Yorda (ヨルダ, Yoruda), a captive girl who speaks a different language. Ico helps Yorda escape and defends her from shadow-like creatures. The pair makes their way through the castle and arrive at the bridge leading to land. As they cross, the Queen, ruler of the castle, appears and tells Yorda that as her daughter she cannot leave the castle. Later, as they try to escape on the bridge, it slips up and they get separated. Yorda tries to save Ico but the Queen prevents it. He ends up falling off the bridge and losing consciousness.\n"
     ]
    }
   ],
   "execution_count": 3
  },
  {
   "metadata": {
    "ExecuteTime": {
     "end_time": "2025-01-11T18:00:07.966682Z",
     "start_time": "2025-01-11T18:00:07.232253Z"
    }
   },
   "cell_type": "code",
   "source": "rag.invoke(query={\"question\":\"What is the plot of the film titled Ico? (イコ, pronounced Ee-ko)\"})[\"answer\"]",
   "outputs": [
    {
     "data": {
      "text/plain": [
       "'In Ico, a horned boy escapes a castle where he was to be sacrificed and encounters a captive girl, Yorda.  They attempt to escape together, facing shadow creatures and the Queen, who prevents their escape.  Ultimately, they are separated, and Ico falls from a bridge.\\n'"
      ]
     },
     "execution_count": 9,
     "metadata": {},
     "output_type": "execute_result"
    }
   ],
   "execution_count": 9
  },
  {
   "metadata": {},
   "cell_type": "code",
   "outputs": [],
   "execution_count": null,
   "source": ""
  }
 ],
 "metadata": {
  "kernelspec": {
   "display_name": "nlp_project_chatbot",
   "language": "python",
   "name": "python3"
  },
  "language_info": {
   "codemirror_mode": {
    "name": "ipython",
    "version": 3
   },
   "file_extension": ".py",
   "mimetype": "text/x-python",
   "name": "python",
   "nbconvert_exporter": "python",
   "pygments_lexer": "ipython3",
   "version": "3.10.16"
  }
 },
 "nbformat": 4,
 "nbformat_minor": 2
}
