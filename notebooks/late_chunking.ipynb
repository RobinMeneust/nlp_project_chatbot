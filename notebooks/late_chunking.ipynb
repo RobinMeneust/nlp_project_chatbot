{
 "cells": [
  {
   "cell_type": "code",
   "metadata": {
    "ExecuteTime": {
     "end_time": "2025-01-02T13:14:28.510024Z",
     "start_time": "2025-01-02T13:14:21.042126Z"
    }
   },
   "source": [
    "from nlp_chat_bot.rag import RAG\n",
    "from nlp_chat_bot.model.late_chunking_embedding import LateChunkingEmbedding\n",
    "from langchain_google_genai import ChatGoogleGenerativeAI"
   ],
   "outputs": [
    {
     "name": "stderr",
     "output_type": "stream",
     "text": [
      "d:\\Programs\\Anaconda\\envs\\nlp_project_chatbot\\lib\\site-packages\\tqdm\\auto.py:21: TqdmWarning: IProgress not found. Please update jupyter and ipywidgets. See https://ipywidgets.readthedocs.io/en/stable/user_install.html\n",
      "  from .autonotebook import tqdm as notebook_tqdm\n",
      "Exception ignored in: <bound method IPythonKernel._clean_thread_parent_frames of <ipykernel.ipkernel.IPythonKernel object at 0x000002693B0AFF10>>\n",
      "Traceback (most recent call last):\n",
      "  File \"d:\\Programs\\Anaconda\\envs\\nlp_project_chatbot\\lib\\site-packages\\ipykernel\\ipkernel.py\", line 788, in _clean_thread_parent_frames\n",
      "    if phase != \"start\":\n",
      "KeyboardInterrupt: \n"
     ]
    },
    {
     "ename": "KeyboardInterrupt",
     "evalue": "",
     "output_type": "error",
     "traceback": [
      "\u001B[1;31m---------------------------------------------------------------------------\u001B[0m",
      "\u001B[1;31mKeyboardInterrupt\u001B[0m                         Traceback (most recent call last)",
      "Cell \u001B[1;32mIn[1], line 2\u001B[0m\n\u001B[0;32m      1\u001B[0m \u001B[38;5;28;01mfrom\u001B[39;00m \u001B[38;5;21;01mnlp_chat_bot\u001B[39;00m\u001B[38;5;21;01m.\u001B[39;00m\u001B[38;5;21;01mrag\u001B[39;00m \u001B[38;5;28;01mimport\u001B[39;00m RAG\n\u001B[1;32m----> 2\u001B[0m \u001B[38;5;28;01mfrom\u001B[39;00m \u001B[38;5;21;01mnlp_chat_bot\u001B[39;00m\u001B[38;5;21;01m.\u001B[39;00m\u001B[38;5;21;01mmodel\u001B[39;00m\u001B[38;5;21;01m.\u001B[39;00m\u001B[38;5;21;01mlate_chunking_embedding\u001B[39;00m \u001B[38;5;28;01mimport\u001B[39;00m LateChunkingEmbedding\n\u001B[0;32m      3\u001B[0m \u001B[38;5;28;01mfrom\u001B[39;00m \u001B[38;5;21;01mlangchain_google_genai\u001B[39;00m \u001B[38;5;28;01mimport\u001B[39;00m ChatGoogleGenerativeAI\n",
      "File \u001B[1;32mG:\\CYTech\\ING3\\nlp_project_chatbot\\src\\nlp_chat_bot\\model\\late_chunking_embedding.py:5\u001B[0m\n\u001B[0;32m      3\u001B[0m \u001B[38;5;28;01mfrom\u001B[39;00m \u001B[38;5;21;01mlangchain_text_splitters\u001B[39;00m \u001B[38;5;28;01mimport\u001B[39;00m CharacterTextSplitter\n\u001B[0;32m      4\u001B[0m \u001B[38;5;28;01mfrom\u001B[39;00m \u001B[38;5;21;01mtqdm\u001B[39;00m \u001B[38;5;28;01mimport\u001B[39;00m tqdm\n\u001B[1;32m----> 5\u001B[0m \u001B[38;5;28;01mfrom\u001B[39;00m \u001B[38;5;21;01mtransformers\u001B[39;00m \u001B[38;5;28;01mimport\u001B[39;00m AutoModel\n\u001B[0;32m      6\u001B[0m \u001B[38;5;28;01mfrom\u001B[39;00m \u001B[38;5;21;01mtransformers\u001B[39;00m \u001B[38;5;28;01mimport\u001B[39;00m AutoTokenizer\n\u001B[0;32m      7\u001B[0m \u001B[38;5;28;01mimport\u001B[39;00m \u001B[38;5;21;01mtorch\u001B[39;00m\n",
      "File \u001B[1;32m<frozen importlib._bootstrap>:1075\u001B[0m, in \u001B[0;36m_handle_fromlist\u001B[1;34m(module, fromlist, import_, recursive)\u001B[0m\n",
      "File \u001B[1;32md:\\Programs\\Anaconda\\envs\\nlp_project_chatbot\\lib\\site-packages\\transformers\\utils\\import_utils.py:1782\u001B[0m, in \u001B[0;36m_LazyModule.__getattr__\u001B[1;34m(self, name)\u001B[0m\n\u001B[0;32m   1780\u001B[0m \u001B[38;5;28;01melif\u001B[39;00m name \u001B[38;5;129;01min\u001B[39;00m \u001B[38;5;28mself\u001B[39m\u001B[38;5;241m.\u001B[39m_class_to_module\u001B[38;5;241m.\u001B[39mkeys():\n\u001B[0;32m   1781\u001B[0m     module \u001B[38;5;241m=\u001B[39m \u001B[38;5;28mself\u001B[39m\u001B[38;5;241m.\u001B[39m_get_module(\u001B[38;5;28mself\u001B[39m\u001B[38;5;241m.\u001B[39m_class_to_module[name])\n\u001B[1;32m-> 1782\u001B[0m     value \u001B[38;5;241m=\u001B[39m \u001B[38;5;28;43mgetattr\u001B[39;49m\u001B[43m(\u001B[49m\u001B[43mmodule\u001B[49m\u001B[43m,\u001B[49m\u001B[43m \u001B[49m\u001B[43mname\u001B[49m\u001B[43m)\u001B[49m\n\u001B[0;32m   1783\u001B[0m \u001B[38;5;28;01melif\u001B[39;00m name \u001B[38;5;129;01min\u001B[39;00m \u001B[38;5;28mself\u001B[39m\u001B[38;5;241m.\u001B[39m_modules:\n\u001B[0;32m   1784\u001B[0m     value \u001B[38;5;241m=\u001B[39m \u001B[38;5;28mself\u001B[39m\u001B[38;5;241m.\u001B[39m_get_module(name)\n",
      "File \u001B[1;32md:\\Programs\\Anaconda\\envs\\nlp_project_chatbot\\lib\\site-packages\\transformers\\utils\\import_utils.py:1781\u001B[0m, in \u001B[0;36m_LazyModule.__getattr__\u001B[1;34m(self, name)\u001B[0m\n\u001B[0;32m   1779\u001B[0m     value \u001B[38;5;241m=\u001B[39m Placeholder\n\u001B[0;32m   1780\u001B[0m \u001B[38;5;28;01melif\u001B[39;00m name \u001B[38;5;129;01min\u001B[39;00m \u001B[38;5;28mself\u001B[39m\u001B[38;5;241m.\u001B[39m_class_to_module\u001B[38;5;241m.\u001B[39mkeys():\n\u001B[1;32m-> 1781\u001B[0m     module \u001B[38;5;241m=\u001B[39m \u001B[38;5;28;43mself\u001B[39;49m\u001B[38;5;241;43m.\u001B[39;49m\u001B[43m_get_module\u001B[49m\u001B[43m(\u001B[49m\u001B[38;5;28;43mself\u001B[39;49m\u001B[38;5;241;43m.\u001B[39;49m\u001B[43m_class_to_module\u001B[49m\u001B[43m[\u001B[49m\u001B[43mname\u001B[49m\u001B[43m]\u001B[49m\u001B[43m)\u001B[49m\n\u001B[0;32m   1782\u001B[0m     value \u001B[38;5;241m=\u001B[39m \u001B[38;5;28mgetattr\u001B[39m(module, name)\n\u001B[0;32m   1783\u001B[0m \u001B[38;5;28;01melif\u001B[39;00m name \u001B[38;5;129;01min\u001B[39;00m \u001B[38;5;28mself\u001B[39m\u001B[38;5;241m.\u001B[39m_modules:\n",
      "File \u001B[1;32md:\\Programs\\Anaconda\\envs\\nlp_project_chatbot\\lib\\site-packages\\transformers\\utils\\import_utils.py:1793\u001B[0m, in \u001B[0;36m_LazyModule._get_module\u001B[1;34m(self, module_name)\u001B[0m\n\u001B[0;32m   1791\u001B[0m \u001B[38;5;28;01mdef\u001B[39;00m \u001B[38;5;21m_get_module\u001B[39m(\u001B[38;5;28mself\u001B[39m, module_name: \u001B[38;5;28mstr\u001B[39m):\n\u001B[0;32m   1792\u001B[0m     \u001B[38;5;28;01mtry\u001B[39;00m:\n\u001B[1;32m-> 1793\u001B[0m         \u001B[38;5;28;01mreturn\u001B[39;00m \u001B[43mimportlib\u001B[49m\u001B[38;5;241;43m.\u001B[39;49m\u001B[43mimport_module\u001B[49m\u001B[43m(\u001B[49m\u001B[38;5;124;43m\"\u001B[39;49m\u001B[38;5;124;43m.\u001B[39;49m\u001B[38;5;124;43m\"\u001B[39;49m\u001B[43m \u001B[49m\u001B[38;5;241;43m+\u001B[39;49m\u001B[43m \u001B[49m\u001B[43mmodule_name\u001B[49m\u001B[43m,\u001B[49m\u001B[43m \u001B[49m\u001B[38;5;28;43mself\u001B[39;49m\u001B[38;5;241;43m.\u001B[39;49m\u001B[38;5;18;43m__name__\u001B[39;49m\u001B[43m)\u001B[49m\n\u001B[0;32m   1794\u001B[0m     \u001B[38;5;28;01mexcept\u001B[39;00m \u001B[38;5;167;01mException\u001B[39;00m \u001B[38;5;28;01mas\u001B[39;00m e:\n\u001B[0;32m   1795\u001B[0m         \u001B[38;5;28;01mraise\u001B[39;00m \u001B[38;5;167;01mRuntimeError\u001B[39;00m(\n\u001B[0;32m   1796\u001B[0m             \u001B[38;5;124mf\u001B[39m\u001B[38;5;124m\"\u001B[39m\u001B[38;5;124mFailed to import \u001B[39m\u001B[38;5;132;01m{\u001B[39;00m\u001B[38;5;28mself\u001B[39m\u001B[38;5;241m.\u001B[39m\u001B[38;5;18m__name__\u001B[39m\u001B[38;5;132;01m}\u001B[39;00m\u001B[38;5;124m.\u001B[39m\u001B[38;5;132;01m{\u001B[39;00mmodule_name\u001B[38;5;132;01m}\u001B[39;00m\u001B[38;5;124m because of the following error (look up to see its\u001B[39m\u001B[38;5;124m\"\u001B[39m\n\u001B[0;32m   1797\u001B[0m             \u001B[38;5;124mf\u001B[39m\u001B[38;5;124m\"\u001B[39m\u001B[38;5;124m traceback):\u001B[39m\u001B[38;5;130;01m\\n\u001B[39;00m\u001B[38;5;132;01m{\u001B[39;00me\u001B[38;5;132;01m}\u001B[39;00m\u001B[38;5;124m\"\u001B[39m\n\u001B[0;32m   1798\u001B[0m         ) \u001B[38;5;28;01mfrom\u001B[39;00m \u001B[38;5;21;01me\u001B[39;00m\n",
      "File \u001B[1;32md:\\Programs\\Anaconda\\envs\\nlp_project_chatbot\\lib\\importlib\\__init__.py:126\u001B[0m, in \u001B[0;36mimport_module\u001B[1;34m(name, package)\u001B[0m\n\u001B[0;32m    124\u001B[0m             \u001B[38;5;28;01mbreak\u001B[39;00m\n\u001B[0;32m    125\u001B[0m         level \u001B[38;5;241m+\u001B[39m\u001B[38;5;241m=\u001B[39m \u001B[38;5;241m1\u001B[39m\n\u001B[1;32m--> 126\u001B[0m \u001B[38;5;28;01mreturn\u001B[39;00m \u001B[43m_bootstrap\u001B[49m\u001B[38;5;241;43m.\u001B[39;49m\u001B[43m_gcd_import\u001B[49m\u001B[43m(\u001B[49m\u001B[43mname\u001B[49m\u001B[43m[\u001B[49m\u001B[43mlevel\u001B[49m\u001B[43m:\u001B[49m\u001B[43m]\u001B[49m\u001B[43m,\u001B[49m\u001B[43m \u001B[49m\u001B[43mpackage\u001B[49m\u001B[43m,\u001B[49m\u001B[43m \u001B[49m\u001B[43mlevel\u001B[49m\u001B[43m)\u001B[49m\n",
      "File \u001B[1;32md:\\Programs\\Anaconda\\envs\\nlp_project_chatbot\\lib\\site-packages\\transformers\\models\\auto\\modeling_auto.py:21\u001B[0m\n\u001B[0;32m     18\u001B[0m \u001B[38;5;28;01mfrom\u001B[39;00m \u001B[38;5;21;01mcollections\u001B[39;00m \u001B[38;5;28;01mimport\u001B[39;00m OrderedDict\n\u001B[0;32m     20\u001B[0m \u001B[38;5;28;01mfrom\u001B[39;00m \u001B[38;5;21;01m.\u001B[39;00m\u001B[38;5;21;01m.\u001B[39;00m\u001B[38;5;21;01m.\u001B[39;00m\u001B[38;5;21;01mutils\u001B[39;00m \u001B[38;5;28;01mimport\u001B[39;00m logging\n\u001B[1;32m---> 21\u001B[0m \u001B[38;5;28;01mfrom\u001B[39;00m \u001B[38;5;21;01m.\u001B[39;00m\u001B[38;5;21;01mauto_factory\u001B[39;00m \u001B[38;5;28;01mimport\u001B[39;00m (\n\u001B[0;32m     22\u001B[0m     _BaseAutoBackboneClass,\n\u001B[0;32m     23\u001B[0m     _BaseAutoModelClass,\n\u001B[0;32m     24\u001B[0m     _LazyAutoMapping,\n\u001B[0;32m     25\u001B[0m     auto_class_update,\n\u001B[0;32m     26\u001B[0m )\n\u001B[0;32m     27\u001B[0m \u001B[38;5;28;01mfrom\u001B[39;00m \u001B[38;5;21;01m.\u001B[39;00m\u001B[38;5;21;01mconfiguration_auto\u001B[39;00m \u001B[38;5;28;01mimport\u001B[39;00m CONFIG_MAPPING_NAMES\n\u001B[0;32m     30\u001B[0m logger \u001B[38;5;241m=\u001B[39m logging\u001B[38;5;241m.\u001B[39mget_logger(\u001B[38;5;18m__name__\u001B[39m)\n",
      "File \u001B[1;32md:\\Programs\\Anaconda\\envs\\nlp_project_chatbot\\lib\\site-packages\\transformers\\models\\auto\\auto_factory.py:40\u001B[0m\n\u001B[0;32m     36\u001B[0m \u001B[38;5;28;01mfrom\u001B[39;00m \u001B[38;5;21;01m.\u001B[39;00m\u001B[38;5;21;01mconfiguration_auto\u001B[39;00m \u001B[38;5;28;01mimport\u001B[39;00m AutoConfig, model_type_to_module_name, replace_list_option_in_docstrings\n\u001B[0;32m     39\u001B[0m \u001B[38;5;28;01mif\u001B[39;00m is_torch_available():\n\u001B[1;32m---> 40\u001B[0m     \u001B[38;5;28;01mfrom\u001B[39;00m \u001B[38;5;21;01m.\u001B[39;00m\u001B[38;5;21;01m.\u001B[39;00m\u001B[38;5;21;01m.\u001B[39;00m\u001B[38;5;21;01mgeneration\u001B[39;00m \u001B[38;5;28;01mimport\u001B[39;00m GenerationMixin\n\u001B[0;32m     43\u001B[0m logger \u001B[38;5;241m=\u001B[39m logging\u001B[38;5;241m.\u001B[39mget_logger(\u001B[38;5;18m__name__\u001B[39m)\n\u001B[0;32m     46\u001B[0m CLASS_DOCSTRING \u001B[38;5;241m=\u001B[39m \u001B[38;5;124m\"\"\"\u001B[39m\n\u001B[0;32m     47\u001B[0m \u001B[38;5;124m    This is a generic model class that will be instantiated as one of the model classes of the library when created\u001B[39m\n\u001B[0;32m     48\u001B[0m \u001B[38;5;124m    with the [`~BaseAutoModelClass.from_pretrained`] class method or the [`~BaseAutoModelClass.from_config`] class\u001B[39m\n\u001B[1;32m   (...)\u001B[0m\n\u001B[0;32m     51\u001B[0m \u001B[38;5;124m    This class cannot be instantiated directly using `__init__()` (throws an error).\u001B[39m\n\u001B[0;32m     52\u001B[0m \u001B[38;5;124m\"\"\"\u001B[39m\n",
      "File \u001B[1;32m<frozen importlib._bootstrap>:1075\u001B[0m, in \u001B[0;36m_handle_fromlist\u001B[1;34m(module, fromlist, import_, recursive)\u001B[0m\n",
      "File \u001B[1;32md:\\Programs\\Anaconda\\envs\\nlp_project_chatbot\\lib\\site-packages\\transformers\\utils\\import_utils.py:1781\u001B[0m, in \u001B[0;36m_LazyModule.__getattr__\u001B[1;34m(self, name)\u001B[0m\n\u001B[0;32m   1779\u001B[0m     value \u001B[38;5;241m=\u001B[39m Placeholder\n\u001B[0;32m   1780\u001B[0m \u001B[38;5;28;01melif\u001B[39;00m name \u001B[38;5;129;01min\u001B[39;00m \u001B[38;5;28mself\u001B[39m\u001B[38;5;241m.\u001B[39m_class_to_module\u001B[38;5;241m.\u001B[39mkeys():\n\u001B[1;32m-> 1781\u001B[0m     module \u001B[38;5;241m=\u001B[39m \u001B[38;5;28;43mself\u001B[39;49m\u001B[38;5;241;43m.\u001B[39;49m\u001B[43m_get_module\u001B[49m\u001B[43m(\u001B[49m\u001B[38;5;28;43mself\u001B[39;49m\u001B[38;5;241;43m.\u001B[39;49m\u001B[43m_class_to_module\u001B[49m\u001B[43m[\u001B[49m\u001B[43mname\u001B[49m\u001B[43m]\u001B[49m\u001B[43m)\u001B[49m\n\u001B[0;32m   1782\u001B[0m     value \u001B[38;5;241m=\u001B[39m \u001B[38;5;28mgetattr\u001B[39m(module, name)\n\u001B[0;32m   1783\u001B[0m \u001B[38;5;28;01melif\u001B[39;00m name \u001B[38;5;129;01min\u001B[39;00m \u001B[38;5;28mself\u001B[39m\u001B[38;5;241m.\u001B[39m_modules:\n",
      "File \u001B[1;32md:\\Programs\\Anaconda\\envs\\nlp_project_chatbot\\lib\\site-packages\\transformers\\utils\\import_utils.py:1793\u001B[0m, in \u001B[0;36m_LazyModule._get_module\u001B[1;34m(self, module_name)\u001B[0m\n\u001B[0;32m   1791\u001B[0m \u001B[38;5;28;01mdef\u001B[39;00m \u001B[38;5;21m_get_module\u001B[39m(\u001B[38;5;28mself\u001B[39m, module_name: \u001B[38;5;28mstr\u001B[39m):\n\u001B[0;32m   1792\u001B[0m     \u001B[38;5;28;01mtry\u001B[39;00m:\n\u001B[1;32m-> 1793\u001B[0m         \u001B[38;5;28;01mreturn\u001B[39;00m \u001B[43mimportlib\u001B[49m\u001B[38;5;241;43m.\u001B[39;49m\u001B[43mimport_module\u001B[49m\u001B[43m(\u001B[49m\u001B[38;5;124;43m\"\u001B[39;49m\u001B[38;5;124;43m.\u001B[39;49m\u001B[38;5;124;43m\"\u001B[39;49m\u001B[43m \u001B[49m\u001B[38;5;241;43m+\u001B[39;49m\u001B[43m \u001B[49m\u001B[43mmodule_name\u001B[49m\u001B[43m,\u001B[49m\u001B[43m \u001B[49m\u001B[38;5;28;43mself\u001B[39;49m\u001B[38;5;241;43m.\u001B[39;49m\u001B[38;5;18;43m__name__\u001B[39;49m\u001B[43m)\u001B[49m\n\u001B[0;32m   1794\u001B[0m     \u001B[38;5;28;01mexcept\u001B[39;00m \u001B[38;5;167;01mException\u001B[39;00m \u001B[38;5;28;01mas\u001B[39;00m e:\n\u001B[0;32m   1795\u001B[0m         \u001B[38;5;28;01mraise\u001B[39;00m \u001B[38;5;167;01mRuntimeError\u001B[39;00m(\n\u001B[0;32m   1796\u001B[0m             \u001B[38;5;124mf\u001B[39m\u001B[38;5;124m\"\u001B[39m\u001B[38;5;124mFailed to import \u001B[39m\u001B[38;5;132;01m{\u001B[39;00m\u001B[38;5;28mself\u001B[39m\u001B[38;5;241m.\u001B[39m\u001B[38;5;18m__name__\u001B[39m\u001B[38;5;132;01m}\u001B[39;00m\u001B[38;5;124m.\u001B[39m\u001B[38;5;132;01m{\u001B[39;00mmodule_name\u001B[38;5;132;01m}\u001B[39;00m\u001B[38;5;124m because of the following error (look up to see its\u001B[39m\u001B[38;5;124m\"\u001B[39m\n\u001B[0;32m   1797\u001B[0m             \u001B[38;5;124mf\u001B[39m\u001B[38;5;124m\"\u001B[39m\u001B[38;5;124m traceback):\u001B[39m\u001B[38;5;130;01m\\n\u001B[39;00m\u001B[38;5;132;01m{\u001B[39;00me\u001B[38;5;132;01m}\u001B[39;00m\u001B[38;5;124m\"\u001B[39m\n\u001B[0;32m   1798\u001B[0m         ) \u001B[38;5;28;01mfrom\u001B[39;00m \u001B[38;5;21;01me\u001B[39;00m\n",
      "File \u001B[1;32md:\\Programs\\Anaconda\\envs\\nlp_project_chatbot\\lib\\importlib\\__init__.py:126\u001B[0m, in \u001B[0;36mimport_module\u001B[1;34m(name, package)\u001B[0m\n\u001B[0;32m    124\u001B[0m             \u001B[38;5;28;01mbreak\u001B[39;00m\n\u001B[0;32m    125\u001B[0m         level \u001B[38;5;241m+\u001B[39m\u001B[38;5;241m=\u001B[39m \u001B[38;5;241m1\u001B[39m\n\u001B[1;32m--> 126\u001B[0m \u001B[38;5;28;01mreturn\u001B[39;00m \u001B[43m_bootstrap\u001B[49m\u001B[38;5;241;43m.\u001B[39;49m\u001B[43m_gcd_import\u001B[49m\u001B[43m(\u001B[49m\u001B[43mname\u001B[49m\u001B[43m[\u001B[49m\u001B[43mlevel\u001B[49m\u001B[43m:\u001B[49m\u001B[43m]\u001B[49m\u001B[43m,\u001B[49m\u001B[43m \u001B[49m\u001B[43mpackage\u001B[49m\u001B[43m,\u001B[49m\u001B[43m \u001B[49m\u001B[43mlevel\u001B[49m\u001B[43m)\u001B[49m\n",
      "File \u001B[1;32md:\\Programs\\Anaconda\\envs\\nlp_project_chatbot\\lib\\site-packages\\transformers\\generation\\utils.py:53\u001B[0m\n\u001B[0;32m     51\u001B[0m \u001B[38;5;28;01mfrom\u001B[39;00m \u001B[38;5;21;01m.\u001B[39;00m\u001B[38;5;21;01mbeam_constraints\u001B[39;00m \u001B[38;5;28;01mimport\u001B[39;00m DisjunctiveConstraint, PhrasalConstraint\n\u001B[0;32m     52\u001B[0m \u001B[38;5;28;01mfrom\u001B[39;00m \u001B[38;5;21;01m.\u001B[39;00m\u001B[38;5;21;01mbeam_search\u001B[39;00m \u001B[38;5;28;01mimport\u001B[39;00m BeamScorer, BeamSearchScorer, ConstrainedBeamSearchScorer\n\u001B[1;32m---> 53\u001B[0m \u001B[38;5;28;01mfrom\u001B[39;00m \u001B[38;5;21;01m.\u001B[39;00m\u001B[38;5;21;01mcandidate_generator\u001B[39;00m \u001B[38;5;28;01mimport\u001B[39;00m (\n\u001B[0;32m     54\u001B[0m     AssistedCandidateGenerator,\n\u001B[0;32m     55\u001B[0m     AssistedCandidateGeneratorDifferentTokenizers,\n\u001B[0;32m     56\u001B[0m     CandidateGenerator,\n\u001B[0;32m     57\u001B[0m     EarlyExitCandidateGenerator,\n\u001B[0;32m     58\u001B[0m     PromptLookupCandidateGenerator,\n\u001B[0;32m     59\u001B[0m     _crop_past_key_values,\n\u001B[0;32m     60\u001B[0m     _prepare_attention_mask,\n\u001B[0;32m     61\u001B[0m     _prepare_token_type_ids,\n\u001B[0;32m     62\u001B[0m )\n\u001B[0;32m     63\u001B[0m \u001B[38;5;28;01mfrom\u001B[39;00m \u001B[38;5;21;01m.\u001B[39;00m\u001B[38;5;21;01mconfiguration_utils\u001B[39;00m \u001B[38;5;28;01mimport\u001B[39;00m (\n\u001B[0;32m     64\u001B[0m     NEED_SETUP_CACHE_CLASSES_MAPPING,\n\u001B[0;32m     65\u001B[0m     QUANT_BACKEND_CLASSES_MAPPING,\n\u001B[0;32m     66\u001B[0m     GenerationConfig,\n\u001B[0;32m     67\u001B[0m     GenerationMode,\n\u001B[0;32m     68\u001B[0m )\n\u001B[0;32m     69\u001B[0m \u001B[38;5;28;01mfrom\u001B[39;00m \u001B[38;5;21;01m.\u001B[39;00m\u001B[38;5;21;01mlogits_process\u001B[39;00m \u001B[38;5;28;01mimport\u001B[39;00m (\n\u001B[0;32m     70\u001B[0m     EncoderNoRepeatNGramLogitsProcessor,\n\u001B[0;32m     71\u001B[0m     EncoderRepetitionPenaltyLogitsProcessor,\n\u001B[1;32m   (...)\u001B[0m\n\u001B[0;32m     95\u001B[0m     UnbatchedClassifierFreeGuidanceLogitsProcessor,\n\u001B[0;32m     96\u001B[0m )\n",
      "File \u001B[1;32md:\\Programs\\Anaconda\\envs\\nlp_project_chatbot\\lib\\site-packages\\transformers\\generation\\candidate_generator.py:26\u001B[0m\n\u001B[0;32m     22\u001B[0m \u001B[38;5;28;01mfrom\u001B[39;00m \u001B[38;5;21;01m.\u001B[39;00m\u001B[38;5;21;01m.\u001B[39;00m\u001B[38;5;21;01mutils\u001B[39;00m \u001B[38;5;28;01mimport\u001B[39;00m is_sklearn_available\n\u001B[0;32m     25\u001B[0m \u001B[38;5;28;01mif\u001B[39;00m is_sklearn_available():\n\u001B[1;32m---> 26\u001B[0m     \u001B[38;5;28;01mfrom\u001B[39;00m \u001B[38;5;21;01msklearn\u001B[39;00m\u001B[38;5;21;01m.\u001B[39;00m\u001B[38;5;21;01mmetrics\u001B[39;00m \u001B[38;5;28;01mimport\u001B[39;00m roc_curve\n\u001B[0;32m     28\u001B[0m \u001B[38;5;28;01mfrom\u001B[39;00m \u001B[38;5;21;01m.\u001B[39;00m\u001B[38;5;21;01m.\u001B[39;00m\u001B[38;5;21;01mcache_utils\u001B[39;00m \u001B[38;5;28;01mimport\u001B[39;00m DynamicCache\n\u001B[0;32m     29\u001B[0m \u001B[38;5;28;01mfrom\u001B[39;00m \u001B[38;5;21;01m.\u001B[39;00m\u001B[38;5;21;01m.\u001B[39;00m\u001B[38;5;21;01mpytorch_utils\u001B[39;00m \u001B[38;5;28;01mimport\u001B[39;00m isin_mps_friendly\n",
      "File \u001B[1;32md:\\Programs\\Anaconda\\envs\\nlp_project_chatbot\\lib\\site-packages\\sklearn\\__init__.py:73\u001B[0m\n\u001B[0;32m     62\u001B[0m \u001B[38;5;66;03m# `_distributor_init` allows distributors to run custom init code.\u001B[39;00m\n\u001B[0;32m     63\u001B[0m \u001B[38;5;66;03m# For instance, for the Windows wheel, this is used to pre-load the\u001B[39;00m\n\u001B[0;32m     64\u001B[0m \u001B[38;5;66;03m# vcomp shared library runtime for OpenMP embedded in the sklearn/.libs\u001B[39;00m\n\u001B[1;32m   (...)\u001B[0m\n\u001B[0;32m     67\u001B[0m \u001B[38;5;66;03m# later is linked to the OpenMP runtime to make it possible to introspect\u001B[39;00m\n\u001B[0;32m     68\u001B[0m \u001B[38;5;66;03m# it and importing it first would fail if the OpenMP dll cannot be found.\u001B[39;00m\n\u001B[0;32m     69\u001B[0m \u001B[38;5;28;01mfrom\u001B[39;00m \u001B[38;5;21;01m.\u001B[39;00m \u001B[38;5;28;01mimport\u001B[39;00m (  \u001B[38;5;66;03m# noqa: F401 E402\u001B[39;00m\n\u001B[0;32m     70\u001B[0m     __check_build,\n\u001B[0;32m     71\u001B[0m     _distributor_init,\n\u001B[0;32m     72\u001B[0m )\n\u001B[1;32m---> 73\u001B[0m \u001B[38;5;28;01mfrom\u001B[39;00m \u001B[38;5;21;01m.\u001B[39;00m\u001B[38;5;21;01mbase\u001B[39;00m \u001B[38;5;28;01mimport\u001B[39;00m clone  \u001B[38;5;66;03m# noqa: E402\u001B[39;00m\n\u001B[0;32m     74\u001B[0m \u001B[38;5;28;01mfrom\u001B[39;00m \u001B[38;5;21;01m.\u001B[39;00m\u001B[38;5;21;01mutils\u001B[39;00m\u001B[38;5;21;01m.\u001B[39;00m\u001B[38;5;21;01m_show_versions\u001B[39;00m \u001B[38;5;28;01mimport\u001B[39;00m show_versions  \u001B[38;5;66;03m# noqa: E402\u001B[39;00m\n\u001B[0;32m     76\u001B[0m _submodules \u001B[38;5;241m=\u001B[39m [\n\u001B[0;32m     77\u001B[0m     \u001B[38;5;124m\"\u001B[39m\u001B[38;5;124mcalibration\u001B[39m\u001B[38;5;124m\"\u001B[39m,\n\u001B[0;32m     78\u001B[0m     \u001B[38;5;124m\"\u001B[39m\u001B[38;5;124mcluster\u001B[39m\u001B[38;5;124m\"\u001B[39m,\n\u001B[1;32m   (...)\u001B[0m\n\u001B[0;32m    114\u001B[0m     \u001B[38;5;124m\"\u001B[39m\u001B[38;5;124mcompose\u001B[39m\u001B[38;5;124m\"\u001B[39m,\n\u001B[0;32m    115\u001B[0m ]\n",
      "File \u001B[1;32md:\\Programs\\Anaconda\\envs\\nlp_project_chatbot\\lib\\site-packages\\sklearn\\base.py:19\u001B[0m\n\u001B[0;32m     17\u001B[0m \u001B[38;5;28;01mfrom\u001B[39;00m \u001B[38;5;21;01m.\u001B[39;00m\u001B[38;5;21;01m_config\u001B[39;00m \u001B[38;5;28;01mimport\u001B[39;00m config_context, get_config\n\u001B[0;32m     18\u001B[0m \u001B[38;5;28;01mfrom\u001B[39;00m \u001B[38;5;21;01m.\u001B[39;00m\u001B[38;5;21;01mexceptions\u001B[39;00m \u001B[38;5;28;01mimport\u001B[39;00m InconsistentVersionWarning\n\u001B[1;32m---> 19\u001B[0m \u001B[38;5;28;01mfrom\u001B[39;00m \u001B[38;5;21;01m.\u001B[39;00m\u001B[38;5;21;01mutils\u001B[39;00m\u001B[38;5;21;01m.\u001B[39;00m\u001B[38;5;21;01m_estimator_html_repr\u001B[39;00m \u001B[38;5;28;01mimport\u001B[39;00m _HTMLDocumentationLinkMixin, estimator_html_repr\n\u001B[0;32m     20\u001B[0m \u001B[38;5;28;01mfrom\u001B[39;00m \u001B[38;5;21;01m.\u001B[39;00m\u001B[38;5;21;01mutils\u001B[39;00m\u001B[38;5;21;01m.\u001B[39;00m\u001B[38;5;21;01m_metadata_requests\u001B[39;00m \u001B[38;5;28;01mimport\u001B[39;00m _MetadataRequester, _routing_enabled\n\u001B[0;32m     21\u001B[0m \u001B[38;5;28;01mfrom\u001B[39;00m \u001B[38;5;21;01m.\u001B[39;00m\u001B[38;5;21;01mutils\u001B[39;00m\u001B[38;5;21;01m.\u001B[39;00m\u001B[38;5;21;01m_param_validation\u001B[39;00m \u001B[38;5;28;01mimport\u001B[39;00m validate_parameter_constraints\n",
      "File \u001B[1;32md:\\Programs\\Anaconda\\envs\\nlp_project_chatbot\\lib\\site-packages\\sklearn\\utils\\__init__.py:15\u001B[0m\n\u001B[0;32m     13\u001B[0m \u001B[38;5;28;01mfrom\u001B[39;00m \u001B[38;5;21;01m.\u001B[39;00m \u001B[38;5;28;01mimport\u001B[39;00m _joblib, metadata_routing\n\u001B[0;32m     14\u001B[0m \u001B[38;5;28;01mfrom\u001B[39;00m \u001B[38;5;21;01m.\u001B[39;00m\u001B[38;5;21;01m_bunch\u001B[39;00m \u001B[38;5;28;01mimport\u001B[39;00m Bunch\n\u001B[1;32m---> 15\u001B[0m \u001B[38;5;28;01mfrom\u001B[39;00m \u001B[38;5;21;01m.\u001B[39;00m\u001B[38;5;21;01m_chunking\u001B[39;00m \u001B[38;5;28;01mimport\u001B[39;00m gen_batches, gen_even_slices\n\u001B[0;32m     16\u001B[0m \u001B[38;5;28;01mfrom\u001B[39;00m \u001B[38;5;21;01m.\u001B[39;00m\u001B[38;5;21;01m_estimator_html_repr\u001B[39;00m \u001B[38;5;28;01mimport\u001B[39;00m estimator_html_repr\n\u001B[0;32m     18\u001B[0m \u001B[38;5;66;03m# Make _safe_indexing importable from here for backward compat as this particular\u001B[39;00m\n\u001B[0;32m     19\u001B[0m \u001B[38;5;66;03m# helper is considered semi-private and typically very useful for third-party\u001B[39;00m\n\u001B[0;32m     20\u001B[0m \u001B[38;5;66;03m# libraries that want to comply with scikit-learn's estimator API. In particular,\u001B[39;00m\n\u001B[0;32m     21\u001B[0m \u001B[38;5;66;03m# _safe_indexing was included in our public API documentation despite the leading\u001B[39;00m\n\u001B[0;32m     22\u001B[0m \u001B[38;5;66;03m# `_` in its name.\u001B[39;00m\n",
      "File \u001B[1;32md:\\Programs\\Anaconda\\envs\\nlp_project_chatbot\\lib\\site-packages\\sklearn\\utils\\_chunking.py:11\u001B[0m\n\u001B[0;32m      8\u001B[0m \u001B[38;5;28;01mimport\u001B[39;00m \u001B[38;5;21;01mnumpy\u001B[39;00m \u001B[38;5;28;01mas\u001B[39;00m \u001B[38;5;21;01mnp\u001B[39;00m\n\u001B[0;32m     10\u001B[0m \u001B[38;5;28;01mfrom\u001B[39;00m \u001B[38;5;21;01m.\u001B[39;00m\u001B[38;5;21;01m.\u001B[39;00m\u001B[38;5;21;01m_config\u001B[39;00m \u001B[38;5;28;01mimport\u001B[39;00m get_config\n\u001B[1;32m---> 11\u001B[0m \u001B[38;5;28;01mfrom\u001B[39;00m \u001B[38;5;21;01m.\u001B[39;00m\u001B[38;5;21;01m_param_validation\u001B[39;00m \u001B[38;5;28;01mimport\u001B[39;00m Interval, validate_params\n\u001B[0;32m     14\u001B[0m \u001B[38;5;28;01mdef\u001B[39;00m \u001B[38;5;21mchunk_generator\u001B[39m(gen, chunksize):\n\u001B[0;32m     15\u001B[0m \u001B[38;5;250m    \u001B[39m\u001B[38;5;124;03m\"\"\"Chunk generator, ``gen`` into lists of length ``chunksize``. The last\u001B[39;00m\n\u001B[0;32m     16\u001B[0m \u001B[38;5;124;03m    chunk may have a length less than ``chunksize``.\"\"\"\u001B[39;00m\n",
      "File \u001B[1;32md:\\Programs\\Anaconda\\envs\\nlp_project_chatbot\\lib\\site-packages\\sklearn\\utils\\_param_validation.py:17\u001B[0m\n\u001B[0;32m     14\u001B[0m \u001B[38;5;28;01mfrom\u001B[39;00m \u001B[38;5;21;01mscipy\u001B[39;00m\u001B[38;5;21;01m.\u001B[39;00m\u001B[38;5;21;01msparse\u001B[39;00m \u001B[38;5;28;01mimport\u001B[39;00m csr_matrix, issparse\n\u001B[0;32m     16\u001B[0m \u001B[38;5;28;01mfrom\u001B[39;00m \u001B[38;5;21;01m.\u001B[39;00m\u001B[38;5;21;01m.\u001B[39;00m\u001B[38;5;21;01m_config\u001B[39;00m \u001B[38;5;28;01mimport\u001B[39;00m config_context, get_config\n\u001B[1;32m---> 17\u001B[0m \u001B[38;5;28;01mfrom\u001B[39;00m \u001B[38;5;21;01m.\u001B[39;00m\u001B[38;5;21;01mvalidation\u001B[39;00m \u001B[38;5;28;01mimport\u001B[39;00m _is_arraylike_not_scalar\n\u001B[0;32m     20\u001B[0m \u001B[38;5;28;01mclass\u001B[39;00m \u001B[38;5;21;01mInvalidParameterError\u001B[39;00m(\u001B[38;5;167;01mValueError\u001B[39;00m, \u001B[38;5;167;01mTypeError\u001B[39;00m):\n\u001B[0;32m     21\u001B[0m \u001B[38;5;250m    \u001B[39m\u001B[38;5;124;03m\"\"\"Custom exception to be raised when the parameter of a class/method/function\u001B[39;00m\n\u001B[0;32m     22\u001B[0m \u001B[38;5;124;03m    does not have a valid type or value.\u001B[39;00m\n\u001B[0;32m     23\u001B[0m \u001B[38;5;124;03m    \"\"\"\u001B[39;00m\n",
      "File \u001B[1;32md:\\Programs\\Anaconda\\envs\\nlp_project_chatbot\\lib\\site-packages\\sklearn\\utils\\validation.py:21\u001B[0m\n\u001B[0;32m     19\u001B[0m \u001B[38;5;28;01mfrom\u001B[39;00m \u001B[38;5;21;01m.\u001B[39;00m\u001B[38;5;21;01m.\u001B[39;00m \u001B[38;5;28;01mimport\u001B[39;00m get_config \u001B[38;5;28;01mas\u001B[39;00m _get_config\n\u001B[0;32m     20\u001B[0m \u001B[38;5;28;01mfrom\u001B[39;00m \u001B[38;5;21;01m.\u001B[39;00m\u001B[38;5;21;01m.\u001B[39;00m\u001B[38;5;21;01mexceptions\u001B[39;00m \u001B[38;5;28;01mimport\u001B[39;00m DataConversionWarning, NotFittedError, PositiveSpectrumWarning\n\u001B[1;32m---> 21\u001B[0m \u001B[38;5;28;01mfrom\u001B[39;00m \u001B[38;5;21;01m.\u001B[39;00m\u001B[38;5;21;01m.\u001B[39;00m\u001B[38;5;21;01mutils\u001B[39;00m\u001B[38;5;21;01m.\u001B[39;00m\u001B[38;5;21;01m_array_api\u001B[39;00m \u001B[38;5;28;01mimport\u001B[39;00m _asarray_with_order, _is_numpy_namespace, get_namespace\n\u001B[0;32m     22\u001B[0m \u001B[38;5;28;01mfrom\u001B[39;00m \u001B[38;5;21;01m.\u001B[39;00m\u001B[38;5;21;01m.\u001B[39;00m\u001B[38;5;21;01mutils\u001B[39;00m\u001B[38;5;21;01m.\u001B[39;00m\u001B[38;5;21;01mdeprecation\u001B[39;00m \u001B[38;5;28;01mimport\u001B[39;00m _deprecate_force_all_finite\n\u001B[0;32m     23\u001B[0m \u001B[38;5;28;01mfrom\u001B[39;00m \u001B[38;5;21;01m.\u001B[39;00m\u001B[38;5;21;01m.\u001B[39;00m\u001B[38;5;21;01mutils\u001B[39;00m\u001B[38;5;21;01m.\u001B[39;00m\u001B[38;5;21;01mfixes\u001B[39;00m \u001B[38;5;28;01mimport\u001B[39;00m ComplexWarning, _preserve_dia_indices_dtype\n",
      "File \u001B[1;32md:\\Programs\\Anaconda\\envs\\nlp_project_chatbot\\lib\\site-packages\\sklearn\\utils\\_array_api.py:17\u001B[0m\n\u001B[0;32m     14\u001B[0m \u001B[38;5;28;01mimport\u001B[39;00m \u001B[38;5;21;01mscipy\u001B[39;00m\u001B[38;5;21;01m.\u001B[39;00m\u001B[38;5;21;01mspecial\u001B[39;00m \u001B[38;5;28;01mas\u001B[39;00m \u001B[38;5;21;01mspecial\u001B[39;00m\n\u001B[0;32m     16\u001B[0m \u001B[38;5;28;01mfrom\u001B[39;00m \u001B[38;5;21;01m.\u001B[39;00m\u001B[38;5;21;01m.\u001B[39;00m\u001B[38;5;21;01m_config\u001B[39;00m \u001B[38;5;28;01mimport\u001B[39;00m get_config\n\u001B[1;32m---> 17\u001B[0m \u001B[38;5;28;01mfrom\u001B[39;00m \u001B[38;5;21;01m.\u001B[39;00m\u001B[38;5;21;01mfixes\u001B[39;00m \u001B[38;5;28;01mimport\u001B[39;00m parse_version\n\u001B[0;32m     19\u001B[0m _NUMPY_NAMESPACE_NAMES \u001B[38;5;241m=\u001B[39m {\u001B[38;5;124m\"\u001B[39m\u001B[38;5;124mnumpy\u001B[39m\u001B[38;5;124m\"\u001B[39m, \u001B[38;5;124m\"\u001B[39m\u001B[38;5;124marray_api_compat.numpy\u001B[39m\u001B[38;5;124m\"\u001B[39m}\n\u001B[0;32m     22\u001B[0m \u001B[38;5;28;01mdef\u001B[39;00m \u001B[38;5;21myield_namespaces\u001B[39m(include_numpy_namespaces\u001B[38;5;241m=\u001B[39m\u001B[38;5;28;01mTrue\u001B[39;00m):\n",
      "File \u001B[1;32md:\\Programs\\Anaconda\\envs\\nlp_project_chatbot\\lib\\site-packages\\sklearn\\utils\\fixes.py:17\u001B[0m\n\u001B[0;32m     15\u001B[0m \u001B[38;5;28;01mimport\u001B[39;00m \u001B[38;5;21;01mscipy\u001B[39;00m\n\u001B[0;32m     16\u001B[0m \u001B[38;5;28;01mimport\u001B[39;00m \u001B[38;5;21;01mscipy\u001B[39;00m\u001B[38;5;21;01m.\u001B[39;00m\u001B[38;5;21;01msparse\u001B[39;00m\u001B[38;5;21;01m.\u001B[39;00m\u001B[38;5;21;01mlinalg\u001B[39;00m\n\u001B[1;32m---> 17\u001B[0m \u001B[38;5;28;01mimport\u001B[39;00m \u001B[38;5;21;01mscipy\u001B[39;00m\u001B[38;5;21;01m.\u001B[39;00m\u001B[38;5;21;01mstats\u001B[39;00m\n\u001B[0;32m     19\u001B[0m \u001B[38;5;28;01mtry\u001B[39;00m:\n\u001B[0;32m     20\u001B[0m     \u001B[38;5;28;01mimport\u001B[39;00m \u001B[38;5;21;01mpandas\u001B[39;00m \u001B[38;5;28;01mas\u001B[39;00m \u001B[38;5;21;01mpd\u001B[39;00m\n",
      "File \u001B[1;32md:\\Programs\\Anaconda\\envs\\nlp_project_chatbot\\lib\\site-packages\\scipy\\stats\\__init__.py:610\u001B[0m\n\u001B[0;32m      1\u001B[0m \u001B[38;5;124;03m\"\"\"\u001B[39;00m\n\u001B[0;32m      2\u001B[0m \u001B[38;5;124;03m.. _statsrefmanual:\u001B[39;00m\n\u001B[0;32m      3\u001B[0m \n\u001B[1;32m   (...)\u001B[0m\n\u001B[0;32m    605\u001B[0m \n\u001B[0;32m    606\u001B[0m \u001B[38;5;124;03m\"\"\"\u001B[39;00m  \u001B[38;5;66;03m# noqa: E501\u001B[39;00m\n\u001B[0;32m    608\u001B[0m \u001B[38;5;28;01mfrom\u001B[39;00m \u001B[38;5;21;01m.\u001B[39;00m\u001B[38;5;21;01m_warnings_errors\u001B[39;00m \u001B[38;5;28;01mimport\u001B[39;00m (ConstantInputWarning, NearConstantInputWarning,\n\u001B[0;32m    609\u001B[0m                                DegenerateDataWarning, FitError)\n\u001B[1;32m--> 610\u001B[0m \u001B[38;5;28;01mfrom\u001B[39;00m \u001B[38;5;21;01m.\u001B[39;00m\u001B[38;5;21;01m_stats_py\u001B[39;00m \u001B[38;5;28;01mimport\u001B[39;00m \u001B[38;5;241m*\u001B[39m\n\u001B[0;32m    611\u001B[0m \u001B[38;5;28;01mfrom\u001B[39;00m \u001B[38;5;21;01m.\u001B[39;00m\u001B[38;5;21;01m_variation\u001B[39;00m \u001B[38;5;28;01mimport\u001B[39;00m variation\n\u001B[0;32m    612\u001B[0m \u001B[38;5;28;01mfrom\u001B[39;00m \u001B[38;5;21;01m.\u001B[39;00m\u001B[38;5;21;01mdistributions\u001B[39;00m \u001B[38;5;28;01mimport\u001B[39;00m \u001B[38;5;241m*\u001B[39m\n",
      "File \u001B[1;32md:\\Programs\\Anaconda\\envs\\nlp_project_chatbot\\lib\\site-packages\\scipy\\stats\\_stats_py.py:49\u001B[0m\n\u001B[0;32m     46\u001B[0m \u001B[38;5;66;03m# Import unused here but needs to stay until end of deprecation periode\u001B[39;00m\n\u001B[0;32m     47\u001B[0m \u001B[38;5;66;03m# See https://github.com/scipy/scipy/issues/15765#issuecomment-1875564522\u001B[39;00m\n\u001B[0;32m     48\u001B[0m \u001B[38;5;28;01mfrom\u001B[39;00m \u001B[38;5;21;01mscipy\u001B[39;00m \u001B[38;5;28;01mimport\u001B[39;00m linalg  \u001B[38;5;66;03m# noqa: F401\u001B[39;00m\n\u001B[1;32m---> 49\u001B[0m \u001B[38;5;28;01mfrom\u001B[39;00m \u001B[38;5;21;01m.\u001B[39;00m \u001B[38;5;28;01mimport\u001B[39;00m distributions\n\u001B[0;32m     50\u001B[0m \u001B[38;5;28;01mfrom\u001B[39;00m \u001B[38;5;21;01m.\u001B[39;00m \u001B[38;5;28;01mimport\u001B[39;00m _mstats_basic \u001B[38;5;28;01mas\u001B[39;00m mstats_basic\n\u001B[0;32m     52\u001B[0m \u001B[38;5;28;01mfrom\u001B[39;00m \u001B[38;5;21;01m.\u001B[39;00m\u001B[38;5;21;01m_stats_mstats_common\u001B[39;00m \u001B[38;5;28;01mimport\u001B[39;00m _find_repeats, theilslopes, siegelslopes\n",
      "File \u001B[1;32md:\\Programs\\Anaconda\\envs\\nlp_project_chatbot\\lib\\site-packages\\scipy\\stats\\distributions.py:10\u001B[0m\n\u001B[0;32m      1\u001B[0m \u001B[38;5;66;03m#\u001B[39;00m\n\u001B[0;32m      2\u001B[0m \u001B[38;5;66;03m# Author:  Travis Oliphant  2002-2011 with contributions from\u001B[39;00m\n\u001B[0;32m      3\u001B[0m \u001B[38;5;66;03m#          SciPy Developers 2004-2011\u001B[39;00m\n\u001B[1;32m   (...)\u001B[0m\n\u001B[0;32m      6\u001B[0m \u001B[38;5;66;03m#       instead of `git blame -Lxxx,+x`.\u001B[39;00m\n\u001B[0;32m      7\u001B[0m \u001B[38;5;66;03m#\u001B[39;00m\n\u001B[0;32m      8\u001B[0m \u001B[38;5;28;01mfrom\u001B[39;00m \u001B[38;5;21;01m.\u001B[39;00m\u001B[38;5;21;01m_distn_infrastructure\u001B[39;00m \u001B[38;5;28;01mimport\u001B[39;00m (rv_discrete, rv_continuous, rv_frozen)  \u001B[38;5;66;03m# noqa: F401\u001B[39;00m\n\u001B[1;32m---> 10\u001B[0m \u001B[38;5;28;01mfrom\u001B[39;00m \u001B[38;5;21;01m.\u001B[39;00m \u001B[38;5;28;01mimport\u001B[39;00m _continuous_distns\n\u001B[0;32m     11\u001B[0m \u001B[38;5;28;01mfrom\u001B[39;00m \u001B[38;5;21;01m.\u001B[39;00m \u001B[38;5;28;01mimport\u001B[39;00m _discrete_distns\n\u001B[0;32m     13\u001B[0m \u001B[38;5;28;01mfrom\u001B[39;00m \u001B[38;5;21;01m.\u001B[39;00m\u001B[38;5;21;01m_continuous_distns\u001B[39;00m \u001B[38;5;28;01mimport\u001B[39;00m \u001B[38;5;241m*\u001B[39m  \u001B[38;5;66;03m# noqa: F403\u001B[39;00m\n",
      "File \u001B[1;32md:\\Programs\\Anaconda\\envs\\nlp_project_chatbot\\lib\\site-packages\\scipy\\stats\\_continuous_distns.py:24\u001B[0m\n\u001B[0;32m     21\u001B[0m \u001B[38;5;28;01mimport\u001B[39;00m \u001B[38;5;21;01mscipy\u001B[39;00m\u001B[38;5;21;01m.\u001B[39;00m\u001B[38;5;21;01mspecial\u001B[39;00m\u001B[38;5;21;01m.\u001B[39;00m\u001B[38;5;21;01m_ufuncs\u001B[39;00m \u001B[38;5;28;01mas\u001B[39;00m \u001B[38;5;21;01mscu\u001B[39;00m\n\u001B[0;32m     22\u001B[0m \u001B[38;5;28;01mfrom\u001B[39;00m \u001B[38;5;21;01mscipy\u001B[39;00m\u001B[38;5;21;01m.\u001B[39;00m\u001B[38;5;21;01m_lib\u001B[39;00m\u001B[38;5;21;01m.\u001B[39;00m\u001B[38;5;21;01m_util\u001B[39;00m \u001B[38;5;28;01mimport\u001B[39;00m _lazyselect, _lazywhere\n\u001B[1;32m---> 24\u001B[0m \u001B[38;5;28;01mfrom\u001B[39;00m \u001B[38;5;21;01m.\u001B[39;00m \u001B[38;5;28;01mimport\u001B[39;00m _stats\n\u001B[0;32m     25\u001B[0m \u001B[38;5;28;01mfrom\u001B[39;00m \u001B[38;5;21;01m.\u001B[39;00m\u001B[38;5;21;01m_tukeylambda_stats\u001B[39;00m \u001B[38;5;28;01mimport\u001B[39;00m (tukeylambda_variance \u001B[38;5;28;01mas\u001B[39;00m _tlvar,\n\u001B[0;32m     26\u001B[0m                                  tukeylambda_kurtosis \u001B[38;5;28;01mas\u001B[39;00m _tlkurt)\n\u001B[0;32m     27\u001B[0m \u001B[38;5;28;01mfrom\u001B[39;00m \u001B[38;5;21;01m.\u001B[39;00m\u001B[38;5;21;01m_distn_infrastructure\u001B[39;00m \u001B[38;5;28;01mimport\u001B[39;00m (_vectorize_rvs_over_shapes,\n\u001B[0;32m     28\u001B[0m     get_distribution_names, _kurtosis, _isintegral,\n\u001B[0;32m     29\u001B[0m     rv_continuous, _skew, _get_fixed_fit_value, _check_shape, _ShapeInfo)\n",
      "File \u001B[1;32m_stats.pyx:1\u001B[0m, in \u001B[0;36minit scipy.stats._stats\u001B[1;34m()\u001B[0m\n",
      "\u001B[1;31mKeyboardInterrupt\u001B[0m: "
     ]
    }
   ],
   "execution_count": 1
  },
  {
   "metadata": {},
   "cell_type": "code",
   "outputs": [],
   "execution_count": null,
   "source": [
    "from dotenv import load_dotenv\n",
    "load_dotenv()"
   ]
  },
  {
   "metadata": {
    "ExecuteTime": {
     "end_time": "2025-01-02T13:14:28.588538100Z",
     "start_time": "2025-01-01T23:10:42.733979Z"
    }
   },
   "cell_type": "code",
   "source": [
    "dataset_path = \"../data\"\n",
    "model_download_path = \"../models\"\n",
    "\n",
    "embedding_function = LateChunkingEmbedding(model_download_path)\n",
    "\n",
    "llm_gemini = ChatGoogleGenerativeAI(model=\"gemini-1.5-flash\")\n",
    "rag = RAG(dataset_path, embedding_function, late_chunking=True, llm=llm_gemini)\n",
    "print(\"LENGTH\", rag.get_num_docs())\n",
    "docs_retrieved = rag.retrieve(state = {\"question\": \"What is the the article 93 of GRPD?\", \"context\": []})\n",
    "\n",
    "print(\"Num docs:\", len(docs_retrieved[\"context\"]))\n",
    "\n",
    "for i in range(len(docs_retrieved[\"context\"])):\n",
    "    doc = docs_retrieved[\"context\"][i]\n",
    "    print(\"\\n\\n\", \"#\"*30,\"\\n\")\n",
    "    print(f\"doc {i}: (score: {doc.metadata['score']})\")\n",
    "    print(doc.page_content)"
   ],
   "outputs": [
    {
     "name": "stderr",
     "output_type": "stream",
     "text": [
      "G:\\CYTech\\ING3\\nlp_project_chatbot\\venv\\Lib\\site-packages\\langsmith\\client.py:256: LangSmithMissingAPIKeyWarning: API key must be provided when using hosted LangSmith API\n",
      "  warnings.warn(\n"
     ]
    },
    {
     "name": "stdout",
     "output_type": "stream",
     "text": [
      "WARNING: No LLM model provided. Only retrieval can be performed.\n"
     ]
    },
    {
     "name": "stderr",
     "output_type": "stream",
     "text": [
      "100%|██████████| 1/1 [00:01<00:00,  1.56s/it]\n",
      "0it [00:00, ?it/s]\n",
      "100%|██████████| 1/1 [00:01<00:00,  1.64s/it]\n",
      "0it [00:00, ?it/s]\n"
     ]
    },
    {
     "name": "stdout",
     "output_type": "stream",
     "text": [
      "Embedding and storing 89 documents...\n"
     ]
    },
    {
     "name": "stderr",
     "output_type": "stream",
     "text": [
      "100%|██████████| 89/89 [02:51<00:00,  1.92s/it]"
     ]
    },
    {
     "name": "stdout",
     "output_type": "stream",
     "text": [
      "LENGTH 139\n",
      "Num docs: 3\n",
      "\n",
      "\n",
      " ############################## \n",
      "\n",
      "doc 0: (score: 36.97541809082031)\n",
      "Ar ticle 96 \n",
      "Relationship with previously concluded Ag reements \n",
      "International agreements inv olving the transfe r of personal data to third countr ies or internati onal org anisations whic h \n",
      "were concluded by Member States pr ior to 24 Ma y 2016, and which compl y with U nion la w as applicable pr ior to that \n",
      "dat e, shall remain in f orce until amended, replaced or revok ed. \n",
      "Ar ticle 97 \n",
      "Commission repor ts \n",
      "1. By 25 Ma y 2020 and ever y f our ye ars thereaf ter , the Commission shall submit a repor t on the evaluation and \n",
      "review of this Regulation to the European P arliament and to the Council. The repor ts shall be made public. \n",
      "2. In the context of the evaluations and reviews refer red to in paragraph 1, the Commission shall examine, in \n",
      "par ticular , the application and functioning of: \n",
      "(a)  Chapt er V on the transfer of personal data to third countr ies or inte r national organisati ons with par ticular regar d to \n",
      "decisions adopt ed pursuant to Ar ticle 45(3) of this Regulation and decisions adopt ed on the basis of Ar ticle 25(6) of \n",
      "Directive 95/46/EC; \n",
      "(b)  Chapt er VII on cooperation and consistency . \n",
      "3. For the pur pose of paragraph 1, the Commission ma y request inf or mation from Member State s and super visor y \n",
      "author ities. \n",
      "4. In car r ying out the evaluations and reviews ref er red to in paragraphs 1 and 2, the Commission shall tak e int o \n",
      "account the positions and findings of the European P arliament, of the Council, and of other relevant bodies or sources. \n",
      "5. The Commission shall, if necessar y , submit appropr iate proposals to amend this Regulation, in par ticular taking \n",
      "into account of developments in inf or mation tec hnology and in the light of the state of progress in the inf or mation \n",
      "society . \n",
      "Ar ticle 98 \n",
      "Review of other Union legal acts on dat a protection \n",
      "The Commission shall, if appropr iate, submit legislative proposals with a view to amending other U nion legal acts on \n",
      "the prot ection of personal data, in order to ensure unif or m and consistent protection of natural persons with regar d to \n",
      "processing. This shall in par ticular concer n the r ules relating to the prot ection of natural persons with regard to \n",
      "processing by Union institutions, bodies, off ices and agencies and on the free mo vement of such data. \n",
      "Ar ticle 99 \n",
      "Entr y int o f orce and application \n",
      "1. This Regulation shall ent er into f orce on the twentieth da y f ollo wing that of its publication in the Off icial Jour nal of \n",
      "the Eur opean Union. \n",
      "2. It shall apply from 25 Ma y 2018. \n",
      "4.5.2016 L 119/87 Official Jour nal of the European Union EN\n",
      "\n",
      "\n",
      " ############################## \n",
      "\n",
      "doc 1: (score: 37.6368408203125)\n",
      "(p)  draf t and publish the cr it er ia f or accreditation of a body f or monitori ng codes of conduct pursuant to Ar ticle 41 \n",
      "and of a cer tif ication body pursuant to Ar ticle 43; \n",
      "(q)  conduct the accreditation of a body f or monitori ng codes of conduct pursuant to Ar ticle 41 and of a cer tificat ion \n",
      "body pursuant to Ar ticle 43; \n",
      "(r)  author ise contractual clauses and pro visions refe r red to in Ar ticle 46(3); \n",
      "(s)  appro ve binding cor porat e r ules pursuant to Ar ticle 47; \n",
      "(t)  contr ibut e to the activities of the Board; \n",
      "(u)  keep internal records of infr ingements of this Regulation and of measures take n in accordance with Ar ticle 58(2); \n",
      "and \n",
      "(v)  fulfil an y other tasks relat ed to the prot ection of personal data. \n",
      "2. Each super visor y author ity shall f acilitate the submission of compl aints refe r red to in point (f) of paragraph 1 by \n",
      "measures such as a compl aint submission f or m whic h can also be compl eted electronically , without excl uding other \n",
      "means of communication. \n",
      "3. The perf or mance of the tasks of each super visor y author ity shall be free of c harge f or the data subject and, where \n",
      "applicable, f or the data protection off icer . \n",
      "4. Where requests are manifest ly unf ounded or excessive, in par ticular because of their repetitive c haracter , the \n",
      "super visor y author ity ma y c harge a reasonable fee based on administrative costs, or refuse to act on the request. The \n",
      "super visor y author ity shall bear the burden of demonstrating the manifes tly unf ounded or excess ive c haract er of the \n",
      "request. \n",
      "Ar ticle 58 \n",
      "P o w ers \n",
      "1. Each super visor y author ity shall hav e all of the f ollo wing inve stigative po wers: \n",
      "(a)  to order the controller and the processor , and, where applicable, the controller's or the processor's representative to \n",
      "pro vide any inf or mation it requires f or the performa nce of its tasks; \n",
      "(b)  to car r y out inv estigat ions in the f or m of data prot ection audits; \n",
      "(c)  to car r y out a review on cer tif ications issued pursuant to Ar ticle 42(7); \n",
      "(d)  to notify the controller or the processor of an allege d infr inge ment of this Regulation; \n",
      "(e)  to obtain, from the controller and the processor , access to all personal data and to all inf or mation necessar y f or the \n",
      "performa nce of its tasks; \n",
      "(f)  to obtain access to an y premises of the controller and the processor , including to any data processing equipment \n",
      "and means, in accordance with U nion or Member Stat e procedural law . \n",
      "2. Each super visor y author ity shall hav e all of the f ollo wing cor rective po wers: \n",
      "(a)  to issue war nings to a controller or processor that intended processing operations are likely to infr inge pro visions of \n",
      "this Regulation; \n",
      "(b)  to issue repr imands to a controller or a processor where processing operations ha ve infr inge d pro visions of this \n",
      "Regulation; \n",
      "(c)  to order the controller or the processor to compl y with the data subject's requests to exe rcise his or her r ights \n",
      "pursuant to this Regulation; \n",
      "4.5.2016 L 119/69 Official Jour nal of the European Union EN\n",
      "\n",
      "\n",
      " ############################## \n",
      "\n",
      "doc 2: (score: 37.73538589477539)\n",
      "5. Infr inge ments of the f ollo wing pro visions shall, in accordance with paragraph 2, be subject to administrative fi nes \n",
      "up to 20 000 000 EUR, or in the case of an under taking, up to 4 % of the total worldwide annual tur no ver of the \n",
      "preceding financial year , whic hever is higher: \n",
      "(a)  the basic pr inciples f or processing, including conditions f or consent, pursuant to Ar ticles 5, 6, 7 and 9; \n",
      "(b)  the data subjects' r ights pursuant to Ar ticles 12 to 22; \n",
      "(c)  the transfers of personal data to a recipient in a third countr y or an intern ational organisation pursuant to \n",
      "Ar ticles 44 to 49; \n",
      "(d)  any obligations pursuant to Member Stat e la w adopt ed under Chapt er IX; \n",
      "(e)  non-com pliance with an order or a tem porar y or definitive limitation on processing or the suspension of data f lo ws \n",
      "by the super visor y author ity pursuant to Ar ticle 58(2) or f ailure to pro vide access in violation of Ar ticle 58(1). \n",
      "6. Non-compli ance with an order by the super visor y author ity as refe r red to in Ar ticle 58(2) shall, in accordance \n",
      "with paragraph 2 of this Ar ticle, be subject to administrative fi nes up to 20 000 000 EUR, or in the case of an \n",
      "under taking, up to 4 % of the total w orldwide annual tur no ver of the preceding financial year , whic hever is higher . \n",
      "7. Without prejudice to the cor rective po wers of super visor y author ities pursuant to Ar ticle 58(2), each \n",
      "Member Stat e ma y la y do wn the r ules on whether and to what exte nt administrative fines ma y be impos ed on public \n",
      "author ities and bodies established in that Member Stat e. \n",
      "8. The exer cise by the super visor y author ity of its po wers under this Ar ticle shall be subject to appropr iat e \n",
      "procedural safeg uards in accordance with Union and Member Stat e law , including effective judicial remedy and due \n",
      "process. \n",
      "9. Where the legal syste m of the Member State does not pro vide f or administrative fines, this Ar ticle ma y be applied \n",
      "in such a manner that the fi ne is initiat ed by the compet ent super visor y author ity and imposed by compet ent national \n",
      "cour ts, while ensur ing that those leg al remedies are eff ective and hav e an equivalent effect to the administrative fi nes \n",
      "im posed by super visor y author ities. In any event, the fine s im posed shall be effe ctive, propor tionate and dissuasive. \n",
      "Those Member State s shall notify to the Commission the pro visions of their la ws which they adopt pursuant to this \n",
      "paragraph by 25 Ma y 2018 and, without dela y , an y subsequent amendment la w or amendment affe cting them. \n",
      "Ar ticle 84 \n",
      "P enalties \n",
      "1. Member Stat es shall la y do wn the r ules on other penalties applicable to infr ingements of this Regulation in \n",
      "par ticular f or infr ingements whic h are not subject to administrative fi nes pursuant to Ar ticle 83, and shall take all \n",
      "measures necessar y to ensure that they are im plemented. Such penalties shall be eff ective, propor tionate and dissuasive. \n",
      "2. Each Member State shall notify to the Commission the pro visions of its la w whic h it adopts pursuant to \n",
      "paragraph 1, by 25 Ma y 2018 and, without dela y , any subsequent amendment aff ecting them. \n",
      "CHAPTE R IX \n",
      "Provisions r elating to specific processing situations \n",
      "Ar ticle 85 \n",
      "Processing and freedom of expression and inf or mation \n",
      "1. Member State s shall by law reconcile the r ight to the prot ection of personal data pursuant to this Regulation with \n",
      "the r ight to freedom of expression and inf or mation, including processing f or jour nalistic pur poses and the pur poses of \n",
      "academic, ar tistic or lit erar y expression. \n",
      "4.5.2016 L 119/83 Official Jour nal of the European Union EN\n",
      "Ar ticle 96 \n",
      "Relationship with previously concluded Ag reements \n",
      "International agreements inv olving the transfe r of personal data to third countr ies or internati onal org anisations whic h \n",
      "were concluded by Member States pr ior to 24 Ma y 2016, and which compl y with U nion la w as applicable pr ior to that \n",
      "dat e, shall remain in f orce until amended, replaced or revok ed. \n",
      "Ar ticle 97 \n",
      "Commission repor ts \n",
      "1. By 25 Ma y 2020 and ever y f our ye ars thereaf ter , the Commission shall submit a repor t on the evaluation and \n",
      "review of this Regulation to the European P arliament and to the Council. The repor ts shall be made public. \n",
      "2. In the context of the evaluations and reviews refer red to in paragraph 1, the Commission shall examine, in \n",
      "par ticular , the application and functioning of: \n",
      "(a)  Chapt er V on the transfer of personal data to third countr ies or inte r national organisati ons with par ticular regar d to \n",
      "decisions adopt ed pursuant to Ar ticle 45(3) of this Regulation and decisions adopt ed on the basis of Ar ticle 25(6) of \n",
      "Directive 95/46/EC; \n",
      "(b)  Chapt er VII on cooperation and consistency . \n",
      "3. For the pur pose of paragraph 1, the Commission ma y request inf or mation from Member State s and super visor y \n",
      "author ities. \n",
      "4. In car r ying out the evaluations and reviews ref er red to in paragraphs 1 and 2, the Commission shall tak e int o \n",
      "account the positions and findings of the European P arliament, of the Council, and of other relevant bodies or sources. \n",
      "5. The Commission shall, if necessar y , submit appropr iate proposals to amend this Regulation, in par ticular taking \n",
      "into account of developments in inf or mation tec hnology and in the light of the state of progress in the inf or mation \n",
      "society . \n",
      "Ar ticle 98 \n",
      "Review of other Union legal acts on dat a protection \n",
      "The Commission shall, if appropr iate, submit legislative proposals with a view to amending other U nion legal acts on \n",
      "the prot ection of personal data, in order to ensure unif or m and consistent protection of natural persons with regar d to \n",
      "processing. This shall in par ticular concer n the r ules relating to the prot ection of natural persons with regard to \n",
      "processing by Union institutions, bodies, off ices and agencies and on the free mo vement of such data. \n",
      "Ar ticle 99 \n",
      "Entr y int o f orce and application \n",
      "1. This Regulation shall ent er into f orce on the twentieth da y f ollo wing that of its publication in the Off icial Jour nal of \n",
      "the Eur opean Union. \n",
      "2. It shall apply from 25 Ma y 2018. \n",
      "4.5.2016 L 119/87 Official Jour nal of the European Union EN\n"
     ]
    },
    {
     "name": "stderr",
     "output_type": "stream",
     "text": [
      "\n"
     ]
    }
   ],
   "execution_count": 2
  },
  {
   "metadata": {},
   "cell_type": "code",
   "outputs": [],
   "execution_count": null,
   "source": "rag.invoke(query={\"question\":\"What is the the article 93 of GRPD?\"})"
  }
 ],
 "metadata": {
  "kernelspec": {
   "display_name": "nlp_project_chatbot",
   "language": "python",
   "name": "python3"
  },
  "language_info": {
   "codemirror_mode": {
    "name": "ipython",
    "version": 3
   },
   "file_extension": ".py",
   "mimetype": "text/x-python",
   "name": "python",
   "nbconvert_exporter": "python",
   "pygments_lexer": "ipython3",
   "version": "3.10.16"
  }
 },
 "nbformat": 4,
 "nbformat_minor": 2
}
