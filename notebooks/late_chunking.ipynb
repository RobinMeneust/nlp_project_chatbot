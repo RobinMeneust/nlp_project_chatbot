{
 "cells": [
  {
   "cell_type": "code",
   "metadata": {
    "ExecuteTime": {
     "end_time": "2025-01-01T23:10:42.731471Z",
     "start_time": "2025-01-01T23:10:38.986991Z"
    }
   },
   "source": [
    "from nlp_chat_bot.rag import RAG\n",
    "from nlp_chat_bot.model.late_chunking_embedding import LateChunkingEmbedding\n",
    "from langchain_google_genai import ChatGoogleGenerativeAI"
   ],
   "outputs": [
    {
     "name": "stderr",
     "output_type": "stream",
     "text": [
      "G:\\CYTech\\ING3\\nlp_project_chatbot\\venv\\Lib\\site-packages\\tqdm\\auto.py:21: TqdmWarning: IProgress not found. Please update jupyter and ipywidgets. See https://ipywidgets.readthedocs.io/en/stable/user_install.html\n",
      "  from .autonotebook import tqdm as notebook_tqdm\n"
     ]
    }
   ],
   "execution_count": 1
  },
  {
   "metadata": {},
   "cell_type": "code",
   "outputs": [],
   "execution_count": null,
   "source": [
    "import getpass\n",
    "import os\n",
    "\n",
    "if \"GOOGLE_API_KEY\" not in os.environ:\n",
    "    os.environ[\"GOOGLE_API_KEY\"] = getpass.getpass(\"Enter your Google AI API key: \")"
   ]
  },
  {
   "metadata": {
    "ExecuteTime": {
     "end_time": "2025-01-01T23:13:40.398105Z",
     "start_time": "2025-01-01T23:10:42.733979Z"
    }
   },
   "cell_type": "code",
   "source": [
    "dataset_path = \"../data\"\n",
    "model_download_path = \"../models\"\n",
    "\n",
    "embedding_function = LateChunkingEmbedding(model_download_path)\n",
    "\n",
    "llm_gemini = ChatGoogleGenerativeAI(model=\"gemini-1.5-flash\")\n",
    "rag = RAG(dataset_path, embedding_function, late_chunking=True, llm=llm_gemini)\n",
    "print(\"LENGTH\", rag.get_num_docs())\n",
    "docs_retrieved = rag.retrieve(state = {\"question\": \"What is the the article 93 of GRPD?\", \"context\": []})\n",
    "\n",
    "print(\"Num docs:\", len(docs_retrieved[\"context\"]))\n",
    "\n",
    "for i in range(len(docs_retrieved[\"context\"])):\n",
    "    doc = docs_retrieved[\"context\"][i]\n",
    "    print(\"\\n\\n\", \"#\"*30,\"\\n\")\n",
    "    print(f\"doc {i}: (score: {doc.metadata['score']})\")\n",
    "    print(doc.page_content)"
   ],
   "outputs": [
    {
     "name": "stderr",
     "output_type": "stream",
     "text": [
      "G:\\CYTech\\ING3\\nlp_project_chatbot\\venv\\Lib\\site-packages\\langsmith\\client.py:256: LangSmithMissingAPIKeyWarning: API key must be provided when using hosted LangSmith API\n",
      "  warnings.warn(\n"
     ]
    },
    {
     "name": "stdout",
     "output_type": "stream",
     "text": [
      "WARNING: No LLM model provided. Only retrieval can be performed.\n"
     ]
    },
    {
     "name": "stderr",
     "output_type": "stream",
     "text": [
      "100%|██████████| 1/1 [00:01<00:00,  1.56s/it]\n",
      "0it [00:00, ?it/s]\n",
      "100%|██████████| 1/1 [00:01<00:00,  1.64s/it]\n",
      "0it [00:00, ?it/s]\n"
     ]
    },
    {
     "name": "stdout",
     "output_type": "stream",
     "text": [
      "Embedding and storing 89 documents...\n"
     ]
    },
    {
     "name": "stderr",
     "output_type": "stream",
     "text": [
      "100%|██████████| 89/89 [02:51<00:00,  1.92s/it]"
     ]
    },
    {
     "name": "stdout",
     "output_type": "stream",
     "text": [
      "LENGTH 139\n",
      "Num docs: 3\n",
      "\n",
      "\n",
      " ############################## \n",
      "\n",
      "doc 0: (score: 36.97541809082031)\n",
      "Ar ticle 96 \n",
      "Relationship with previously concluded Ag reements \n",
      "International agreements inv olving the transfe r of personal data to third countr ies or internati onal org anisations whic h \n",
      "were concluded by Member States pr ior to 24 Ma y 2016, and which compl y with U nion la w as applicable pr ior to that \n",
      "dat e, shall remain in f orce until amended, replaced or revok ed. \n",
      "Ar ticle 97 \n",
      "Commission repor ts \n",
      "1. By 25 Ma y 2020 and ever y f our ye ars thereaf ter , the Commission shall submit a repor t on the evaluation and \n",
      "review of this Regulation to the European P arliament and to the Council. The repor ts shall be made public. \n",
      "2. In the context of the evaluations and reviews refer red to in paragraph 1, the Commission shall examine, in \n",
      "par ticular , the application and functioning of: \n",
      "(a)  Chapt er V on the transfer of personal data to third countr ies or inte r national organisati ons with par ticular regar d to \n",
      "decisions adopt ed pursuant to Ar ticle 45(3) of this Regulation and decisions adopt ed on the basis of Ar ticle 25(6) of \n",
      "Directive 95/46/EC; \n",
      "(b)  Chapt er VII on cooperation and consistency . \n",
      "3. For the pur pose of paragraph 1, the Commission ma y request inf or mation from Member State s and super visor y \n",
      "author ities. \n",
      "4. In car r ying out the evaluations and reviews ref er red to in paragraphs 1 and 2, the Commission shall tak e int o \n",
      "account the positions and findings of the European P arliament, of the Council, and of other relevant bodies or sources. \n",
      "5. The Commission shall, if necessar y , submit appropr iate proposals to amend this Regulation, in par ticular taking \n",
      "into account of developments in inf or mation tec hnology and in the light of the state of progress in the inf or mation \n",
      "society . \n",
      "Ar ticle 98 \n",
      "Review of other Union legal acts on dat a protection \n",
      "The Commission shall, if appropr iate, submit legislative proposals with a view to amending other U nion legal acts on \n",
      "the prot ection of personal data, in order to ensure unif or m and consistent protection of natural persons with regar d to \n",
      "processing. This shall in par ticular concer n the r ules relating to the prot ection of natural persons with regard to \n",
      "processing by Union institutions, bodies, off ices and agencies and on the free mo vement of such data. \n",
      "Ar ticle 99 \n",
      "Entr y int o f orce and application \n",
      "1. This Regulation shall ent er into f orce on the twentieth da y f ollo wing that of its publication in the Off icial Jour nal of \n",
      "the Eur opean Union. \n",
      "2. It shall apply from 25 Ma y 2018. \n",
      "4.5.2016 L 119/87 Official Jour nal of the European Union EN\n",
      "\n",
      "\n",
      " ############################## \n",
      "\n",
      "doc 1: (score: 37.6368408203125)\n",
      "(p)  draf t and publish the cr it er ia f or accreditation of a body f or monitori ng codes of conduct pursuant to Ar ticle 41 \n",
      "and of a cer tif ication body pursuant to Ar ticle 43; \n",
      "(q)  conduct the accreditation of a body f or monitori ng codes of conduct pursuant to Ar ticle 41 and of a cer tificat ion \n",
      "body pursuant to Ar ticle 43; \n",
      "(r)  author ise contractual clauses and pro visions refe r red to in Ar ticle 46(3); \n",
      "(s)  appro ve binding cor porat e r ules pursuant to Ar ticle 47; \n",
      "(t)  contr ibut e to the activities of the Board; \n",
      "(u)  keep internal records of infr ingements of this Regulation and of measures take n in accordance with Ar ticle 58(2); \n",
      "and \n",
      "(v)  fulfil an y other tasks relat ed to the prot ection of personal data. \n",
      "2. Each super visor y author ity shall f acilitate the submission of compl aints refe r red to in point (f) of paragraph 1 by \n",
      "measures such as a compl aint submission f or m whic h can also be compl eted electronically , without excl uding other \n",
      "means of communication. \n",
      "3. The perf or mance of the tasks of each super visor y author ity shall be free of c harge f or the data subject and, where \n",
      "applicable, f or the data protection off icer . \n",
      "4. Where requests are manifest ly unf ounded or excessive, in par ticular because of their repetitive c haracter , the \n",
      "super visor y author ity ma y c harge a reasonable fee based on administrative costs, or refuse to act on the request. The \n",
      "super visor y author ity shall bear the burden of demonstrating the manifes tly unf ounded or excess ive c haract er of the \n",
      "request. \n",
      "Ar ticle 58 \n",
      "P o w ers \n",
      "1. Each super visor y author ity shall hav e all of the f ollo wing inve stigative po wers: \n",
      "(a)  to order the controller and the processor , and, where applicable, the controller's or the processor's representative to \n",
      "pro vide any inf or mation it requires f or the performa nce of its tasks; \n",
      "(b)  to car r y out inv estigat ions in the f or m of data prot ection audits; \n",
      "(c)  to car r y out a review on cer tif ications issued pursuant to Ar ticle 42(7); \n",
      "(d)  to notify the controller or the processor of an allege d infr inge ment of this Regulation; \n",
      "(e)  to obtain, from the controller and the processor , access to all personal data and to all inf or mation necessar y f or the \n",
      "performa nce of its tasks; \n",
      "(f)  to obtain access to an y premises of the controller and the processor , including to any data processing equipment \n",
      "and means, in accordance with U nion or Member Stat e procedural law . \n",
      "2. Each super visor y author ity shall hav e all of the f ollo wing cor rective po wers: \n",
      "(a)  to issue war nings to a controller or processor that intended processing operations are likely to infr inge pro visions of \n",
      "this Regulation; \n",
      "(b)  to issue repr imands to a controller or a processor where processing operations ha ve infr inge d pro visions of this \n",
      "Regulation; \n",
      "(c)  to order the controller or the processor to compl y with the data subject's requests to exe rcise his or her r ights \n",
      "pursuant to this Regulation; \n",
      "4.5.2016 L 119/69 Official Jour nal of the European Union EN\n",
      "\n",
      "\n",
      " ############################## \n",
      "\n",
      "doc 2: (score: 37.73538589477539)\n",
      "5. Infr inge ments of the f ollo wing pro visions shall, in accordance with paragraph 2, be subject to administrative fi nes \n",
      "up to 20 000 000 EUR, or in the case of an under taking, up to 4 % of the total worldwide annual tur no ver of the \n",
      "preceding financial year , whic hever is higher: \n",
      "(a)  the basic pr inciples f or processing, including conditions f or consent, pursuant to Ar ticles 5, 6, 7 and 9; \n",
      "(b)  the data subjects' r ights pursuant to Ar ticles 12 to 22; \n",
      "(c)  the transfers of personal data to a recipient in a third countr y or an intern ational organisation pursuant to \n",
      "Ar ticles 44 to 49; \n",
      "(d)  any obligations pursuant to Member Stat e la w adopt ed under Chapt er IX; \n",
      "(e)  non-com pliance with an order or a tem porar y or definitive limitation on processing or the suspension of data f lo ws \n",
      "by the super visor y author ity pursuant to Ar ticle 58(2) or f ailure to pro vide access in violation of Ar ticle 58(1). \n",
      "6. Non-compli ance with an order by the super visor y author ity as refe r red to in Ar ticle 58(2) shall, in accordance \n",
      "with paragraph 2 of this Ar ticle, be subject to administrative fi nes up to 20 000 000 EUR, or in the case of an \n",
      "under taking, up to 4 % of the total w orldwide annual tur no ver of the preceding financial year , whic hever is higher . \n",
      "7. Without prejudice to the cor rective po wers of super visor y author ities pursuant to Ar ticle 58(2), each \n",
      "Member Stat e ma y la y do wn the r ules on whether and to what exte nt administrative fines ma y be impos ed on public \n",
      "author ities and bodies established in that Member Stat e. \n",
      "8. The exer cise by the super visor y author ity of its po wers under this Ar ticle shall be subject to appropr iat e \n",
      "procedural safeg uards in accordance with Union and Member Stat e law , including effective judicial remedy and due \n",
      "process. \n",
      "9. Where the legal syste m of the Member State does not pro vide f or administrative fines, this Ar ticle ma y be applied \n",
      "in such a manner that the fi ne is initiat ed by the compet ent super visor y author ity and imposed by compet ent national \n",
      "cour ts, while ensur ing that those leg al remedies are eff ective and hav e an equivalent effect to the administrative fi nes \n",
      "im posed by super visor y author ities. In any event, the fine s im posed shall be effe ctive, propor tionate and dissuasive. \n",
      "Those Member State s shall notify to the Commission the pro visions of their la ws which they adopt pursuant to this \n",
      "paragraph by 25 Ma y 2018 and, without dela y , an y subsequent amendment la w or amendment affe cting them. \n",
      "Ar ticle 84 \n",
      "P enalties \n",
      "1. Member Stat es shall la y do wn the r ules on other penalties applicable to infr ingements of this Regulation in \n",
      "par ticular f or infr ingements whic h are not subject to administrative fi nes pursuant to Ar ticle 83, and shall take all \n",
      "measures necessar y to ensure that they are im plemented. Such penalties shall be eff ective, propor tionate and dissuasive. \n",
      "2. Each Member State shall notify to the Commission the pro visions of its la w whic h it adopts pursuant to \n",
      "paragraph 1, by 25 Ma y 2018 and, without dela y , any subsequent amendment aff ecting them. \n",
      "CHAPTE R IX \n",
      "Provisions r elating to specific processing situations \n",
      "Ar ticle 85 \n",
      "Processing and freedom of expression and inf or mation \n",
      "1. Member State s shall by law reconcile the r ight to the prot ection of personal data pursuant to this Regulation with \n",
      "the r ight to freedom of expression and inf or mation, including processing f or jour nalistic pur poses and the pur poses of \n",
      "academic, ar tistic or lit erar y expression. \n",
      "4.5.2016 L 119/83 Official Jour nal of the European Union EN\n",
      "Ar ticle 96 \n",
      "Relationship with previously concluded Ag reements \n",
      "International agreements inv olving the transfe r of personal data to third countr ies or internati onal org anisations whic h \n",
      "were concluded by Member States pr ior to 24 Ma y 2016, and which compl y with U nion la w as applicable pr ior to that \n",
      "dat e, shall remain in f orce until amended, replaced or revok ed. \n",
      "Ar ticle 97 \n",
      "Commission repor ts \n",
      "1. By 25 Ma y 2020 and ever y f our ye ars thereaf ter , the Commission shall submit a repor t on the evaluation and \n",
      "review of this Regulation to the European P arliament and to the Council. The repor ts shall be made public. \n",
      "2. In the context of the evaluations and reviews refer red to in paragraph 1, the Commission shall examine, in \n",
      "par ticular , the application and functioning of: \n",
      "(a)  Chapt er V on the transfer of personal data to third countr ies or inte r national organisati ons with par ticular regar d to \n",
      "decisions adopt ed pursuant to Ar ticle 45(3) of this Regulation and decisions adopt ed on the basis of Ar ticle 25(6) of \n",
      "Directive 95/46/EC; \n",
      "(b)  Chapt er VII on cooperation and consistency . \n",
      "3. For the pur pose of paragraph 1, the Commission ma y request inf or mation from Member State s and super visor y \n",
      "author ities. \n",
      "4. In car r ying out the evaluations and reviews ref er red to in paragraphs 1 and 2, the Commission shall tak e int o \n",
      "account the positions and findings of the European P arliament, of the Council, and of other relevant bodies or sources. \n",
      "5. The Commission shall, if necessar y , submit appropr iate proposals to amend this Regulation, in par ticular taking \n",
      "into account of developments in inf or mation tec hnology and in the light of the state of progress in the inf or mation \n",
      "society . \n",
      "Ar ticle 98 \n",
      "Review of other Union legal acts on dat a protection \n",
      "The Commission shall, if appropr iate, submit legislative proposals with a view to amending other U nion legal acts on \n",
      "the prot ection of personal data, in order to ensure unif or m and consistent protection of natural persons with regar d to \n",
      "processing. This shall in par ticular concer n the r ules relating to the prot ection of natural persons with regard to \n",
      "processing by Union institutions, bodies, off ices and agencies and on the free mo vement of such data. \n",
      "Ar ticle 99 \n",
      "Entr y int o f orce and application \n",
      "1. This Regulation shall ent er into f orce on the twentieth da y f ollo wing that of its publication in the Off icial Jour nal of \n",
      "the Eur opean Union. \n",
      "2. It shall apply from 25 Ma y 2018. \n",
      "4.5.2016 L 119/87 Official Jour nal of the European Union EN\n"
     ]
    },
    {
     "name": "stderr",
     "output_type": "stream",
     "text": [
      "\n"
     ]
    }
   ],
   "execution_count": 2
  },
  {
   "metadata": {},
   "cell_type": "code",
   "outputs": [],
   "execution_count": null,
   "source": "rag.invoke(query={\"question\":\"What is the the article 93 of GRPD?\"})"
  }
 ],
 "metadata": {
  "kernelspec": {
   "display_name": "nlp_project_chatbot",
   "language": "python",
   "name": "python3"
  },
  "language_info": {
   "codemirror_mode": {
    "name": "ipython",
    "version": 3
   },
   "file_extension": ".py",
   "mimetype": "text/x-python",
   "name": "python",
   "nbconvert_exporter": "python",
   "pygments_lexer": "ipython3",
   "version": "3.10.16"
  }
 },
 "nbformat": 4,
 "nbformat_minor": 2
}
