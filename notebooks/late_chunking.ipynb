{
 "cells": [
  {
   "cell_type": "code",
   "metadata": {},
   "source": [
    "from langchain_chroma  import Chroma\n",
    "from nlp_chat_bot.model.stella import Stella\n",
    "from nlp_chat_bot.rag import RAG\n",
    "from nlp_chat_bot.model.late_chunking_embedding import LateChunkingEmbedding"
   ],
   "outputs": [],
   "execution_count": null
  },
  {
   "cell_type": "code",
   "metadata": {},
   "source": [
    "dataset_path = \"../data\"\n",
    "model_download_path = \"../models\"\n",
    "\n",
    "embedding_function = LateChunkingEmbedding(model_download_path, chunk_size=1000)\n",
    "vector_store = Chroma(embedding_function=embedding_function)\n",
    "rag = RAG(dataset_path, vector_store)\n",
    "print(\"LENGTH\", len(vector_store.get()['documents']))\n",
    "docs_retrieved = rag.retrieve(state = {\"question\": \"What is the acronym AIA?\", \"context\": []})\n",
    "\n",
    "print(\"Num docs:\", len(docs_retrieved[\"context\"]))\n",
    "\n",
    "for i in range(len(docs_retrieved[\"context\"])):\n",
    "    doc = docs_retrieved[\"context\"][i]\n",
    "    print(\"\\n\\n\", \"#\"*30,\"\\n\")\n",
    "    print(f\"doc {i}: (score: {doc.metadata['score']})\")\n",
    "    print(doc.page_content)\n",
    "print(docs_retrieved[\"context\"][0].page_content)"
   ],
   "outputs": [],
   "execution_count": null
  }
 ],
 "metadata": {
  "kernelspec": {
   "display_name": "nlp_project_chatbot",
   "language": "python",
   "name": "python3"
  },
  "language_info": {
   "codemirror_mode": {
    "name": "ipython",
    "version": 3
   },
   "file_extension": ".py",
   "mimetype": "text/x-python",
   "name": "python",
   "nbconvert_exporter": "python",
   "pygments_lexer": "ipython3",
   "version": "3.10.16"
  }
 },
 "nbformat": 4,
 "nbformat_minor": 2
}
