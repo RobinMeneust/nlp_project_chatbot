{
 "cells": [
  {
   "cell_type": "code",
   "metadata": {
    "ExecuteTime": {
     "end_time": "2025-01-04T23:58:32.759762Z",
     "start_time": "2025-01-04T23:58:28.114868Z"
    }
   },
   "source": [
    "from langchain_google_genai import ChatGoogleGenerativeAI\n",
    "from langchain_text_splitters import RecursiveCharacterTextSplitter\n",
    "\n",
    "from nlp_chat_bot.doc_loader.test_data_csv_loader import TestDataCSVLoader\n",
    "from nlp_chat_bot.model.minilm import MiniLM\n",
    "from nlp_chat_bot.rag.classic_rag import ClassicRAG"
   ],
   "outputs": [],
   "execution_count": 3
  },
  {
   "metadata": {
    "ExecuteTime": {
     "end_time": "2025-01-04T23:58:35.887299Z",
     "start_time": "2025-01-04T23:58:35.883199Z"
    }
   },
   "cell_type": "code",
   "source": [
    "from dotenv import load_dotenv\n",
    "load_dotenv()"
   ],
   "outputs": [
    {
     "data": {
      "text/plain": [
       "True"
      ]
     },
     "execution_count": 5,
     "metadata": {},
     "output_type": "execute_result"
    }
   ],
   "execution_count": 5
  },
  {
   "metadata": {
    "ExecuteTime": {
     "end_time": "2025-01-04T23:57:56.216600Z",
     "start_time": "2025-01-04T23:57:50.034663Z"
    }
   },
   "cell_type": "code",
   "source": [
    "from datasets import load_dataset\n",
    "\n",
    "ds_qa = load_dataset(\"enelpol/rag-mini-bioasq\", \"question-answer-passages\")[\"test\"]\n",
    "ds_corpus = load_dataset(\"enelpol/rag-mini-bioasq\", \"text-corpus\")[\"test\"]\n",
    "\n",
    "# only keep ds_qa rows with 3 items or more because we use 3 by default in our case\n",
    "ds_qa = ds_qa.filter(lambda x: len(x[\"relevant_passage_ids\"]) >= 3)\n",
    "\n",
    "ds_qa.to_csv(\"../test_datasets/rag-mini-bioasq/qa/qa.csv\")\n",
    "ds_corpus.to_csv(\"../test_datasets/rag-mini-bioasq/corpus/corpus.csv\")"
   ],
   "outputs": [
    {
     "name": "stderr",
     "output_type": "stream",
     "text": [
      "d:\\Programs\\Anaconda\\envs\\nlp_project_chatbot\\lib\\site-packages\\tqdm\\auto.py:21: TqdmWarning: IProgress not found. Please update jupyter and ipywidgets. See https://ipywidgets.readthedocs.io/en/stable/user_install.html\n",
      "  from .autonotebook import tqdm as notebook_tqdm\n",
      "Creating CSV from Arrow format: 100%|██████████| 1/1 [00:00<00:00, 52.31ba/s]\n",
      "Creating CSV from Arrow format: 100%|██████████| 41/41 [00:00<00:00, 49.62ba/s]\n"
     ]
    },
    {
     "data": {
      "text/plain": [
       "60209989"
      ]
     },
     "execution_count": 1,
     "metadata": {},
     "output_type": "execute_result"
    }
   ],
   "execution_count": 1
  },
  {
   "metadata": {
    "ExecuteTime": {
     "end_time": "2025-01-04T23:56:26.552351Z",
     "start_time": "2025-01-04T23:56:26.538285Z"
    }
   },
   "cell_type": "code",
   "source": "len(ds_qa)",
   "outputs": [
    {
     "data": {
      "text/plain": [
       "497"
      ]
     },
     "execution_count": 4,
     "metadata": {},
     "output_type": "execute_result"
    }
   ],
   "execution_count": 4
  },
  {
   "metadata": {
    "ExecuteTime": {
     "end_time": "2025-01-04T23:56:26.630426Z",
     "start_time": "2025-01-04T23:56:26.569477Z"
    }
   },
   "cell_type": "code",
   "source": [
    "print(ds_qa.to_pandas().head(1))\n",
    "print(ds_corpus.to_pandas().head(1))"
   ],
   "outputs": [
    {
     "name": "stdout",
     "output_type": "stream",
     "text": [
      "                                          question  \\\n",
      "0  Describe the mechanism of action of ibalizumab.   \n",
      "\n",
      "                                              answer    id  \\\n",
      "0  Ibalizumab is a humanized monoclonal antibody ...  2835   \n",
      "\n",
      "                                relevant_passage_ids  \n",
      "0  [29675744, 24853313, 29689540, 21289125, 20698...  \n",
      "                                             passage    id\n",
      "0  New data on viruses isolated from patients wit...  9797\n"
     ]
    }
   ],
   "execution_count": 5
  },
  {
   "cell_type": "code",
   "metadata": {
    "ExecuteTime": {
     "end_time": "2025-01-05T00:02:13.639257Z",
     "start_time": "2025-01-05T00:01:07.060612Z"
    }
   },
   "source": [
    "from nlp_chat_bot.model.late_chunking_embedding import LateChunkingEmbedding\n",
    "\n",
    "corpus_path = \"../test_datasets/rag-mini-bioasq/corpus\"\n",
    "vector_store_path = \"../test_chromadb\"\n",
    "model_download_path = \"../models\"\n",
    "\n",
    "test_params = {\n",
    "    \"splitter\": {\n",
    "        \"class\": RecursiveCharacterTextSplitter,\n",
    "        \"params\": {\n",
    "            \"chunk_size\": 1000,\n",
    "            \"chunk_overlap\": 50,\n",
    "            \"add_start_index\": True,\n",
    "        }\n",
    "    },\n",
    "    \"embedding_function\": {\n",
    "        \"class\": LateChunkingEmbedding\n",
    "    },\n",
    "    \"llm\": {\n",
    "        \"class\": ChatGoogleGenerativeAI,\n",
    "        \"params\": {\n",
    "            \"model\": \"gemini-1.5-flash\"\n",
    "        }\n",
    "    },\n",
    "    \"rag\": {\n",
    "        \"class\": ClassicRAG\n",
    "    }\n",
    "}\n",
    "splitter = None\n",
    "# splitter = test_params[\"splitter\"][\"class\"](\n",
    "#     chunk_size=test_params[\"splitter\"][\"params\"][\"chunk_size\"],  # chunk size (characters)\n",
    "#     chunk_overlap=test_params[\"splitter\"][\"params\"][\"chunk_overlap\"],  # chunk overlap (characters)\n",
    "#     add_start_index=test_params[\"splitter\"][\"params\"][\"add_start_index\"],  # track index in original document\n",
    "# )\n",
    "\n",
    "embedding_function = test_params[\"embedding_function\"][\"class\"](model_download_path=model_download_path)\n",
    "llm_gemini = model_name=test_params[\"llm\"][\"class\"](model=test_params[\"llm\"][\"params\"][\"model\"])\n",
    "rag = test_params[\"rag\"][\"class\"](corpus_path, embedding_function, vector_store_path, splitter, llm=llm_gemini, late_chunking=True, document_loader=TestDataCSVLoader())\n",
    "\n",
    "docs_retrieved = rag.retrieve(state = {\"question\": \"What is my conclusion in my project report on image inpainting?\", \"context\": []})\n",
    "\n",
    "for i in range(len(docs_retrieved[\"context\"])):\n",
    "    doc = docs_retrieved[\"context\"][i]\n",
    "    print(\"\\n\\n\", \"#\"*30,\"\\n\")\n",
    "    print(f\"doc {i}: (score: {doc.metadata['score']})\")\n",
    "    print(doc.page_content)"
   ],
   "outputs": [
    {
     "name": "stderr",
     "output_type": "stream",
     "text": [
      "d:\\Programs\\Anaconda\\envs\\nlp_project_chatbot\\lib\\site-packages\\langsmith\\client.py:256: LangSmithMissingAPIKeyWarning: API key must be provided when using hosted LangSmith API\n",
      "  warnings.warn(\n",
      "100%|██████████| 1/1 [00:01<00:00,  1.05s/it]\n",
      "\n",
      "KeyboardInterrupt\n",
      "\n"
     ]
    }
   ],
   "execution_count": 10
  },
  {
   "metadata": {},
   "cell_type": "code",
   "outputs": [],
   "execution_count": null,
   "source": ""
  }
 ],
 "metadata": {
  "kernelspec": {
   "display_name": "nlp_project_chatbot",
   "language": "python",
   "name": "python3"
  },
  "language_info": {
   "codemirror_mode": {
    "name": "ipython",
    "version": 3
   },
   "file_extension": ".py",
   "mimetype": "text/x-python",
   "name": "python",
   "nbconvert_exporter": "python",
   "pygments_lexer": "ipython3",
   "version": "3.10.16"
  }
 },
 "nbformat": 4,
 "nbformat_minor": 2
}
