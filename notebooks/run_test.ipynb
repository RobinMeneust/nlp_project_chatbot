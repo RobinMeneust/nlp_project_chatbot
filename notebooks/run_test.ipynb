{
 "cells": [
  {
   "metadata": {},
   "cell_type": "markdown",
   "source": [
    "# Notebook used to test our RAG chatbot package on the `rag-mini-bioasq` dataset\n",
    "\n",
    "## Setup and dataset download"
   ]
  },
  {
   "cell_type": "code",
   "metadata": {
    "ExecuteTime": {
     "end_time": "2025-01-12T18:17:34.426118Z",
     "start_time": "2025-01-12T18:16:57.419884Z"
    }
   },
   "source": [
    "from langchain_google_genai import ChatGoogleGenerativeAI\n",
    "from langchain_text_splitters import RecursiveCharacterTextSplitter\n",
    "\n",
    "from nlp_chat_bot.doc_loader.test_data_csv_loader import TestDataCSVLoader\n",
    "from langchain_google_genai import ChatGoogleGenerativeAI\n",
    "from langchain_text_splitters import RecursiveCharacterTextSplitter\n",
    "\n",
    "from nlp_chat_bot.model.embedding.minilm import MiniLM\n",
    "from nlp_chat_bot.model.llm.gemma import Gemma\n",
    "from nlp_chat_bot.rag.classic_rag import ClassicRAG\n",
    "from nlp_chat_bot.rag.query_translation_rag_decomposition import QueryTranslationRAGDecomposition\n",
    "from nlp_chat_bot.rag.query_translation_rag_fusion import QueryTranslationRAGFusion\n",
    "from nlp_chat_bot.vector_store.late_chunking_chroma_vector_store_builder import LateChunkingChromaVectorStoreBuilder\n",
    "from nlp_chat_bot.vector_store.naive_chunking_chroma_vector_store_builder import NaiveChunkingChromaVectorStoreBuilder\n",
    "from datasets import load_dataset, tqdm\n",
    "from nlp_chat_bot.model.embedding.late_chunking_embedding import LateChunkingEmbedding\n",
    "from dotenv import load_dotenv\n",
    "load_dotenv()"
   ],
   "outputs": [
    {
     "name": "stderr",
     "output_type": "stream",
     "text": [
      "d:\\Programs\\Anaconda\\envs\\nlp_project_chatbot\\lib\\site-packages\\tqdm\\auto.py:21: TqdmWarning: IProgress not found. Please update jupyter and ipywidgets. See https://ipywidgets.readthedocs.io/en/stable/user_install.html\n",
      "  from .autonotebook import tqdm as notebook_tqdm\n"
     ]
    },
    {
     "data": {
      "text/plain": [
       "True"
      ]
     },
     "execution_count": 1,
     "metadata": {},
     "output_type": "execute_result"
    }
   ],
   "execution_count": 1
  },
  {
   "metadata": {
    "ExecuteTime": {
     "end_time": "2025-01-12T18:17:42.849309Z",
     "start_time": "2025-01-12T18:17:34.430623Z"
    }
   },
   "cell_type": "code",
   "source": [
    "ds_qa = load_dataset(\"enelpol/rag-mini-bioasq\", \"question-answer-passages\")[\"test\"]\n",
    "ds_corpus = load_dataset(\"enelpol/rag-mini-bioasq\", \"text-corpus\")[\"test\"]\n",
    "\n",
    "# only keep ds_qa rows with 3 items or more because we use 3 by default in our case\n",
    "ds_qa = ds_qa.filter(lambda x: len(x[\"relevant_passage_ids\"]) >= 3)\n",
    "\n",
    "ds_qa.to_csv(\"../test_datasets/rag-mini-bioasq/qa/qa.csv\")\n",
    "ds_corpus.to_csv(\"../test_datasets/rag-mini-bioasq/corpus/corpus.csv\")"
   ],
   "outputs": [
    {
     "name": "stderr",
     "output_type": "stream",
     "text": [
      "Creating CSV from Arrow format: 100%|██████████| 1/1 [00:00<00:00, 15.38ba/s]\n",
      "Creating CSV from Arrow format: 100%|██████████| 41/41 [00:00<00:00, 50.30ba/s]\n"
     ]
    },
    {
     "data": {
      "text/plain": [
       "60209989"
      ]
     },
     "execution_count": 2,
     "metadata": {},
     "output_type": "execute_result"
    }
   ],
   "execution_count": 2
  },
  {
   "metadata": {
    "ExecuteTime": {
     "end_time": "2025-01-12T18:17:43.088752Z",
     "start_time": "2025-01-12T18:17:43.072722Z"
    }
   },
   "cell_type": "code",
   "source": [
    "print(\"Datasets sizes:\")\n",
    "print(f\"ds_qa: {len(ds_qa)}\")\n",
    "print(f\"ds_corpus: {len(ds_corpus)}\")"
   ],
   "outputs": [
    {
     "name": "stdout",
     "output_type": "stream",
     "text": [
      "Datasets sizes:\n",
      "ds_qa: 497\n",
      "ds_corpus: 40181\n"
     ]
    }
   ],
   "execution_count": 3
  },
  {
   "metadata": {
    "ExecuteTime": {
     "end_time": "2025-01-12T18:17:43.310717Z",
     "start_time": "2025-01-12T18:17:43.168726Z"
    }
   },
   "cell_type": "code",
   "source": [
    "print(ds_qa.to_pandas().head(1))\n",
    "print(ds_corpus.to_pandas().head(1))"
   ],
   "outputs": [
    {
     "name": "stdout",
     "output_type": "stream",
     "text": [
      "                                          question  \\\n",
      "0  Describe the mechanism of action of ibalizumab.   \n",
      "\n",
      "                                              answer    id  \\\n",
      "0  Ibalizumab is a humanized monoclonal antibody ...  2835   \n",
      "\n",
      "                                relevant_passage_ids  \n",
      "0  [29675744, 24853313, 29689540, 21289125, 20698...  \n",
      "                                             passage    id\n",
      "0  New data on viruses isolated from patients wit...  9797\n"
     ]
    }
   ],
   "execution_count": 4
  },
  {
   "metadata": {
    "ExecuteTime": {
     "end_time": "2025-01-12T18:17:43.342481Z",
     "start_time": "2025-01-12T18:17:43.326659Z"
    }
   },
   "cell_type": "code",
   "source": [
    "# test if our Llama installation supports GPU\n",
    "\n",
    "# import os\n",
    "# from llama_cpp.llama_cpp import load_shared_library\n",
    "# import llama_cpp\n",
    "# \n",
    "# llama_root_path_module = os.path.dirname(llama_cpp.__file__)\n",
    "# import pathlib\n",
    "# \n",
    "# def is_gpu_available_v3() -> bool:\n",
    "# \n",
    "#     lib = load_shared_library('llama',pathlib.Path(llama_root_path_module+'/lib'))\n",
    "#     return bool(lib.llama_supports_gpu_offload())\n",
    "# \n",
    "# print(is_gpu_available_v3())"
   ],
   "outputs": [],
   "execution_count": 5
  },
  {
   "metadata": {
    "ExecuteTime": {
     "end_time": "2025-01-12T19:07:27.479106Z",
     "start_time": "2025-01-12T19:07:27.466299Z"
    }
   },
   "cell_type": "code",
   "source": [
    "def test_retrieval(ds_qa, retrieve_function):\n",
    "    total_num_documents_considered = 0\n",
    "    num_valid_docs = 0\n",
    "    for test_item in tqdm(ds_qa):\n",
    "        question = test_item[\"question\"]\n",
    "        expected_documents_ids = test_item[\"relevant_passage_ids\"]\n",
    "        \n",
    "        response = retrieve_function(state = {\"question\": question, \"context\": []})\n",
    "        docs_retrieved = response[\"context\"]        \n",
    "        \n",
    "        # print(\"Question:\",question)\n",
    "        \n",
    "        # if it's a dict of docs (e.g. with QueryTranslationRAGDecomposition)\n",
    "        if isinstance(docs_retrieved, dict):\n",
    "            num_docs_retrieved = 0\n",
    "            for _, docs in docs_retrieved.items():\n",
    "                num_docs_retrieved += len(docs)\n",
    "                for doc in docs:\n",
    "                    if int(doc.metadata[\"id\"]) in expected_documents_ids:\n",
    "                        num_valid_docs += 1\n",
    "            total_num_documents_considered += min(len(expected_documents_ids), num_docs_retrieved)\n",
    "        else:\n",
    "            num_documents_considered = min(len(expected_documents_ids), len(docs_retrieved))\n",
    "            total_num_documents_considered += num_documents_considered\n",
    "            # print(\"Expected:\",expected_documents_ids,\"Got:\",[doc.metadata[\"id\"] for doc in docs_retrieved])\n",
    "            # print(\"Expected:\",expected_documents_ids)\n",
    "            for doc in docs_retrieved:\n",
    "                # print(\"Got:\",doc.metadata[\"id\"])\n",
    "                if int(doc.metadata[\"id\"]) in expected_documents_ids:\n",
    "                    num_valid_docs += 1\n",
    "        \n",
    "        \n",
    "    return num_valid_docs / total_num_documents_considered"
   ],
   "outputs": [],
   "execution_count": 17
  },
  {
   "metadata": {},
   "cell_type": "markdown",
   "source": "## Tests"
  },
  {
   "metadata": {
    "ExecuteTime": {
     "end_time": "2025-01-12T18:17:43.405612Z",
     "start_time": "2025-01-12T18:17:43.390551Z"
    }
   },
   "cell_type": "code",
   "source": "scores = {}",
   "outputs": [],
   "execution_count": 7
  },
  {
   "metadata": {
    "ExecuteTime": {
     "end_time": "2025-01-12T18:17:45.081695Z",
     "start_time": "2025-01-12T18:17:43.420769Z"
    }
   },
   "cell_type": "code",
   "source": [
    "corpus_path = \"../test_datasets/rag-mini-bioasq/corpus\"\n",
    "vector_store_path = \"../test_chromadb\"\n",
    "model_download_path = \"../models\"\n",
    "reload_vector_store = True # Add non existing documents\n",
    "reset_vector_store = False # Remove previous documents\n",
    "\n",
    "# splitter = None\n",
    "splitter = RecursiveCharacterTextSplitter(\n",
    "    chunk_size=1000,  # chunk size (characters)\n",
    "    chunk_overlap=0,  # chunk overlap (characters)\n",
    ")\n",
    "\n",
    "llm = Gemma(model_download_path=model_download_path)\n",
    "# llm = ChatGoogleGenerativeAI(model=\"gemini-1.5-flash\")"
   ],
   "outputs": [
    {
     "name": "stderr",
     "output_type": "stream",
     "text": [
      "llama_new_context_with_model: n_batch is less than GGML_KQ_MASK_PAD - increasing to 32\n",
      "llama_new_context_with_model: n_ctx_per_seq (512) < n_ctx_train (8192) -- the full capacity of the model will not be utilized\n"
     ]
    }
   ],
   "execution_count": 8
  },
  {
   "metadata": {},
   "cell_type": "markdown",
   "source": "### MiniLM, Naive Chunking"
  },
  {
   "metadata": {
    "ExecuteTime": {
     "end_time": "2025-01-12T18:18:01.836688Z",
     "start_time": "2025-01-12T18:17:45.097499Z"
    }
   },
   "cell_type": "code",
   "source": [
    "embedding_function = MiniLM(model_download_path=model_download_path)\n",
    "\n",
    "vector_store = NaiveChunkingChromaVectorStoreBuilder(corpus_path, embedding_function, vector_store_path, splitter, document_loader=TestDataCSVLoader()).build(reload_vector_store, reset_vector_store)\n",
    "\n",
    "rag = ClassicRAG(vector_store, llm=llm)\n",
    "\n",
    "scores[\"MiniLM-NaiveChunking-Gemma\"] = test_retrieval(ds_qa, rag.retrieve)\n",
    "print(scores[\"MiniLM-NaiveChunking-Gemma\"])"
   ],
   "outputs": [
    {
     "name": "stderr",
     "output_type": "stream",
     "text": [
      "100%|██████████| 1/1 [00:00<00:00,  1.22it/s]\n",
      "Storing documents embeddings (batch size is 1000): 0it [00:00, ?it/s]\n",
      "d:\\Programs\\Anaconda\\envs\\nlp_project_chatbot\\lib\\site-packages\\langsmith\\client.py:256: LangSmithMissingAPIKeyWarning: API key must be provided when using hosted LangSmith API\n",
      "  warnings.warn(\n"
     ]
    },
    {
     "name": "stdout",
     "output_type": "stream",
     "text": [
      "Documents are now loaded\n"
     ]
    },
    {
     "name": "stderr",
     "output_type": "stream",
     "text": [
      "100%|██████████| 497/497 [00:05<00:00, 93.67it/s] \n"
     ]
    }
   ],
   "execution_count": 9
  },
  {
   "metadata": {},
   "cell_type": "markdown",
   "source": [
    "### Jina, Late Chunking\n",
    "\n",
    "Here we should note that we use Late Chunking on small documents, which is not the best use case for Late Chunking, so we can't really evaluate the performance of Late Chunking here."
   ]
  },
  {
   "metadata": {
    "ExecuteTime": {
     "end_time": "2025-01-12T18:26:41.609572Z",
     "start_time": "2025-01-12T18:18:01.852709Z"
    }
   },
   "cell_type": "code",
   "source": [
    "embedding_function = LateChunkingEmbedding(model_download_path=model_download_path)\n",
    "\n",
    "vector_store = LateChunkingChromaVectorStoreBuilder(corpus_path, embedding_function, vector_store_path, splitter, document_loader=TestDataCSVLoader()).build(reload_vector_store, reset_vector_store)\n",
    "\n",
    "rag = ClassicRAG(vector_store, llm=llm)\n",
    "\n",
    "scores[\"Jina-LateChunking-Gemma\"] = test_retrieval(ds_qa, rag.retrieve)\n",
    "print(scores[\"Jina-LateChunking-Gemma\"])"
   ],
   "outputs": [
    {
     "name": "stderr",
     "output_type": "stream",
     "text": [
      "100%|██████████| 1/1 [00:00<00:00,  1.57it/s]\n",
      "Filtering existing documents: 100%|██████████| 40182/40182 [00:00<00:00, 103759.82it/s]\n",
      "Storing 40182 documents embeddings (batch size is 100): 40200it [08:21, 80.12it/s]                            \n"
     ]
    },
    {
     "name": "stdout",
     "output_type": "stream",
     "text": [
      "Documents are now loaded\n"
     ]
    },
    {
     "name": "stderr",
     "output_type": "stream",
     "text": [
      "d:\\Programs\\Anaconda\\envs\\nlp_project_chatbot\\lib\\site-packages\\langsmith\\client.py:256: LangSmithMissingAPIKeyWarning: API key must be provided when using hosted LangSmith API\n",
      "  warnings.warn(\n",
      "100%|██████████| 497/497 [00:06<00:00, 80.81it/s] \n"
     ]
    }
   ],
   "execution_count": 10
  },
  {
   "metadata": {},
   "cell_type": "markdown",
   "source": [
    "### MiniLM, Naive Chunking, Query Translation RAG Decomposition\n",
    "\n",
    "The score is worse here, it's likely because of the LLM used (Gemma), that is not big enough (and quantized)"
   ]
  },
  {
   "metadata": {
    "ExecuteTime": {
     "end_time": "2025-01-12T19:24:11.004033Z",
     "start_time": "2025-01-12T19:07:32.497770Z"
    }
   },
   "cell_type": "code",
   "source": [
    "embedding_function = MiniLM(model_download_path=model_download_path)\n",
    "\n",
    "vector_store = NaiveChunkingChromaVectorStoreBuilder(corpus_path, embedding_function, vector_store_path, splitter, document_loader=TestDataCSVLoader()).build(reload_vector_store, reset_vector_store)\n",
    "\n",
    "rag = QueryTranslationRAGDecomposition(vector_store, llm=llm)\n",
    "\n",
    "scores[\"MiniLM-NaiveChunking-Gemma-Decomposition\"] = test_retrieval(ds_qa, rag.retrieve)\n",
    "print(scores[\"MiniLM-NaiveChunking-Gemma-Decomposition\"])"
   ],
   "outputs": [
    {
     "name": "stderr",
     "output_type": "stream",
     "text": [
      "100%|██████████| 1/1 [00:00<00:00,  1.20it/s]\n",
      "Storing documents embeddings (batch size is 1000): 0it [00:00, ?it/s]\n",
      "d:\\Programs\\Anaconda\\envs\\nlp_project_chatbot\\lib\\site-packages\\langsmith\\client.py:256: LangSmithMissingAPIKeyWarning: API key must be provided when using hosted LangSmith API\n",
      "  warnings.warn(\n"
     ]
    },
    {
     "name": "stdout",
     "output_type": "stream",
     "text": [
      "Documents are now loaded\n"
     ]
    },
    {
     "name": "stderr",
     "output_type": "stream",
     "text": [
      "100%|██████████| 497/497 [16:33<00:00,  2.00s/it]"
     ]
    },
    {
     "name": "stdout",
     "output_type": "stream",
     "text": [
      "0.34002818886539815\n"
     ]
    },
    {
     "name": "stderr",
     "output_type": "stream",
     "text": [
      "\n"
     ]
    }
   ],
   "execution_count": 18
  },
  {
   "metadata": {},
   "cell_type": "markdown",
   "source": [
    "### MiniLM, Naive Chunking, Query Translation RAG Fusion\n",
    "\n",
    "The score is really bad here, it's likely because of the LLM used (Gemma), that is not big enough (and quantized). And contrarily to the previous case, we have even more calls to the LLM hence the error propagates"
   ]
  },
  {
   "metadata": {
    "ExecuteTime": {
     "end_time": "2025-01-12T19:40:43.029787Z",
     "start_time": "2025-01-12T19:24:11.129500Z"
    }
   },
   "cell_type": "code",
   "source": [
    "embedding_function = MiniLM(model_download_path=model_download_path)\n",
    "\n",
    "vector_store = NaiveChunkingChromaVectorStoreBuilder(corpus_path, embedding_function, vector_store_path, splitter, document_loader=TestDataCSVLoader()).build(reload_vector_store, reset_vector_store)\n",
    "\n",
    "rag = QueryTranslationRAGFusion(vector_store, llm=llm)\n",
    "\n",
    "scores[\"MiniLM-NaiveChunking-Gemma-Fusion\"] = test_retrieval(ds_qa, rag.retrieve)\n",
    "print(scores[\"MiniLM-NaiveChunking-Gemma-Fusion\"])"
   ],
   "outputs": [
    {
     "name": "stderr",
     "output_type": "stream",
     "text": [
      "100%|██████████| 1/1 [00:00<00:00,  1.63it/s]\n",
      "Storing documents embeddings (batch size is 1000): 0it [00:00, ?it/s]\n",
      "d:\\Programs\\Anaconda\\envs\\nlp_project_chatbot\\lib\\site-packages\\langsmith\\client.py:256: LangSmithMissingAPIKeyWarning: API key must be provided when using hosted LangSmith API\n",
      "  warnings.warn(\n"
     ]
    },
    {
     "name": "stdout",
     "output_type": "stream",
     "text": [
      "Documents are now loaded\n"
     ]
    },
    {
     "name": "stderr",
     "output_type": "stream",
     "text": [
      "100%|██████████| 497/497 [16:26<00:00,  1.98s/it]"
     ]
    },
    {
     "name": "stdout",
     "output_type": "stream",
     "text": [
      "0.0006706908115358819\n"
     ]
    },
    {
     "name": "stderr",
     "output_type": "stream",
     "text": [
      "\n"
     ]
    }
   ],
   "execution_count": 19
  },
  {
   "metadata": {},
   "cell_type": "markdown",
   "source": "## All results"
  },
  {
   "metadata": {
    "ExecuteTime": {
     "end_time": "2025-01-12T20:00:55.614787Z",
     "start_time": "2025-01-12T20:00:55.520633Z"
    }
   },
   "cell_type": "code",
   "source": [
    "import pandas as pd\n",
    "import matplotlib.pyplot as plt\n",
    "\n",
    "df_scores = pd.DataFrame(scores.items(), columns=[\"Method\", \"Score\"])\n",
    "print(df_scores)\n",
    "\n",
    "plt.bar(scores.keys(), scores.values())\n",
    "plt.xticks(rotation=90)\n",
    "plt.show()"
   ],
   "outputs": [
    {
     "name": "stdout",
     "output_type": "stream",
     "text": [
      "                                     Method     Score\n",
      "0                MiniLM-NaiveChunking-Gemma  0.541247\n",
      "1                   Jina-LateChunking-Gemma  0.533199\n",
      "2  MiniLM-NaiveChunking-Gemma-Decomposition  0.340028\n",
      "3         MiniLM-NaiveChunking-Gemma-Fusion  0.000671\n"
     ]
    },
    {
     "data": {
      "text/plain": [
       "<Figure size 640x480 with 1 Axes>"
      ],
      "image/png": "[encoded data removed]"
     },
     "metadata": {},
     "output_type": "display_data"
    }
   ],
   "execution_count": 20
  },
  {
   "metadata": {},
   "cell_type": "markdown",
   "source": ""
  }
 ],
 "metadata": {
  "kernelspec": {
   "display_name": "nlp_project_chatbot",
   "language": "python",
   "name": "python3"
  },
  "language_info": {
   "codemirror_mode": {
    "name": "ipython",
    "version": 3
   },
   "file_extension": ".py",
   "mimetype": "text/x-python",
   "name": "python",
   "nbconvert_exporter": "python",
   "pygments_lexer": "ipython3",
   "version": "3.10.16"
  }
 },
 "nbformat": 4,
 "nbformat_minor": 2
}
