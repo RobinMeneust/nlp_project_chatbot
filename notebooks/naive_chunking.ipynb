{
 "cells": [
  {
   "cell_type": "code",
   "execution_count": 1,
   "metadata": {},
   "outputs": [
    {
     "name": "stderr",
     "output_type": "stream",
     "text": [
      "d:\\Programs\\Anaconda\\envs\\nlp_project_chatbot\\lib\\site-packages\\tqdm\\auto.py:21: TqdmWarning: IProgress not found. Please update jupyter and ipywidgets. See https://ipywidgets.readthedocs.io/en/stable/user_install.html\n",
      "  from .autonotebook import tqdm as notebook_tqdm\n"
     ]
    }
   ],
   "source": [
    "from langchain_text_splitters import RecursiveCharacterTextSplitter\n",
    "from langchain_chroma  import Chroma\n",
    "from nlp_chat_bot.model.minilm import MiniLM\n",
    "from nlp_chat_bot.rag import RAG"
   ]
  },
  {
   "cell_type": "code",
   "execution_count": 2,
   "metadata": {},
   "outputs": [
    {
     "name": "stdout",
     "output_type": "stream",
     "text": [
      "WARNING: No LLM model provided. Only retrieval can be performed.\n"
     ]
    },
    {
     "name": "stderr",
     "output_type": "stream",
     "text": [
      "d:\\Programs\\Anaconda\\envs\\nlp_project_chatbot\\lib\\site-packages\\langsmith\\client.py:256: LangSmithMissingAPIKeyWarning: API key must be provided when using hosted LangSmith API\n",
      "  warnings.warn(\n",
      "0it [00:00, ?it/s]\n",
      "0it [00:00, ?it/s]\n",
      "100%|██████████| 2/2 [00:03<00:00,  1.72s/it]\n",
      "0it [00:00, ?it/s]\n"
     ]
    },
    {
     "name": "stdout",
     "output_type": "stream",
     "text": [
      "LENGTH 847\n",
      "Num docs: 3\n",
      "\n",
      "\n",
      " ############################## \n",
      "\n",
      "doc 0: (score: 0.9017001390457153)\n",
      "AAAI – (i) Association for the Advancement of Artificial Intelligence, formerly American\n",
      "\n",
      "\n",
      " ############################## \n",
      "\n",
      "doc 1: (score: 0.9144654273986816)\n",
      "AP\n",
      "\n",
      "AQ\n",
      "\n",
      "AR\n",
      "\n",
      "AS\n",
      "\n",
      "AT\n",
      "\n",
      "AU\n",
      "\n",
      "AV\n",
      "\n",
      "AW\n",
      "\n",
      "AX\n",
      "\n",
      "AY\n",
      "\n",
      "AZ\n",
      "\n",
      "List of acronyms: A\n",
      "\n",
      "1 language\n",
      "\n",
      "\n",
      " ############################## \n",
      "\n",
      "doc 2: (score: 0.9341943264007568)\n",
      "AIAA – (i) American Institute of Aeronautics and Astronautics\n",
      "\n",
      "AIC\n",
      "\n",
      "(i) African Independent Church\n",
      "AAAI – (i) Association for the Advancement of Artificial Intelligence, formerly American\n"
     ]
    }
   ],
   "source": [
    "dataset_path = \"../data\"\n",
    "model_download_path = \"../models\"\n",
    "\n",
    "splitter = RecursiveCharacterTextSplitter(\n",
    "    chunk_size=100,  # chunk size (characters)\n",
    "    chunk_overlap=10,  # chunk overlap (characters)\n",
    "    add_start_index=True,  # track index in original document\n",
    ")\n",
    "\n",
    "minilm = MiniLM(model_download_path=model_download_path)\n",
    "vector_store = Chroma(embedding_function=minilm)\n",
    "rag = RAG(dataset_path, vector_store, splitter)\n",
    "print(\"LENGTH\", len(vector_store.get()['documents']))\n",
    "docs_retrieved = rag.retrieve(state = {\"question\": \"What is the acronym AIA?\", \"context\": []})\n",
    "\n",
    "print(\"Num docs:\", len(docs_retrieved[\"context\"]))\n",
    "\n",
    "for i in range(len(docs_retrieved[\"context\"])):\n",
    "    doc = docs_retrieved[\"context\"][i]\n",
    "    print(\"\\n\\n\", \"#\"*30,\"\\n\")\n",
    "    print(f\"doc {i}: (score: {doc.metadata['score']})\")\n",
    "    print(doc.page_content)\n",
    "print(docs_retrieved[\"context\"][0].page_content)    "
   ]
  }
 ],
 "metadata": {
  "kernelspec": {
   "display_name": "nlp_project_chatbot",
   "language": "python",
   "name": "python3"
  },
  "language_info": {
   "codemirror_mode": {
    "name": "ipython",
    "version": 3
   },
   "file_extension": ".py",
   "mimetype": "text/x-python",
   "name": "python",
   "nbconvert_exporter": "python",
   "pygments_lexer": "ipython3",
   "version": "3.10.16"
  }
 },
 "nbformat": 4,
 "nbformat_minor": 2
}
