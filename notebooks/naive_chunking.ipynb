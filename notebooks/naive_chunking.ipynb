{
 "cells": [
  {
   "cell_type": "code",
   "metadata": {
    "ExecuteTime": {
     "end_time": "2025-01-02T15:20:25.969538Z",
     "start_time": "2025-01-02T15:20:17.470961Z"
    }
   },
   "source": [
    "from langchain_google_genai import ChatGoogleGenerativeAI\n",
    "from langchain_text_splitters import RecursiveCharacterTextSplitter\n",
    "from nlp_chat_bot.model.minilm import MiniLM\n",
    "from nlp_chat_bot.rag import RAG\n",
    "from nlp_chat_bot.vector_store.chroma_vector_store_builder import ChromaVectorStoreBuilder"
   ],
   "outputs": [
    {
     "name": "stderr",
     "output_type": "stream",
     "text": [
      "d:\\Programs\\Anaconda\\envs\\nlp_project_chatbot\\lib\\site-packages\\tqdm\\auto.py:21: TqdmWarning: IProgress not found. Please update jupyter and ipywidgets. See https://ipywidgets.readthedocs.io/en/stable/user_install.html\n",
      "  from .autonotebook import tqdm as notebook_tqdm\n"
     ]
    }
   ],
   "execution_count": 1
  },
  {
   "metadata": {
    "ExecuteTime": {
     "end_time": "2025-01-02T15:20:25.985166Z",
     "start_time": "2025-01-02T15:20:25.969538Z"
    }
   },
   "cell_type": "code",
   "source": [
    "from dotenv import load_dotenv\n",
    "load_dotenv()"
   ],
   "outputs": [
    {
     "data": {
      "text/plain": [
       "True"
      ]
     },
     "execution_count": 2,
     "metadata": {},
     "output_type": "execute_result"
    }
   ],
   "execution_count": 2
  },
  {
   "cell_type": "code",
   "metadata": {
    "ExecuteTime": {
     "end_time": "2025-01-02T15:20:35.776418Z",
     "start_time": "2025-01-02T15:20:26.205475Z"
    }
   },
   "source": [
    "dataset_path = \"../data\"\n",
    "vector_store_path = \"../chromadb\"\n",
    "model_download_path = \"../models\"\n",
    "\n",
    "splitter = RecursiveCharacterTextSplitter(\n",
    "    chunk_size=1000,  # chunk size (characters)\n",
    "    chunk_overlap=50,  # chunk overlap (characters)\n",
    "    add_start_index=True,  # track index in original document\n",
    ")\n",
    "\n",
    "embedding_function = MiniLM(model_download_path=model_download_path)\n",
    "llm_gemini = ChatGoogleGenerativeAI(model=\"gemini-1.5-flash\")\n",
    "rag = RAG(dataset_path, embedding_function, vector_store_path, splitter, llm=llm_gemini)\n",
    "print(\"LENGTH\", rag.get_num_docs())\n",
    "docs_retrieved = rag.retrieve(state = {\"question\": \"What is the the article 93 of GRPD?\", \"context\": []})\n",
    "\n",
    "print(\"Num docs:\", len(docs_retrieved[\"context\"]))\n",
    "\n",
    "for i in range(len(docs_retrieved[\"context\"])):\n",
    "    doc = docs_retrieved[\"context\"][i]\n",
    "    print(\"\\n\\n\", \"#\"*30,\"\\n\")\n",
    "    print(f\"doc {i}: (score: {doc.metadata['score']})\")\n",
    "    print(doc.page_content)"
   ],
   "outputs": [
    {
     "name": "stderr",
     "output_type": "stream",
     "text": [
      "d:\\Programs\\Anaconda\\envs\\nlp_project_chatbot\\lib\\site-packages\\langsmith\\client.py:256: LangSmithMissingAPIKeyWarning: API key must be provided when using hosted LangSmith API\n",
      "  warnings.warn(\n",
      "0it [00:00, ?it/s]\n",
      "0it [00:00, ?it/s]\n",
      "100%|██████████| 1/1 [00:02<00:00,  2.03s/it]\n",
      "0it [00:00, ?it/s]\n"
     ]
    },
    {
     "name": "stdout",
     "output_type": "stream",
     "text": [
      "Embedding and storing 14 chunks...\n"
     ]
    },
    {
     "name": "stderr",
     "output_type": "stream",
     "text": [
      "100%|██████████| 14/14 [00:00<00:00, 63.28it/s]\n"
     ]
    },
    {
     "name": "stdout",
     "output_type": "stream",
     "text": [
      "LENGTH 14\n",
      "Num docs: 3\n",
      "\n",
      "\n",
      " ############################## \n",
      "\n",
      "doc 0: (score: 1.553395305285434)\n",
      "Privacy policy About Wikipedia Disclaimers Contact Wikipedia Code of Conduct Developers Statistics Cookie statement Mobile view\n",
      "\n",
      "This page was last edited on 12 December 2024, at 00:08 (UTC).\n",
      "\n",
      "Text is available under the Creative Commons Attribution-ShareAlike 4.0 License; additional terms may apply. By using this site, you agree to the Terms of Use and Privacy Policy. Wikipedia® is a registered trademark of the Wikimedia Foundation, Inc., a non-profit organization.\n",
      "\n",
      "Contents\n",
      "\n",
      "hide\n",
      "\n",
      "(Top)\n",
      "\n",
      "Background\n",
      "\n",
      "Capabilities\n",
      "\n",
      "Corporate customization\n",
      "\n",
      "GPT-4o mini\n",
      "\n",
      "Scarlett Johansson controversy\n",
      "\n",
      "See also\n",
      "\n",
      "References\n",
      "\n",
      "GPT-4o\n",
      "\n",
      "17 languages\n",
      "\n",
      "Article Talk Read Edit View history\n",
      "\n",
      "Tools\n",
      "\n",
      "Appearance\n",
      "\n",
      "hide\n",
      "\n",
      "Text\n",
      "\n",
      "Width\n",
      "\n",
      "Color (beta)\n",
      "\n",
      "Small\n",
      "\n",
      "Standard\n",
      "\n",
      "Large\n",
      "\n",
      "Standard\n",
      "\n",
      "Wide\n",
      "\n",
      "Automatic\n",
      "\n",
      "Light\n",
      "\n",
      "Dark\n",
      "\n",
      "Generative Pre-trained Transformer\n",
      "\n",
      "4 Omni (GPT-4o)\n",
      "\n",
      "Developer(s) OpenAI\n",
      "\n",
      "Initial release May 13, 2024; 7 months ago\n",
      "\n",
      "Predecessor GPT-4 Turbo\n",
      "\n",
      "Successor OpenAI o1\n",
      "\n",
      "Type Multimodal\n",
      "\n",
      "Large language model\n",
      "\n",
      "\n",
      " ############################## \n",
      "\n",
      "doc 1: (score: 1.598131525788308)\n",
      "Retrieved 2024-05-17.\n",
      "\n",
      "14. ^ \"OpenAI Platform\" . platform.openai.com. Retrieved 2024-11-29.\n",
      "\n",
      "15. ^\n",
      "\n",
      "\"Models - OpenAI API\" . OpenAI. Retrieved 17 May 2024.\n",
      "\n",
      "16. ^\n",
      "\n",
      "Conway, Adam (2024-05-13). \"What is GPT-4o? Everything you need to know about the new OpenAI model that everyone can use for\n",
      "\n",
      "free\" . XDA Developers. Retrieved 2024-05-17.\n",
      "\n",
      "17. ^ \"Models\" .\n",
      "\n",
      "18. ^ Franzen, Carl (2024-05-13). \"OpenAI announces new free model GPT-4o and ChatGPT for desktop\" . VentureBeat. Retrieved\n",
      "\n",
      "2024-05-18.\n",
      "\n",
      "19. ^\n",
      "\n",
      "\"OpenAI lets companies customise its most powerful AI model\" . South China Morning Post. 2024-08-21. Retrieved 2024-08-22.\n",
      "\n",
      "20. ^ \"OpenAI to Let Companies Customize Its Most Powerful AI Model\" . Bloomberg. 2024-08-20. Retrieved 2024-08-22.\n",
      "\n",
      "21. ^ The Hindu Bureau (2024-08-21). \"OpenAI will let businesses customise GPT-4o for specific use cases\" . The Hindu. ISSN 0971-751X .\n",
      "\n",
      "Retrieved 2024-08-22.\n",
      "\n",
      "22. ^\n",
      "\n",
      "\n",
      " ############################## \n",
      "\n",
      "doc 2: (score: 1.6462762103909936)\n",
      "6. ^ van Rijmenam, Mark (13 May 2024). \"OpenAI Launched GPT-4o: The Future of AI Interactions Is Here\" . The Digital Speaker. Retrieved\n",
      "\n",
      "17 May 2024.\n",
      "\n",
      "7. ^ Daws, Ryan (2024-05-14). \"GPT-4o delivers human-like AI interaction with text, audio, and vision integration\" . AI News. Retrieved\n",
      "\n",
      "2024-05-18.\n",
      "\n",
      "8. ^\n",
      "\n",
      "\"Hello GPT-4o\" . OpenAI.\n",
      "\n",
      "9. ^ \"OpenAI GPT-4o: How to access GPT-4o voice mode; insights from Sam Altman\" . The Times of India. 2024-05-16. ISSN 0971-8257 .\n",
      "\n",
      "Retrieved 2024-05-18.\n",
      "\n",
      "10. ^ Morrison, Ryan (2024-07-19). \"OpenAI to make GPT-4o Advanced Voice available by the end of the month to select group of users\" .\n",
      "\n",
      "Tom's Guide. Retrieved 2024-09-10.\n",
      "\n",
      "11. ^ \"Pricing\" . openai.com. Retrieved 2024-11-29.\n",
      "\n",
      "12. ^ \"Introducing the Realtime API\" . openai.com. Retrieved 2024-11-29.\n",
      "\n",
      "13. ^ Edwards, Benj (2024-05-13). \"Major ChatGPT-4o update allows audio-video talks with an \"emotional\" AI chatbot\" . Ars Technica.\n",
      "\n",
      "Retrieved 2024-05-17.\n"
     ]
    }
   ],
   "execution_count": 3
  },
  {
   "metadata": {
    "ExecuteTime": {
     "end_time": "2025-01-02T15:20:36.468246Z",
     "start_time": "2025-01-02T15:20:35.792170Z"
    }
   },
   "cell_type": "code",
   "source": "rag.invoke(query={\"question\":\"What is the the article 93 of GRPD?\"})",
   "outputs": [
    {
     "data": {
      "text/plain": [
       "{'question': 'What is the the article 93 of GRPD?',\n",
       " 'context': (Document(metadata={'score': 1.553395305285434}, page_content='Privacy policy About Wikipedia Disclaimers Contact Wikipedia Code of Conduct Developers Statistics Cookie statement Mobile view\\n\\nThis page was last edited on 12 December 2024, at 00:08 (UTC).\\n\\nText is available under the Creative Commons Attribution-ShareAlike 4.0 License; additional terms may apply. By using this site, you agree to the Terms of Use and Privacy Policy. Wikipedia® is a registered trademark of the Wikimedia Foundation, Inc., a non-profit organization.\\n\\nContents\\n\\nhide\\n\\n(Top)\\n\\nBackground\\n\\nCapabilities\\n\\nCorporate customization\\n\\nGPT-4o mini\\n\\nScarlett Johansson controversy\\n\\nSee also\\n\\nReferences\\n\\nGPT-4o\\n\\n17 languages\\n\\nArticle Talk Read Edit View history\\n\\nTools\\n\\nAppearance\\n\\nhide\\n\\nText\\n\\nWidth\\n\\nColor (beta)\\n\\nSmall\\n\\nStandard\\n\\nLarge\\n\\nStandard\\n\\nWide\\n\\nAutomatic\\n\\nLight\\n\\nDark\\n\\nGenerative Pre-trained Transformer\\n\\n4 Omni (GPT-4o)\\n\\nDeveloper(s) OpenAI\\n\\nInitial release May 13, 2024; 7 months ago\\n\\nPredecessor GPT-4 Turbo\\n\\nSuccessor OpenAI o1\\n\\nType Multimodal\\n\\nLarge language model'),\n",
       "  Document(metadata={'score': 1.598131525788308}, page_content='Retrieved 2024-05-17.\\n\\n14. ^ \"OpenAI Platform\" . platform.openai.com. Retrieved 2024-11-29.\\n\\n15. ^\\n\\n\"Models - OpenAI API\" . OpenAI. Retrieved 17 May 2024.\\n\\n16. ^\\n\\nConway, Adam (2024-05-13). \"What is GPT-4o? Everything you need to know about the new OpenAI model that everyone can use for\\n\\nfree\" . XDA Developers. Retrieved 2024-05-17.\\n\\n17. ^ \"Models\" .\\n\\n18. ^ Franzen, Carl (2024-05-13). \"OpenAI announces new free model GPT-4o and ChatGPT for desktop\" . VentureBeat. Retrieved\\n\\n2024-05-18.\\n\\n19. ^\\n\\n\"OpenAI lets companies customise its most powerful AI model\" . South China Morning Post. 2024-08-21. Retrieved 2024-08-22.\\n\\n20. ^ \"OpenAI to Let Companies Customize Its Most Powerful AI Model\" . Bloomberg. 2024-08-20. Retrieved 2024-08-22.\\n\\n21. ^ The Hindu Bureau (2024-08-21). \"OpenAI will let businesses customise GPT-4o for specific use cases\" . The Hindu. ISSN 0971-751X .\\n\\nRetrieved 2024-08-22.\\n\\n22. ^'),\n",
       "  Document(metadata={'score': 1.6462762103909936}, page_content='6. ^ van Rijmenam, Mark (13 May 2024). \"OpenAI Launched GPT-4o: The Future of AI Interactions Is Here\" . The Digital Speaker. Retrieved\\n\\n17 May 2024.\\n\\n7. ^ Daws, Ryan (2024-05-14). \"GPT-4o delivers human-like AI interaction with text, audio, and vision integration\" . AI News. Retrieved\\n\\n2024-05-18.\\n\\n8. ^\\n\\n\"Hello GPT-4o\" . OpenAI.\\n\\n9. ^ \"OpenAI GPT-4o: How to access GPT-4o voice mode; insights from Sam Altman\" . The Times of India. 2024-05-16. ISSN 0971-8257 .\\n\\nRetrieved 2024-05-18.\\n\\n10. ^ Morrison, Ryan (2024-07-19). \"OpenAI to make GPT-4o Advanced Voice available by the end of the month to select group of users\" .\\n\\nTom\\'s Guide. Retrieved 2024-09-10.\\n\\n11. ^ \"Pricing\" . openai.com. Retrieved 2024-11-29.\\n\\n12. ^ \"Introducing the Realtime API\" . openai.com. Retrieved 2024-11-29.\\n\\n13. ^ Edwards, Benj (2024-05-13). \"Major ChatGPT-4o update allows audio-video talks with an \"emotional\" AI chatbot\" . Ars Technica.\\n\\nRetrieved 2024-05-17.')),\n",
       " 'answer': 'I am sorry, but this document does not contain information about article 93 of GRPD.  The provided text focuses on GPT-4o, a language model.\\n'}"
      ]
     },
     "execution_count": 4,
     "metadata": {},
     "output_type": "execute_result"
    }
   ],
   "execution_count": 4
  }
 ],
 "metadata": {
  "kernelspec": {
   "display_name": "nlp_project_chatbot",
   "language": "python",
   "name": "python3"
  },
  "language_info": {
   "codemirror_mode": {
    "name": "ipython",
    "version": 3
   },
   "file_extension": ".py",
   "mimetype": "text/x-python",
   "name": "python",
   "nbconvert_exporter": "python",
   "pygments_lexer": "ipython3",
   "version": "3.10.16"
  }
 },
 "nbformat": 4,
 "nbformat_minor": 2
}
