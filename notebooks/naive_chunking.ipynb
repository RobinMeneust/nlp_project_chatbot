{
 "cells": [
  {
   "cell_type": "code",
   "metadata": {
    "ExecuteTime": {
     "end_time": "2025-01-01T23:42:38.213673Z",
     "start_time": "2025-01-01T23:42:33.228510Z"
    }
   },
   "source": [
    "from langchain_google_genai import ChatGoogleGenerativeAI\n",
    "from langchain_text_splitters import RecursiveCharacterTextSplitter\n",
    "from nlp_chat_bot.model.minilm import MiniLM\n",
    "from nlp_chat_bot.rag import RAG"
   ],
   "outputs": [
    {
     "name": "stderr",
     "output_type": "stream",
     "text": [
      "G:\\CYTech\\ING3\\nlp_project_chatbot\\venv\\Lib\\site-packages\\tqdm\\auto.py:21: TqdmWarning: IProgress not found. Please update jupyter and ipywidgets. See https://ipywidgets.readthedocs.io/en/stable/user_install.html\n",
      "  from .autonotebook import tqdm as notebook_tqdm\n"
     ]
    }
   ],
   "execution_count": 1
  },
  {
   "metadata": {
    "ExecuteTime": {
     "end_time": "2025-01-01T23:42:43.391496Z",
     "start_time": "2025-01-01T23:42:38.213673Z"
    }
   },
   "cell_type": "code",
   "source": [
    "import getpass\n",
    "import os\n",
    "\n",
    "if \"GOOGLE_API_KEY\" not in os.environ:\n",
    "    os.environ[\"GOOGLE_API_KEY\"] = getpass.getpass(\"Enter your Google AI API key: \")"
   ],
   "outputs": [],
   "execution_count": 2
  },
  {
   "cell_type": "code",
   "metadata": {
    "ExecuteTime": {
     "end_time": "2025-01-01T23:42:51.362221Z",
     "start_time": "2025-01-01T23:42:43.534969Z"
    }
   },
   "source": [
    "dataset_path = \"../data\"\n",
    "model_download_path = \"../models\"\n",
    "\n",
    "splitter = RecursiveCharacterTextSplitter(\n",
    "    chunk_size=1000,  # chunk size (characters)\n",
    "    chunk_overlap=50,  # chunk overlap (characters)\n",
    "    add_start_index=True,  # track index in original document\n",
    ")\n",
    "\n",
    "minilm = MiniLM(model_download_path=model_download_path)\n",
    "llm_gemini = ChatGoogleGenerativeAI(model=\"gemini-1.5-flash\")\n",
    "rag = RAG(dataset_path, minilm, splitter, llm=llm_gemini)\n",
    "print(\"LENGTH\", rag.get_num_docs())\n",
    "docs_retrieved = rag.retrieve(state = {\"question\": \"What is the the article 93 of GRPD?\", \"context\": []})\n",
    "\n",
    "print(\"Num docs:\", len(docs_retrieved[\"context\"]))\n",
    "\n",
    "for i in range(len(docs_retrieved[\"context\"])):\n",
    "    doc = docs_retrieved[\"context\"][i]\n",
    "    print(\"\\n\\n\", \"#\"*30,\"\\n\")\n",
    "    print(f\"doc {i}: (score: {doc.metadata['score']})\")\n",
    "    print(doc.page_content)"
   ],
   "outputs": [
    {
     "name": "stderr",
     "output_type": "stream",
     "text": [
      "G:\\CYTech\\ING3\\nlp_project_chatbot\\venv\\Lib\\site-packages\\langsmith\\client.py:256: LangSmithMissingAPIKeyWarning: API key must be provided when using hosted LangSmith API\n",
      "  warnings.warn(\n"
     ]
    },
    {
     "name": "stdout",
     "output_type": "stream",
     "text": [
      "WARNING: No LLM model provided. Only retrieval can be performed.\n"
     ]
    },
    {
     "name": "stderr",
     "output_type": "stream",
     "text": [
      "100%|██████████| 1/1 [00:01<00:00,  1.44s/it]\n",
      "0it [00:00, ?it/s]\n",
      "100%|██████████| 1/1 [00:01<00:00,  1.77s/it]\n",
      "0it [00:00, ?it/s]\n"
     ]
    },
    {
     "name": "stdout",
     "output_type": "stream",
     "text": [
      "Embedding and storing 447 chunks...\n"
     ]
    },
    {
     "name": "stderr",
     "output_type": "stream",
     "text": [
      "100%|██████████| 447/447 [00:02<00:00, 196.69it/s]\n"
     ]
    },
    {
     "name": "stdout",
     "output_type": "stream",
     "text": [
      "LENGTH 447\n",
      "Num docs: 3\n",
      "\n",
      "\n",
      " ############################## \n",
      "\n",
      "doc 0: (score: 1.270198941230774)\n",
      "been expressed by either the European P arliament or the Council within a per iod of three months of notifi cation of that \n",
      "act to the European P arliament and the Council or if, bef ore the expir y of that per iod, the European P arliament and the \n",
      "Council have both inf or med the Commission that they will not object. That per iod shall be extended by three months at \n",
      "the initiative of the European P arliament or of the Council. \n",
      "Ar ticle 93 \n",
      "Committee procedure \n",
      "1. The Commission shall be assisted by a committee. That committee shall be a committee within the meaning of \n",
      "Regulation (EU) No 182/2011. \n",
      "2. Where refe rence is made to this paragraph, Ar ticle 5 of Regulation (EU) No 182/2011 shall apply . \n",
      "3. Where reference is made to this paragraph, Ar ticle 8 of Regulation (EU) No 182/2011, in conjunction with \n",
      "Ar ticle 5 thereof, shall apply . \n",
      "CHAPTE R XI \n",
      "Final pr ovision s \n",
      "Ar ticle 94 \n",
      "Repeal of Directiv e 95/46/EC\n",
      "\n",
      "\n",
      " ############################## \n",
      "\n",
      "doc 1: (score: 1.272301197052002)\n",
      "Ar ticle 94 \n",
      "Repeal of Directiv e 95/46/EC \n",
      "1. Directive 95/46/EC is repealed with effe ct from 25 Ma y 2018. \n",
      "2. Ref erences to the repealed Directive shall be constr ued as references to this Regulation. References to the W orking \n",
      "P ar ty on the Prot ection of Individuals with regar d to the Processing of P ersonal Data established by Ar ticle 29 of \n",
      "Directive 95/46/EC shall be constr ued as referen ces to the European Data Protection Board established by this \n",
      "Regulation. \n",
      "Ar ticle 95 \n",
      "Relationship with Directiv e 2002/58/EC \n",
      "This Regulation shall not im pose additional oblig ations on natural or leg al persons in relation to processing in \n",
      "connection with the pro vision of publicly available electronic communications ser vices in public communication \n",
      "netw orks in the U nion in relation to matt ers f or which the y are subject to specifi c oblig ations with the same objective \n",
      "set out in Directive 2002/58/EC. \n",
      "4.5.2016 L 119/86 Official Jour nal of the European Union EN\n",
      "\n",
      "\n",
      " ############################## \n",
      "\n",
      "doc 2: (score: 1.3017139434814453)\n",
      "with this Regulation, or , in the situation refe r red to in paragraph 3, pro vides appropr iat e safeguards, the Board shall \n",
      "submit its opinion to the Commission. \n",
      "9. The Commission ma y , by wa y of im plementing acts, decide that the appro ved code of conduct, amendment or \n",
      "extensi on submitte d to it pursuant to paragraph 8 of this Ar ticle have general validity within the U nion. Those \n",
      "im plementing acts shall be adopt ed in accordance with the examination procedure set out in Ar ticle 93(2). \n",
      "4.5.2016 L 119/57 Official Jour nal of the European Union EN\n"
     ]
    }
   ],
   "execution_count": 3
  },
  {
   "metadata": {
    "ExecuteTime": {
     "end_time": "2025-01-01T23:42:52.938826Z",
     "start_time": "2025-01-01T23:42:51.418926Z"
    }
   },
   "cell_type": "code",
   "source": "rag.invoke(query={\"question\":\"What is the the article 93 of GRPD?\"})",
   "outputs": [
    {
     "data": {
      "text/plain": [
       "{'question': 'What is the the article 93 of GRPD?',\n",
       " 'context': (Document(metadata={'score': 1.270198941230774}, page_content='been expressed by either the European P arliament or the Council within a per iod of three months of notifi cation of that \\nact to the European P arliament and the Council or if, bef ore the expir y of that per iod, the European P arliament and the \\nCouncil have both inf or med the Commission that they will not object. That per iod shall be extended by three months at \\nthe initiative of the European P arliament or of the Council. \\nAr ticle 93 \\nCommittee procedure \\n1. The Commission shall be assisted by a committee. That committee shall be a committee within the meaning of \\nRegulation (EU) No 182/2011. \\n2. Where refe rence is made to this paragraph, Ar ticle 5 of Regulation (EU) No 182/2011 shall apply . \\n3. Where reference is made to this paragraph, Ar ticle 8 of Regulation (EU) No 182/2011, in conjunction with \\nAr ticle 5 thereof, shall apply . \\nCHAPTE R XI \\nFinal pr ovision s \\nAr ticle 94 \\nRepeal of Directiv e 95/46/EC'),\n",
       "  Document(metadata={'score': 1.272301197052002}, page_content='Ar ticle 94 \\nRepeal of Directiv e 95/46/EC \\n1. Directive 95/46/EC is repealed with effe ct from 25 Ma y 2018. \\n2. Ref erences to the repealed Directive shall be constr ued as references to this Regulation. References to the W orking \\nP ar ty on the Prot ection of Individuals with regar d to the Processing of P ersonal Data established by Ar ticle 29 of \\nDirective 95/46/EC shall be constr ued as referen ces to the European Data Protection Board established by this \\nRegulation. \\nAr ticle 95 \\nRelationship with Directiv e 2002/58/EC \\nThis Regulation shall not im pose additional oblig ations on natural or leg al persons in relation to processing in \\nconnection with the pro vision of publicly available electronic communications ser vices in public communication \\nnetw orks in the U nion in relation to matt ers f or which the y are subject to specifi c oblig ations with the same objective \\nset out in Directive 2002/58/EC. \\n4.5.2016 L 119/86 Official Jour nal of the European Union EN'),\n",
       "  Document(metadata={'score': 1.3017139434814453}, page_content='with this Regulation, or , in the situation refe r red to in paragraph 3, pro vides appropr iat e safeguards, the Board shall \\nsubmit its opinion to the Commission. \\n9. The Commission ma y , by wa y of im plementing acts, decide that the appro ved code of conduct, amendment or \\nextensi on submitte d to it pursuant to paragraph 8 of this Ar ticle have general validity within the U nion. Those \\nim plementing acts shall be adopt ed in accordance with the examination procedure set out in Ar ticle 93(2). \\n4.5.2016 L 119/57 Official Jour nal of the European Union EN')),\n",
       " 'answer': 'Article 93 of the GDPR outlines the committee procedure, where the Commission is assisted by a committee as defined in Regulation (EU) No 182/2011.  Article 5 or Article 8 (in conjunction with Article 5) of that regulation applies depending on the specific reference.\\n'}"
      ]
     },
     "execution_count": 4,
     "metadata": {},
     "output_type": "execute_result"
    }
   ],
   "execution_count": 4
  }
 ],
 "metadata": {
  "kernelspec": {
   "display_name": "nlp_project_chatbot",
   "language": "python",
   "name": "python3"
  },
  "language_info": {
   "codemirror_mode": {
    "name": "ipython",
    "version": 3
   },
   "file_extension": ".py",
   "mimetype": "text/x-python",
   "name": "python",
   "nbconvert_exporter": "python",
   "pygments_lexer": "ipython3",
   "version": "3.10.16"
  }
 },
 "nbformat": 4,
 "nbformat_minor": 2
}
