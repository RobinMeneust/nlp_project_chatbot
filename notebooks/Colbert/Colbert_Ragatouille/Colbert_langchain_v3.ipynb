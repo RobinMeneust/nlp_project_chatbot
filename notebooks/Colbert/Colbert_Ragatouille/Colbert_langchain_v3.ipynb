{
  "cells": [
    {
      "cell_type": "markdown",
      "metadata": {
        "id": "8x8B4sVYu69L"
      },
      "source": [
        "## This code is functional on google collab. Otherwise, modify the paths"
      ]
    },
    {
      "cell_type": "markdown",
      "metadata": {},
      "source": [
        "### Import library"
      ]
    },
    {
      "cell_type": "code",
      "execution_count": 1,
      "metadata": {
        "colab": {
          "base_uri": "https://localhost:8080/"
        },
        "execution": {
          "iopub.execute_input": "2025-01-11T16:03:54.611310Z",
          "iopub.status.busy": "2025-01-11T16:03:54.610962Z",
          "iopub.status.idle": "2025-01-11T16:04:13.742797Z",
          "shell.execute_reply": "2025-01-11T16:04:13.741743Z",
          "shell.execute_reply.started": "2025-01-11T16:03:54.611277Z"
        },
        "id": "aBlPhGDCpj1g",
        "outputId": "1b80a2cf-988a-4b68-d83e-fcdaf9dbf1a2",
        "trusted": true
      },
      "outputs": [
        {
          "name": "stdout",
          "output_type": "stream",
          "text": [
            "Collecting ragatouille\n",
            "  Downloading ragatouille-0.0.8.post4-py3-none-any.whl.metadata (15 kB)\n",
            "Collecting colbert-ai==0.2.19 (from ragatouille)\n",
            "  Downloading colbert-ai-0.2.19.tar.gz (86 kB)\n",
            "\u001b[?25l     \u001b[90m━━━━━━━━━━━━━━━━━━━━━━━━━━━━━━━━━━━━━━━━\u001b[0m \u001b[32m0.0/86.7 kB\u001b[0m \u001b[31m?\u001b[0m eta \u001b[36m-:--:--\u001b[0m\r\u001b[2K     \u001b[90m━━━━━━━━━━━━━━━━━━━━━━━━━━━━━━━━━━━━━━━━\u001b[0m \u001b[32m86.7/86.7 kB\u001b[0m \u001b[31m3.5 MB/s\u001b[0m eta \u001b[36m0:00:00\u001b[0m\n",
            "\u001b[?25h  Preparing metadata (setup.py) ... \u001b[?25l\u001b[?25hdone\n",
            "Collecting faiss-cpu<2.0.0,>=1.7.4 (from ragatouille)\n",
            "  Downloading faiss_cpu-1.9.0.post1-cp310-cp310-manylinux_2_17_x86_64.manylinux2014_x86_64.whl.metadata (4.4 kB)\n",
            "Collecting fast-pytorch-kmeans==0.2.0.1 (from ragatouille)\n",
            "  Downloading fast_pytorch_kmeans-0.2.0.1-py3-none-any.whl.metadata (1.1 kB)\n",
            "Requirement already satisfied: langchain>=0.1.0 in /usr/local/lib/python3.10/dist-packages (from ragatouille) (0.3.14)\n",
            "Requirement already satisfied: langchain_core>=0.1.4 in /usr/local/lib/python3.10/dist-packages (from ragatouille) (0.3.29)\n",
            "Collecting llama-index>=0.7 (from ragatouille)\n",
            "  Downloading llama_index-0.12.10-py3-none-any.whl.metadata (11 kB)\n",
            "Collecting onnx<2.0.0,>=1.15.0 (from ragatouille)\n",
            "  Downloading onnx-1.17.0-cp310-cp310-manylinux_2_17_x86_64.manylinux2014_x86_64.whl.metadata (16 kB)\n",
            "Collecting sentence-transformers<3.0.0,>=2.2.2 (from ragatouille)\n",
            "  Downloading sentence_transformers-2.7.0-py3-none-any.whl.metadata (11 kB)\n",
            "Collecting srsly==2.4.8 (from ragatouille)\n",
            "  Downloading srsly-2.4.8-cp310-cp310-manylinux_2_17_x86_64.manylinux2014_x86_64.whl.metadata (20 kB)\n",
            "Requirement already satisfied: torch>=1.13 in /usr/local/lib/python3.10/dist-packages (from ragatouille) (2.5.1+cu121)\n",
            "Requirement already satisfied: transformers<5.0.0,>=4.36.2 in /usr/local/lib/python3.10/dist-packages (from ragatouille) (4.47.1)\n",
            "Collecting voyager<3.0.0,>=2.0.2 (from ragatouille)\n",
            "  Downloading voyager-2.1.0-cp310-cp310-manylinux_2_17_x86_64.manylinux2014_x86_64.whl.metadata (5.9 kB)\n",
            "Collecting bitarray (from colbert-ai==0.2.19->ragatouille)\n",
            "  Downloading bitarray-3.0.0-cp310-cp310-manylinux_2_17_x86_64.manylinux2014_x86_64.whl.metadata (32 kB)\n",
            "Collecting datasets (from colbert-ai==0.2.19->ragatouille)\n",
            "  Downloading datasets-3.2.0-py3-none-any.whl.metadata (20 kB)\n",
            "Requirement already satisfied: flask in /usr/local/lib/python3.10/dist-packages (from colbert-ai==0.2.19->ragatouille) (3.1.0)\n",
            "Collecting git-python (from colbert-ai==0.2.19->ragatouille)\n",
            "  Downloading git_python-1.0.3-py2.py3-none-any.whl.metadata (331 bytes)\n",
            "Collecting python-dotenv (from colbert-ai==0.2.19->ragatouille)\n",
            "  Downloading python_dotenv-1.0.1-py3-none-any.whl.metadata (23 kB)\n",
            "Collecting ninja (from colbert-ai==0.2.19->ragatouille)\n",
            "  Downloading ninja-1.11.1.3-py3-none-manylinux_2_12_x86_64.manylinux2010_x86_64.whl.metadata (5.3 kB)\n",
            "Requirement already satisfied: scipy in /usr/local/lib/python3.10/dist-packages (from colbert-ai==0.2.19->ragatouille) (1.13.1)\n",
            "Requirement already satisfied: tqdm in /usr/local/lib/python3.10/dist-packages (from colbert-ai==0.2.19->ragatouille) (4.67.1)\n",
            "Collecting ujson (from colbert-ai==0.2.19->ragatouille)\n",
            "  Downloading ujson-5.10.0-cp310-cp310-manylinux_2_17_x86_64.manylinux2014_x86_64.whl.metadata (9.3 kB)\n",
            "Requirement already satisfied: numpy in /usr/local/lib/python3.10/dist-packages (from fast-pytorch-kmeans==0.2.0.1->ragatouille) (1.26.4)\n",
            "Collecting pynvml (from fast-pytorch-kmeans==0.2.0.1->ragatouille)\n",
            "  Downloading pynvml-12.0.0-py3-none-any.whl.metadata (5.4 kB)\n",
            "Requirement already satisfied: catalogue<2.1.0,>=2.0.3 in /usr/local/lib/python3.10/dist-packages (from srsly==2.4.8->ragatouille) (2.0.10)\n",
            "Requirement already satisfied: packaging in /usr/local/lib/python3.10/dist-packages (from faiss-cpu<2.0.0,>=1.7.4->ragatouille) (24.2)\n",
            "Requirement already satisfied: PyYAML>=5.3 in /usr/local/lib/python3.10/dist-packages (from langchain>=0.1.0->ragatouille) (6.0.2)\n",
            "Requirement already satisfied: SQLAlchemy<3,>=1.4 in /usr/local/lib/python3.10/dist-packages (from langchain>=0.1.0->ragatouille) (2.0.36)\n",
            "Requirement already satisfied: aiohttp<4.0.0,>=3.8.3 in /usr/local/lib/python3.10/dist-packages (from langchain>=0.1.0->ragatouille) (3.11.11)\n",
            "Requirement already satisfied: async-timeout<5.0.0,>=4.0.0 in /usr/local/lib/python3.10/dist-packages (from langchain>=0.1.0->ragatouille) (4.0.3)\n",
            "Requirement already satisfied: langchain-text-splitters<0.4.0,>=0.3.3 in /usr/local/lib/python3.10/dist-packages (from langchain>=0.1.0->ragatouille) (0.3.5)\n",
            "Requirement already satisfied: langsmith<0.3,>=0.1.17 in /usr/local/lib/python3.10/dist-packages (from langchain>=0.1.0->ragatouille) (0.2.10)\n",
            "Requirement already satisfied: pydantic<3.0.0,>=2.7.4 in /usr/local/lib/python3.10/dist-packages (from langchain>=0.1.0->ragatouille) (2.10.4)\n",
            "Requirement already satisfied: requests<3,>=2 in /usr/local/lib/python3.10/dist-packages (from langchain>=0.1.0->ragatouille) (2.32.3)\n",
            "Requirement already satisfied: tenacity!=8.4.0,<10,>=8.1.0 in /usr/local/lib/python3.10/dist-packages (from langchain>=0.1.0->ragatouille) (9.0.0)\n",
            "Requirement already satisfied: jsonpatch<2.0,>=1.33 in /usr/local/lib/python3.10/dist-packages (from langchain_core>=0.1.4->ragatouille) (1.33)\n",
            "Requirement already satisfied: typing-extensions>=4.7 in /usr/local/lib/python3.10/dist-packages (from langchain_core>=0.1.4->ragatouille) (4.12.2)\n",
            "Collecting llama-index-agent-openai<0.5.0,>=0.4.0 (from llama-index>=0.7->ragatouille)\n",
            "  Downloading llama_index_agent_openai-0.4.1-py3-none-any.whl.metadata (726 bytes)\n",
            "Collecting llama-index-cli<0.5.0,>=0.4.0 (from llama-index>=0.7->ragatouille)\n",
            "  Downloading llama_index_cli-0.4.0-py3-none-any.whl.metadata (1.5 kB)\n",
            "Collecting llama-index-core<0.13.0,>=0.12.10 (from llama-index>=0.7->ragatouille)\n",
            "  Downloading llama_index_core-0.12.10.post1-py3-none-any.whl.metadata (2.5 kB)\n",
            "Collecting llama-index-embeddings-openai<0.4.0,>=0.3.0 (from llama-index>=0.7->ragatouille)\n",
            "  Downloading llama_index_embeddings_openai-0.3.1-py3-none-any.whl.metadata (684 bytes)\n",
            "Collecting llama-index-indices-managed-llama-cloud>=0.4.0 (from llama-index>=0.7->ragatouille)\n",
            "  Downloading llama_index_indices_managed_llama_cloud-0.6.3-py3-none-any.whl.metadata (3.8 kB)\n",
            "Collecting llama-index-llms-openai<0.4.0,>=0.3.0 (from llama-index>=0.7->ragatouille)\n",
            "  Downloading llama_index_llms_openai-0.3.13-py3-none-any.whl.metadata (3.3 kB)\n",
            "Collecting llama-index-multi-modal-llms-openai<0.5.0,>=0.4.0 (from llama-index>=0.7->ragatouille)\n",
            "  Downloading llama_index_multi_modal_llms_openai-0.4.2-py3-none-any.whl.metadata (726 bytes)\n",
            "Collecting llama-index-program-openai<0.4.0,>=0.3.0 (from llama-index>=0.7->ragatouille)\n",
            "  Downloading llama_index_program_openai-0.3.1-py3-none-any.whl.metadata (764 bytes)\n",
            "Collecting llama-index-question-gen-openai<0.4.0,>=0.3.0 (from llama-index>=0.7->ragatouille)\n",
            "  Downloading llama_index_question_gen_openai-0.3.0-py3-none-any.whl.metadata (783 bytes)\n",
            "Collecting llama-index-readers-file<0.5.0,>=0.4.0 (from llama-index>=0.7->ragatouille)\n",
            "  Downloading llama_index_readers_file-0.4.3-py3-none-any.whl.metadata (5.4 kB)\n",
            "Collecting llama-index-readers-llama-parse>=0.4.0 (from llama-index>=0.7->ragatouille)\n",
            "  Downloading llama_index_readers_llama_parse-0.4.0-py3-none-any.whl.metadata (3.6 kB)\n",
            "Requirement already satisfied: nltk>3.8.1 in /usr/local/lib/python3.10/dist-packages (from llama-index>=0.7->ragatouille) (3.9.1)\n",
            "Requirement already satisfied: protobuf>=3.20.2 in /usr/local/lib/python3.10/dist-packages (from onnx<2.0.0,>=1.15.0->ragatouille) (4.25.5)\n",
            "Requirement already satisfied: scikit-learn in /usr/local/lib/python3.10/dist-packages (from sentence-transformers<3.0.0,>=2.2.2->ragatouille) (1.6.0)\n",
            "Requirement already satisfied: huggingface-hub>=0.15.1 in /usr/local/lib/python3.10/dist-packages (from sentence-transformers<3.0.0,>=2.2.2->ragatouille) (0.27.1)\n",
            "Requirement already satisfied: Pillow in /usr/local/lib/python3.10/dist-packages (from sentence-transformers<3.0.0,>=2.2.2->ragatouille) (11.1.0)\n",
            "Requirement already satisfied: filelock in /usr/local/lib/python3.10/dist-packages (from torch>=1.13->ragatouille) (3.16.1)\n",
            "Requirement already satisfied: networkx in /usr/local/lib/python3.10/dist-packages (from torch>=1.13->ragatouille) (3.4.2)\n",
            "Requirement already satisfied: jinja2 in /usr/local/lib/python3.10/dist-packages (from torch>=1.13->ragatouille) (3.1.5)\n",
            "Requirement already satisfied: fsspec in /usr/local/lib/python3.10/dist-packages (from torch>=1.13->ragatouille) (2024.10.0)\n",
            "Requirement already satisfied: sympy==1.13.1 in /usr/local/lib/python3.10/dist-packages (from torch>=1.13->ragatouille) (1.13.1)\n",
            "Requirement already satisfied: mpmath<1.4,>=1.1.0 in /usr/local/lib/python3.10/dist-packages (from sympy==1.13.1->torch>=1.13->ragatouille) (1.3.0)\n",
            "Requirement already satisfied: regex!=2019.12.17 in /usr/local/lib/python3.10/dist-packages (from transformers<5.0.0,>=4.36.2->ragatouille) (2024.11.6)\n",
            "Requirement already satisfied: tokenizers<0.22,>=0.21 in /usr/local/lib/python3.10/dist-packages (from transformers<5.0.0,>=4.36.2->ragatouille) (0.21.0)\n",
            "Requirement already satisfied: safetensors>=0.4.1 in /usr/local/lib/python3.10/dist-packages (from transformers<5.0.0,>=4.36.2->ragatouille) (0.5.1)\n",
            "Requirement already satisfied: aiohappyeyeballs>=2.3.0 in /usr/local/lib/python3.10/dist-packages (from aiohttp<4.0.0,>=3.8.3->langchain>=0.1.0->ragatouille) (2.4.4)\n",
            "Requirement already satisfied: aiosignal>=1.1.2 in /usr/local/lib/python3.10/dist-packages (from aiohttp<4.0.0,>=3.8.3->langchain>=0.1.0->ragatouille) (1.3.2)\n",
            "Requirement already satisfied: attrs>=17.3.0 in /usr/local/lib/python3.10/dist-packages (from aiohttp<4.0.0,>=3.8.3->langchain>=0.1.0->ragatouille) (24.3.0)\n",
            "Requirement already satisfied: frozenlist>=1.1.1 in /usr/local/lib/python3.10/dist-packages (from aiohttp<4.0.0,>=3.8.3->langchain>=0.1.0->ragatouille) (1.5.0)\n",
            "Requirement already satisfied: multidict<7.0,>=4.5 in /usr/local/lib/python3.10/dist-packages (from aiohttp<4.0.0,>=3.8.3->langchain>=0.1.0->ragatouille) (6.1.0)\n",
            "Requirement already satisfied: propcache>=0.2.0 in /usr/local/lib/python3.10/dist-packages (from aiohttp<4.0.0,>=3.8.3->langchain>=0.1.0->ragatouille) (0.2.1)\n",
            "Requirement already satisfied: yarl<2.0,>=1.17.0 in /usr/local/lib/python3.10/dist-packages (from aiohttp<4.0.0,>=3.8.3->langchain>=0.1.0->ragatouille) (1.18.3)\n",
            "Requirement already satisfied: jsonpointer>=1.9 in /usr/local/lib/python3.10/dist-packages (from jsonpatch<2.0,>=1.33->langchain_core>=0.1.4->ragatouille) (3.0.0)\n",
            "Requirement already satisfied: httpx<1,>=0.23.0 in /usr/local/lib/python3.10/dist-packages (from langsmith<0.3,>=0.1.17->langchain>=0.1.0->ragatouille) (0.28.1)\n",
            "Requirement already satisfied: orjson<4.0.0,>=3.9.14 in /usr/local/lib/python3.10/dist-packages (from langsmith<0.3,>=0.1.17->langchain>=0.1.0->ragatouille) (3.10.13)\n",
            "Requirement already satisfied: requests-toolbelt<2.0.0,>=1.0.0 in /usr/local/lib/python3.10/dist-packages (from langsmith<0.3,>=0.1.17->langchain>=0.1.0->ragatouille) (1.0.0)\n",
            "Requirement already satisfied: openai>=1.14.0 in /usr/local/lib/python3.10/dist-packages (from llama-index-agent-openai<0.5.0,>=0.4.0->llama-index>=0.7->ragatouille) (1.59.4)\n",
            "Collecting dataclasses-json (from llama-index-core<0.13.0,>=0.12.10->llama-index>=0.7->ragatouille)\n",
            "  Downloading dataclasses_json-0.6.7-py3-none-any.whl.metadata (25 kB)\n",
            "Requirement already satisfied: deprecated>=1.2.9.3 in /usr/local/lib/python3.10/dist-packages (from llama-index-core<0.13.0,>=0.12.10->llama-index>=0.7->ragatouille) (1.2.15)\n",
            "Collecting dirtyjson<2.0.0,>=1.0.8 (from llama-index-core<0.13.0,>=0.12.10->llama-index>=0.7->ragatouille)\n",
            "  Downloading dirtyjson-1.0.8-py3-none-any.whl.metadata (11 kB)\n",
            "Collecting filetype<2.0.0,>=1.2.0 (from llama-index-core<0.13.0,>=0.12.10->llama-index>=0.7->ragatouille)\n",
            "  Downloading filetype-1.2.0-py2.py3-none-any.whl.metadata (6.5 kB)\n",
            "Requirement already satisfied: nest-asyncio<2.0.0,>=1.5.8 in /usr/local/lib/python3.10/dist-packages (from llama-index-core<0.13.0,>=0.12.10->llama-index>=0.7->ragatouille) (1.6.0)\n",
            "Collecting tiktoken>=0.3.3 (from llama-index-core<0.13.0,>=0.12.10->llama-index>=0.7->ragatouille)\n",
            "  Downloading tiktoken-0.8.0-cp310-cp310-manylinux_2_17_x86_64.manylinux2014_x86_64.whl.metadata (6.6 kB)\n",
            "Collecting typing-inspect>=0.8.0 (from llama-index-core<0.13.0,>=0.12.10->llama-index>=0.7->ragatouille)\n",
            "  Downloading typing_inspect-0.9.0-py3-none-any.whl.metadata (1.5 kB)\n",
            "Requirement already satisfied: wrapt in /usr/local/lib/python3.10/dist-packages (from llama-index-core<0.13.0,>=0.12.10->llama-index>=0.7->ragatouille) (1.17.0)\n",
            "Collecting llama-cloud>=0.1.5 (from llama-index-indices-managed-llama-cloud>=0.4.0->llama-index>=0.7->ragatouille)\n",
            "  Downloading llama_cloud-0.1.8-py3-none-any.whl.metadata (860 bytes)\n",
            "Requirement already satisfied: beautifulsoup4<5.0.0,>=4.12.3 in /usr/local/lib/python3.10/dist-packages (from llama-index-readers-file<0.5.0,>=0.4.0->llama-index>=0.7->ragatouille) (4.12.3)\n",
            "Requirement already satisfied: pandas in /usr/local/lib/python3.10/dist-packages (from llama-index-readers-file<0.5.0,>=0.4.0->llama-index>=0.7->ragatouille) (2.2.2)\n",
            "Collecting pypdf<6.0.0,>=5.1.0 (from llama-index-readers-file<0.5.0,>=0.4.0->llama-index>=0.7->ragatouille)\n",
            "  Downloading pypdf-5.1.0-py3-none-any.whl.metadata (7.2 kB)\n",
            "Collecting striprtf<0.0.27,>=0.0.26 (from llama-index-readers-file<0.5.0,>=0.4.0->llama-index>=0.7->ragatouille)\n",
            "  Downloading striprtf-0.0.26-py3-none-any.whl.metadata (2.1 kB)\n",
            "Collecting llama-parse>=0.5.0 (from llama-index-readers-llama-parse>=0.4.0->llama-index>=0.7->ragatouille)\n",
            "  Downloading llama_parse-0.5.19-py3-none-any.whl.metadata (7.0 kB)\n",
            "Requirement already satisfied: click in /usr/local/lib/python3.10/dist-packages (from nltk>3.8.1->llama-index>=0.7->ragatouille) (8.1.8)\n",
            "Requirement already satisfied: joblib in /usr/local/lib/python3.10/dist-packages (from nltk>3.8.1->llama-index>=0.7->ragatouille) (1.4.2)\n",
            "Requirement already satisfied: annotated-types>=0.6.0 in /usr/local/lib/python3.10/dist-packages (from pydantic<3.0.0,>=2.7.4->langchain>=0.1.0->ragatouille) (0.7.0)\n",
            "Requirement already satisfied: pydantic-core==2.27.2 in /usr/local/lib/python3.10/dist-packages (from pydantic<3.0.0,>=2.7.4->langchain>=0.1.0->ragatouille) (2.27.2)\n",
            "Requirement already satisfied: charset-normalizer<4,>=2 in /usr/local/lib/python3.10/dist-packages (from requests<3,>=2->langchain>=0.1.0->ragatouille) (3.4.1)\n",
            "Requirement already satisfied: idna<4,>=2.5 in /usr/local/lib/python3.10/dist-packages (from requests<3,>=2->langchain>=0.1.0->ragatouille) (3.10)\n",
            "Requirement already satisfied: urllib3<3,>=1.21.1 in /usr/local/lib/python3.10/dist-packages (from requests<3,>=2->langchain>=0.1.0->ragatouille) (2.3.0)\n",
            "Requirement already satisfied: certifi>=2017.4.17 in /usr/local/lib/python3.10/dist-packages (from requests<3,>=2->langchain>=0.1.0->ragatouille) (2024.12.14)\n",
            "Requirement already satisfied: greenlet!=0.4.17 in /usr/local/lib/python3.10/dist-packages (from SQLAlchemy<3,>=1.4->langchain>=0.1.0->ragatouille) (3.1.1)\n",
            "Requirement already satisfied: pyarrow>=15.0.0 in /usr/local/lib/python3.10/dist-packages (from datasets->colbert-ai==0.2.19->ragatouille) (17.0.0)\n",
            "Collecting dill<0.3.9,>=0.3.0 (from datasets->colbert-ai==0.2.19->ragatouille)\n",
            "  Downloading dill-0.3.8-py3-none-any.whl.metadata (10 kB)\n",
            "Collecting xxhash (from datasets->colbert-ai==0.2.19->ragatouille)\n",
            "  Downloading xxhash-3.5.0-cp310-cp310-manylinux_2_17_x86_64.manylinux2014_x86_64.whl.metadata (12 kB)\n",
            "Collecting multiprocess<0.70.17 (from datasets->colbert-ai==0.2.19->ragatouille)\n",
            "  Downloading multiprocess-0.70.16-py310-none-any.whl.metadata (7.2 kB)\n",
            "Collecting fsspec (from torch>=1.13->ragatouille)\n",
            "  Downloading fsspec-2024.9.0-py3-none-any.whl.metadata (11 kB)\n",
            "Requirement already satisfied: Werkzeug>=3.1 in /usr/local/lib/python3.10/dist-packages (from flask->colbert-ai==0.2.19->ragatouille) (3.1.3)\n",
            "Requirement already satisfied: itsdangerous>=2.2 in /usr/local/lib/python3.10/dist-packages (from flask->colbert-ai==0.2.19->ragatouille) (2.2.0)\n",
            "Requirement already satisfied: blinker>=1.9 in /usr/local/lib/python3.10/dist-packages (from flask->colbert-ai==0.2.19->ragatouille) (1.9.0)\n",
            "Requirement already satisfied: MarkupSafe>=2.0 in /usr/local/lib/python3.10/dist-packages (from jinja2->torch>=1.13->ragatouille) (3.0.2)\n",
            "Requirement already satisfied: gitpython in /usr/local/lib/python3.10/dist-packages (from git-python->colbert-ai==0.2.19->ragatouille) (3.1.44)\n",
            "Collecting nvidia-ml-py<13.0.0a0,>=12.0.0 (from pynvml->fast-pytorch-kmeans==0.2.0.1->ragatouille)\n",
            "  Downloading nvidia_ml_py-12.560.30-py3-none-any.whl.metadata (8.6 kB)\n",
            "Requirement already satisfied: threadpoolctl>=3.1.0 in /usr/local/lib/python3.10/dist-packages (from scikit-learn->sentence-transformers<3.0.0,>=2.2.2->ragatouille) (3.5.0)\n",
            "Requirement already satisfied: soupsieve>1.2 in /usr/local/lib/python3.10/dist-packages (from beautifulsoup4<5.0.0,>=4.12.3->llama-index-readers-file<0.5.0,>=0.4.0->llama-index>=0.7->ragatouille) (2.6)\n",
            "Requirement already satisfied: anyio in /usr/local/lib/python3.10/dist-packages (from httpx<1,>=0.23.0->langsmith<0.3,>=0.1.17->langchain>=0.1.0->ragatouille) (3.7.1)\n",
            "Requirement already satisfied: httpcore==1.* in /usr/local/lib/python3.10/dist-packages (from httpx<1,>=0.23.0->langsmith<0.3,>=0.1.17->langchain>=0.1.0->ragatouille) (1.0.7)\n",
            "Requirement already satisfied: h11<0.15,>=0.13 in /usr/local/lib/python3.10/dist-packages (from httpcore==1.*->httpx<1,>=0.23.0->langsmith<0.3,>=0.1.17->langchain>=0.1.0->ragatouille) (0.14.0)\n",
            "Requirement already satisfied: distro<2,>=1.7.0 in /usr/local/lib/python3.10/dist-packages (from openai>=1.14.0->llama-index-agent-openai<0.5.0,>=0.4.0->llama-index>=0.7->ragatouille) (1.9.0)\n",
            "Requirement already satisfied: jiter<1,>=0.4.0 in /usr/local/lib/python3.10/dist-packages (from openai>=1.14.0->llama-index-agent-openai<0.5.0,>=0.4.0->llama-index>=0.7->ragatouille) (0.8.2)\n",
            "Requirement already satisfied: sniffio in /usr/local/lib/python3.10/dist-packages (from openai>=1.14.0->llama-index-agent-openai<0.5.0,>=0.4.0->llama-index>=0.7->ragatouille) (1.3.1)\n",
            "Collecting mypy-extensions>=0.3.0 (from typing-inspect>=0.8.0->llama-index-core<0.13.0,>=0.12.10->llama-index>=0.7->ragatouille)\n",
            "  Downloading mypy_extensions-1.0.0-py3-none-any.whl.metadata (1.1 kB)\n",
            "Collecting marshmallow<4.0.0,>=3.18.0 (from dataclasses-json->llama-index-core<0.13.0,>=0.12.10->llama-index>=0.7->ragatouille)\n",
            "  Downloading marshmallow-3.25.1-py3-none-any.whl.metadata (7.3 kB)\n",
            "Requirement already satisfied: gitdb<5,>=4.0.1 in /usr/local/lib/python3.10/dist-packages (from gitpython->git-python->colbert-ai==0.2.19->ragatouille) (4.0.12)\n",
            "Requirement already satisfied: python-dateutil>=2.8.2 in /usr/local/lib/python3.10/dist-packages (from pandas->llama-index-readers-file<0.5.0,>=0.4.0->llama-index>=0.7->ragatouille) (2.8.2)\n",
            "Requirement already satisfied: pytz>=2020.1 in /usr/local/lib/python3.10/dist-packages (from pandas->llama-index-readers-file<0.5.0,>=0.4.0->llama-index>=0.7->ragatouille) (2024.2)\n",
            "Requirement already satisfied: tzdata>=2022.7 in /usr/local/lib/python3.10/dist-packages (from pandas->llama-index-readers-file<0.5.0,>=0.4.0->llama-index>=0.7->ragatouille) (2024.2)\n",
            "Requirement already satisfied: exceptiongroup in /usr/local/lib/python3.10/dist-packages (from anyio->httpx<1,>=0.23.0->langsmith<0.3,>=0.1.17->langchain>=0.1.0->ragatouille) (1.2.2)\n",
            "Requirement already satisfied: smmap<6,>=3.0.1 in /usr/local/lib/python3.10/dist-packages (from gitdb<5,>=4.0.1->gitpython->git-python->colbert-ai==0.2.19->ragatouille) (5.0.2)\n",
            "Requirement already satisfied: six>=1.5 in /usr/local/lib/python3.10/dist-packages (from python-dateutil>=2.8.2->pandas->llama-index-readers-file<0.5.0,>=0.4.0->llama-index>=0.7->ragatouille) (1.17.0)\n",
            "Downloading ragatouille-0.0.8.post4-py3-none-any.whl (41 kB)\n",
            "\u001b[2K   \u001b[90m━━━━━━━━━━━━━━━━━━━━━━━━━━━━━━━━━━━━━━━━\u001b[0m \u001b[32m41.7/41.7 kB\u001b[0m \u001b[31m2.8 MB/s\u001b[0m eta \u001b[36m0:00:00\u001b[0m\n",
            "\u001b[?25hDownloading fast_pytorch_kmeans-0.2.0.1-py3-none-any.whl (8.8 kB)\n",
            "Downloading srsly-2.4.8-cp310-cp310-manylinux_2_17_x86_64.manylinux2014_x86_64.whl (493 kB)\n",
            "\u001b[2K   \u001b[90m━━━━━━━━━━━━━━━━━━━━━━━━━━━━━━━━━━━━━━━━\u001b[0m \u001b[32m493.0/493.0 kB\u001b[0m \u001b[31m15.9 MB/s\u001b[0m eta \u001b[36m0:00:00\u001b[0m\n",
            "\u001b[?25hDownloading faiss_cpu-1.9.0.post1-cp310-cp310-manylinux_2_17_x86_64.manylinux2014_x86_64.whl (27.5 MB)\n",
            "\u001b[2K   \u001b[90m━━━━━━━━━━━━━━━━━━━━━━━━━━━━━━━━━━━━━━━━\u001b[0m \u001b[32m27.5/27.5 MB\u001b[0m \u001b[31m13.0 MB/s\u001b[0m eta \u001b[36m0:00:00\u001b[0m\n",
            "\u001b[?25hDownloading llama_index-0.12.10-py3-none-any.whl (6.8 kB)\n",
            "Downloading onnx-1.17.0-cp310-cp310-manylinux_2_17_x86_64.manylinux2014_x86_64.whl (16.0 MB)\n",
            "\u001b[2K   \u001b[90m━━━━━━━━━━━━━━━━━━━━━━━━━━━━━━━━━━━━━━━━\u001b[0m \u001b[32m16.0/16.0 MB\u001b[0m \u001b[31m67.0 MB/s\u001b[0m eta \u001b[36m0:00:00\u001b[0m\n",
            "\u001b[?25hDownloading sentence_transformers-2.7.0-py3-none-any.whl (171 kB)\n",
            "\u001b[2K   \u001b[90m━━━━━━━━━━━━━━━━━━━━━━━━━━━━━━━━━━━━━━━━\u001b[0m \u001b[32m171.5/171.5 kB\u001b[0m \u001b[31m12.6 MB/s\u001b[0m eta \u001b[36m0:00:00\u001b[0m\n",
            "\u001b[?25hDownloading voyager-2.1.0-cp310-cp310-manylinux_2_17_x86_64.manylinux2014_x86_64.whl (4.4 MB)\n",
            "\u001b[2K   \u001b[90m━━━━━━━━━━━━━━━━━━━━━━━━━━━━━━━━━━━━━━━━\u001b[0m \u001b[32m4.4/4.4 MB\u001b[0m \u001b[31m61.7 MB/s\u001b[0m eta \u001b[36m0:00:00\u001b[0m\n",
            "\u001b[?25hDownloading llama_index_agent_openai-0.4.1-py3-none-any.whl (13 kB)\n",
            "Downloading llama_index_cli-0.4.0-py3-none-any.whl (27 kB)\n",
            "Downloading llama_index_core-0.12.10.post1-py3-none-any.whl (1.6 MB)\n",
            "\u001b[2K   \u001b[90m━━━━━━━━━━━━━━━━━━━━━━━━━━━━━━━━━━━━━━━━\u001b[0m \u001b[32m1.6/1.6 MB\u001b[0m \u001b[31m56.3 MB/s\u001b[0m eta \u001b[36m0:00:00\u001b[0m\n",
            "\u001b[?25hDownloading llama_index_embeddings_openai-0.3.1-py3-none-any.whl (6.2 kB)\n",
            "Downloading llama_index_indices_managed_llama_cloud-0.6.3-py3-none-any.whl (11 kB)\n",
            "Downloading llama_index_llms_openai-0.3.13-py3-none-any.whl (14 kB)\n",
            "Downloading llama_index_multi_modal_llms_openai-0.4.2-py3-none-any.whl (5.9 kB)\n",
            "Downloading llama_index_program_openai-0.3.1-py3-none-any.whl (5.3 kB)\n",
            "Downloading llama_index_question_gen_openai-0.3.0-py3-none-any.whl (2.9 kB)\n",
            "Downloading llama_index_readers_file-0.4.3-py3-none-any.whl (38 kB)\n",
            "Downloading llama_index_readers_llama_parse-0.4.0-py3-none-any.whl (2.5 kB)\n",
            "Downloading bitarray-3.0.0-cp310-cp310-manylinux_2_17_x86_64.manylinux2014_x86_64.whl (278 kB)\n",
            "\u001b[2K   \u001b[90m━━━━━━━━━━━━━━━━━━━━━━━━━━━━━━━━━━━━━━━━\u001b[0m \u001b[32m278.3/278.3 kB\u001b[0m \u001b[31m19.8 MB/s\u001b[0m eta \u001b[36m0:00:00\u001b[0m\n",
            "\u001b[?25hDownloading datasets-3.2.0-py3-none-any.whl (480 kB)\n",
            "\u001b[2K   \u001b[90m━━━━━━━━━━━━━━━━━━━━━━━━━━━━━━━━━━━━━━━━\u001b[0m \u001b[32m480.6/480.6 kB\u001b[0m \u001b[31m29.3 MB/s\u001b[0m eta \u001b[36m0:00:00\u001b[0m\n",
            "\u001b[?25hDownloading fsspec-2024.9.0-py3-none-any.whl (179 kB)\n",
            "\u001b[2K   \u001b[90m━━━━━━━━━━━━━━━━━━━━━━━━━━━━━━━━━━━━━━━━\u001b[0m \u001b[32m179.3/179.3 kB\u001b[0m \u001b[31m14.8 MB/s\u001b[0m eta \u001b[36m0:00:00\u001b[0m\n",
            "\u001b[?25hDownloading git_python-1.0.3-py2.py3-none-any.whl (1.9 kB)\n",
            "Downloading ninja-1.11.1.3-py3-none-manylinux_2_12_x86_64.manylinux2010_x86_64.whl (422 kB)\n",
            "\u001b[2K   \u001b[90m━━━━━━━━━━━━━━━━━━━━━━━━━━━━━━━━━━━━━━━━\u001b[0m \u001b[32m422.9/422.9 kB\u001b[0m \u001b[31m26.2 MB/s\u001b[0m eta \u001b[36m0:00:00\u001b[0m\n",
            "\u001b[?25hDownloading pynvml-12.0.0-py3-none-any.whl (26 kB)\n",
            "Downloading python_dotenv-1.0.1-py3-none-any.whl (19 kB)\n",
            "Downloading ujson-5.10.0-cp310-cp310-manylinux_2_17_x86_64.manylinux2014_x86_64.whl (53 kB)\n",
            "\u001b[2K   \u001b[90m━━━━━━━━━━━━━━━━━━━━━━━━━━━━━━━━━━━━━━━━\u001b[0m \u001b[32m53.6/53.6 kB\u001b[0m \u001b[31m4.3 MB/s\u001b[0m eta \u001b[36m0:00:00\u001b[0m\n",
            "\u001b[?25hDownloading dill-0.3.8-py3-none-any.whl (116 kB)\n",
            "\u001b[2K   \u001b[90m━━━━━━━━━━━━━━━━━━━━━━━━━━━━━━━━━━━━━━━━\u001b[0m \u001b[32m116.3/116.3 kB\u001b[0m \u001b[31m8.8 MB/s\u001b[0m eta \u001b[36m0:00:00\u001b[0m\n",
            "\u001b[?25hDownloading dirtyjson-1.0.8-py3-none-any.whl (25 kB)\n",
            "Downloading filetype-1.2.0-py2.py3-none-any.whl (19 kB)\n",
            "Downloading llama_cloud-0.1.8-py3-none-any.whl (247 kB)\n",
            "\u001b[2K   \u001b[90m━━━━━━━━━━━━━━━━━━━━━━━━━━━━━━━━━━━━━━━━\u001b[0m \u001b[32m247.1/247.1 kB\u001b[0m \u001b[31m19.4 MB/s\u001b[0m eta \u001b[36m0:00:00\u001b[0m\n",
            "\u001b[?25hDownloading llama_parse-0.5.19-py3-none-any.whl (15 kB)\n",
            "Downloading multiprocess-0.70.16-py310-none-any.whl (134 kB)\n",
            "\u001b[2K   \u001b[90m━━━━━━━━━━━━━━━━━━━━━━━━━━━━━━━━━━━━━━━━\u001b[0m \u001b[32m134.8/134.8 kB\u001b[0m \u001b[31m12.2 MB/s\u001b[0m eta \u001b[36m0:00:00\u001b[0m\n",
            "\u001b[?25hDownloading nvidia_ml_py-12.560.30-py3-none-any.whl (40 kB)\n",
            "\u001b[2K   \u001b[90m━━━━━━━━━━━━━━━━━━━━━━━━━━━━━━━━━━━━━━━━\u001b[0m \u001b[32m40.5/40.5 kB\u001b[0m \u001b[31m3.6 MB/s\u001b[0m eta \u001b[36m0:00:00\u001b[0m\n",
            "\u001b[?25hDownloading pypdf-5.1.0-py3-none-any.whl (297 kB)\n",
            "\u001b[2K   \u001b[90m━━━━━━━━━━━━━━━━━━━━━━━━━━━━━━━━━━━━━━━━\u001b[0m \u001b[32m298.0/298.0 kB\u001b[0m \u001b[31m19.8 MB/s\u001b[0m eta \u001b[36m0:00:00\u001b[0m\n",
            "\u001b[?25hDownloading striprtf-0.0.26-py3-none-any.whl (6.9 kB)\n",
            "Downloading tiktoken-0.8.0-cp310-cp310-manylinux_2_17_x86_64.manylinux2014_x86_64.whl (1.2 MB)\n",
            "\u001b[2K   \u001b[90m━━━━━━━━━━━━━━━━━━━━━━━━━━━━━━━━━━━━━━━━\u001b[0m \u001b[32m1.2/1.2 MB\u001b[0m \u001b[31m40.8 MB/s\u001b[0m eta \u001b[36m0:00:00\u001b[0m\n",
            "\u001b[?25hDownloading typing_inspect-0.9.0-py3-none-any.whl (8.8 kB)\n",
            "Downloading dataclasses_json-0.6.7-py3-none-any.whl (28 kB)\n",
            "Downloading xxhash-3.5.0-cp310-cp310-manylinux_2_17_x86_64.manylinux2014_x86_64.whl (194 kB)\n",
            "\u001b[2K   \u001b[90m━━━━━━━━━━━━━━━━━━━━━━━━━━━━━━━━━━━━━━━━\u001b[0m \u001b[32m194.1/194.1 kB\u001b[0m \u001b[31m13.7 MB/s\u001b[0m eta \u001b[36m0:00:00\u001b[0m\n",
            "\u001b[?25hDownloading marshmallow-3.25.1-py3-none-any.whl (49 kB)\n",
            "\u001b[2K   \u001b[90m━━━━━━━━━━━━━━━━━━━━━━━━━━━━━━━━━━━━━━━━\u001b[0m \u001b[32m49.6/49.6 kB\u001b[0m \u001b[31m4.2 MB/s\u001b[0m eta \u001b[36m0:00:00\u001b[0m\n",
            "\u001b[?25hDownloading mypy_extensions-1.0.0-py3-none-any.whl (4.7 kB)\n",
            "Building wheels for collected packages: colbert-ai\n",
            "  Building wheel for colbert-ai (setup.py) ... \u001b[?25l\u001b[?25hdone\n",
            "  Created wheel for colbert-ai: filename=colbert_ai-0.2.19-py3-none-any.whl size=114759 sha256=10f3bc12a91d7ccf12cf09925616acd47828b6efb897c2c09d0b55e4555d89b6\n",
            "  Stored in directory: /root/.cache/pip/wheels/90/b9/63/d4fc276c73c42ef7fc1065a26cf87e5a1cf56ef6498cbfbe5d\n",
            "Successfully built colbert-ai\n",
            "Installing collected packages: striprtf, nvidia-ml-py, filetype, dirtyjson, bitarray, xxhash, voyager, ujson, srsly, python-dotenv, pypdf, pynvml, onnx, ninja, mypy-extensions, marshmallow, fsspec, faiss-cpu, dill, typing-inspect, tiktoken, multiprocess, llama-cloud, git-python, fast-pytorch-kmeans, dataclasses-json, llama-index-core, sentence-transformers, llama-parse, llama-index-readers-file, llama-index-llms-openai, llama-index-indices-managed-llama-cloud, llama-index-embeddings-openai, datasets, llama-index-readers-llama-parse, llama-index-multi-modal-llms-openai, llama-index-cli, llama-index-agent-openai, colbert-ai, llama-index-program-openai, llama-index-question-gen-openai, llama-index, ragatouille\n",
            "  Attempting uninstall: srsly\n",
            "    Found existing installation: srsly 2.5.0\n",
            "    Uninstalling srsly-2.5.0:\n",
            "      Successfully uninstalled srsly-2.5.0\n",
            "  Attempting uninstall: fsspec\n",
            "    Found existing installation: fsspec 2024.10.0\n",
            "    Uninstalling fsspec-2024.10.0:\n",
            "      Successfully uninstalled fsspec-2024.10.0\n",
            "  Attempting uninstall: sentence-transformers\n",
            "    Found existing installation: sentence-transformers 3.3.1\n",
            "    Uninstalling sentence-transformers-3.3.1:\n",
            "      Successfully uninstalled sentence-transformers-3.3.1\n",
            "\u001b[31mERROR: pip's dependency resolver does not currently take into account all the packages that are installed. This behaviour is the source of the following dependency conflicts.\n",
            "gcsfs 2024.10.0 requires fsspec==2024.10.0, but you have fsspec 2024.9.0 which is incompatible.\u001b[0m\u001b[31m\n",
            "\u001b[0mSuccessfully installed bitarray-3.0.0 colbert-ai-0.2.19 dataclasses-json-0.6.7 datasets-3.2.0 dill-0.3.8 dirtyjson-1.0.8 faiss-cpu-1.9.0.post1 fast-pytorch-kmeans-0.2.0.1 filetype-1.2.0 fsspec-2024.9.0 git-python-1.0.3 llama-cloud-0.1.8 llama-index-0.12.10 llama-index-agent-openai-0.4.1 llama-index-cli-0.4.0 llama-index-core-0.12.10.post1 llama-index-embeddings-openai-0.3.1 llama-index-indices-managed-llama-cloud-0.6.3 llama-index-llms-openai-0.3.13 llama-index-multi-modal-llms-openai-0.4.2 llama-index-program-openai-0.3.1 llama-index-question-gen-openai-0.3.0 llama-index-readers-file-0.4.3 llama-index-readers-llama-parse-0.4.0 llama-parse-0.5.19 marshmallow-3.25.1 multiprocess-0.70.16 mypy-extensions-1.0.0 ninja-1.11.1.3 nvidia-ml-py-12.560.30 onnx-1.17.0 pynvml-12.0.0 pypdf-5.1.0 python-dotenv-1.0.1 ragatouille-0.0.8.post4 sentence-transformers-2.7.0 srsly-2.4.8 striprtf-0.0.26 tiktoken-0.8.0 typing-inspect-0.9.0 ujson-5.10.0 voyager-2.1.0 xxhash-3.5.0\n"
          ]
        }
      ],
      "source": [
        "!pip install -U ragatouille"
      ]
    },
    {
      "cell_type": "markdown",
      "metadata": {
        "id": "Ugq05e6AvPm1"
      },
      "source": [
        "### Load Dataset"
      ]
    },
    {
      "cell_type": "code",
      "execution_count": 2,
      "metadata": {
        "colab": {
          "base_uri": "https://localhost:8080/"
        },
        "execution": {
          "iopub.execute_input": "2025-01-11T16:05:14.051445Z",
          "iopub.status.busy": "2025-01-11T16:05:14.051098Z",
          "iopub.status.idle": "2025-01-11T16:05:15.468848Z",
          "shell.execute_reply": "2025-01-11T16:05:15.468029Z",
          "shell.execute_reply.started": "2025-01-11T16:05:14.051419Z"
        },
        "id": "Karc51Q4xvRI",
        "outputId": "c2cbf05a-b2ab-48c7-fc2f-c580f15283a1",
        "trusted": true
      },
      "outputs": [
        {
          "name": "stdout",
          "output_type": "stream",
          "text": [
            "Dataset URL: https://www.kaggle.com/datasets/cryptexcode/mpst-movie-plot-synopses-with-tags\n",
            "License(s): CC-BY-SA-4.0\n",
            "Downloading mpst-movie-plot-synopses-with-tags.zip to /content\n",
            " 31% 9.00M/28.8M [00:00<00:00, 33.0MB/s]\n",
            "100% 28.8M/28.8M [00:00<00:00, 78.9MB/s]\n"
          ]
        }
      ],
      "source": [
        "!kaggle datasets download -d cryptexcode/mpst-movie-plot-synopses-with-tags -p /content/"
      ]
    },
    {
      "cell_type": "markdown",
      "metadata": {
        "id": "UAByCZZ7vT0x"
      },
      "source": [
        "### Load the pretrained model"
      ]
    },
    {
      "cell_type": "code",
      "execution_count": 3,
      "metadata": {
        "colab": {
          "base_uri": "https://localhost:8080/",
          "height": 400,
          "referenced_widgets": [
            "7e1f23564302424794ce0a1a77a64d40",
            "d0f3325790024479b960615664d15244",
            "9fcd775a6cd543c5a0082588ebae55b9",
            "6b97f96595d549029302ee0127df1907",
            "713abcb85b8f4f5e8eb0155f11696f6e",
            "25802200a6e6441fac745751069666ae",
            "225d47c4529742468e49b4f5212992a8",
            "2f11ea4b7de5456292442d3728513389",
            "b46a5c683aa840f4baf06d996e60bc19",
            "e808defebb5e4afb8ebd9bc8e196776f",
            "64f860d094114404b834218bd2379693",
            "9724411952ac4180a4a5e5896d36d6da",
            "d78fff4d79124831b1190117eb7d65de",
            "3400a8f86be048da97787debe82ff98f",
            "6fb1aab5f7e845fdbf354b75ab720fb1",
            "d8f5baab6ad24923a8c8c34b9f49df12",
            "083e778cfa0245a486957d9acc57cd42",
            "0a762570dc37467c9292e6dff6634096",
            "5a853743480747a7be24e95d19afdef6",
            "db03b211a3ad4234b17ee2745c1fa92e",
            "c9cdbb1bdb1d40089a93b375a05b2393",
            "1e568259bf8347de9ba7d21bc2e82578",
            "bb7dd612c71f4d578c9eee4170d3bb94",
            "4cc9d7219e2f4675aed0949c1b2f599c",
            "f053404f1c9c4e959509194c8ff23692",
            "58127642d42049978a71d486d110f5dd",
            "79555d3366a34226a4ae9b780ae9342e",
            "741bdcbc5784428b911796213d70f203",
            "220429394d394dd0aaa0e8a1a8237dea",
            "de6cfe21fb1341f8a56b4b748d9912db",
            "7026553a89bb4a5d982faa51ca199265",
            "5a4759a26438469ba0d33f21ef89ffc1",
            "2693bb19c2d24bdeb7e6c07af36a116c",
            "017ac1e8159c4080995e67530f376b0a",
            "b0910406bbee4752addfff000b96cc0b",
            "84bc2d27d7ca40a788a7527e8f09cd8d",
            "3e6fff031ac74fbca6b5209ec95613d9",
            "523b848cd9124fd49f02c2a21c9e0b6b",
            "051e7e190b8245abbca979c213de085c",
            "5a75572c07db4e09a7c0f0c77df79016",
            "e921af073ac14951bf95edbe3b1a4301",
            "712f64d3628244dbb0fee3dc6db85ef1",
            "7183bd422ae94f69bee424fd0bde671e",
            "36b0de658b7847ebb7336af33f2f3416",
            "4f64ea15de4c4b89a9843793cce6c875",
            "b4c8feaf4ba74831bf021405c2ce2f0d",
            "15bf75be2ff94eb482d20bf939b9b6dd",
            "4661170ac8ec438d9c96e28ad5ebf11c",
            "aef3fb05cd494e05a6619dfb44843268",
            "7458eea97cb3447f93afbb3e57920b2c",
            "c3129f0938a44c3581e34b269730f2f9",
            "e20818f648fc4d5fbb6fac71d1715739",
            "b596ae140160446480c5daa0613e8df1",
            "619ea2b2e130482db65ff0a168726c9f",
            "6778db8cb0c24e4ca3e702d142817a3e",
            "38896f75b2f24f4390c649a153663234",
            "0a1a942d70e440ccb1af8ad5a0dd21d6",
            "f5f1dc8873344284af358fae2b63099a",
            "54fbd2b95a77461fa1cdeab5bbd64eab",
            "2c56ddc122574dfebcf58b34baaa68a5",
            "b707dbace3f349519ed465b1bc310eea",
            "708721d782e84d6c87896341705103d1",
            "4d3529da717a47a5a0b611af44d7ad57",
            "a3f72f66e1f74867bfa3a2db8923b225",
            "ba67a2731a054f61b21c6e09a5351a34",
            "98f7464a4ec0429ca6bf72c53d230b58",
            "b5861b4b0d8640dcb46cec946e49a395",
            "fd2698e83a9e44388841daad8b34dcac",
            "8c63e801102f446ea81a3d4e7785de38",
            "898e4baf02b946fcb1ce5be9c88b2549",
            "3c600dfbda744279a1bde1058b58dcc4",
            "0c99ba25297442479b5b22f482bb160f",
            "b30a9db937644b3399db692efc3da060",
            "604e728541b3489ba7302263f4c5ed75",
            "2c95e3602e054ffca7ba132491a6800b",
            "8c5a94084d474b5ea93dd39bba836301",
            "b758133e96204e3099d06bc071d0799e"
          ]
        },
        "execution": {
          "iopub.execute_input": "2025-01-11T16:05:26.436089Z",
          "iopub.status.busy": "2025-01-11T16:05:26.435715Z",
          "iopub.status.idle": "2025-01-11T16:05:39.633165Z",
          "shell.execute_reply": "2025-01-11T16:05:39.632320Z",
          "shell.execute_reply.started": "2025-01-11T16:05:26.436057Z"
        },
        "id": "mqioMu3HpTF1",
        "outputId": "2d77013b-9185-435c-8253-b5de7891c026",
        "trusted": true
      },
      "outputs": [
        {
          "name": "stderr",
          "output_type": "stream",
          "text": [
            "/usr/local/lib/python3.10/dist-packages/huggingface_hub/utils/_auth.py:94: UserWarning: \n",
            "The secret `HF_TOKEN` does not exist in your Colab secrets.\n",
            "To authenticate with the Hugging Face Hub, create a token in your settings tab (https://huggingface.co/settings/tokens), set it as secret in your Google Colab and restart your session.\n",
            "You will be able to reuse this secret in all of your notebooks.\n",
            "Please note that authentication is recommended but still optional to access public models or datasets.\n",
            "  warnings.warn(\n"
          ]
        },
        {
          "data": {
            "application/vnd.jupyter.widget-view+json": {
              "model_id": "7e1f23564302424794ce0a1a77a64d40",
              "version_major": 2,
              "version_minor": 0
            },
            "text/plain": [
              "artifact.metadata:   0%|          | 0.00/1.63k [00:00<?, ?B/s]"
            ]
          },
          "metadata": {},
          "output_type": "display_data"
        },
        {
          "data": {
            "application/vnd.jupyter.widget-view+json": {
              "model_id": "9724411952ac4180a4a5e5896d36d6da",
              "version_major": 2,
              "version_minor": 0
            },
            "text/plain": [
              "config.json:   0%|          | 0.00/743 [00:00<?, ?B/s]"
            ]
          },
          "metadata": {},
          "output_type": "display_data"
        },
        {
          "data": {
            "application/vnd.jupyter.widget-view+json": {
              "model_id": "bb7dd612c71f4d578c9eee4170d3bb94",
              "version_major": 2,
              "version_minor": 0
            },
            "text/plain": [
              "model.safetensors:   0%|          | 0.00/438M [00:00<?, ?B/s]"
            ]
          },
          "metadata": {},
          "output_type": "display_data"
        },
        {
          "data": {
            "application/vnd.jupyter.widget-view+json": {
              "model_id": "017ac1e8159c4080995e67530f376b0a",
              "version_major": 2,
              "version_minor": 0
            },
            "text/plain": [
              "tokenizer_config.json:   0%|          | 0.00/405 [00:00<?, ?B/s]"
            ]
          },
          "metadata": {},
          "output_type": "display_data"
        },
        {
          "data": {
            "application/vnd.jupyter.widget-view+json": {
              "model_id": "4f64ea15de4c4b89a9843793cce6c875",
              "version_major": 2,
              "version_minor": 0
            },
            "text/plain": [
              "vocab.txt:   0%|          | 0.00/232k [00:00<?, ?B/s]"
            ]
          },
          "metadata": {},
          "output_type": "display_data"
        },
        {
          "data": {
            "application/vnd.jupyter.widget-view+json": {
              "model_id": "38896f75b2f24f4390c649a153663234",
              "version_major": 2,
              "version_minor": 0
            },
            "text/plain": [
              "tokenizer.json:   0%|          | 0.00/466k [00:00<?, ?B/s]"
            ]
          },
          "metadata": {},
          "output_type": "display_data"
        },
        {
          "data": {
            "application/vnd.jupyter.widget-view+json": {
              "model_id": "b5861b4b0d8640dcb46cec946e49a395",
              "version_major": 2,
              "version_minor": 0
            },
            "text/plain": [
              "special_tokens_map.json:   0%|          | 0.00/112 [00:00<?, ?B/s]"
            ]
          },
          "metadata": {},
          "output_type": "display_data"
        },
        {
          "name": "stderr",
          "output_type": "stream",
          "text": [
            "/usr/local/lib/python3.10/dist-packages/colbert/utils/amp.py:12: FutureWarning: `torch.cuda.amp.GradScaler(args...)` is deprecated. Please use `torch.amp.GradScaler('cuda', args...)` instead.\n",
            "  self.scaler = torch.cuda.amp.GradScaler()\n"
          ]
        }
      ],
      "source": [
        "from ragatouille import RAGPretrainedModel\n",
        "\n",
        "RAG = RAGPretrainedModel.from_pretrained(\"colbert-ir/colbertv2.0\")"
      ]
    },
    {
      "cell_type": "markdown",
      "metadata": {
        "id": "e0gCk0YbzSc8"
      },
      "source": [
        "### Prepare the collection\n",
        "\n",
        "\n"
      ]
    },
    {
      "cell_type": "code",
      "execution_count": 4,
      "metadata": {
        "execution": {
          "iopub.execute_input": "2025-01-11T16:20:55.066637Z",
          "iopub.status.busy": "2025-01-11T16:20:55.066349Z",
          "iopub.status.idle": "2025-01-11T16:20:56.511516Z",
          "shell.execute_reply": "2025-01-11T16:20:56.510821Z",
          "shell.execute_reply.started": "2025-01-11T16:20:55.066617Z"
        },
        "id": "B4q9NDkFwFux",
        "trusted": true
      },
      "outputs": [],
      "source": [
        "import zipfile\n",
        "import pandas as pd\n",
        "\n",
        "\n",
        "with zipfile.ZipFile('/content/mpst-movie-plot-synopses-with-tags.zip', 'r') as zip_ref:\n",
        "    zip_ref.extractall('/content/')\n",
        "\n",
        "df = pd.read_csv(\"/content/mpst_full_data.csv\")\n",
        "\n",
        "collection = df['plot_synopsis'][:100].tolist()\n",
        "titles = df['title'][:100].tolist()\n"
      ]
    },
    {
      "cell_type": "code",
      "execution_count": 5,
      "metadata": {
        "execution": {
          "iopub.execute_input": "2025-01-11T16:21:00.611522Z",
          "iopub.status.busy": "2025-01-11T16:21:00.611051Z",
          "iopub.status.idle": "2025-01-11T16:21:00.616326Z",
          "shell.execute_reply": "2025-01-11T16:21:00.615445Z",
          "shell.execute_reply.started": "2025-01-11T16:21:00.611469Z"
        },
        "id": "U5j1-twg2YXY",
        "trusted": true
      },
      "outputs": [],
      "source": [
        "collection = [\n",
        "    f\"Title: {title}\\nPlot: {synopsis}\"\n",
        "    for title, synopsis in zip(titles, collection)\n",
        "]"
      ]
    },
    {
      "cell_type": "code",
      "execution_count": 6,
      "metadata": {
        "colab": {
          "base_uri": "https://localhost:8080/"
        },
        "execution": {
          "iopub.execute_input": "2025-01-11T16:21:03.316700Z",
          "iopub.status.busy": "2025-01-11T16:21:03.316431Z",
          "iopub.status.idle": "2025-01-11T16:21:03.320841Z",
          "shell.execute_reply": "2025-01-11T16:21:03.319989Z",
          "shell.execute_reply.started": "2025-01-11T16:21:03.316681Z"
        },
        "id": "zEnyaFihvbUs",
        "outputId": "fa44c44b-ad84-4ac2-fa6e-d410cb8ed11b",
        "trusted": true
      },
      "outputs": [
        {
          "name": "stdout",
          "output_type": "stream",
          "text": [
            "14828\n"
          ]
        }
      ],
      "source": [
        "print(len(df))"
      ]
    },
    {
      "cell_type": "markdown",
      "metadata": {
        "id": "jCOBVYdPlcuD"
      },
      "source": [
        "## Create embeddings + Faiss Index which saves the embeddings"
      ]
    },
    {
      "cell_type": "code",
      "execution_count": 7,
      "metadata": {
        "colab": {
          "base_uri": "https://localhost:8080/",
          "height": 923
        },
        "execution": {
          "iopub.execute_input": "2025-01-11T16:21:06.459426Z",
          "iopub.status.busy": "2025-01-11T16:21:06.459100Z",
          "iopub.status.idle": "2025-01-11T16:24:14.378525Z",
          "shell.execute_reply": "2025-01-11T16:24:14.377573Z",
          "shell.execute_reply.started": "2025-01-11T16:21:06.459400Z"
        },
        "id": "47vTyUjnydKo",
        "outputId": "171ac642-956b-4294-9a72-2182836b070c",
        "trusted": true
      },
      "outputs": [
        {
          "name": "stdout",
          "output_type": "stream",
          "text": [
            "---- WARNING! You are using PLAID with an experimental replacement for FAISS for greater compatibility ----\n",
            "This is a behaviour change from RAGatouille 0.8.0 onwards.\n",
            "This works fine for most users and smallish datasets, but can be considerably slower than FAISS and could cause worse results in some situations.\n",
            "If you're confident with FAISS working on your machine, pass use_faiss=True to revert to the FAISS-using behaviour.\n",
            "--------------------\n",
            "\n",
            "\n",
            "[Jan 12, 18:06:48] #> Creating directory .ragatouille/colbert/indexes/movie_plots_index \n",
            "\n",
            "\n",
            "[Jan 12, 18:06:50] [0] \t\t #> Encoding 100 passages..\n"
          ]
        },
        {
          "name": "stderr",
          "output_type": "stream",
          "text": [
            "/usr/local/lib/python3.10/dist-packages/colbert/utils/amp.py:12: FutureWarning: `torch.cuda.amp.GradScaler(args...)` is deprecated. Please use `torch.amp.GradScaler('cuda', args...)` instead.\n",
            "  self.scaler = torch.cuda.amp.GradScaler()\n",
            "/usr/local/lib/python3.10/dist-packages/colbert/utils/amp.py:15: FutureWarning: `torch.cuda.amp.autocast(args...)` is deprecated. Please use `torch.amp.autocast('cuda', args...)` instead.\n",
            "  return torch.cuda.amp.autocast() if self.activated else NullContextManager()\n"
          ]
        },
        {
          "name": "stdout",
          "output_type": "stream",
          "text": [
            "[Jan 12, 18:06:52] [0] \t\t avg_doclen_est = 257.5799865722656 \t len(local_sample) = 100\n",
            "[Jan 12, 18:06:52] [0] \t\t Creating 2,048 partitions.\n",
            "[Jan 12, 18:06:52] [0] \t\t *Estimated* 25,757 embeddings.\n",
            "[Jan 12, 18:06:52] [0] \t\t #> Saving the indexing plan to .ragatouille/colbert/indexes/movie_plots_index/plan.json ..\n"
          ]
        },
        {
          "name": "stderr",
          "output_type": "stream",
          "text": [
            "/usr/local/lib/python3.10/dist-packages/colbert/indexing/collection_indexer.py:256: FutureWarning: You are using `torch.load` with `weights_only=False` (the current default value), which uses the default pickle module implicitly. It is possible to construct malicious pickle data which will execute arbitrary code during unpickling (See https://github.com/pytorch/pytorch/blob/main/SECURITY.md#untrusted-models for more details). In a future release, the default value for `weights_only` will be flipped to `True`. This limits the functions that could be executed during unpickling. Arbitrary objects will no longer be allowed to be loaded via this mode unless they are explicitly allowlisted by the user via `torch.serialization.add_safe_globals`. We recommend you start setting `weights_only=True` for any use case where you don't have full control of the loaded file. Please open an issue on GitHub for any issues related to this experimental feature.\n",
            "  sub_sample = torch.load(sub_sample_path)\n"
          ]
        },
        {
          "name": "stdout",
          "output_type": "stream",
          "text": [
            "used 20 iterations (0.5347s) to cluster 24471 items into 2048 clusters\n",
            "[Jan 12, 18:06:52] Loading decompress_residuals_cpp extension (set COLBERT_LOAD_TORCH_EXTENSION_VERBOSE=True for more info)...\n"
          ]
        },
        {
          "name": "stderr",
          "output_type": "stream",
          "text": [
            "/usr/local/lib/python3.10/dist-packages/torch/utils/cpp_extension.py:1964: UserWarning: TORCH_CUDA_ARCH_LIST is not set, all archs for visible cards are included for compilation. \n",
            "If this is not desired, please set os.environ['TORCH_CUDA_ARCH_LIST'].\n",
            "  warnings.warn(\n"
          ]
        },
        {
          "name": "stdout",
          "output_type": "stream",
          "text": [
            "[Jan 12, 18:08:23] Loading packbits_cpp extension (set COLBERT_LOAD_TORCH_EXTENSION_VERBOSE=True for more info)...\n"
          ]
        },
        {
          "name": "stderr",
          "output_type": "stream",
          "text": [
            "/usr/local/lib/python3.10/dist-packages/torch/utils/cpp_extension.py:1964: UserWarning: TORCH_CUDA_ARCH_LIST is not set, all archs for visible cards are included for compilation. \n",
            "If this is not desired, please set os.environ['TORCH_CUDA_ARCH_LIST'].\n",
            "  warnings.warn(\n",
            "/usr/local/lib/python3.10/dist-packages/colbert/indexing/codecs/residual.py:141: FutureWarning: You are using `torch.load` with `weights_only=False` (the current default value), which uses the default pickle module implicitly. It is possible to construct malicious pickle data which will execute arbitrary code during unpickling (See https://github.com/pytorch/pytorch/blob/main/SECURITY.md#untrusted-models for more details). In a future release, the default value for `weights_only` will be flipped to `True`. This limits the functions that could be executed during unpickling. Arbitrary objects will no longer be allowed to be loaded via this mode unless they are explicitly allowlisted by the user via `torch.serialization.add_safe_globals`. We recommend you start setting `weights_only=True` for any use case where you don't have full control of the loaded file. Please open an issue on GitHub for any issues related to this experimental feature.\n",
            "  centroids = torch.load(centroids_path, map_location='cpu')\n",
            "/usr/local/lib/python3.10/dist-packages/colbert/indexing/codecs/residual.py:142: FutureWarning: You are using `torch.load` with `weights_only=False` (the current default value), which uses the default pickle module implicitly. It is possible to construct malicious pickle data which will execute arbitrary code during unpickling (See https://github.com/pytorch/pytorch/blob/main/SECURITY.md#untrusted-models for more details). In a future release, the default value for `weights_only` will be flipped to `True`. This limits the functions that could be executed during unpickling. Arbitrary objects will no longer be allowed to be loaded via this mode unless they are explicitly allowlisted by the user via `torch.serialization.add_safe_globals`. We recommend you start setting `weights_only=True` for any use case where you don't have full control of the loaded file. Please open an issue on GitHub for any issues related to this experimental feature.\n",
            "  avg_residual = torch.load(avgresidual_path, map_location='cpu')\n",
            "/usr/local/lib/python3.10/dist-packages/colbert/indexing/codecs/residual.py:143: FutureWarning: You are using `torch.load` with `weights_only=False` (the current default value), which uses the default pickle module implicitly. It is possible to construct malicious pickle data which will execute arbitrary code during unpickling (See https://github.com/pytorch/pytorch/blob/main/SECURITY.md#untrusted-models for more details). In a future release, the default value for `weights_only` will be flipped to `True`. This limits the functions that could be executed during unpickling. Arbitrary objects will no longer be allowed to be loaded via this mode unless they are explicitly allowlisted by the user via `torch.serialization.add_safe_globals`. We recommend you start setting `weights_only=True` for any use case where you don't have full control of the loaded file. Please open an issue on GitHub for any issues related to this experimental feature.\n",
            "  bucket_cutoffs, bucket_weights = torch.load(buckets_path, map_location='cpu')\n"
          ]
        },
        {
          "name": "stdout",
          "output_type": "stream",
          "text": [
            "[0.043, 0.043, 0.039, 0.039, 0.038, 0.042, 0.041, 0.04, 0.039, 0.038, 0.039, 0.04, 0.038, 0.045, 0.045, 0.036, 0.037, 0.04, 0.036, 0.038, 0.041, 0.039, 0.038, 0.042, 0.039, 0.042, 0.042, 0.043, 0.041, 0.042, 0.041, 0.044, 0.043, 0.039, 0.039, 0.037, 0.038, 0.041, 0.042, 0.05, 0.042, 0.045, 0.041, 0.038, 0.038, 0.038, 0.039, 0.042, 0.043, 0.04, 0.04, 0.039, 0.041, 0.041, 0.039, 0.044, 0.043, 0.038, 0.041, 0.04, 0.037, 0.042, 0.042, 0.044, 0.045, 0.044, 0.046, 0.04, 0.036, 0.039, 0.045, 0.042, 0.04, 0.037, 0.039, 0.039, 0.039, 0.044, 0.039, 0.039, 0.04, 0.039, 0.039, 0.043, 0.037, 0.039, 0.042, 0.041, 0.036, 0.051, 0.038, 0.042, 0.039, 0.038, 0.039, 0.039, 0.044, 0.038, 0.041, 0.041, 0.044, 0.043, 0.036, 0.047, 0.04, 0.041, 0.04, 0.039, 0.039, 0.035, 0.038, 0.04, 0.04, 0.039, 0.041, 0.04, 0.041, 0.039, 0.04, 0.039, 0.038, 0.04, 0.04, 0.042, 0.04, 0.038, 0.04, 0.038]\n"
          ]
        },
        {
          "name": "stderr",
          "output_type": "stream",
          "text": [
            "\r0it [00:00, ?it/s]"
          ]
        },
        {
          "name": "stdout",
          "output_type": "stream",
          "text": [
            "[Jan 12, 18:09:54] [0] \t\t #> Encoding 100 passages..\n"
          ]
        },
        {
          "name": "stderr",
          "output_type": "stream",
          "text": [
            "/usr/local/lib/python3.10/dist-packages/colbert/utils/amp.py:15: FutureWarning: `torch.cuda.amp.autocast(args...)` is deprecated. Please use `torch.amp.autocast('cuda', args...)` instead.\n",
            "  return torch.cuda.amp.autocast() if self.activated else NullContextManager()\n",
            "1it [00:01,  1.02s/it]\n",
            "  0%|          | 0/1 [00:00<?, ?it/s]/usr/local/lib/python3.10/dist-packages/colbert/indexing/codecs/residual_embeddings.py:86: FutureWarning: You are using `torch.load` with `weights_only=False` (the current default value), which uses the default pickle module implicitly. It is possible to construct malicious pickle data which will execute arbitrary code during unpickling (See https://github.com/pytorch/pytorch/blob/main/SECURITY.md#untrusted-models for more details). In a future release, the default value for `weights_only` will be flipped to `True`. This limits the functions that could be executed during unpickling. Arbitrary objects will no longer be allowed to be loaded via this mode unless they are explicitly allowlisted by the user via `torch.serialization.add_safe_globals`. We recommend you start setting `weights_only=True` for any use case where you don't have full control of the loaded file. Please open an issue on GitHub for any issues related to this experimental feature.\n",
            "  return torch.load(codes_path, map_location='cpu')\n",
            "100%|██████████| 1/1 [00:00<00:00, 930.41it/s]"
          ]
        },
        {
          "name": "stdout",
          "output_type": "stream",
          "text": [
            "[Jan 12, 18:09:55] #> Optimizing IVF to store map from centroids to list of pids..\n",
            "[Jan 12, 18:09:55] #> Building the emb2pid mapping..\n",
            "[Jan 12, 18:09:55] len(emb2pid) = 25758\n"
          ]
        },
        {
          "name": "stderr",
          "output_type": "stream",
          "text": [
            "\n",
            "100%|██████████| 2048/2048 [00:00<00:00, 61904.98it/s]"
          ]
        },
        {
          "name": "stdout",
          "output_type": "stream",
          "text": [
            "[Jan 12, 18:09:55] #> Saved optimized IVF to .ragatouille/colbert/indexes/movie_plots_index/ivf.pid.pt\n",
            "Done indexing!\n"
          ]
        },
        {
          "name": "stderr",
          "output_type": "stream",
          "text": [
            "\n"
          ]
        },
        {
          "data": {
            "application/vnd.google.colaboratory.intrinsic+json": {
              "type": "string"
            },
            "text/plain": [
              "'.ragatouille/colbert/indexes/movie_plots_index'"
            ]
          },
          "execution_count": 7,
          "metadata": {},
          "output_type": "execute_result"
        }
      ],
      "source": [
        "RAG.index(\n",
        "    collection=collection,\n",
        "    index_name=\"movie_plots_index\",\n",
        "    max_document_length=300,\n",
        "    split_documents=False,\n",
        "    bsize = 32,\n",
        ")"
      ]
    },
    {
      "cell_type": "code",
      "execution_count": 8,
      "metadata": {
        "execution": {
          "iopub.execute_input": "2025-01-11T16:31:46.972116Z",
          "iopub.status.busy": "2025-01-11T16:31:46.971788Z",
          "iopub.status.idle": "2025-01-11T16:31:47.118164Z",
          "shell.execute_reply": "2025-01-11T16:31:47.117365Z",
          "shell.execute_reply.started": "2025-01-11T16:31:46.972090Z"
        },
        "id": "WiVNlukb0Phl",
        "trusted": true
      },
      "outputs": [],
      "source": [
        "!mv /content/.ragatouille /content/movie_plots_index"
      ]
    },
    {
      "cell_type": "markdown",
      "metadata": {},
      "source": [
        "### Load pretrained model"
      ]
    },
    {
      "cell_type": "code",
      "execution_count": 10,
      "metadata": {
        "colab": {
          "base_uri": "https://localhost:8080/"
        },
        "execution": {
          "iopub.execute_input": "2025-01-11T16:35:26.736497Z",
          "iopub.status.busy": "2025-01-11T16:35:26.736186Z",
          "iopub.status.idle": "2025-01-11T16:35:27.435383Z",
          "shell.execute_reply": "2025-01-11T16:35:27.434733Z",
          "shell.execute_reply.started": "2025-01-11T16:35:26.736475Z"
        },
        "id": "NFJXA66E9btA",
        "outputId": "5a4cd7bf-b00f-4d4d-f5cf-bd60893281b9",
        "trusted": true
      },
      "outputs": [
        {
          "name": "stderr",
          "output_type": "stream",
          "text": [
            "/usr/local/lib/python3.10/dist-packages/colbert/utils/amp.py:12: FutureWarning: `torch.cuda.amp.GradScaler(args...)` is deprecated. Please use `torch.amp.GradScaler('cuda', args...)` instead.\n",
            "  self.scaler = torch.cuda.amp.GradScaler()\n"
          ]
        }
      ],
      "source": [
        "RAG = RAGPretrainedModel.from_index(\"/content/movie_plots_index/colbert/indexes/movie_plots_index\")"
      ]
    },
    {
      "cell_type": "markdown",
      "metadata": {},
      "source": [
        "### Searcher"
      ]
    },
    {
      "cell_type": "code",
      "execution_count": 11,
      "metadata": {
        "colab": {
          "base_uri": "https://localhost:8080/"
        },
        "execution": {
          "iopub.execute_input": "2025-01-11T16:35:31.976775Z",
          "iopub.status.busy": "2025-01-11T16:35:31.976487Z",
          "iopub.status.idle": "2025-01-11T16:35:33.873708Z",
          "shell.execute_reply": "2025-01-11T16:35:33.872720Z",
          "shell.execute_reply.started": "2025-01-11T16:35:31.976755Z"
        },
        "id": "UuiW2JHjzztj",
        "outputId": "30bc7bbc-c7ab-4e85-e8ef-3ee97f142477",
        "trusted": true
      },
      "outputs": [
        {
          "name": "stdout",
          "output_type": "stream",
          "text": [
            "Loading searcher for index movie_plots_index for the first time... This may take a few seconds\n",
            "[Jan 12, 18:14:02] #> Loading codec...\n",
            "[Jan 12, 18:14:02] #> Loading IVF...\n",
            "[Jan 12, 18:14:02] #> Loading doclens...\n"
          ]
        },
        {
          "name": "stderr",
          "output_type": "stream",
          "text": [
            "/usr/local/lib/python3.10/dist-packages/colbert/indexing/codecs/residual.py:141: FutureWarning: You are using `torch.load` with `weights_only=False` (the current default value), which uses the default pickle module implicitly. It is possible to construct malicious pickle data which will execute arbitrary code during unpickling (See https://github.com/pytorch/pytorch/blob/main/SECURITY.md#untrusted-models for more details). In a future release, the default value for `weights_only` will be flipped to `True`. This limits the functions that could be executed during unpickling. Arbitrary objects will no longer be allowed to be loaded via this mode unless they are explicitly allowlisted by the user via `torch.serialization.add_safe_globals`. We recommend you start setting `weights_only=True` for any use case where you don't have full control of the loaded file. Please open an issue on GitHub for any issues related to this experimental feature.\n",
            "  centroids = torch.load(centroids_path, map_location='cpu')\n",
            "/usr/local/lib/python3.10/dist-packages/colbert/indexing/codecs/residual.py:142: FutureWarning: You are using `torch.load` with `weights_only=False` (the current default value), which uses the default pickle module implicitly. It is possible to construct malicious pickle data which will execute arbitrary code during unpickling (See https://github.com/pytorch/pytorch/blob/main/SECURITY.md#untrusted-models for more details). In a future release, the default value for `weights_only` will be flipped to `True`. This limits the functions that could be executed during unpickling. Arbitrary objects will no longer be allowed to be loaded via this mode unless they are explicitly allowlisted by the user via `torch.serialization.add_safe_globals`. We recommend you start setting `weights_only=True` for any use case where you don't have full control of the loaded file. Please open an issue on GitHub for any issues related to this experimental feature.\n",
            "  avg_residual = torch.load(avgresidual_path, map_location='cpu')\n",
            "/usr/local/lib/python3.10/dist-packages/colbert/indexing/codecs/residual.py:143: FutureWarning: You are using `torch.load` with `weights_only=False` (the current default value), which uses the default pickle module implicitly. It is possible to construct malicious pickle data which will execute arbitrary code during unpickling (See https://github.com/pytorch/pytorch/blob/main/SECURITY.md#untrusted-models for more details). In a future release, the default value for `weights_only` will be flipped to `True`. This limits the functions that could be executed during unpickling. Arbitrary objects will no longer be allowed to be loaded via this mode unless they are explicitly allowlisted by the user via `torch.serialization.add_safe_globals`. We recommend you start setting `weights_only=True` for any use case where you don't have full control of the loaded file. Please open an issue on GitHub for any issues related to this experimental feature.\n",
            "  bucket_cutoffs, bucket_weights = torch.load(buckets_path, map_location='cpu')\n",
            "/usr/local/lib/python3.10/dist-packages/colbert/search/index_loader.py:33: FutureWarning: You are using `torch.load` with `weights_only=False` (the current default value), which uses the default pickle module implicitly. It is possible to construct malicious pickle data which will execute arbitrary code during unpickling (See https://github.com/pytorch/pytorch/blob/main/SECURITY.md#untrusted-models for more details). In a future release, the default value for `weights_only` will be flipped to `True`. This limits the functions that could be executed during unpickling. Arbitrary objects will no longer be allowed to be loaded via this mode unless they are explicitly allowlisted by the user via `torch.serialization.add_safe_globals`. We recommend you start setting `weights_only=True` for any use case where you don't have full control of the loaded file. Please open an issue on GitHub for any issues related to this experimental feature.\n",
            "  ivf, ivf_lengths = torch.load(os.path.join(self.index_path, \"ivf.pid.pt\"), map_location='cpu')\n",
            "100%|██████████| 1/1 [00:00<00:00, 4124.19it/s]"
          ]
        },
        {
          "name": "stdout",
          "output_type": "stream",
          "text": [
            "[Jan 12, 18:14:02] #> Loading codes and residuals...\n"
          ]
        },
        {
          "name": "stderr",
          "output_type": "stream",
          "text": [
            "\n",
            "  0%|          | 0/1 [00:00<?, ?it/s]/usr/local/lib/python3.10/dist-packages/colbert/indexing/codecs/residual_embeddings.py:86: FutureWarning: You are using `torch.load` with `weights_only=False` (the current default value), which uses the default pickle module implicitly. It is possible to construct malicious pickle data which will execute arbitrary code during unpickling (See https://github.com/pytorch/pytorch/blob/main/SECURITY.md#untrusted-models for more details). In a future release, the default value for `weights_only` will be flipped to `True`. This limits the functions that could be executed during unpickling. Arbitrary objects will no longer be allowed to be loaded via this mode unless they are explicitly allowlisted by the user via `torch.serialization.add_safe_globals`. We recommend you start setting `weights_only=True` for any use case where you don't have full control of the loaded file. Please open an issue on GitHub for any issues related to this experimental feature.\n",
            "  return torch.load(codes_path, map_location='cpu')\n",
            "/usr/local/lib/python3.10/dist-packages/colbert/indexing/codecs/residual_embeddings.py:93: FutureWarning: You are using `torch.load` with `weights_only=False` (the current default value), which uses the default pickle module implicitly. It is possible to construct malicious pickle data which will execute arbitrary code during unpickling (See https://github.com/pytorch/pytorch/blob/main/SECURITY.md#untrusted-models for more details). In a future release, the default value for `weights_only` will be flipped to `True`. This limits the functions that could be executed during unpickling. Arbitrary objects will no longer be allowed to be loaded via this mode unless they are explicitly allowlisted by the user via `torch.serialization.add_safe_globals`. We recommend you start setting `weights_only=True` for any use case where you don't have full control of the loaded file. Please open an issue on GitHub for any issues related to this experimental feature.\n",
            "  return torch.load(residuals_path, map_location='cpu')\n",
            "100%|██████████| 1/1 [00:00<00:00, 260.42it/s]"
          ]
        },
        {
          "name": "stdout",
          "output_type": "stream",
          "text": [
            "Searcher loaded!\n",
            "\n",
            "#> QueryTokenizer.tensorize(batch_text[0], batch_background[0], bsize) ==\n",
            "#> Input: . A movie about space exploration and human survival, \t\t True, \t\t None\n",
            "#> Output IDs: torch.Size([32]), tensor([ 101,    1, 1037, 3185, 2055, 2686, 8993, 1998, 2529, 7691,  102,  103,\n",
            "         103,  103,  103,  103,  103,  103,  103,  103,  103,  103,  103,  103,\n",
            "         103,  103,  103,  103,  103,  103,  103,  103], device='cuda:0')\n",
            "#> Output Mask: torch.Size([32]), tensor([1, 1, 1, 1, 1, 1, 1, 1, 1, 1, 1, 0, 0, 0, 0, 0, 0, 0, 0, 0, 0, 0, 0, 0,\n",
            "        0, 0, 0, 0, 0, 0, 0, 0], device='cuda:0')\n",
            "\n"
          ]
        },
        {
          "name": "stderr",
          "output_type": "stream",
          "text": [
            "\n",
            "/usr/local/lib/python3.10/dist-packages/colbert/utils/amp.py:15: FutureWarning: `torch.cuda.amp.autocast(args...)` is deprecated. Please use `torch.amp.autocast('cuda', args...)` instead.\n",
            "  return torch.cuda.amp.autocast() if self.activated else NullContextManager()\n"
          ]
        }
      ],
      "source": [
        "results = RAG.search(query=\"A movie about space exploration and human survival\", k=3)"
      ]
    },
    {
      "cell_type": "markdown",
      "metadata": {},
      "source": [
        "### Result"
      ]
    },
    {
      "cell_type": "code",
      "execution_count": 16,
      "metadata": {
        "colab": {
          "base_uri": "https://localhost:8080/"
        },
        "execution": {
          "iopub.execute_input": "2025-01-11T16:35:39.612159Z",
          "iopub.status.busy": "2025-01-11T16:35:39.611210Z",
          "iopub.status.idle": "2025-01-11T16:35:39.620349Z",
          "shell.execute_reply": "2025-01-11T16:35:39.619457Z",
          "shell.execute_reply.started": "2025-01-11T16:35:39.612114Z"
        },
        "id": "pVdettGl1b7U",
        "outputId": "196ff065-8a89-474d-a33d-f621015c267d",
        "trusted": true
      },
      "outputs": [
        {
          "name": "stdout",
          "output_type": "stream",
          "text": [
            "Rank = 14.3671875\n",
            "Title: Night of the Lepus\n",
            "Plot: The movie opens showing a news report about how overpopulation is not just a human problem, but exists in the animal kingdom as well, using the rabbit population explosion in Australia in the 1950s as an example. There was a similar plague of rabbits getting out of hand in the American Southwest, especially in Arizona, where the rabbits were devouring crops, destroying property, and out-competing livestock for a finite supply of food and water.Moving to the action in Arizona, our first view is of rancher Cole Hillman, riding his horse. The horse steps into a rabbit hole and injures itself, and Cole must shoot it and walk home. He instructs one of his ranch hands to take the truck to go get his saddle, then makes a phone call to the university in Ajo, hoping to find a cure for the rabbit infestation. He meets Dr. Elgin Clark, but his first suggestion is for the same person who killed all the coyotes that were keeping the rabbits in check. Cole is hesitant to make the same mistake twice, but agrees to visit the Bennett family, scientific researchers who are looking for more ecologically friendly ways of controlling wildlife.We meet the Bennetts, father Roy, mother Gerry, and daughter Amanda. Roy was capturing bats for an experiment. They want to control the bats' flight pattern, hoping to use them to kill mosquitoes, without the nasty side effects of DDT and other insecticides. Elgin Clark comes to see him and asks him to visit Cole, to see if he could come up with an ecologically friendly way to solve the rabbit problem. On the way there, they see ranchers desperately shooting at rabbits trying to preserve their livelihoods.At Cole's ranch, Cole explains his problem. Although hardly an environmentalist, Cole has reasons of his own for not wanting to use poison to kill the rabbits. The poison would harm his cattle, so he would have to sell them at distress prices, and eventually his land would become toxic and barren. He can hold out only a few more weeks before using the cyanide, and the other ranchers are anxious to use it sooner. Roy suggests interfering with the rabbits' hormones, or introducing a disease that affects only rabbits, and takes several rabbits with him to begin experiments. Meanwhile, their daughter Amanda becomes friends with Cole's son Jackie.Back at the university, the experiments are not producing any useful results. They will never have a solution in time to save Cole's ranch. He tries one last injection, in an untested rabbit, over the objections of Amanda, who has become attached to the rabbit in question. While her parents' backs are turned, the mischievous little girl switches the rabbit with another one from the control group, hoping to protect it from further harm. Then she pesters her parents into letting her adopt it as a pet. They think that the rabbit is from the control group and thus has had no injections.They return to Cole's ranch to pick up more rabbits for experimentation, but Jackie does not like Amanda's new pet, since the rabbits are a menace to his family and they killed his chickens at one point. He seizes the rabbit and releases it, and it runs away. Amanda forgives him and they go off together to talk.At the university, the experiments have failed. Some of the rabbits have grown enormously, but are otherwise unaffected. Roy, depsite his misgivings, calls Cole to tell him to do what he needs to do. Cole has one more try, though. He sets part of his range on fire, sacrificing some of his land in hopes of creating a strip of charred land that is completely devoid of food and water, that the rabbits will not be able to cross. Some of the other ranchers are skeptical, but they trust Cole's judgment enough to delay their own use of poisons a little longer. The fire drives away the rabbits, for awhile.While inspecting the land, the Bennetts and Cole find an unusual animal track. They don't know what the animal was, but they know that it was big. Meanwhile, Jackie takes Amanda to meet a friend of his, Captain Billy, who has a gold mine in the hills. Arriving at the mine, they find no one home. He sends Amanda into the mine to look while he looks outside. Jackie finds more animal tracks, while Amanda sees the shadows of enormous rabbits. Then she sees a dead body, presumably that of Billy. She screams and runs out of the mine. We next see her being examined by a doctor, who determines she only had a shock and will be fine. Jackie describes what he could remember, but everything happened very fast; he doesn't remember much.At night, a driver with a refrigerated truck stops to check his truck, and hears the thunder of paws and heavy breathing nearby, but it's too dark to see what's going on. He fails to get back in the truck while the getting is good, and is attacked by the rabbits. The next morning, a policeman finds the abandoned truck, its cargo of vegetables scattered over the ground, and then finds the driver's body. He calls for the sheriff to examine the body. While he is there, he gets a call. The body has been recovered from the mine, and it is Captain Billy, looking as badly mutilated as the truck driver.Back in town, the coroner determines that the bodies and boxes of vegetables were not chopped with an axe, but were chewed or gnawed. He can't think of what animal could cause so much destruction, except maybe a saber-toothed tiger. Meanwhile, another policeman finds more mutilated bodies nearby.At the university, Roy and Elgin realize that the huge rabbits that Amanda saw are likely the cause of the destruction, and are probably the result of their experiment. They debate calling the sheriff, but Elgin, fearing the bad publicity that it would draw to the university, talks them out of it until they can gather more evidence. Roy tells Gerry to go call Cole, intending to go see him the next day to look for the rabbits, and try to destroy them.The next day, Elgin, the Bennetts, Cole, and his ranch hands Frank and Jud, arrive at the mine with cyanide and dynamite. Elgin and Frank go up into the hills to look for more holes and plant dynamite, while Jud and Cole plant dynamite at the main entrance. Elgin drops a rock into one of the holes and listens to the noises the rabbits make in reaction, holding out his radio microphone so that Roy and Gerry can hear it too. Roy and Cole go into the mine, hoping to capture a rabbit, or if that isn't possible, take a picture. They go in, camera and shotgun in hand. The others are apprehensive as Roy and Cole remain inside the mine, out of reach. Finally, Roy and Cole reach the chamber where the rabbits are holed up, and realize that using the gun may cause a cave in. They see them clearly for the first time, describing them as big as wolves and just as vicious. Roy takes several pictures, but the rabbits start to chase them, and they must escape. They didn't mark their way, so they are in danger of making a wrong turn and becoming trapped. Meanwhile, another giant rabbit burrows out of the ground outside and attacks Jud, and Gerry must save him by shooting the rabbit, and treat his injuries. Time passes, and the groups outside become more worried for Roy and Cole's safety. Finally, they reach the entrance of the mine and run out, and Elgin sets off the dynamite, collapsing the mine and burying many rabbits.At the university, Elgin examines the photographs, and he realizes that it is time to inform the sheriff. They plan to go back to the mine the next day, to make sure all the rabbits are dead. Roy, realizing that the press will be all over the place soon, advises Gerry to take Amanda and go to another town, for their privacy, until the whole thing blows over. Next, we see rabbits leaving the mine; obviously the cave-in left a significant number of them to escape and raise more havoc. The thunder of paws panics Cole's horses, waking him up. The horses soon escape. Cole gets his family together in the storm shelter under his house, while the rabbits attack the horses. Jud, still panicked from his encounter with the rabbits earlier, runs to the truck and flees. He encounters the herd of rabbits and quickly turns around and drives back to the ranch. In his panic, he crashes the truck, knocking out the phone lines to Cole's house, just when Cole was trying to call for help. Jud runs from the truck, but the rabbits have arrived and they pounce on him. Cole shoots at them, but it's too late to save Jud. He joins his family in the shelter. There is a tense moment as the rabbits try to scratch through the door, but they are driven off. The rabbits get into the house's main floor and destroy everything inside. Cole and Frank keep them from scratching through the floor by shooting at them.At the store in the town of Galanos, the switchboard operator Mildred is unsure what to think of Cole's telephone line going out suddenly, while Cole sounded agitated. It's late, so her husband and a friend take off to go home. Soon, she can hear the thunder of paws, too, and she looks out the window to check. The rabbits have arrived and they jump through the window to pounce on her. The rabbits also reach her house, where they catch and kill her husband before he can get inside.In the morning, Cole and Frank go outside; the rabbits have holed up somewhere for the day. They mourn Jud, and Cole tells Frank to stay with Jackie while he goes to town. The horses are gone and his truck is wrecked, so his only option is to walk, shotgun in hand. Meanwhile, Roy sends Gerry and Amanda off in their RV to Wooddale. She promises him to call him when she gets there. Roy and Elgin contact the sheriff, who has already been informed of the rabbits. They get into a helicopter to check the area around the mine. Meanwhile, Cole has a long walk. He tries to flag down passing motorists, but traffic is light, and few people are going to pick up a man with a shotgun. Perhaps realizing this, Cole ditches the gun and continues. Gerry's RV becomes stuck in the sand on the way to Wooddale, leaving her and Amanda stranded.Hours later, Cole finally makes it to town, and finds the store that was attacked by the rabbits the previous night. The rabbits are still inside, feasting on the food as they wait for the sun to go down. Finding no help here, Cole takes off again on foot, needing to find help, or at least shelter, before dark. During the day, Roy, Elgin, and the sheriff arrive at the mine, and they find it empty. The sheriff calls the National Guard. In the afternoon, Cole finally is able to get a ride with a priest.The sheriff gets authorization to use the National Guard, but he is unable to contact Cole, since the switchboard at Galanos is out. Cole, riding with the priest, finally reaches a phone and calls in, and tells the sheriff where the rabbits are. The sheriff sends a deputy out to pick him up, but it will be dark soon, and the National Guard will not be able to arrive in time to catch the rabbits before they start moving again. They will likely move toward Ajo, so the sheriff decides to evacuate the town. Meanwhile, Roy is getting worried, since he has not yet heard from Gerry. It gets dark, and the rabbits start to move again, leaving the ruins of Galanos behind. The policemen get more reports of death and destruction from the areas in the rabbits' path and proceed with the evacuation as best as they can. His deputy, who has picked up Cole, reports that the rabbits are right behind them, moving fast and coming in a front about two miles wide, and they have but 50 minutes to prepare before the rabbits reach Ajo.The National Guard major realizes he doesn't have enough men to handle a front of rabbits that long. Roy has an idea involving using the railroad. He calls the railroad dispatcher, and asks him to isolate a siding near town. The deputies can then hook electrical power up to the isolated section of railroad, and the rabbits will be electrocuted as they cross it. The National Guard will use its men to funnel the rabbits onto this section of railroad. However, there is a freight train on the tracks, and they will have to wait for it to pass before implementing the plan.Needing more help, the sheriff goes to the local drive-in movie theater, and enlists the help of the patrons. He has them line up their cars with the lights on to help drive the rabbits in the desired direction. Roy still hasn't heard from Gerry, and he asks the sheriff to check. There have been no calls, and Elgin has called Wooddale and Gerry has not yet arrived. He asks the sheriff to being the helicopter back so that he can go look for her.Meanwhile, Gerry and Amanda are still trying to free their RV from the sand. It's dark now, and they have made no progress. Hearing the noises from the rabbits in the distance, Gerry sends Amanda into the RV while she gets the emergency flares from the glove compartment. From the air, Roy can see lots of rabbits on the road that Gerry was supposed to take. The rabbits arrive at the RV, and Gerry holds them at bay with the flares, but she has a finite supply of them. Finally, the helicopter arrives. The noise and lights drive off the rabbits, and the family is saved. The rabbits attack a herd of cattle instead, causing a stampede.The sheriff has the deputies ready to electrify the railroad, but the train still hasn't cleared the tracks, and the rabbits are getting closer to town. Roy and his family return in the helicopter and the deputy turns the power off just as the train starts passing, amid more reports of death and destruction from the area. When the train passes, the men set wooden stakes in the railroad to keep the section of track isolated, and then turn the power on. The trap is set. Soon, the rabbits come into sight, and the National Guardsmen start shooting at them. The lights from the cars repulse the rabbits just as hoped, and they run straight for the railroad. When they reach it, the electricity does it work, killing the rabbits that reach the tracks. Sparks fly from the overtaxed transformers overhead, but the power stays on. Few rabbits make it past, and the men have no trouble shooting them with their guns. Eventually, the ground is covered with thousands of dead rabbits.Some time later, Cole reports that life is getting back to normal and he has repaired his ranch. Better still, some coyotes have been heard nearby, keeping the normal rabbits in check naturally. He invites them to visit the ranch some time.\n",
            "\n",
            "Rank = 14.03125\n",
            "Title: Justice League: The New Frontier\n",
            "Plot: The film (set from 1953~1960) begins with an unknown entity (voiced by Keith David) explaining how it has witnessed the evolution of life on Earth:Like all things on this hurtling sphere, I emerged from the molten center of creation. But mine has been a unique path. Isolated, I developed attributes beyond those of lesser beings. Then the sphere was struck by a vast celestial stone. Black chunks of death filled the skies and the world became a chaotic garden of doom. Soon the sphere began to nurture new kinds of life. And there was one that stood above the rest. Its fragile shell belied its vicious nature. And in what seemed like a heartbeat, these things proliferated in both number and destructive means. Now they have harnessed the most destructive force. And I, The Centre, have concluded that the sphere must be cleansed of them.This explanation is shown being written and illustrated under the title \"The Last Story\" by a mysterious person who then shoots himself.\n",
            "The film cuts to the end of the Korean War, where United States Air Force pilot Hal Jordan (voiced by David Boreanaz) and his wingman, Kyle \"Ace\" Morgan (voiced by John Heard), are attacked by enemy pilots not yet informed of the ceasefire. Hal is shot down in the ensuing conflict, and forced to kill a North Korean soldier after ejecting to safety. The trauma of this event leads Hal to a mental ward within a hospital for about six months.\n",
            "Elsewhere at Gotham Observatory, the last survivor of the Green Martian race, J'onn J'onzz (voiced by Miguel Ferrer), is inadvertently teleported to Earth by a scientist, Dr. Saul Erdel. The shock of J'onn's appearance causes Erdel to succumb to a heart attack, though not before he apologizes for stranding the Martian. Unable to return to Mars, he disguises himself as Dr. Erdel using his shapeshifting abilities and takes Dr. Erdel's wallet and identification; apprently having read Erdel's mind in his last moments of life to gain an understanding of life on Earth and hence the need for identification.\n",
            "The following year, Superman (voiced by Kyle MacLachlan) meets Wonder Woman (voiced by Lucy Lawless) in Vietnam where she celebrates with a group of women she rescued from political rebels. The Amazon allowed them to exact their own brand of fatal justice upon their captors, which Superman is horrified to learn. He reminds Diana that the government is distrustful at best of super heroes, which has led to the Justice Society's disbanding and Hourman's death, as well as Batman's branding as a fugitive vigilante. Superman also tries to remind her that mitigating the general public's fear is why they signed loyalty oaths to the United States government. Diana, however, resolves that she must do what she feels is right. The two part at odds, and Diana later leaves America to return to Paradise Island. Superman later confides in Lois Lane (voiced by Kyra Sedgwick) about Wonder Woman and Batman, neither of whom, he says, would sacrifice their principles for each other.\n",
            "In Gotham City, J'onn J'onzz has been living quietly under the guise of Dr. Erdel, while learning what he can about humans and Earth society through television. He shape-shifts into different guises during his nightly viewing, such as Groucho Marx and Bugs Bunny, before settling on the form of a film noir detective.\n",
            "In Las Vegas, reporter Iris West (voiced by Vicki Lewis) is on assignment to interview singer Buddy Blake, at the same casino where Hal Jordan and Ace Morgan are enjoying themselves. While Iris is on the phone with her boyfriend Barry Allen (voiced by Neil Patrick Harris), Captain Cold (voiced by James Arnold Taylor) arrives to rob the casino. Hearing the events on the phone, Barry races to Vegas from Central City as The Flash and confronts Cold, who tells him he has hidden six cryogenic bombs around Vegas set to go off in 90 seconds. Flash zips around the city and locates five of the bombs, but deduces the sixth is a decoy, and captures Cold before he can escape by helicopter. Before being subdued, Cold is possessed by the unknown entity from the prologue, who asks Flash why he is faster than \"the other lesser beings\" before leaving the villain.\n",
            "Hal and Ace leave the casino and head into the desert. Hal is unclear about their destination, which Ace keeps a surprise. Ace notices Hal has been acting differently, and Jordan confesses things haven't been the same since the war and his time in the hospital. He also admits his past hospitalization has kept him from getting a job with a top aircraft company. It's after Hal confides in Ace that the two arrive at Ferris Aircraft, where an opening as a test pilot is indeed waiting for Hal, thanks to a recommendation from his friend.\n",
            "Back in Gotham, J'onn joins the Gotham City Police Department under the name John Jones, and with his integrity, cunning analytical skill, and telepathy, quickly rises to the ranks of detective in just two years. After investigating a kidnapping of a child which was later discovered to be part of a sacrificial ritual for a cult that worships something called The Centre, J'onn and his partner Slam Bradley (voiced by Jim Meskimen) meet Batman (voiced by Jeremy Sisto) for the first time as he is also investigating the kidnapping. The two cops join Batman in battle against the cult, but a fire is started during the fight, rendering J'onn powerless until Slam extinguishes it. Afterward, when Batman attempts to free the boy from his bonds, the child is terrified at the sight of him. J'onn arrives to calm the boy down and then he and his partner free the child themselves. The entity which possessed Captain Cold speaks through the incapacitated cult leader, identifying itself as \"The Centre\" and warning of an impending judgment.\n",
            "Hal Jordan begins training exercises under Col. Rick Flag (voiced by Lex Lang) at Ferris Industries. His joking, devil-may-care attitude rubs Flagg the wrong way, but Carol Ferris (voiced by Brooke Shields) is understanding and recognizes Hal's natural ability. Carol also recognizes that Hal needs to know the true nature of his training, which she soon reveals to him: the government has commissioned Ferris Aircraft to build a spacecraft capable of travel to Mars. Special agent King Faraday (voiced by Phil Morris) is assigned to oversee the project, which is in response to Dr. Erdel's contact with Mars and J'onn's arrival.\n",
            "Back in Gotham, the Dark Knight reveals his knowledge of J'onn's true nature in his apartment, as he is able to find a way to shield his mind from J'onn's telepathy, and suggests that they should form an alliance as they are both investigating the cult that is rising throughout the world a cult that worships the Centre. J'onn's demonstration of kindness toward the boy they rescued led Batman to believe that he can be a trusted ally. However, he warns J'onn that should he betray him, he is fully aware of and willing to use the Martian's vulnerability to fire against him.\n",
            "In Central City, The Flash defeats Gorilla Grodd (or, rather, a robotic duplicate), but is targeted by government agents, as they attempt to capture him in an effort to learn the secret of his powers. Though he narrowly escapes, the experience leads the Flash to consider retiring from his crimefighting career as he announces it upon crashing a news report.\n",
            "J'onn J'onzz interrogates Harry Leiter, a former Ferris employee apprehended for murder while under the influence of the Centre. During the questioning, Harry lets word slip about the launch to Mars. Leiter's ramblings are confirmed when Faraday arrives to take him into custody. J'onn briefly glimpses into the agent's mind and learns the truth. After watching the Flash announce his retirement on live television, and seeing the public contemptuous response, a disheartened J'onn attempts to stow away on the rocket so that he may return home. Before leaving, he arrives in Batman's headquarters, the Batcave, revealing that he's been aware of Batman's secrets for quite some time (using his cunning detective skills instead of his telepathy), and gives him the last of his research on The Centre. J'onn reveals to Batman that he's losing faith in humanity, as he sees that there's too much hatred, ignorance, and conformity within the people around him, which made him decide to leave Earth. Batman's response is cold and brief, as he tells J'onn some people don't have the luxury of leaving Earth.\n",
            "While attempting to board the ship, J'onn is seen on camera by Faraday, who confronts J'onn and fights him on the launchpad. J'onn is able to beat Faraday, but saves him from the rocket exhaust by flying him to a platform before collapsing due to exposure to the flames. The rocket is damaged and malfunctions shortly after exiting the atmosphere. Hal wants to attempt a landing, but his co-pilot, Col. Rick Flagg, reveals that the rocket is loaded with weapons of mass destruction, and as such he won't risk a crash landing that could detonate the weapons. After a brief struggle, Hal is ejected from the cockpit. Though he is saved by Superman, the distraction allows Flagg to detonate the rocket.\n",
            "J'onn J'onzz is held as a prisoner by Faraday. Superman blasts Faraday for treating J'onn differently from him (a Kryptonian and thus also an alien), just because J'onn looks radically different. He also points out the captivity is entirely J'onn's decision because he can escape at any time using his powers.\n",
            "On Paradise Island, Wonder Woman trains with Mala, and tells her of how America has changed since the war. Her training partner says the island has changed as well, and that many Amazons desire a change in leadership. Though Diana quickly fends off a challenge from her fellow Amazon, the two of them are soon beset upon by the approaching Centre.\n",
            "Hal Jordan is later found by Abin Sur (voiced by Corey Burton), the Green Lantern of Sector 2814. The destruction of the rocket Abin had been traveling in badly wounds him as he enters Earth's atmosphere, so he instructs his ring to find a worthy replacement. He leaves his ring with Hal, and tells him of The Centre, which he describes as a \"monstrous creature\" that fears humans and seeks their destruction.\n",
            "In the Batcave, Superman reviews J'onn's research with Batman and meets Robin (voiced by Shane Haboucha) for the first time. Batman has altered the design of his suit so it won't frighten an innocent, but is still able to strike terror in the heart of a guilty. As they discuss the Centre, they hear Lois reporting on the attack of a giant pterodactyl at Cape Canaveral. Superman arrives at the scene and quickly defeats the creature. Almost immediately afterwards, Wonder Woman's invisible jet makes a crash landing, its cockpit smeared with blood. Before losing consciousness, Wonder Woman warns Superman that the Centre is coming.\n",
            "Faraday eventually befriends J'onn who saved his life, and occasionally plays chess with him. J'onn reveals to Faraday that he decided to remain at the agent's base willingly because of the upcoming battle with The Centre, and had telepathically looked into the agent's mind during their battle at the platform. J'onn found that Faraday believes that one day the world won't be living in fear and hate. Finding that within Faraday, J'onn has renewed hope for humanity and decides to participate in the battle to save Earth. Before leaving with Faraday, J'onn adopts a new Martian/human superheroic hybrid form as the Martian Manhunter, believing it is honest to his heritage with a friendly appearance to human perception.The Centre Following this, the Centre begins its attack in earnest at the coast of Florida, finally revealed as a massive flying island, with an army of mutated dinosaurs to guard it. The threat draws heroes such as Flash (whom Iris talks into coming out of retirement), Green Arrow, Adam Strange, the Challengers of the Unknown, and the Blackhawks, who clash with the soldiers on base. The conflict is stopped by Superman, who advocates cooperation between the two sides. He is unexpectedly seconded by Faraday, accompanied by J'onn, who agrees that the government and the heroes must work together for survival. With that, Superman heads out to do reconnaissance on the Centre, but is swiftly and shockingly defeated.\n",
            "Moved by his effort, the rest of Earth's superheroes and military forces band together to defeat the Centre. Batman interrupts a meeting between Faraday, J'onn, Will Magnus (voiced by Townsend Coleman), and the Challengers. Batman brought with him Ray Palmer, a scientist known for his work with matter reduction. When one of the Challengers argues the technology is too unreliable, destabilizing anything it shrinks (eventually causing the object to explode), Batman replies that's exactly the point, and a plan is formed to use Palmer's reduction ray to destabilize the island. The heroes will distract the Centre with a frontal assault (while Hal and Ace fly a bombing mission into the creature), leaving Flash to quickly crisscross the island with the ray.\n",
            "While the aerial assault (including Batman and Green Arrow as pilots) is nearly outmatched before the intervention of the Blackhawks, Faraday's ground forces are ambushed by a herd of rampaging mutant dinosaurs. J'onn is overwhelmed by the psychic impact from The Centre and is rescued by Faraday, who is shortly thereafter captured by a dinosaur. As he is about to be eaten by a tyrannosaurus, Faraday grabs two hand grenades and pulls the pins. The dinosaur swallows Faraday and immediately afterwards its head explodes from the grenade detonation, killing both it and Faraday. The shock of his friend's death helps J'onn shake off the Centre's hold, and he and a recovered Wonder Woman help turn the tide of the ground battle.\n",
            "Hal Jordan and Ace Morgan manage to shoot their way into the core of the creature, but are disoriented at first by a hallucinogenic attack. The creature secretes a thick red fluid that jams their weapons and almost suffocates them. It is then that Hal's ring activates, relaying instructions from the Guardians of the Universe (voiced by Robin Atkin Downes) as to its use. Ace manages to detonate his payload, and is rescued by Hal now dressed in a costume identical to Abin Sur's just before his plane explodes.\n",
            "The explosion gives the ground crew their opening as they prepare to send Flash to finish the creature. The speedster is struck by the gravity of the situation and his role in it, but J'onn reassures him that everyone will be behind him. Flash races across the ocean and leaps onto the Centre's surface, covering the entire surface on foot before leaping into the ocean. The Centre begins to shrink, but realizing its imminent destruction, it heads toward land to destroy the humans along with it. Hal realizes what he must do, and envelops the island in green energy, then tows it into space where it explodes.\n",
            "The entire world celebrates the Centre's defeat. As many participants in the battle attend a ceremony, Hal celebrates the victory his own way by pursuing his lifelong dream: flying through space with the aid of his new power ring. During the celebration, Superman is revealed to be injured but still alive, saved by a man named Arthur (voiced by Alan Ritchson) who claims to be from an underwater kingdom. He and his subjects treated Superman's wounds during the battle with the Centre. Superman is reunited with Lois and the rest of the heroes, who are touted so on the front page of the Daily Planet.\n",
            "This monumental victory and display of teamwork changes public opinion about superheroes, and a montage of various heroes and villains (with cameos by Black Canary, Captain Marvel, Plastic Man, Robin, Supergirl, the Teen Titans, Ra's al Ghul, Black Manta, Brainiac, Cheetah, Darkseid, Doctor Light, Doctor Sivana, Gentleman Ghost, Joker, Key, Lex Luthor, Monocle, Mister Mxyzptlk, Harley Quinn, Riddler, Star Sapphire, Two-Face, and Ultra-Humanite) as well as the birth of the world's second generation superhero team: Justice League, set to the titular John F. Kennedy speech, is shown just before the film ends.\n",
            "\n",
            "Rank = 13.734375\n",
            "Title: Alien\n",
            "Plot: Scenes in red appear only in the 2003 Director's Cut. Scenes in blue appear only in the 1979 Theatrical Edition.The opening credits appear in front of a large planet with rings. Cut to the far reaches of deep space: the Nostromo, a commercial towing space vehicle, carrying a refinery with twenty million tons of mineral ore, is en route to Earth with a crew of seven. Inside, the ship appears eerily quiet, but suddenly, the onboard computer is activated. Lights inside the ship are activated, and a room with 7 biobeds is illuminated. The canopies open to wake the crew. Executive Officer Kane (John Hurt) is the first to get out. They congregate in the mess hall, where they cheerfully enjoy a meal. Chief Engineer Parker (Yaphet Kotto) and Engineering Technician Brett (Harry Dean Stanton) take the opportunity to discuss the bonus system, which they find unfair, as they get paid less than the officers. Captain Dallas (Tom Skerritt) is called away by Mother, the ship's computer, before they can have a meaningful conversation. Dallas enters the Mother console room, and tries to assess the situation, as the rest of the crew gets in the cockpit of the ship to determine their location. They quickly deduce that they are not home yet. Navigator Lambert (Veronica Cartwright) finds out that they are at Zeta II Reticuli, and the ship is still quite far from Earth. When Parker and Brett return from their round of the lower deck, complaining about their colleagues' attitude and the bonus system, Dallas briefs the crew: the ship is not even halfway home, and has altered course because it has picked up an unknown signal, which repeats every 12 seconds. The crew has been awoken from cryosleep to investigate. Parker protests, arguing that they're not a rescue team and that they should be compensated for the extra work, but Science Officer Ash (Ian Holm) stipulates that per Company contract, the crew is obliged to investigate every signal from an intelligent source; non-compliance will result in loss of pay, which quickly gets Parker in a cooperative mood.The crew assembles in the cockpit to listen to the signal. It sounds very strange and unearthly, perhaps like a voice. Lambert homes in on it and finds that it comes from a planetoid, 1200 km in diameter, with a 2 hour rotation and some gravity.The Nostromo approaches the planet, which is close to one enormous ringed planet and two smaller ones. The ship separates from the refinery, and sets course to the planet's surface. It descends toward the planet, but the landing is rough, causing damage that will take some time for Parker and Brett to fix (although they allot themselves copious amounts of time). The planet is windy, and visibility is low. As the source of the signal is 2000 meters away and the sun is coming up, Dallas and Kane decide to investigate on foot. A reluctant Lambert is ordered to join. Ash takes place behind an outer window with a communication console, as the team puts on the space suits and leaves the ship to investigate the signal on the planet's windy surface. In the meanwhile, Warrant Officer Ripley (Sigourney Weaver) has gone to the lower deck to inspect the repairs. Parker and Brett ask if there will be a bonus for any discovery which is made on the surface; Ripley assures them that the law guarantees them a share, before returning upstairs, as they keep teasing her. Outside, the team walks between the rocks, through the planetoid's inhabitable atmosphere. Inside the ship, Ash tells Ripley that Mother has not yet deciphered the signal; she volunteers to give it a try. Ripley accesses a console and starts working on the strange signal.Outside, the sun is up and they wind has laid down. The team clears the rock formation, and makes a fascinating discovery. Near the horizon, they see a derelict spacecraft of unknown origin. It is lying against the rocks, vaguely shaped like a horseshoe. Despite Lambert's hesitation, they approach it, losing contact with the Nostromo upon entering the massive ship through an opening at the side. Inside, they find hallways with walls textured like bones. At the end is an elevated platform. It carries the remains of an enormous alien creature in a large chair, now fossilized. Upon initial examination, there is evidence of some unknown trauma to its chest: its ribs are bent outward, as if it exploded from the inside. Lambert wants to leave. Kane then draws the others' attention to a large hole in the floor.Meanwhile, analysis of the unidentified transmission suggests that it is not an SOS, but a warning. Ripley wants to go after the search party, but Ash talks her out of it, reasoning that by the time she gets there, the search team will probably know what the signal means.Kane is lowered into the hole by means of a winch. He finds an enormous tube-like hallway down below, divided into sections and basins. He nears one basin, discovering thousands of leathery objects that resemble large eggs. He also discovers a strange light and mist covering the eggs that reacts when broken. He trips and falls into the pit, but is okay and moves in to investigate further. Kane touches one of the eggs, which seems to give a shriek. He illuminates the egg from behind with a flashlight and discovers movement inside. He grabs a pistol: a strange, spider-like organism is the resident. The egg has flaps on top, which open, revealing its insides. As Kane moves into for a better look, the strange life form inside suddenly leaps out, attaching itself to Kane's helmet.Ash is looking towards the planet's surface, when he sees Dallas and Lambert carrying the unconscious Kane back to the Nostromo. They enter the airlock and ask Ripley to let them in, while Ash waits at the inner airlock door to open it. They inform Ripley that an organism has attached itself to Kane's face. Ripley hesitates, citing quarantine protocol: for the safety of the crew, Kane should first be decontaminated for 24 hours before being brought on board. Dallas fears for Kane's life and orders her to open the door, but she refuses, despite Dallas trying to pull rank. However, Ash disregards Ripley's decision and lets them in.In the infirmary, Dallas and Ash cut Kane's helmet open: they find that a spider-like creature has attached itself to Kane's face, with eight fingers, and a long tail tightly wrapped around his neck. Despite his mouth being blocked, Kane is breathing heavily. Parker, Brett and Lambert observe through a window. Ripley joins them, and is angrily slapped by a furious Lambert for not allowing them to re-enter the ship; the men break the women apart. Dallas berates Ripley for disobeying a direct order, but Ripley furiously replies that she was just following the rules. Ash attempts to remove the creature from Kane's face with a pair of pliers, but it merely tightens its grip, and is holding on so tight that it will tear Kane's skin off with it. Kane is examined with a sophisticated medical scanner, which shows that the creature has inserted a tube into Kane's throat and is feeding him oxygen. Ash deduces that since Kane is comatose and the parasite is feeding him oxygen, removing the creature may kill Kane. However, Dallas is willing to take the risk.Ash tries to cut off one of its legs with a scalpel, but a yellowish fluid pours out of the wound and begins to eat through the floor. Out of concern that the acidic fluid will breach the hull, the crew runs several floors downstairs, and find that the stuff's corrosive effects is neutralized after burning through several decks. Dallas says the substance resembles molecular acid, and Brett comments the creature must be using it for blood. 'Wonderful defense mechanism - you don't dare kill it', growls Parker. Dallas orders everyone back to their posts, as Kane is left in his coma to be tended by Ash.Parker and Brett resume their repairs, commenting that they should never have landed on the planet. As Kane's situation remains unchanged, Ash is collecting data on the creature. He is startled by the sudden presence of Ripley in the infirmary. She wants to know what he has found out yet. Ash can only confirm that the creature's skin is made up of polysaccharides, which it is slowly replacing with silicon to toughen itself up. Ripley then confronts him with his decision to let it aboard, ignoring the quarantine law; Ash defends himself by stating that he did it out of concern for Kane's life, and that he temporarily forgot the fact that Ripley is the officer in charge when Dallas and Kane are away. Ripley replies that by allowing this, he has put all of their lives at risk, which is not appropriate behavior for a science officer. Ash coldly lets her know that he is perfectly capable to make that decision, and she should stick to her own job. Ripley leaves.Dallas is sitting in the Nostromo's escape shuttle, the Narcissus, listening to music, when he is called to the infirmary by Ash, because something has happened to Kane. The creature has detached from Kane's face on its own, and has disappeared. Dallas, Ripley and Ash search the infirmary, and find it when it suddenly drops from an overhead compartment on an unsuspecting Ripley; it appears to be dead, only showing basic reflexes. They take a closer look at it, and confirm it is dead. Ripley wants to get rid of it, fearing that it may become even more harmful when dead; Ash strongly disagrees, given the uniqueness of the specimen. He wants to take it back to Earth for more tests, as it is harmless now. Dallas shares Ripley's sentiment, but leaves the decision to Ash, to Ripley's amazement.Ripley tries to talk some sense into Dallas, who is unwilling to listen to her arguments, replying that he only runs the ship, and the science officer has the final word on all things scientific. Apparently, this is standard procedure nowadays, as per the almighty Company's regulations. Ripley asks if Dallas has ever worked with Ash before. Dallas mentions that he did five tours with the same science officer, but this person was suddenly replaced two days before the Nostromo left Thedus dock. Ripley admits she doesn't trust Ash, but Dallas responds that he doesn't trust anybody. He asks about the status of repairs, which are still underway, but appear completed enough to take the ship off. Even though Ripley does not recommend it, Dallas prefers to leave as soon as possible.After a successful take-off and despite some minor technical errors, the ship docks with the refinery and cargo in orbit. The Nostromo then resumes its course for Earth.The crew is back in the mess hall, bickering again about what to do with Kane. Dallas decides they will all get back into cryosleep. Lambert has calculated that it will take another 10 months to get back to Earth, which spoils their moods even further. Ash suddenly calls Dallas to the infirmary. Kane has awoken, still groggy but seemingly unharmed. He remembers very little of the event, but is starved and wants to eat. The crew decides to have one last meal before they re-enter cryosleep. During the meal, the crew is finally having a good time again, joking and enjoying the food. Kane is eating like he hasn't got food in ages, sharply observed by Ash. Suddenly, Kane begins to choke. After initially thinking he has swallowed something bad, the mood suddenly changes when Kane starts to groan and convulse violently. While he lies writhing and screaming on the table, the crew tries to aid and stabilize him, but his chest suddenly bursts, and a small snake-like alien creature erupts from his insides. It silently observes its surroundings. Parker moves in to kill it with a knife, but he is stopped by Ash. The creature screeches, then scurries away quickly, leaving the crew stunned and horrified.A quick search through the deck yields no results whatsoever. After a short funeral for Kane, where his body is jettisoned into space, the crew members split up into two teams to capture the small creature. Brett assembles a weapon similar to a cattle prod, while Ash rigs together a tracking device. Parker, Brett, and Ripley investigate one of the lower decks, finding that the power has been disrupted despite repairs having been finished. Picking up a signal, they think they have the creature cornered in a cupboard. They prepare to catch it in a net, only to be startled by the discovery that it is the crew's cat, Jones, who had found a quiet place inside the cupboard, and runs away. Realizing they might pick up the cat on the tracker again later, Parker sends Brett off to catch Jones. As Brett is searching for Jones, he finds a mysterious object resembling a shedded snake skin on the floor. He continues on to a hold housing one of the ship's landing struts, eventually catching up with Jones. A strange creature is hanging in the chains above him, seemingly observing him. As Brett tries to coax Jones out, the cat hisses when a huge shape drops down behind him. It is the creature, however now with four limbs, an elongated head, fully grown and towering over Brett. Brett turns around, and is mesmerized while looking at the creature opening its mouth, revealing a second set of teeth which quickly extends from the mouth, biting Brett in the head, and dragging him, bloodied and screaming, above into an air shaft. Ripley and Parker hear him and arrive just in time to catch a glimpse of the monster as Brett disappears and blood drips down.Parker and Ripley can only confirm the creature is big and escaped through the air ducts. Brett is assumed dead. The crew debates their next move. They all agree that the alien is using the air shafts to move around, so if they could drive it from the ducts into an airlock, they might be able to blow it out into space. Ripley asks Ash if he can offer some helpful information as a scientist; Ash suggests the alien may be afraid of fire, as most animals are. Fortunately, there are several flamethrowers on board. Ripley volunteers to enter the air shafts, but Dallas overrules her by volunteering himself.Dallas enters the Mother console once more. He tries to get the Mother computer to evaluate their procedure to get rid of the alien, but Mother simply cannot provide an answer, due to lack of input. He tries to get Mother to offer suggestions, but again, the computer cannot compute, due to lack of available data. Finally, Dallas types \" What are my chances?\" The computer replies that it cannot compute.The main airlock is prepared by Ripley and Ash for the decompression procedure, while Parker and Lambert position themselves where they can measure movement inside the ducts. The main duct is opened and Dallas enters the network of air shafts with a flamethrower, allowing the crew to remote-close valves behind him as he proceeds. Lambert uses a motion tracker to get his location, when she suddenly catches another signal going towards him. Assuming it is the alien, Dallas uses the flamethrower to make sure that one of the ducts leading down is safe. He ascends a ladder to the lower duct, but the alien's signal is lost in the meanwhile. He finds a puddle of slime on the floor. Lambert assures him that the alien cannot be far, so he uses the flame thrower around him to scare it out of hiding; nothing is there. Dallas is disoriented in the cramped space and starts to panic, when the other signal starts moving again, at higher speed to his location. Lambert desperately urges him to move away. He descends another ladder, turning around, his light illuminating the shrieking creature stretching its arms towards him. Static and feedback interrupt the line, and then there is only silence.Parker puts Dallas' flamethrower on the table, saying it was just laying in the duct: no blood, no Dallas. Lambert looks as if she is near a nervous breakdown, while Ripley is desperately trying to hide her apprehension. She suggests that in absence of a better idea, they should continue with the old plan. Lambert says it is madness, and suggests abandoning the ship with the shuttle; however, the shuttle cannot sustain four people. Parker also opposes the idea, and wants to kill the creature; even if this means entering the entire duct system again, and blowing the alien out of the airlock. He leaves to re-fill the flamethrower. Ripley once again tries to get helpful information from Ash, but he says he is still analyzing. She scoffs at him for being so little help, and decides to go and try Mother for answers, since she now has access in light of Dallas' absence.Ripley enters the Mother console, and queries Mother for answers as to why they are unable to neutralize the alien. Mother responds that she cannot clarify. Ripley asks Mother to explain that. Mother replies that she cannot, referring to 'Special Order 937' , which is only meant to be read by the science officer. Ripley uses a command override to force Mother to explain what Special Order 937 entails. Mother displays the following shocking text: 'Nostromo rerouted to new coordinates. Investigate life form. Gather specimen. Priority one: insure return of organism for analysis. All other considerations secondary. Crew expendable.' As she contemplates the cold, hard words, she suddenly finds Ash sitting next to her, saying there is an explanation for this. Furiously, she grabs and yells at him, sobbing uncontrollably. She leaves the console, trying to contact Parker and Lambert, but she finds that Ash is closing all doors leaving the mess hall, preventing her from leaving. She demands that he open the doors, but Ash simply stares at her. She notices a drop of white liquid running down his face, and he starts to have facial twitches. Unnerved, she tries to run away, but he suddenly grabs her hair; Ripley breaks free, pulling out a lock of hair, and tries to run. Ash quickly catches up and throws her against a few walls. While she is barely conscious, Ash uses a rolled-up magazine in order to choke her. She starts to struggle fiercely as Ash starts to twitch and make incoherent noises. Suddenly, Parker and Lambert arrive, both trying to drag Ash away from Ripley. Parker howls in pain as Ash grabs a piece of skin on his chest, forcing him to let go. Parker quickly grabs a fire extinguisher and hits Ash with it in the back. Ash starts to convulse and shriek violently, making very inhuman sounds while spitting out white liquid. Parker gives him another blow with the extinguisher, dislodging Ash's head, revealing Ash is an android. He keeps ponding Ash until he is on the floor, white liquid gushing from its insides. Ash' movements start to decrease and Parker settles down, but suddenly, the decapitated body grabs him and forces him onto a table; Lambert finally grabs the electric prod and screams as she stabs Ash in the back with it, finally rendering the android lifeless.With Ash disabled, Ripley theorizes that the Company sent him along to bring an alien back for their weapons division, as Ash was always very protective of the creature. They reconnect his disembodied head to see if he can give them any advice on how to deal with the creature. Ash confirms that his order was to bring back the life-form, even if it meant sacrificing the crew. Ripley asks how they can kill the creature. He tells them they have no chance against it, as it is \"the perfect organism\". He has a silent admiration for it, \"a survivor, unclouded by conscience, remorse and delusions of morality\". When he mocks their chances of survival, Ripley disconnects him again. The three survivors decide to follow Lambert's earlier suggestion; set the Nostromo to self-destruct and escape in the shuttle, leaving the Alien to die on the main ship. As they leave the room, Parker turns the flamethrower on Ash's corpse, melting his remains. Ripley will prep the shuttle for launch, while Parker and Lambert go to gather coolant for the shuttle's life-support system.While prepping the shuttle, Ripley hears the cat meowing on the ship's open intercom system, and realizes Jones is still left behind. Lambert and Parker are in the hold gathering equipment. They proceed to a small room where the coolant is stored. Ripley ventures out alone, into the hallways of the Nostromo to find Jones the cat. Expecting the alien at every turn, Ripley finally locates the cat in the cockpit, where he startles her as he suddenly jumps into view. She puts him into his traveling container. In the meanwhile, Parker and Lambert are working so feverishly on the supplies, that neither of them pays attention to a large shadow that has appeared inside the room. It is the alien, and it closes in on Lambert. Ripley can hear Parker over the open intercom, shouting to Lambert to get out of the way, but the alien has cornered her against the wall. Parker is unable to get a clear shot at it with the flamethrower without risking harm to Lambert, as it is hulking over her. Finally, he charges at the creature, but it rapidly spins, whipping the flamethrower out of his hands with its long tail, and grabbing him with its large claws. Despite his struggle, the creature holds a tight grip, opens its mouth, and its bizarre inner jaws pierce Parker's head, instantly killing him. As Ripley rushes towards their position, she is powerless to prevent the creature from turning back to Lambert. It curls its tail around her, and the final thing that Ripley can hear from the intercom are the sounds of Lambert, crying, sobbing, gagging and screaming. Ripley finds their blodied and lifeless bodies in the storage room where they had been working in, with no sign of the alien.In terrible shock, Ripley dashes towards the emergency room without stopping. Between the sobs, she locates the ship's self-destruct mechanism and quickly completes the entire procedure to activate it. The voice of Mother now announces that the self-destruct mechanism has been activated, and the ship will detonate in 10 minutes; however, the self-destruct can still be canceled during the first five minutes.Ripley takes a ladder to the lower deck, where she hears a soft groan. She inspects the hold, and finds a strange organic structure adhering to the walls and machinery. Shocked, she finds Dallas stuck within the adhesive, barely alive. On the opposite wall, she notices a shape which vaguely resembles Brett; he seems to be dissolving, transforming into an object like the eggs seen in the derelict ship. Dallas very weakly begs Ripley to kill him. After some hesitation, she grants his dying request: she burns them both with the flamethrower and rushes out of the chamber.Ripley crawls up a ladder, and runs towards the shuttle with Jones in the container. She briefly rests against a wall, when she suddenly hears the alien stirring around the corner. Terrified, she drops the cat carrier and carefully retraces her steps along the wall, as the alien slowly comes into view around the corner. It shows interest in Jones. The alien slams the container against a wall. Ripley races back to the self-destruct mechanism and tries to override the procedure; however, she is too late, as the mechanism is already starting to activate. She restarts the cooling unit, but Mother announces that it is too late to stop the countdown, and the Nostromo will explode in 5 minutes, much to Ripley's frustrated anger. With sirens blaring and steam releasing from the vents, Ripley runs back to the shuttle loading area, ready to make her best attempt to fight off the alien and get into the lifeboat. However, the alien is nowhere to be seen, only the cat container lying on its side. As fires start to erupt, she picks up Jones and boards the shuttle with only one minute to abandon ship. She quickly runs through the launch sequence, and the shuttle lowers to launch position as Mother starts counting down the last 30 seconds of the Nostromo's life. The shuttle's engines ignite and the ship races away from the Nostromo, which grows smaller by the second. A series of mighty explosions follow as the Nostromo vanishes in fire, destroying the refinery and ore it had been carrying. Ripley is relieved it destroyed the alien along with it.Ripley gives Jones an hug and prepares one of the biobeds for cryosleep, putting Jones in it. As she makes final preparations for the ship, a hand suddenly reaches out to her from a wall; she shrieks, and in horror, she sees the alien lying in an alcove. It had, in fact, stowed away aboard the shuttle, its external physicality making it blend in with the ship's machinery. She flees into a locker with space suits inside, and notices the alien is not following her; it remains lying in the alcove, seemingly unable to do something. Ripley gets an idea, and dons one of the spacesuits. She arms herself with a harpoon gun, then straps herself into a chair while singing 'You are my lucky star' to calm her nerves. Opening a series of air vents above the alien's head, Ripley tests them one at a time, and then finds one that directly blasts high-pressure steam onto the alien, driving it screaming from its hiding spot. As she is activating several buttons, she doesn't notice the monster creeping up to her from the side, until it is standing next to her to its full, menacing 2-meter height, ready to attack with its inner jaw. Screaming, she opens the shuttle's airlock door. Everything not secured, including the alien, blasts towards the door. The alien, however, grabs the edges of the doorway to prevent itself from being sucked outside. Ripley quickly fires her harpoon before the creature is able to haul itself in; it pierces the screaming alien, which lets go of the doorway and blasts outside, the wire connecting the gun to the harpoon pulling the gun out of Ripley's hands. However, the door slams shut, jamming the wire under it. Still tethered to the door by the wire, the alien undauntedly attempts to re-enter the ship by climbing inside one of the heat thrusters. Ripley, however, sees the opportunity and fires the engines, incinerating the alien, and sending it drifting into space.Before she and Jones enter hypersleep for the trip home, Ripley records a final log entry, stating that Kane, Lambert, Parker, Brett, Ash and captain Dallas are dead. Cargo and ship are destroyed. She expects to reach the frontier in six weeks, and to be picked up by the network. She signs off as Ripley, last survivor of the Nostromo, and gets into hypersleep.End credits.\n",
            "\n"
          ]
        }
      ],
      "source": [
        "for i in range(3):\n",
        "    print(f\"Rank = {results[i]['score']}\")\n",
        "    print(f\"{results[i]['content']}\\n\")"
      ]
    },
    {
      "cell_type": "markdown",
      "metadata": {
        "id": "lbxAc6SGc07N"
      },
      "source": [
        "# Use as LangChain Retriever"
      ]
    },
    {
      "cell_type": "code",
      "execution_count": 13,
      "metadata": {
        "id": "KwHotCW0qJpK"
      },
      "outputs": [],
      "source": [
        "retriever = RAG.as_langchain_retriever(k=3)"
      ]
    },
    {
      "cell_type": "code",
      "execution_count": 14,
      "metadata": {
        "colab": {
          "base_uri": "https://localhost:8080/"
        },
        "id": "u6jRQ3HzqLSy",
        "outputId": "8e57f244-f2e2-441f-a409-cfd583681946"
      },
      "outputs": [
        {
          "name": "stderr",
          "output_type": "stream",
          "text": [
            "/usr/local/lib/python3.10/dist-packages/colbert/utils/amp.py:15: FutureWarning: `torch.cuda.amp.autocast(args...)` is deprecated. Please use `torch.amp.autocast('cuda', args...)` instead.\n",
            "  return torch.cuda.amp.autocast() if self.activated else NullContextManager()\n"
          ]
        }
      ],
      "source": [
        "resultats = retriever.invoke(\"Movie that talk about animals\")"
      ]
    },
    {
      "cell_type": "code",
      "execution_count": 15,
      "metadata": {
        "colab": {
          "base_uri": "https://localhost:8080/"
        },
        "id": "3RyQ3DHqpodE",
        "outputId": "f42c6de7-c17e-4a2c-94a6-b7ef5e8a6596"
      },
      "outputs": [
        {
          "name": "stdout",
          "output_type": "stream",
          "text": [
            "Content: Title: Night of the Lepus\n",
            "Plot: The movie opens showing a news report about how overpopulation is not just a human problem, but exists in the animal kingdom as well, using the rabbit population explosion in Australia in the 1950s as an example. There was a similar plague of rabbits getting out of hand in the American Southwest, especially in Arizona, where the rabbits were devouring crops, destroying property, and out-competing livestock for a finite supply of food and water.Moving to the action in Arizona, our first view is of rancher Cole Hillman, riding his horse. The horse steps into a rabbit hole and injures itself, and Cole must shoot it and walk home. He instructs one of his ranch hands to take the truck to go get his saddle, then makes a phone call to the university in Ajo, hoping to find a cure for the rabbit infestation. He meets Dr. Elgin Clark, but his first suggestion is for the same person who killed all the coyotes that were keeping the rabbits in check. Cole is hesitant to make the same mistake twice, but agrees to visit the Bennett family, scientific researchers who are looking for more ecologically friendly ways of controlling wildlife.We meet the Bennetts, father Roy, mother Gerry, and daughter Amanda. Roy was capturing bats for an experiment. They want to control the bats' flight pattern, hoping to use them to kill mosquitoes, without the nasty side effects of DDT and other insecticides. Elgin Clark comes to see him and asks him to visit Cole, to see if he could come up with an ecologically friendly way to solve the rabbit problem. On the way there, they see ranchers desperately shooting at rabbits trying to preserve their livelihoods.At Cole's ranch, Cole explains his problem. Although hardly an environmentalist, Cole has reasons of his own for not wanting to use poison to kill the rabbits. The poison would harm his cattle, so he would have to sell them at distress prices, and eventually his land would become toxic and barren. He can hold out only a few more weeks before using the cyanide, and the other ranchers are anxious to use it sooner. Roy suggests interfering with the rabbits' hormones, or introducing a disease that affects only rabbits, and takes several rabbits with him to begin experiments. Meanwhile, their daughter Amanda becomes friends with Cole's son Jackie.Back at the university, the experiments are not producing any useful results. They will never have a solution in time to save Cole's ranch. He tries one last injection, in an untested rabbit, over the objections of Amanda, who has become attached to the rabbit in question. While her parents' backs are turned, the mischievous little girl switches the rabbit with another one from the control group, hoping to protect it from further harm. Then she pesters her parents into letting her adopt it as a pet. They think that the rabbit is from the control group and thus has had no injections.They return to Cole's ranch to pick up more rabbits for experimentation, but Jackie does not like Amanda's new pet, since the rabbits are a menace to his family and they killed his chickens at one point. He seizes the rabbit and releases it, and it runs away. Amanda forgives him and they go off together to talk.At the university, the experiments have failed. Some of the rabbits have grown enormously, but are otherwise unaffected. Roy, depsite his misgivings, calls Cole to tell him to do what he needs to do. Cole has one more try, though. He sets part of his range on fire, sacrificing some of his land in hopes of creating a strip of charred land that is completely devoid of food and water, that the rabbits will not be able to cross. Some of the other ranchers are skeptical, but they trust Cole's judgment enough to delay their own use of poisons a little longer. The fire drives away the rabbits, for awhile.While inspecting the land, the Bennetts and Cole find an unusual animal track. They don't know what the animal was, but they know that it was big. Meanwhile, Jackie takes Amanda to meet a friend of his, Captain Billy, who has a gold mine in the hills. Arriving at the mine, they find no one home. He sends Amanda into the mine to look while he looks outside. Jackie finds more animal tracks, while Amanda sees the shadows of enormous rabbits. Then she sees a dead body, presumably that of Billy. She screams and runs out of the mine. We next see her being examined by a doctor, who determines she only had a shock and will be fine. Jackie describes what he could remember, but everything happened very fast; he doesn't remember much.At night, a driver with a refrigerated truck stops to check his truck, and hears the thunder of paws and heavy breathing nearby, but it's too dark to see what's going on. He fails to get back in the truck while the getting is good, and is attacked by the rabbits. The next morning, a policeman finds the abandoned truck, its cargo of vegetables scattered over the ground, and then finds the driver's body. He calls for the sheriff to examine the body. While he is there, he gets a call. The body has been recovered from the mine, and it is Captain Billy, looking as badly mutilated as the truck driver.Back in town, the coroner determines that the bodies and boxes of vegetables were not chopped with an axe, but were chewed or gnawed. He can't think of what animal could cause so much destruction, except maybe a saber-toothed tiger. Meanwhile, another policeman finds more mutilated bodies nearby.At the university, Roy and Elgin realize that the huge rabbits that Amanda saw are likely the cause of the destruction, and are probably the result of their experiment. They debate calling the sheriff, but Elgin, fearing the bad publicity that it would draw to the university, talks them out of it until they can gather more evidence. Roy tells Gerry to go call Cole, intending to go see him the next day to look for the rabbits, and try to destroy them.The next day, Elgin, the Bennetts, Cole, and his ranch hands Frank and Jud, arrive at the mine with cyanide and dynamite. Elgin and Frank go up into the hills to look for more holes and plant dynamite, while Jud and Cole plant dynamite at the main entrance. Elgin drops a rock into one of the holes and listens to the noises the rabbits make in reaction, holding out his radio microphone so that Roy and Gerry can hear it too. Roy and Cole go into the mine, hoping to capture a rabbit, or if that isn't possible, take a picture. They go in, camera and shotgun in hand. The others are apprehensive as Roy and Cole remain inside the mine, out of reach. Finally, Roy and Cole reach the chamber where the rabbits are holed up, and realize that using the gun may cause a cave in. They see them clearly for the first time, describing them as big as wolves and just as vicious. Roy takes several pictures, but the rabbits start to chase them, and they must escape. They didn't mark their way, so they are in danger of making a wrong turn and becoming trapped. Meanwhile, another giant rabbit burrows out of the ground outside and attacks Jud, and Gerry must save him by shooting the rabbit, and treat his injuries. Time passes, and the groups outside become more worried for Roy and Cole's safety. Finally, they reach the entrance of the mine and run out, and Elgin sets off the dynamite, collapsing the mine and burying many rabbits.At the university, Elgin examines the photographs, and he realizes that it is time to inform the sheriff. They plan to go back to the mine the next day, to make sure all the rabbits are dead. Roy, realizing that the press will be all over the place soon, advises Gerry to take Amanda and go to another town, for their privacy, until the whole thing blows over. Next, we see rabbits leaving the mine; obviously the cave-in left a significant number of them to escape and raise more havoc. The thunder of paws panics Cole's horses, waking him up. The horses soon escape. Cole gets his family together in the storm shelter under his house, while the rabbits attack the horses. Jud, still panicked from his encounter with the rabbits earlier, runs to the truck and flees. He encounters the herd of rabbits and quickly turns around and drives back to the ranch. In his panic, he crashes the truck, knocking out the phone lines to Cole's house, just when Cole was trying to call for help. Jud runs from the truck, but the rabbits have arrived and they pounce on him. Cole shoots at them, but it's too late to save Jud. He joins his family in the shelter. There is a tense moment as the rabbits try to scratch through the door, but they are driven off. The rabbits get into the house's main floor and destroy everything inside. Cole and Frank keep them from scratching through the floor by shooting at them.At the store in the town of Galanos, the switchboard operator Mildred is unsure what to think of Cole's telephone line going out suddenly, while Cole sounded agitated. It's late, so her husband and a friend take off to go home. Soon, she can hear the thunder of paws, too, and she looks out the window to check. The rabbits have arrived and they jump through the window to pounce on her. The rabbits also reach her house, where they catch and kill her husband before he can get inside.In the morning, Cole and Frank go outside; the rabbits have holed up somewhere for the day. They mourn Jud, and Cole tells Frank to stay with Jackie while he goes to town. The horses are gone and his truck is wrecked, so his only option is to walk, shotgun in hand. Meanwhile, Roy sends Gerry and Amanda off in their RV to Wooddale. She promises him to call him when she gets there. Roy and Elgin contact the sheriff, who has already been informed of the rabbits. They get into a helicopter to check the area around the mine. Meanwhile, Cole has a long walk. He tries to flag down passing motorists, but traffic is light, and few people are going to pick up a man with a shotgun. Perhaps realizing this, Cole ditches the gun and continues. Gerry's RV becomes stuck in the sand on the way to Wooddale, leaving her and Amanda stranded.Hours later, Cole finally makes it to town, and finds the store that was attacked by the rabbits the previous night. The rabbits are still inside, feasting on the food as they wait for the sun to go down. Finding no help here, Cole takes off again on foot, needing to find help, or at least shelter, before dark. During the day, Roy, Elgin, and the sheriff arrive at the mine, and they find it empty. The sheriff calls the National Guard. In the afternoon, Cole finally is able to get a ride with a priest.The sheriff gets authorization to use the National Guard, but he is unable to contact Cole, since the switchboard at Galanos is out. Cole, riding with the priest, finally reaches a phone and calls in, and tells the sheriff where the rabbits are. The sheriff sends a deputy out to pick him up, but it will be dark soon, and the National Guard will not be able to arrive in time to catch the rabbits before they start moving again. They will likely move toward Ajo, so the sheriff decides to evacuate the town. Meanwhile, Roy is getting worried, since he has not yet heard from Gerry. It gets dark, and the rabbits start to move again, leaving the ruins of Galanos behind. The policemen get more reports of death and destruction from the areas in the rabbits' path and proceed with the evacuation as best as they can. His deputy, who has picked up Cole, reports that the rabbits are right behind them, moving fast and coming in a front about two miles wide, and they have but 50 minutes to prepare before the rabbits reach Ajo.The National Guard major realizes he doesn't have enough men to handle a front of rabbits that long. Roy has an idea involving using the railroad. He calls the railroad dispatcher, and asks him to isolate a siding near town. The deputies can then hook electrical power up to the isolated section of railroad, and the rabbits will be electrocuted as they cross it. The National Guard will use its men to funnel the rabbits onto this section of railroad. However, there is a freight train on the tracks, and they will have to wait for it to pass before implementing the plan.Needing more help, the sheriff goes to the local drive-in movie theater, and enlists the help of the patrons. He has them line up their cars with the lights on to help drive the rabbits in the desired direction. Roy still hasn't heard from Gerry, and he asks the sheriff to check. There have been no calls, and Elgin has called Wooddale and Gerry has not yet arrived. He asks the sheriff to being the helicopter back so that he can go look for her.Meanwhile, Gerry and Amanda are still trying to free their RV from the sand. It's dark now, and they have made no progress. Hearing the noises from the rabbits in the distance, Gerry sends Amanda into the RV while she gets the emergency flares from the glove compartment. From the air, Roy can see lots of rabbits on the road that Gerry was supposed to take. The rabbits arrive at the RV, and Gerry holds them at bay with the flares, but she has a finite supply of them. Finally, the helicopter arrives. The noise and lights drive off the rabbits, and the family is saved. The rabbits attack a herd of cattle instead, causing a stampede.The sheriff has the deputies ready to electrify the railroad, but the train still hasn't cleared the tracks, and the rabbits are getting closer to town. Roy and his family return in the helicopter and the deputy turns the power off just as the train starts passing, amid more reports of death and destruction from the area. When the train passes, the men set wooden stakes in the railroad to keep the section of track isolated, and then turn the power on. The trap is set. Soon, the rabbits come into sight, and the National Guardsmen start shooting at them. The lights from the cars repulse the rabbits just as hoped, and they run straight for the railroad. When they reach it, the electricity does it work, killing the rabbits that reach the tracks. Sparks fly from the overtaxed transformers overhead, but the power stays on. Few rabbits make it past, and the men have no trouble shooting them with their guns. Eventually, the ground is covered with thousands of dead rabbits.Some time later, Cole reports that life is getting back to normal and he has repaired his ranch. Better still, some coyotes have been heard nearby, keeping the normal rabbits in check naturally. He invites them to visit the ranch some time.\n",
            "Metadata: {}\n",
            "Content: Title: My Life So Far\n",
            "Plot: The film tells the story of how the Pettigrew family, living in their family estate Kiloran House in Scotland, deal with changes brought by the end of World War I, told through the point of view of one of the Pettigrew children, Fraser (Robert Norman).\n",
            "The family is headed by the maternal grandmother MacIntosh (Rosemary Harris), affectionately known as \"Gamma\", whose decisions are to be obeyed without question. Gamma's son Morris (Malcolm McDowell) left home to build a career for himself and succeed as a well-to-do businessman; while her younger daughter Moira (Mary Elizabeth Mastrantonio) followed the traditional route - she fell in love with Edward Pettigrew (Colin Firth), gave up a promising chance at becoming an opera singer, settled down at her family estate and raised a large family.\n",
            "Edward is a typical country gentry of his time - owns a minor business (turning sphagnum moss into medical dressings), a pious man and defender of traditional values (gives a speech at every Sunday service), loves and listens only to Beethoven and has a passion for inventions and mechanical improvements all over the estate. All of which are laughed at by Morris, who lives in London but comes back to visit often, as he is competing with Edward to inherit the estate after Gamma passes away; the two can barely conceal their loathing for each other.\n",
            "Edward does not appreciate and resists waves of new changes in the world, but the harder he tries, the more things fall apart. Morris and his beautiful and charming French fiancee Heloise (Irène Jacob) introduce jazz to the children (\"the sound of the devil speaking\" according to Edward). An emergency landing brings the eldest daughter Elspeth's (Kelly Macdonald) first suitor - French show pilot Gabriel Chenoux (Tchéky Karyo). Fraser discovers grandfather MacIntosh's book collection in the attic, and as an act of rebellion against Edward, sets out to read them all. Without guidance, he misunderstands the definition of \"prostitution\", and believing it to be a business term, suggests to all guests at Morris and Heloise's engagement party that Moira, Heloise and Gamma should go into prostitution to enhance the moss business. Worst of all, Edward finds himself drawn to Heloise, and makes a pass at her prior to the wedding.\n",
            "While passing out food during a curling game held in her husband's honor, Gamma falls through the ice into the lake. Although she is pulled up immediately, she dies of pneumonia soon after. Gamma's will leaves the estate to Edward, leading to the ultimate altercation between Edward and Morris at her wake. Edward boasts that Morris has lost more than the estate to him, causing Moira to finally confront him and tell him that she has been aware of his affair with Heloise all along.\n",
            "It takes months before Edward's efforts finally win back Moira, and the family settles back into its old routine. On a Sunday morning, all Pettigrews are heading to church, except Fraser. Edward finds him relaxing in a chaise longue in the library, a cognac glass filled with milk in one hand and a lit cigar in the other, swaying his head and body to a gramophone recording of Louis Armstrong's \"On the Sunny Side of the Street\" (a secret gift from Heloise). Instead of being thrown into a fit of rage, he smiles and closes the door, leaving Fraser to enjoy himself.\n",
            "Metadata: {}\n",
            "Content: Title: Cat's Eye\n",
            "Plot: The film consists of three stories linked together by a cat as he wanders from city to city, seeking out a little girl (Drew Barrymore) in order to save her from a supernatural danger. As a result of it's wanderings, the cat plays a minor role in the first two stories and a significant part in the third.\"Quitters Inc.\"In the first tale, set in and around New York City, the cat is captured by a man who works for a self-help firm called Quitters Inc, that aids people in quitting smoking. On a busy NY street, a man, Dick, is driven to an office building by a friend who tells him \"These guys'll change your life.\" At his first visit, his counselor, Vinnie Donatti, asks Dick for all his cigarettes and crushes them wildly on his desk. Dick tells him that this form of treatment leaves much to be desired, however, Donatti gets to the actual treatment. He opens a large set of curtains in the room, showing a white room containing a cat eating at a small bowl. Donatti flips a switch that sends a low charge of electricity into the floor of the room, causing the cat to jump around wildly. Donatti cuts the power after a few seconds and explains to Dick that the association of pain with eating may one day cause the cat to starve in front of it's dish. Donatti tells Dick that his treatment begins right away; there will be people watching him constantly, night and day. If Dick smokes one cigarette, he will be punished. Dick suggests that they will bring him in and give him the shock treatment. Donatti says it will not be Dick, but his wife that will be tortured in the room. Further treatments will be increased voltage and beatings of both him and his wife. If he's unable to give up smoking after 30 days, he will be killed.Dick goes home very troubled. Late at night, he sneaks into his home office and begins to light a cigarette when he hears a noise from the room's closet. Though he's not completely certain anyone is hiding in the closet, he still tells the person that he didn't actually light the cigarette. Dick is able to keep from smoking for several more days until he's stuck in traffic. He opens his glove compartment looking for some gum and finds an old pack of cigarettes. He ducks below the dashboard and lights up, waving the smoke off. When he looks over to his left, he sees one of Donatti's men drive off, smiling evilly. Dick races home and finds his wife gone. He gets a phone call from Donatti, who tells him to report to Quitters Inc. When he arrives, he sees his wife in the cat's room. He tries to free her by breaking the glass and Donatti's goon subdues him and makes him watch his wife being shocked. Dick is devastated and wonders how he'll explain everything to his wife. Donatti says he may be surprised at how his wife takes the news. His wife seems to understand that Dick has done this for her and for his mentally-impaired daughter, who lives at a special boarding school.Several months later, Dick receives another phone call from Donatti. Dick has been cigarette-free for that long but Donatti says they need to discuss another issue. Dick has gained a significant amount of weight, something that happens to the majority of Donatti's clients. He prescribes some illegal diet pills for Dick and tells him to use them wisely. If he's unable to control his weight, Donatti will send someone to Dick's house to cut off his wife's little finger. Some time after that last meeting, with Dick successful at keeping his weight down, he and his wife have dinner with the man who originally told Dick about Quitters Inc. The group makes a toast to Quitters Inc. Dick's friend's wife, however, is missing her little finger.\"The Ledge\"The second story opens in Atlantic City with a rich businessman, Cressner, betting on the same cat (which had escaped from Quitters Inc), seeing if it can cross a busy street safely. Though it causes a minor car crash, the cat makes it safely and Cressner decides to keep it for a pet.In another part of the city, a man, Johnny Norris, a tennis instructor, is beaten and kidnapped by two of Cressner's thugs. He's brought to Cressner's penthouse where Cressner tells him that he knows he's been having an affair with Cressner's wife. Cressner offers Norris several options: he can agree to indentured servitude to Cressner for several years and be free, but not see Cressner's wife again, or he can skirt the entire outside of the building on a ledge about five inches wide, about 300 feet above the ground. If he completes the entire circuit, he'll be free and he can have Cressner's wife. If Norris refuses both options, the police will be tipped off about a kilo of pure heroin Cressner's thugs have hidden in the trunk of Norris' car.Norris agrees to walk the ledge outside the building. Completing the entire circuit around the building takes him about three hours. Along the way, he encounters sheer winds at the corners and is constantly taunted by Cressner himself, who sneaks into the penthouse opposite his own and honks a horn in Norris' ear through an open window. After Norris battles a pigeon that pecks his ankle, nearly sending him plummeting to the street, he stops in the window well of another penthouse. When Cressner discovers him there, he uses a fire house to soak him and threatens to blast him over the side.Before Norris makes it back to the outdoor balcony of Cressner's penthouse, Cressner has his goon, Tony, bring in a bag of money and a small Styrofoam crate, telling Tony to \"put it on top of the money\" in the bag. When Norris finally makes it to Cressner's balcony, he climbs over the railing and is immediately grabbed by Tony, who takes him at gunpoint to his boss. Cressner says he'll honor the bargain and give Norris the money and his wife, however, when he kicks the bag, a severed head flies out... it is his wife's head. Cressner orders Tony to shoot Norris; as Tony takes aim, Cressner's cat trips him up and he loses his gun (the cat runs out the apartment's open door to freedom). Norris seizes it and shoots Tony, then holds Cressner hostage. Cressner pleads for his life, offering several million dollars. Norris refuses and makes a simple wager... the next scene shows Cressner on the same ledge he forced Norris to skirt. Cressner gets moving, making it around the first corner. However, when he reaches the side of the building where the pigeons roost, one begins pecking his ankle. Cressner kicks a bit too hard at the bird, loses his balance and falls to the street. On the ground, the cat silently witnesses his impact.\"The General\"The cat makes his way to a suburban town on a delivery truck in Wilmington, North Carolina. There, he is taken in by a young girl, Amanda (the same girl from the vision in the opening scene), who names him \"General.\" Amanda's mother immediately disapproves of her keeping the cat as a pet, saying that \"cats can steal a young girl's breath\" while they sleep. That night, the cat sleeps in Amanda's room. While the child sleeps, a hole opens up in a baseboard and a small, ugly troll emerges. He tries to climb up on Amanda's bed, but is startled by the cat and a short battle ensues, resulting in the troll's escape back into the hole it opened, which is immediately closed up. Amanda's parents, having heard the ruckus, burst into her room. Her mother immediately blames the cat for all the damage and assumes the cat was attacking her daughter. Amanda defends General, telling them about the troll. Naturally, they don't believe her, thinking she had a nightmare.The next day, while Amanda is at school, her mother lures General into a pet carrier and takes him to the pound, which leaves Amanda very upset after she gets home. At the pound, General is to be euthanized; Amanda's mother had told the staff there that the cat had attacked her daughter. One of the staff opens his cage and the cat escapes, running back to Amanda's house.In the girl's bedroom, the troll again emerges from the baseboard and places a small wedge under the door to keep intruders out. He crawls up to Amanda's bed, where she's fast asleep. He begins to use a form of magic that draws Amanda's breath from her mouth. Amanda quickly becomes distressed, finding it difficult to breath in her sleep. After a few moments, General finds his way in through the chimney shaft and immediately attacks the troll. They battle again throughout the room until the cat corners the troll on Amanda's small record player. General hits the button that starts the record, spinning the monster around. General then hits the switch that changes the rotation to 78 rpm; the troll is unable to hold on very long and is flung across the room into a fan, where it's mutilated, leaving behind a few recognizable body parts. Amanda's parents, who had been pounding on the door but unable to enter because of the doorstop wedged there, finally burst in. The mother is furious at seeing Amanda holding the cat, however, Amanda is able to defend General this time, pointing them toward the wrecked fan and the troll's remains. Her father sees one of the monster's arms, as well as it's tiny sword. They look at the weapon, bewildered. Amanda's mother makes her daughter promise she'll never talk about the troll outside of their family. Amanda slyly asks if the cat can stay and her mother allows it. Later that night the cat crawls into Amanda's parents bed where she's sleeping with them. She sees him & cuddles him.\n",
            "Metadata: {}\n"
          ]
        }
      ],
      "source": [
        "for doc in resultats:\n",
        "    print(\"Content:\", doc.page_content)\n",
        "    print(\"Metadata:\", doc.metadata)"
      ]
    }
  ],
  "metadata": {
    "accelerator": "GPU",
    "colab": {
      "gpuType": "T4",
      "provenance": []
    },
    "kaggle": {
      "accelerator": "nvidiaTeslaT4",
      "dataSources": [],
      "dockerImageVersionId": 30823,
      "isGpuEnabled": true,
      "isInternetEnabled": true,
      "language": "python",
      "sourceType": "notebook"
    },
    "kernelspec": {
      "display_name": "Python 3",
      "language": "python",
      "name": "python3"
    },
    "language_info": {
      "codemirror_mode": {
        "name": "ipython",
        "version": 3
      },
      "file_extension": ".py",
      "mimetype": "text/x-python",
      "name": "python",
      "nbconvert_exporter": "python",
      "pygments_lexer": "ipython3",
      "version": "3.10.12"
    },
    "widgets": {
      "application/vnd.jupyter.widget-state+json": {
        "017ac1e8159c4080995e67530f376b0a": {
          "model_module": "@jupyter-widgets/controls",
          "model_module_version": "1.5.0",
          "model_name": "HBoxModel",
          "state": {
            "_dom_classes": [],
            "_model_module": "@jupyter-widgets/controls",
            "_model_module_version": "1.5.0",
            "_model_name": "HBoxModel",
            "_view_count": null,
            "_view_module": "@jupyter-widgets/controls",
            "_view_module_version": "1.5.0",
            "_view_name": "HBoxView",
            "box_style": "",
            "children": [
              "IPY_MODEL_b0910406bbee4752addfff000b96cc0b",
              "IPY_MODEL_84bc2d27d7ca40a788a7527e8f09cd8d",
              "IPY_MODEL_3e6fff031ac74fbca6b5209ec95613d9"
            ],
            "layout": "IPY_MODEL_523b848cd9124fd49f02c2a21c9e0b6b"
          }
        },
        "051e7e190b8245abbca979c213de085c": {
          "model_module": "@jupyter-widgets/base",
          "model_module_version": "1.2.0",
          "model_name": "LayoutModel",
          "state": {
            "_model_module": "@jupyter-widgets/base",
            "_model_module_version": "1.2.0",
            "_model_name": "LayoutModel",
            "_view_count": null,
            "_view_module": "@jupyter-widgets/base",
            "_view_module_version": "1.2.0",
            "_view_name": "LayoutView",
            "align_content": null,
            "align_items": null,
            "align_self": null,
            "border": null,
            "bottom": null,
            "display": null,
            "flex": null,
            "flex_flow": null,
            "grid_area": null,
            "grid_auto_columns": null,
            "grid_auto_flow": null,
            "grid_auto_rows": null,
            "grid_column": null,
            "grid_gap": null,
            "grid_row": null,
            "grid_template_areas": null,
            "grid_template_columns": null,
            "grid_template_rows": null,
            "height": null,
            "justify_content": null,
            "justify_items": null,
            "left": null,
            "margin": null,
            "max_height": null,
            "max_width": null,
            "min_height": null,
            "min_width": null,
            "object_fit": null,
            "object_position": null,
            "order": null,
            "overflow": null,
            "overflow_x": null,
            "overflow_y": null,
            "padding": null,
            "right": null,
            "top": null,
            "visibility": null,
            "width": null
          }
        },
        "083e778cfa0245a486957d9acc57cd42": {
          "model_module": "@jupyter-widgets/base",
          "model_module_version": "1.2.0",
          "model_name": "LayoutModel",
          "state": {
            "_model_module": "@jupyter-widgets/base",
            "_model_module_version": "1.2.0",
            "_model_name": "LayoutModel",
            "_view_count": null,
            "_view_module": "@jupyter-widgets/base",
            "_view_module_version": "1.2.0",
            "_view_name": "LayoutView",
            "align_content": null,
            "align_items": null,
            "align_self": null,
            "border": null,
            "bottom": null,
            "display": null,
            "flex": null,
            "flex_flow": null,
            "grid_area": null,
            "grid_auto_columns": null,
            "grid_auto_flow": null,
            "grid_auto_rows": null,
            "grid_column": null,
            "grid_gap": null,
            "grid_row": null,
            "grid_template_areas": null,
            "grid_template_columns": null,
            "grid_template_rows": null,
            "height": null,
            "justify_content": null,
            "justify_items": null,
            "left": null,
            "margin": null,
            "max_height": null,
            "max_width": null,
            "min_height": null,
            "min_width": null,
            "object_fit": null,
            "object_position": null,
            "order": null,
            "overflow": null,
            "overflow_x": null,
            "overflow_y": null,
            "padding": null,
            "right": null,
            "top": null,
            "visibility": null,
            "width": null
          }
        },
        "0a1a942d70e440ccb1af8ad5a0dd21d6": {
          "model_module": "@jupyter-widgets/controls",
          "model_module_version": "1.5.0",
          "model_name": "HTMLModel",
          "state": {
            "_dom_classes": [],
            "_model_module": "@jupyter-widgets/controls",
            "_model_module_version": "1.5.0",
            "_model_name": "HTMLModel",
            "_view_count": null,
            "_view_module": "@jupyter-widgets/controls",
            "_view_module_version": "1.5.0",
            "_view_name": "HTMLView",
            "description": "",
            "description_tooltip": null,
            "layout": "IPY_MODEL_b707dbace3f349519ed465b1bc310eea",
            "placeholder": "​",
            "style": "IPY_MODEL_708721d782e84d6c87896341705103d1",
            "value": "tokenizer.json: 100%"
          }
        },
        "0a762570dc37467c9292e6dff6634096": {
          "model_module": "@jupyter-widgets/controls",
          "model_module_version": "1.5.0",
          "model_name": "DescriptionStyleModel",
          "state": {
            "_model_module": "@jupyter-widgets/controls",
            "_model_module_version": "1.5.0",
            "_model_name": "DescriptionStyleModel",
            "_view_count": null,
            "_view_module": "@jupyter-widgets/base",
            "_view_module_version": "1.2.0",
            "_view_name": "StyleView",
            "description_width": ""
          }
        },
        "0c99ba25297442479b5b22f482bb160f": {
          "model_module": "@jupyter-widgets/base",
          "model_module_version": "1.2.0",
          "model_name": "LayoutModel",
          "state": {
            "_model_module": "@jupyter-widgets/base",
            "_model_module_version": "1.2.0",
            "_model_name": "LayoutModel",
            "_view_count": null,
            "_view_module": "@jupyter-widgets/base",
            "_view_module_version": "1.2.0",
            "_view_name": "LayoutView",
            "align_content": null,
            "align_items": null,
            "align_self": null,
            "border": null,
            "bottom": null,
            "display": null,
            "flex": null,
            "flex_flow": null,
            "grid_area": null,
            "grid_auto_columns": null,
            "grid_auto_flow": null,
            "grid_auto_rows": null,
            "grid_column": null,
            "grid_gap": null,
            "grid_row": null,
            "grid_template_areas": null,
            "grid_template_columns": null,
            "grid_template_rows": null,
            "height": null,
            "justify_content": null,
            "justify_items": null,
            "left": null,
            "margin": null,
            "max_height": null,
            "max_width": null,
            "min_height": null,
            "min_width": null,
            "object_fit": null,
            "object_position": null,
            "order": null,
            "overflow": null,
            "overflow_x": null,
            "overflow_y": null,
            "padding": null,
            "right": null,
            "top": null,
            "visibility": null,
            "width": null
          }
        },
        "15bf75be2ff94eb482d20bf939b9b6dd": {
          "model_module": "@jupyter-widgets/controls",
          "model_module_version": "1.5.0",
          "model_name": "FloatProgressModel",
          "state": {
            "_dom_classes": [],
            "_model_module": "@jupyter-widgets/controls",
            "_model_module_version": "1.5.0",
            "_model_name": "FloatProgressModel",
            "_view_count": null,
            "_view_module": "@jupyter-widgets/controls",
            "_view_module_version": "1.5.0",
            "_view_name": "ProgressView",
            "bar_style": "success",
            "description": "",
            "description_tooltip": null,
            "layout": "IPY_MODEL_e20818f648fc4d5fbb6fac71d1715739",
            "max": 231508,
            "min": 0,
            "orientation": "horizontal",
            "style": "IPY_MODEL_b596ae140160446480c5daa0613e8df1",
            "value": 231508
          }
        },
        "1e568259bf8347de9ba7d21bc2e82578": {
          "model_module": "@jupyter-widgets/controls",
          "model_module_version": "1.5.0",
          "model_name": "DescriptionStyleModel",
          "state": {
            "_model_module": "@jupyter-widgets/controls",
            "_model_module_version": "1.5.0",
            "_model_name": "DescriptionStyleModel",
            "_view_count": null,
            "_view_module": "@jupyter-widgets/base",
            "_view_module_version": "1.2.0",
            "_view_name": "StyleView",
            "description_width": ""
          }
        },
        "220429394d394dd0aaa0e8a1a8237dea": {
          "model_module": "@jupyter-widgets/controls",
          "model_module_version": "1.5.0",
          "model_name": "DescriptionStyleModel",
          "state": {
            "_model_module": "@jupyter-widgets/controls",
            "_model_module_version": "1.5.0",
            "_model_name": "DescriptionStyleModel",
            "_view_count": null,
            "_view_module": "@jupyter-widgets/base",
            "_view_module_version": "1.2.0",
            "_view_name": "StyleView",
            "description_width": ""
          }
        },
        "225d47c4529742468e49b4f5212992a8": {
          "model_module": "@jupyter-widgets/controls",
          "model_module_version": "1.5.0",
          "model_name": "DescriptionStyleModel",
          "state": {
            "_model_module": "@jupyter-widgets/controls",
            "_model_module_version": "1.5.0",
            "_model_name": "DescriptionStyleModel",
            "_view_count": null,
            "_view_module": "@jupyter-widgets/base",
            "_view_module_version": "1.2.0",
            "_view_name": "StyleView",
            "description_width": ""
          }
        },
        "25802200a6e6441fac745751069666ae": {
          "model_module": "@jupyter-widgets/base",
          "model_module_version": "1.2.0",
          "model_name": "LayoutModel",
          "state": {
            "_model_module": "@jupyter-widgets/base",
            "_model_module_version": "1.2.0",
            "_model_name": "LayoutModel",
            "_view_count": null,
            "_view_module": "@jupyter-widgets/base",
            "_view_module_version": "1.2.0",
            "_view_name": "LayoutView",
            "align_content": null,
            "align_items": null,
            "align_self": null,
            "border": null,
            "bottom": null,
            "display": null,
            "flex": null,
            "flex_flow": null,
            "grid_area": null,
            "grid_auto_columns": null,
            "grid_auto_flow": null,
            "grid_auto_rows": null,
            "grid_column": null,
            "grid_gap": null,
            "grid_row": null,
            "grid_template_areas": null,
            "grid_template_columns": null,
            "grid_template_rows": null,
            "height": null,
            "justify_content": null,
            "justify_items": null,
            "left": null,
            "margin": null,
            "max_height": null,
            "max_width": null,
            "min_height": null,
            "min_width": null,
            "object_fit": null,
            "object_position": null,
            "order": null,
            "overflow": null,
            "overflow_x": null,
            "overflow_y": null,
            "padding": null,
            "right": null,
            "top": null,
            "visibility": null,
            "width": null
          }
        },
        "2693bb19c2d24bdeb7e6c07af36a116c": {
          "model_module": "@jupyter-widgets/controls",
          "model_module_version": "1.5.0",
          "model_name": "DescriptionStyleModel",
          "state": {
            "_model_module": "@jupyter-widgets/controls",
            "_model_module_version": "1.5.0",
            "_model_name": "DescriptionStyleModel",
            "_view_count": null,
            "_view_module": "@jupyter-widgets/base",
            "_view_module_version": "1.2.0",
            "_view_name": "StyleView",
            "description_width": ""
          }
        },
        "2c56ddc122574dfebcf58b34baaa68a5": {
          "model_module": "@jupyter-widgets/base",
          "model_module_version": "1.2.0",
          "model_name": "LayoutModel",
          "state": {
            "_model_module": "@jupyter-widgets/base",
            "_model_module_version": "1.2.0",
            "_model_name": "LayoutModel",
            "_view_count": null,
            "_view_module": "@jupyter-widgets/base",
            "_view_module_version": "1.2.0",
            "_view_name": "LayoutView",
            "align_content": null,
            "align_items": null,
            "align_self": null,
            "border": null,
            "bottom": null,
            "display": null,
            "flex": null,
            "flex_flow": null,
            "grid_area": null,
            "grid_auto_columns": null,
            "grid_auto_flow": null,
            "grid_auto_rows": null,
            "grid_column": null,
            "grid_gap": null,
            "grid_row": null,
            "grid_template_areas": null,
            "grid_template_columns": null,
            "grid_template_rows": null,
            "height": null,
            "justify_content": null,
            "justify_items": null,
            "left": null,
            "margin": null,
            "max_height": null,
            "max_width": null,
            "min_height": null,
            "min_width": null,
            "object_fit": null,
            "object_position": null,
            "order": null,
            "overflow": null,
            "overflow_x": null,
            "overflow_y": null,
            "padding": null,
            "right": null,
            "top": null,
            "visibility": null,
            "width": null
          }
        },
        "2c95e3602e054ffca7ba132491a6800b": {
          "model_module": "@jupyter-widgets/controls",
          "model_module_version": "1.5.0",
          "model_name": "ProgressStyleModel",
          "state": {
            "_model_module": "@jupyter-widgets/controls",
            "_model_module_version": "1.5.0",
            "_model_name": "ProgressStyleModel",
            "_view_count": null,
            "_view_module": "@jupyter-widgets/base",
            "_view_module_version": "1.2.0",
            "_view_name": "StyleView",
            "bar_color": null,
            "description_width": ""
          }
        },
        "2f11ea4b7de5456292442d3728513389": {
          "model_module": "@jupyter-widgets/base",
          "model_module_version": "1.2.0",
          "model_name": "LayoutModel",
          "state": {
            "_model_module": "@jupyter-widgets/base",
            "_model_module_version": "1.2.0",
            "_model_name": "LayoutModel",
            "_view_count": null,
            "_view_module": "@jupyter-widgets/base",
            "_view_module_version": "1.2.0",
            "_view_name": "LayoutView",
            "align_content": null,
            "align_items": null,
            "align_self": null,
            "border": null,
            "bottom": null,
            "display": null,
            "flex": null,
            "flex_flow": null,
            "grid_area": null,
            "grid_auto_columns": null,
            "grid_auto_flow": null,
            "grid_auto_rows": null,
            "grid_column": null,
            "grid_gap": null,
            "grid_row": null,
            "grid_template_areas": null,
            "grid_template_columns": null,
            "grid_template_rows": null,
            "height": null,
            "justify_content": null,
            "justify_items": null,
            "left": null,
            "margin": null,
            "max_height": null,
            "max_width": null,
            "min_height": null,
            "min_width": null,
            "object_fit": null,
            "object_position": null,
            "order": null,
            "overflow": null,
            "overflow_x": null,
            "overflow_y": null,
            "padding": null,
            "right": null,
            "top": null,
            "visibility": null,
            "width": null
          }
        },
        "3400a8f86be048da97787debe82ff98f": {
          "model_module": "@jupyter-widgets/controls",
          "model_module_version": "1.5.0",
          "model_name": "FloatProgressModel",
          "state": {
            "_dom_classes": [],
            "_model_module": "@jupyter-widgets/controls",
            "_model_module_version": "1.5.0",
            "_model_name": "FloatProgressModel",
            "_view_count": null,
            "_view_module": "@jupyter-widgets/controls",
            "_view_module_version": "1.5.0",
            "_view_name": "ProgressView",
            "bar_style": "success",
            "description": "",
            "description_tooltip": null,
            "layout": "IPY_MODEL_5a853743480747a7be24e95d19afdef6",
            "max": 743,
            "min": 0,
            "orientation": "horizontal",
            "style": "IPY_MODEL_db03b211a3ad4234b17ee2745c1fa92e",
            "value": 743
          }
        },
        "36b0de658b7847ebb7336af33f2f3416": {
          "model_module": "@jupyter-widgets/controls",
          "model_module_version": "1.5.0",
          "model_name": "DescriptionStyleModel",
          "state": {
            "_model_module": "@jupyter-widgets/controls",
            "_model_module_version": "1.5.0",
            "_model_name": "DescriptionStyleModel",
            "_view_count": null,
            "_view_module": "@jupyter-widgets/base",
            "_view_module_version": "1.2.0",
            "_view_name": "StyleView",
            "description_width": ""
          }
        },
        "38896f75b2f24f4390c649a153663234": {
          "model_module": "@jupyter-widgets/controls",
          "model_module_version": "1.5.0",
          "model_name": "HBoxModel",
          "state": {
            "_dom_classes": [],
            "_model_module": "@jupyter-widgets/controls",
            "_model_module_version": "1.5.0",
            "_model_name": "HBoxModel",
            "_view_count": null,
            "_view_module": "@jupyter-widgets/controls",
            "_view_module_version": "1.5.0",
            "_view_name": "HBoxView",
            "box_style": "",
            "children": [
              "IPY_MODEL_0a1a942d70e440ccb1af8ad5a0dd21d6",
              "IPY_MODEL_f5f1dc8873344284af358fae2b63099a",
              "IPY_MODEL_54fbd2b95a77461fa1cdeab5bbd64eab"
            ],
            "layout": "IPY_MODEL_2c56ddc122574dfebcf58b34baaa68a5"
          }
        },
        "3c600dfbda744279a1bde1058b58dcc4": {
          "model_module": "@jupyter-widgets/base",
          "model_module_version": "1.2.0",
          "model_name": "LayoutModel",
          "state": {
            "_model_module": "@jupyter-widgets/base",
            "_model_module_version": "1.2.0",
            "_model_name": "LayoutModel",
            "_view_count": null,
            "_view_module": "@jupyter-widgets/base",
            "_view_module_version": "1.2.0",
            "_view_name": "LayoutView",
            "align_content": null,
            "align_items": null,
            "align_self": null,
            "border": null,
            "bottom": null,
            "display": null,
            "flex": null,
            "flex_flow": null,
            "grid_area": null,
            "grid_auto_columns": null,
            "grid_auto_flow": null,
            "grid_auto_rows": null,
            "grid_column": null,
            "grid_gap": null,
            "grid_row": null,
            "grid_template_areas": null,
            "grid_template_columns": null,
            "grid_template_rows": null,
            "height": null,
            "justify_content": null,
            "justify_items": null,
            "left": null,
            "margin": null,
            "max_height": null,
            "max_width": null,
            "min_height": null,
            "min_width": null,
            "object_fit": null,
            "object_position": null,
            "order": null,
            "overflow": null,
            "overflow_x": null,
            "overflow_y": null,
            "padding": null,
            "right": null,
            "top": null,
            "visibility": null,
            "width": null
          }
        },
        "3e6fff031ac74fbca6b5209ec95613d9": {
          "model_module": "@jupyter-widgets/controls",
          "model_module_version": "1.5.0",
          "model_name": "HTMLModel",
          "state": {
            "_dom_classes": [],
            "_model_module": "@jupyter-widgets/controls",
            "_model_module_version": "1.5.0",
            "_model_name": "HTMLModel",
            "_view_count": null,
            "_view_module": "@jupyter-widgets/controls",
            "_view_module_version": "1.5.0",
            "_view_name": "HTMLView",
            "description": "",
            "description_tooltip": null,
            "layout": "IPY_MODEL_7183bd422ae94f69bee424fd0bde671e",
            "placeholder": "​",
            "style": "IPY_MODEL_36b0de658b7847ebb7336af33f2f3416",
            "value": " 405/405 [00:00&lt;00:00, 19.1kB/s]"
          }
        },
        "4661170ac8ec438d9c96e28ad5ebf11c": {
          "model_module": "@jupyter-widgets/controls",
          "model_module_version": "1.5.0",
          "model_name": "HTMLModel",
          "state": {
            "_dom_classes": [],
            "_model_module": "@jupyter-widgets/controls",
            "_model_module_version": "1.5.0",
            "_model_name": "HTMLModel",
            "_view_count": null,
            "_view_module": "@jupyter-widgets/controls",
            "_view_module_version": "1.5.0",
            "_view_name": "HTMLView",
            "description": "",
            "description_tooltip": null,
            "layout": "IPY_MODEL_619ea2b2e130482db65ff0a168726c9f",
            "placeholder": "​",
            "style": "IPY_MODEL_6778db8cb0c24e4ca3e702d142817a3e",
            "value": " 232k/232k [00:00&lt;00:00, 11.1MB/s]"
          }
        },
        "4cc9d7219e2f4675aed0949c1b2f599c": {
          "model_module": "@jupyter-widgets/controls",
          "model_module_version": "1.5.0",
          "model_name": "HTMLModel",
          "state": {
            "_dom_classes": [],
            "_model_module": "@jupyter-widgets/controls",
            "_model_module_version": "1.5.0",
            "_model_name": "HTMLModel",
            "_view_count": null,
            "_view_module": "@jupyter-widgets/controls",
            "_view_module_version": "1.5.0",
            "_view_name": "HTMLView",
            "description": "",
            "description_tooltip": null,
            "layout": "IPY_MODEL_741bdcbc5784428b911796213d70f203",
            "placeholder": "​",
            "style": "IPY_MODEL_220429394d394dd0aaa0e8a1a8237dea",
            "value": "model.safetensors: 100%"
          }
        },
        "4d3529da717a47a5a0b611af44d7ad57": {
          "model_module": "@jupyter-widgets/base",
          "model_module_version": "1.2.0",
          "model_name": "LayoutModel",
          "state": {
            "_model_module": "@jupyter-widgets/base",
            "_model_module_version": "1.2.0",
            "_model_name": "LayoutModel",
            "_view_count": null,
            "_view_module": "@jupyter-widgets/base",
            "_view_module_version": "1.2.0",
            "_view_name": "LayoutView",
            "align_content": null,
            "align_items": null,
            "align_self": null,
            "border": null,
            "bottom": null,
            "display": null,
            "flex": null,
            "flex_flow": null,
            "grid_area": null,
            "grid_auto_columns": null,
            "grid_auto_flow": null,
            "grid_auto_rows": null,
            "grid_column": null,
            "grid_gap": null,
            "grid_row": null,
            "grid_template_areas": null,
            "grid_template_columns": null,
            "grid_template_rows": null,
            "height": null,
            "justify_content": null,
            "justify_items": null,
            "left": null,
            "margin": null,
            "max_height": null,
            "max_width": null,
            "min_height": null,
            "min_width": null,
            "object_fit": null,
            "object_position": null,
            "order": null,
            "overflow": null,
            "overflow_x": null,
            "overflow_y": null,
            "padding": null,
            "right": null,
            "top": null,
            "visibility": null,
            "width": null
          }
        },
        "4f64ea15de4c4b89a9843793cce6c875": {
          "model_module": "@jupyter-widgets/controls",
          "model_module_version": "1.5.0",
          "model_name": "HBoxModel",
          "state": {
            "_dom_classes": [],
            "_model_module": "@jupyter-widgets/controls",
            "_model_module_version": "1.5.0",
            "_model_name": "HBoxModel",
            "_view_count": null,
            "_view_module": "@jupyter-widgets/controls",
            "_view_module_version": "1.5.0",
            "_view_name": "HBoxView",
            "box_style": "",
            "children": [
              "IPY_MODEL_b4c8feaf4ba74831bf021405c2ce2f0d",
              "IPY_MODEL_15bf75be2ff94eb482d20bf939b9b6dd",
              "IPY_MODEL_4661170ac8ec438d9c96e28ad5ebf11c"
            ],
            "layout": "IPY_MODEL_aef3fb05cd494e05a6619dfb44843268"
          }
        },
        "523b848cd9124fd49f02c2a21c9e0b6b": {
          "model_module": "@jupyter-widgets/base",
          "model_module_version": "1.2.0",
          "model_name": "LayoutModel",
          "state": {
            "_model_module": "@jupyter-widgets/base",
            "_model_module_version": "1.2.0",
            "_model_name": "LayoutModel",
            "_view_count": null,
            "_view_module": "@jupyter-widgets/base",
            "_view_module_version": "1.2.0",
            "_view_name": "LayoutView",
            "align_content": null,
            "align_items": null,
            "align_self": null,
            "border": null,
            "bottom": null,
            "display": null,
            "flex": null,
            "flex_flow": null,
            "grid_area": null,
            "grid_auto_columns": null,
            "grid_auto_flow": null,
            "grid_auto_rows": null,
            "grid_column": null,
            "grid_gap": null,
            "grid_row": null,
            "grid_template_areas": null,
            "grid_template_columns": null,
            "grid_template_rows": null,
            "height": null,
            "justify_content": null,
            "justify_items": null,
            "left": null,
            "margin": null,
            "max_height": null,
            "max_width": null,
            "min_height": null,
            "min_width": null,
            "object_fit": null,
            "object_position": null,
            "order": null,
            "overflow": null,
            "overflow_x": null,
            "overflow_y": null,
            "padding": null,
            "right": null,
            "top": null,
            "visibility": null,
            "width": null
          }
        },
        "54fbd2b95a77461fa1cdeab5bbd64eab": {
          "model_module": "@jupyter-widgets/controls",
          "model_module_version": "1.5.0",
          "model_name": "HTMLModel",
          "state": {
            "_dom_classes": [],
            "_model_module": "@jupyter-widgets/controls",
            "_model_module_version": "1.5.0",
            "_model_name": "HTMLModel",
            "_view_count": null,
            "_view_module": "@jupyter-widgets/controls",
            "_view_module_version": "1.5.0",
            "_view_name": "HTMLView",
            "description": "",
            "description_tooltip": null,
            "layout": "IPY_MODEL_ba67a2731a054f61b21c6e09a5351a34",
            "placeholder": "​",
            "style": "IPY_MODEL_98f7464a4ec0429ca6bf72c53d230b58",
            "value": " 466k/466k [00:00&lt;00:00, 6.17MB/s]"
          }
        },
        "58127642d42049978a71d486d110f5dd": {
          "model_module": "@jupyter-widgets/controls",
          "model_module_version": "1.5.0",
          "model_name": "HTMLModel",
          "state": {
            "_dom_classes": [],
            "_model_module": "@jupyter-widgets/controls",
            "_model_module_version": "1.5.0",
            "_model_name": "HTMLModel",
            "_view_count": null,
            "_view_module": "@jupyter-widgets/controls",
            "_view_module_version": "1.5.0",
            "_view_name": "HTMLView",
            "description": "",
            "description_tooltip": null,
            "layout": "IPY_MODEL_5a4759a26438469ba0d33f21ef89ffc1",
            "placeholder": "​",
            "style": "IPY_MODEL_2693bb19c2d24bdeb7e6c07af36a116c",
            "value": " 438M/438M [00:02&lt;00:00, 224MB/s]"
          }
        },
        "5a4759a26438469ba0d33f21ef89ffc1": {
          "model_module": "@jupyter-widgets/base",
          "model_module_version": "1.2.0",
          "model_name": "LayoutModel",
          "state": {
            "_model_module": "@jupyter-widgets/base",
            "_model_module_version": "1.2.0",
            "_model_name": "LayoutModel",
            "_view_count": null,
            "_view_module": "@jupyter-widgets/base",
            "_view_module_version": "1.2.0",
            "_view_name": "LayoutView",
            "align_content": null,
            "align_items": null,
            "align_self": null,
            "border": null,
            "bottom": null,
            "display": null,
            "flex": null,
            "flex_flow": null,
            "grid_area": null,
            "grid_auto_columns": null,
            "grid_auto_flow": null,
            "grid_auto_rows": null,
            "grid_column": null,
            "grid_gap": null,
            "grid_row": null,
            "grid_template_areas": null,
            "grid_template_columns": null,
            "grid_template_rows": null,
            "height": null,
            "justify_content": null,
            "justify_items": null,
            "left": null,
            "margin": null,
            "max_height": null,
            "max_width": null,
            "min_height": null,
            "min_width": null,
            "object_fit": null,
            "object_position": null,
            "order": null,
            "overflow": null,
            "overflow_x": null,
            "overflow_y": null,
            "padding": null,
            "right": null,
            "top": null,
            "visibility": null,
            "width": null
          }
        },
        "5a75572c07db4e09a7c0f0c77df79016": {
          "model_module": "@jupyter-widgets/controls",
          "model_module_version": "1.5.0",
          "model_name": "DescriptionStyleModel",
          "state": {
            "_model_module": "@jupyter-widgets/controls",
            "_model_module_version": "1.5.0",
            "_model_name": "DescriptionStyleModel",
            "_view_count": null,
            "_view_module": "@jupyter-widgets/base",
            "_view_module_version": "1.2.0",
            "_view_name": "StyleView",
            "description_width": ""
          }
        },
        "5a853743480747a7be24e95d19afdef6": {
          "model_module": "@jupyter-widgets/base",
          "model_module_version": "1.2.0",
          "model_name": "LayoutModel",
          "state": {
            "_model_module": "@jupyter-widgets/base",
            "_model_module_version": "1.2.0",
            "_model_name": "LayoutModel",
            "_view_count": null,
            "_view_module": "@jupyter-widgets/base",
            "_view_module_version": "1.2.0",
            "_view_name": "LayoutView",
            "align_content": null,
            "align_items": null,
            "align_self": null,
            "border": null,
            "bottom": null,
            "display": null,
            "flex": null,
            "flex_flow": null,
            "grid_area": null,
            "grid_auto_columns": null,
            "grid_auto_flow": null,
            "grid_auto_rows": null,
            "grid_column": null,
            "grid_gap": null,
            "grid_row": null,
            "grid_template_areas": null,
            "grid_template_columns": null,
            "grid_template_rows": null,
            "height": null,
            "justify_content": null,
            "justify_items": null,
            "left": null,
            "margin": null,
            "max_height": null,
            "max_width": null,
            "min_height": null,
            "min_width": null,
            "object_fit": null,
            "object_position": null,
            "order": null,
            "overflow": null,
            "overflow_x": null,
            "overflow_y": null,
            "padding": null,
            "right": null,
            "top": null,
            "visibility": null,
            "width": null
          }
        },
        "604e728541b3489ba7302263f4c5ed75": {
          "model_module": "@jupyter-widgets/base",
          "model_module_version": "1.2.0",
          "model_name": "LayoutModel",
          "state": {
            "_model_module": "@jupyter-widgets/base",
            "_model_module_version": "1.2.0",
            "_model_name": "LayoutModel",
            "_view_count": null,
            "_view_module": "@jupyter-widgets/base",
            "_view_module_version": "1.2.0",
            "_view_name": "LayoutView",
            "align_content": null,
            "align_items": null,
            "align_self": null,
            "border": null,
            "bottom": null,
            "display": null,
            "flex": null,
            "flex_flow": null,
            "grid_area": null,
            "grid_auto_columns": null,
            "grid_auto_flow": null,
            "grid_auto_rows": null,
            "grid_column": null,
            "grid_gap": null,
            "grid_row": null,
            "grid_template_areas": null,
            "grid_template_columns": null,
            "grid_template_rows": null,
            "height": null,
            "justify_content": null,
            "justify_items": null,
            "left": null,
            "margin": null,
            "max_height": null,
            "max_width": null,
            "min_height": null,
            "min_width": null,
            "object_fit": null,
            "object_position": null,
            "order": null,
            "overflow": null,
            "overflow_x": null,
            "overflow_y": null,
            "padding": null,
            "right": null,
            "top": null,
            "visibility": null,
            "width": null
          }
        },
        "619ea2b2e130482db65ff0a168726c9f": {
          "model_module": "@jupyter-widgets/base",
          "model_module_version": "1.2.0",
          "model_name": "LayoutModel",
          "state": {
            "_model_module": "@jupyter-widgets/base",
            "_model_module_version": "1.2.0",
            "_model_name": "LayoutModel",
            "_view_count": null,
            "_view_module": "@jupyter-widgets/base",
            "_view_module_version": "1.2.0",
            "_view_name": "LayoutView",
            "align_content": null,
            "align_items": null,
            "align_self": null,
            "border": null,
            "bottom": null,
            "display": null,
            "flex": null,
            "flex_flow": null,
            "grid_area": null,
            "grid_auto_columns": null,
            "grid_auto_flow": null,
            "grid_auto_rows": null,
            "grid_column": null,
            "grid_gap": null,
            "grid_row": null,
            "grid_template_areas": null,
            "grid_template_columns": null,
            "grid_template_rows": null,
            "height": null,
            "justify_content": null,
            "justify_items": null,
            "left": null,
            "margin": null,
            "max_height": null,
            "max_width": null,
            "min_height": null,
            "min_width": null,
            "object_fit": null,
            "object_position": null,
            "order": null,
            "overflow": null,
            "overflow_x": null,
            "overflow_y": null,
            "padding": null,
            "right": null,
            "top": null,
            "visibility": null,
            "width": null
          }
        },
        "64f860d094114404b834218bd2379693": {
          "model_module": "@jupyter-widgets/controls",
          "model_module_version": "1.5.0",
          "model_name": "DescriptionStyleModel",
          "state": {
            "_model_module": "@jupyter-widgets/controls",
            "_model_module_version": "1.5.0",
            "_model_name": "DescriptionStyleModel",
            "_view_count": null,
            "_view_module": "@jupyter-widgets/base",
            "_view_module_version": "1.2.0",
            "_view_name": "StyleView",
            "description_width": ""
          }
        },
        "6778db8cb0c24e4ca3e702d142817a3e": {
          "model_module": "@jupyter-widgets/controls",
          "model_module_version": "1.5.0",
          "model_name": "DescriptionStyleModel",
          "state": {
            "_model_module": "@jupyter-widgets/controls",
            "_model_module_version": "1.5.0",
            "_model_name": "DescriptionStyleModel",
            "_view_count": null,
            "_view_module": "@jupyter-widgets/base",
            "_view_module_version": "1.2.0",
            "_view_name": "StyleView",
            "description_width": ""
          }
        },
        "6b97f96595d549029302ee0127df1907": {
          "model_module": "@jupyter-widgets/controls",
          "model_module_version": "1.5.0",
          "model_name": "HTMLModel",
          "state": {
            "_dom_classes": [],
            "_model_module": "@jupyter-widgets/controls",
            "_model_module_version": "1.5.0",
            "_model_name": "HTMLModel",
            "_view_count": null,
            "_view_module": "@jupyter-widgets/controls",
            "_view_module_version": "1.5.0",
            "_view_name": "HTMLView",
            "description": "",
            "description_tooltip": null,
            "layout": "IPY_MODEL_e808defebb5e4afb8ebd9bc8e196776f",
            "placeholder": "​",
            "style": "IPY_MODEL_64f860d094114404b834218bd2379693",
            "value": " 1.63k/1.63k [00:00&lt;00:00, 68.1kB/s]"
          }
        },
        "6fb1aab5f7e845fdbf354b75ab720fb1": {
          "model_module": "@jupyter-widgets/controls",
          "model_module_version": "1.5.0",
          "model_name": "HTMLModel",
          "state": {
            "_dom_classes": [],
            "_model_module": "@jupyter-widgets/controls",
            "_model_module_version": "1.5.0",
            "_model_name": "HTMLModel",
            "_view_count": null,
            "_view_module": "@jupyter-widgets/controls",
            "_view_module_version": "1.5.0",
            "_view_name": "HTMLView",
            "description": "",
            "description_tooltip": null,
            "layout": "IPY_MODEL_c9cdbb1bdb1d40089a93b375a05b2393",
            "placeholder": "​",
            "style": "IPY_MODEL_1e568259bf8347de9ba7d21bc2e82578",
            "value": " 743/743 [00:00&lt;00:00, 52.5kB/s]"
          }
        },
        "7026553a89bb4a5d982faa51ca199265": {
          "model_module": "@jupyter-widgets/controls",
          "model_module_version": "1.5.0",
          "model_name": "ProgressStyleModel",
          "state": {
            "_model_module": "@jupyter-widgets/controls",
            "_model_module_version": "1.5.0",
            "_model_name": "ProgressStyleModel",
            "_view_count": null,
            "_view_module": "@jupyter-widgets/base",
            "_view_module_version": "1.2.0",
            "_view_name": "StyleView",
            "bar_color": null,
            "description_width": ""
          }
        },
        "708721d782e84d6c87896341705103d1": {
          "model_module": "@jupyter-widgets/controls",
          "model_module_version": "1.5.0",
          "model_name": "DescriptionStyleModel",
          "state": {
            "_model_module": "@jupyter-widgets/controls",
            "_model_module_version": "1.5.0",
            "_model_name": "DescriptionStyleModel",
            "_view_count": null,
            "_view_module": "@jupyter-widgets/base",
            "_view_module_version": "1.2.0",
            "_view_name": "StyleView",
            "description_width": ""
          }
        },
        "712f64d3628244dbb0fee3dc6db85ef1": {
          "model_module": "@jupyter-widgets/controls",
          "model_module_version": "1.5.0",
          "model_name": "ProgressStyleModel",
          "state": {
            "_model_module": "@jupyter-widgets/controls",
            "_model_module_version": "1.5.0",
            "_model_name": "ProgressStyleModel",
            "_view_count": null,
            "_view_module": "@jupyter-widgets/base",
            "_view_module_version": "1.2.0",
            "_view_name": "StyleView",
            "bar_color": null,
            "description_width": ""
          }
        },
        "713abcb85b8f4f5e8eb0155f11696f6e": {
          "model_module": "@jupyter-widgets/base",
          "model_module_version": "1.2.0",
          "model_name": "LayoutModel",
          "state": {
            "_model_module": "@jupyter-widgets/base",
            "_model_module_version": "1.2.0",
            "_model_name": "LayoutModel",
            "_view_count": null,
            "_view_module": "@jupyter-widgets/base",
            "_view_module_version": "1.2.0",
            "_view_name": "LayoutView",
            "align_content": null,
            "align_items": null,
            "align_self": null,
            "border": null,
            "bottom": null,
            "display": null,
            "flex": null,
            "flex_flow": null,
            "grid_area": null,
            "grid_auto_columns": null,
            "grid_auto_flow": null,
            "grid_auto_rows": null,
            "grid_column": null,
            "grid_gap": null,
            "grid_row": null,
            "grid_template_areas": null,
            "grid_template_columns": null,
            "grid_template_rows": null,
            "height": null,
            "justify_content": null,
            "justify_items": null,
            "left": null,
            "margin": null,
            "max_height": null,
            "max_width": null,
            "min_height": null,
            "min_width": null,
            "object_fit": null,
            "object_position": null,
            "order": null,
            "overflow": null,
            "overflow_x": null,
            "overflow_y": null,
            "padding": null,
            "right": null,
            "top": null,
            "visibility": null,
            "width": null
          }
        },
        "7183bd422ae94f69bee424fd0bde671e": {
          "model_module": "@jupyter-widgets/base",
          "model_module_version": "1.2.0",
          "model_name": "LayoutModel",
          "state": {
            "_model_module": "@jupyter-widgets/base",
            "_model_module_version": "1.2.0",
            "_model_name": "LayoutModel",
            "_view_count": null,
            "_view_module": "@jupyter-widgets/base",
            "_view_module_version": "1.2.0",
            "_view_name": "LayoutView",
            "align_content": null,
            "align_items": null,
            "align_self": null,
            "border": null,
            "bottom": null,
            "display": null,
            "flex": null,
            "flex_flow": null,
            "grid_area": null,
            "grid_auto_columns": null,
            "grid_auto_flow": null,
            "grid_auto_rows": null,
            "grid_column": null,
            "grid_gap": null,
            "grid_row": null,
            "grid_template_areas": null,
            "grid_template_columns": null,
            "grid_template_rows": null,
            "height": null,
            "justify_content": null,
            "justify_items": null,
            "left": null,
            "margin": null,
            "max_height": null,
            "max_width": null,
            "min_height": null,
            "min_width": null,
            "object_fit": null,
            "object_position": null,
            "order": null,
            "overflow": null,
            "overflow_x": null,
            "overflow_y": null,
            "padding": null,
            "right": null,
            "top": null,
            "visibility": null,
            "width": null
          }
        },
        "741bdcbc5784428b911796213d70f203": {
          "model_module": "@jupyter-widgets/base",
          "model_module_version": "1.2.0",
          "model_name": "LayoutModel",
          "state": {
            "_model_module": "@jupyter-widgets/base",
            "_model_module_version": "1.2.0",
            "_model_name": "LayoutModel",
            "_view_count": null,
            "_view_module": "@jupyter-widgets/base",
            "_view_module_version": "1.2.0",
            "_view_name": "LayoutView",
            "align_content": null,
            "align_items": null,
            "align_self": null,
            "border": null,
            "bottom": null,
            "display": null,
            "flex": null,
            "flex_flow": null,
            "grid_area": null,
            "grid_auto_columns": null,
            "grid_auto_flow": null,
            "grid_auto_rows": null,
            "grid_column": null,
            "grid_gap": null,
            "grid_row": null,
            "grid_template_areas": null,
            "grid_template_columns": null,
            "grid_template_rows": null,
            "height": null,
            "justify_content": null,
            "justify_items": null,
            "left": null,
            "margin": null,
            "max_height": null,
            "max_width": null,
            "min_height": null,
            "min_width": null,
            "object_fit": null,
            "object_position": null,
            "order": null,
            "overflow": null,
            "overflow_x": null,
            "overflow_y": null,
            "padding": null,
            "right": null,
            "top": null,
            "visibility": null,
            "width": null
          }
        },
        "7458eea97cb3447f93afbb3e57920b2c": {
          "model_module": "@jupyter-widgets/base",
          "model_module_version": "1.2.0",
          "model_name": "LayoutModel",
          "state": {
            "_model_module": "@jupyter-widgets/base",
            "_model_module_version": "1.2.0",
            "_model_name": "LayoutModel",
            "_view_count": null,
            "_view_module": "@jupyter-widgets/base",
            "_view_module_version": "1.2.0",
            "_view_name": "LayoutView",
            "align_content": null,
            "align_items": null,
            "align_self": null,
            "border": null,
            "bottom": null,
            "display": null,
            "flex": null,
            "flex_flow": null,
            "grid_area": null,
            "grid_auto_columns": null,
            "grid_auto_flow": null,
            "grid_auto_rows": null,
            "grid_column": null,
            "grid_gap": null,
            "grid_row": null,
            "grid_template_areas": null,
            "grid_template_columns": null,
            "grid_template_rows": null,
            "height": null,
            "justify_content": null,
            "justify_items": null,
            "left": null,
            "margin": null,
            "max_height": null,
            "max_width": null,
            "min_height": null,
            "min_width": null,
            "object_fit": null,
            "object_position": null,
            "order": null,
            "overflow": null,
            "overflow_x": null,
            "overflow_y": null,
            "padding": null,
            "right": null,
            "top": null,
            "visibility": null,
            "width": null
          }
        },
        "79555d3366a34226a4ae9b780ae9342e": {
          "model_module": "@jupyter-widgets/base",
          "model_module_version": "1.2.0",
          "model_name": "LayoutModel",
          "state": {
            "_model_module": "@jupyter-widgets/base",
            "_model_module_version": "1.2.0",
            "_model_name": "LayoutModel",
            "_view_count": null,
            "_view_module": "@jupyter-widgets/base",
            "_view_module_version": "1.2.0",
            "_view_name": "LayoutView",
            "align_content": null,
            "align_items": null,
            "align_self": null,
            "border": null,
            "bottom": null,
            "display": null,
            "flex": null,
            "flex_flow": null,
            "grid_area": null,
            "grid_auto_columns": null,
            "grid_auto_flow": null,
            "grid_auto_rows": null,
            "grid_column": null,
            "grid_gap": null,
            "grid_row": null,
            "grid_template_areas": null,
            "grid_template_columns": null,
            "grid_template_rows": null,
            "height": null,
            "justify_content": null,
            "justify_items": null,
            "left": null,
            "margin": null,
            "max_height": null,
            "max_width": null,
            "min_height": null,
            "min_width": null,
            "object_fit": null,
            "object_position": null,
            "order": null,
            "overflow": null,
            "overflow_x": null,
            "overflow_y": null,
            "padding": null,
            "right": null,
            "top": null,
            "visibility": null,
            "width": null
          }
        },
        "7e1f23564302424794ce0a1a77a64d40": {
          "model_module": "@jupyter-widgets/controls",
          "model_module_version": "1.5.0",
          "model_name": "HBoxModel",
          "state": {
            "_dom_classes": [],
            "_model_module": "@jupyter-widgets/controls",
            "_model_module_version": "1.5.0",
            "_model_name": "HBoxModel",
            "_view_count": null,
            "_view_module": "@jupyter-widgets/controls",
            "_view_module_version": "1.5.0",
            "_view_name": "HBoxView",
            "box_style": "",
            "children": [
              "IPY_MODEL_d0f3325790024479b960615664d15244",
              "IPY_MODEL_9fcd775a6cd543c5a0082588ebae55b9",
              "IPY_MODEL_6b97f96595d549029302ee0127df1907"
            ],
            "layout": "IPY_MODEL_713abcb85b8f4f5e8eb0155f11696f6e"
          }
        },
        "84bc2d27d7ca40a788a7527e8f09cd8d": {
          "model_module": "@jupyter-widgets/controls",
          "model_module_version": "1.5.0",
          "model_name": "FloatProgressModel",
          "state": {
            "_dom_classes": [],
            "_model_module": "@jupyter-widgets/controls",
            "_model_module_version": "1.5.0",
            "_model_name": "FloatProgressModel",
            "_view_count": null,
            "_view_module": "@jupyter-widgets/controls",
            "_view_module_version": "1.5.0",
            "_view_name": "ProgressView",
            "bar_style": "success",
            "description": "",
            "description_tooltip": null,
            "layout": "IPY_MODEL_e921af073ac14951bf95edbe3b1a4301",
            "max": 405,
            "min": 0,
            "orientation": "horizontal",
            "style": "IPY_MODEL_712f64d3628244dbb0fee3dc6db85ef1",
            "value": 405
          }
        },
        "898e4baf02b946fcb1ce5be9c88b2549": {
          "model_module": "@jupyter-widgets/controls",
          "model_module_version": "1.5.0",
          "model_name": "HTMLModel",
          "state": {
            "_dom_classes": [],
            "_model_module": "@jupyter-widgets/controls",
            "_model_module_version": "1.5.0",
            "_model_name": "HTMLModel",
            "_view_count": null,
            "_view_module": "@jupyter-widgets/controls",
            "_view_module_version": "1.5.0",
            "_view_name": "HTMLView",
            "description": "",
            "description_tooltip": null,
            "layout": "IPY_MODEL_8c5a94084d474b5ea93dd39bba836301",
            "placeholder": "​",
            "style": "IPY_MODEL_b758133e96204e3099d06bc071d0799e",
            "value": " 112/112 [00:00&lt;00:00, 4.14kB/s]"
          }
        },
        "8c5a94084d474b5ea93dd39bba836301": {
          "model_module": "@jupyter-widgets/base",
          "model_module_version": "1.2.0",
          "model_name": "LayoutModel",
          "state": {
            "_model_module": "@jupyter-widgets/base",
            "_model_module_version": "1.2.0",
            "_model_name": "LayoutModel",
            "_view_count": null,
            "_view_module": "@jupyter-widgets/base",
            "_view_module_version": "1.2.0",
            "_view_name": "LayoutView",
            "align_content": null,
            "align_items": null,
            "align_self": null,
            "border": null,
            "bottom": null,
            "display": null,
            "flex": null,
            "flex_flow": null,
            "grid_area": null,
            "grid_auto_columns": null,
            "grid_auto_flow": null,
            "grid_auto_rows": null,
            "grid_column": null,
            "grid_gap": null,
            "grid_row": null,
            "grid_template_areas": null,
            "grid_template_columns": null,
            "grid_template_rows": null,
            "height": null,
            "justify_content": null,
            "justify_items": null,
            "left": null,
            "margin": null,
            "max_height": null,
            "max_width": null,
            "min_height": null,
            "min_width": null,
            "object_fit": null,
            "object_position": null,
            "order": null,
            "overflow": null,
            "overflow_x": null,
            "overflow_y": null,
            "padding": null,
            "right": null,
            "top": null,
            "visibility": null,
            "width": null
          }
        },
        "8c63e801102f446ea81a3d4e7785de38": {
          "model_module": "@jupyter-widgets/controls",
          "model_module_version": "1.5.0",
          "model_name": "FloatProgressModel",
          "state": {
            "_dom_classes": [],
            "_model_module": "@jupyter-widgets/controls",
            "_model_module_version": "1.5.0",
            "_model_name": "FloatProgressModel",
            "_view_count": null,
            "_view_module": "@jupyter-widgets/controls",
            "_view_module_version": "1.5.0",
            "_view_name": "ProgressView",
            "bar_style": "success",
            "description": "",
            "description_tooltip": null,
            "layout": "IPY_MODEL_604e728541b3489ba7302263f4c5ed75",
            "max": 112,
            "min": 0,
            "orientation": "horizontal",
            "style": "IPY_MODEL_2c95e3602e054ffca7ba132491a6800b",
            "value": 112
          }
        },
        "9724411952ac4180a4a5e5896d36d6da": {
          "model_module": "@jupyter-widgets/controls",
          "model_module_version": "1.5.0",
          "model_name": "HBoxModel",
          "state": {
            "_dom_classes": [],
            "_model_module": "@jupyter-widgets/controls",
            "_model_module_version": "1.5.0",
            "_model_name": "HBoxModel",
            "_view_count": null,
            "_view_module": "@jupyter-widgets/controls",
            "_view_module_version": "1.5.0",
            "_view_name": "HBoxView",
            "box_style": "",
            "children": [
              "IPY_MODEL_d78fff4d79124831b1190117eb7d65de",
              "IPY_MODEL_3400a8f86be048da97787debe82ff98f",
              "IPY_MODEL_6fb1aab5f7e845fdbf354b75ab720fb1"
            ],
            "layout": "IPY_MODEL_d8f5baab6ad24923a8c8c34b9f49df12"
          }
        },
        "98f7464a4ec0429ca6bf72c53d230b58": {
          "model_module": "@jupyter-widgets/controls",
          "model_module_version": "1.5.0",
          "model_name": "DescriptionStyleModel",
          "state": {
            "_model_module": "@jupyter-widgets/controls",
            "_model_module_version": "1.5.0",
            "_model_name": "DescriptionStyleModel",
            "_view_count": null,
            "_view_module": "@jupyter-widgets/base",
            "_view_module_version": "1.2.0",
            "_view_name": "StyleView",
            "description_width": ""
          }
        },
        "9fcd775a6cd543c5a0082588ebae55b9": {
          "model_module": "@jupyter-widgets/controls",
          "model_module_version": "1.5.0",
          "model_name": "FloatProgressModel",
          "state": {
            "_dom_classes": [],
            "_model_module": "@jupyter-widgets/controls",
            "_model_module_version": "1.5.0",
            "_model_name": "FloatProgressModel",
            "_view_count": null,
            "_view_module": "@jupyter-widgets/controls",
            "_view_module_version": "1.5.0",
            "_view_name": "ProgressView",
            "bar_style": "success",
            "description": "",
            "description_tooltip": null,
            "layout": "IPY_MODEL_2f11ea4b7de5456292442d3728513389",
            "max": 1633,
            "min": 0,
            "orientation": "horizontal",
            "style": "IPY_MODEL_b46a5c683aa840f4baf06d996e60bc19",
            "value": 1633
          }
        },
        "a3f72f66e1f74867bfa3a2db8923b225": {
          "model_module": "@jupyter-widgets/controls",
          "model_module_version": "1.5.0",
          "model_name": "ProgressStyleModel",
          "state": {
            "_model_module": "@jupyter-widgets/controls",
            "_model_module_version": "1.5.0",
            "_model_name": "ProgressStyleModel",
            "_view_count": null,
            "_view_module": "@jupyter-widgets/base",
            "_view_module_version": "1.2.0",
            "_view_name": "StyleView",
            "bar_color": null,
            "description_width": ""
          }
        },
        "aef3fb05cd494e05a6619dfb44843268": {
          "model_module": "@jupyter-widgets/base",
          "model_module_version": "1.2.0",
          "model_name": "LayoutModel",
          "state": {
            "_model_module": "@jupyter-widgets/base",
            "_model_module_version": "1.2.0",
            "_model_name": "LayoutModel",
            "_view_count": null,
            "_view_module": "@jupyter-widgets/base",
            "_view_module_version": "1.2.0",
            "_view_name": "LayoutView",
            "align_content": null,
            "align_items": null,
            "align_self": null,
            "border": null,
            "bottom": null,
            "display": null,
            "flex": null,
            "flex_flow": null,
            "grid_area": null,
            "grid_auto_columns": null,
            "grid_auto_flow": null,
            "grid_auto_rows": null,
            "grid_column": null,
            "grid_gap": null,
            "grid_row": null,
            "grid_template_areas": null,
            "grid_template_columns": null,
            "grid_template_rows": null,
            "height": null,
            "justify_content": null,
            "justify_items": null,
            "left": null,
            "margin": null,
            "max_height": null,
            "max_width": null,
            "min_height": null,
            "min_width": null,
            "object_fit": null,
            "object_position": null,
            "order": null,
            "overflow": null,
            "overflow_x": null,
            "overflow_y": null,
            "padding": null,
            "right": null,
            "top": null,
            "visibility": null,
            "width": null
          }
        },
        "b0910406bbee4752addfff000b96cc0b": {
          "model_module": "@jupyter-widgets/controls",
          "model_module_version": "1.5.0",
          "model_name": "HTMLModel",
          "state": {
            "_dom_classes": [],
            "_model_module": "@jupyter-widgets/controls",
            "_model_module_version": "1.5.0",
            "_model_name": "HTMLModel",
            "_view_count": null,
            "_view_module": "@jupyter-widgets/controls",
            "_view_module_version": "1.5.0",
            "_view_name": "HTMLView",
            "description": "",
            "description_tooltip": null,
            "layout": "IPY_MODEL_051e7e190b8245abbca979c213de085c",
            "placeholder": "​",
            "style": "IPY_MODEL_5a75572c07db4e09a7c0f0c77df79016",
            "value": "tokenizer_config.json: 100%"
          }
        },
        "b30a9db937644b3399db692efc3da060": {
          "model_module": "@jupyter-widgets/controls",
          "model_module_version": "1.5.0",
          "model_name": "DescriptionStyleModel",
          "state": {
            "_model_module": "@jupyter-widgets/controls",
            "_model_module_version": "1.5.0",
            "_model_name": "DescriptionStyleModel",
            "_view_count": null,
            "_view_module": "@jupyter-widgets/base",
            "_view_module_version": "1.2.0",
            "_view_name": "StyleView",
            "description_width": ""
          }
        },
        "b46a5c683aa840f4baf06d996e60bc19": {
          "model_module": "@jupyter-widgets/controls",
          "model_module_version": "1.5.0",
          "model_name": "ProgressStyleModel",
          "state": {
            "_model_module": "@jupyter-widgets/controls",
            "_model_module_version": "1.5.0",
            "_model_name": "ProgressStyleModel",
            "_view_count": null,
            "_view_module": "@jupyter-widgets/base",
            "_view_module_version": "1.2.0",
            "_view_name": "StyleView",
            "bar_color": null,
            "description_width": ""
          }
        },
        "b4c8feaf4ba74831bf021405c2ce2f0d": {
          "model_module": "@jupyter-widgets/controls",
          "model_module_version": "1.5.0",
          "model_name": "HTMLModel",
          "state": {
            "_dom_classes": [],
            "_model_module": "@jupyter-widgets/controls",
            "_model_module_version": "1.5.0",
            "_model_name": "HTMLModel",
            "_view_count": null,
            "_view_module": "@jupyter-widgets/controls",
            "_view_module_version": "1.5.0",
            "_view_name": "HTMLView",
            "description": "",
            "description_tooltip": null,
            "layout": "IPY_MODEL_7458eea97cb3447f93afbb3e57920b2c",
            "placeholder": "​",
            "style": "IPY_MODEL_c3129f0938a44c3581e34b269730f2f9",
            "value": "vocab.txt: 100%"
          }
        },
        "b5861b4b0d8640dcb46cec946e49a395": {
          "model_module": "@jupyter-widgets/controls",
          "model_module_version": "1.5.0",
          "model_name": "HBoxModel",
          "state": {
            "_dom_classes": [],
            "_model_module": "@jupyter-widgets/controls",
            "_model_module_version": "1.5.0",
            "_model_name": "HBoxModel",
            "_view_count": null,
            "_view_module": "@jupyter-widgets/controls",
            "_view_module_version": "1.5.0",
            "_view_name": "HBoxView",
            "box_style": "",
            "children": [
              "IPY_MODEL_fd2698e83a9e44388841daad8b34dcac",
              "IPY_MODEL_8c63e801102f446ea81a3d4e7785de38",
              "IPY_MODEL_898e4baf02b946fcb1ce5be9c88b2549"
            ],
            "layout": "IPY_MODEL_3c600dfbda744279a1bde1058b58dcc4"
          }
        },
        "b596ae140160446480c5daa0613e8df1": {
          "model_module": "@jupyter-widgets/controls",
          "model_module_version": "1.5.0",
          "model_name": "ProgressStyleModel",
          "state": {
            "_model_module": "@jupyter-widgets/controls",
            "_model_module_version": "1.5.0",
            "_model_name": "ProgressStyleModel",
            "_view_count": null,
            "_view_module": "@jupyter-widgets/base",
            "_view_module_version": "1.2.0",
            "_view_name": "StyleView",
            "bar_color": null,
            "description_width": ""
          }
        },
        "b707dbace3f349519ed465b1bc310eea": {
          "model_module": "@jupyter-widgets/base",
          "model_module_version": "1.2.0",
          "model_name": "LayoutModel",
          "state": {
            "_model_module": "@jupyter-widgets/base",
            "_model_module_version": "1.2.0",
            "_model_name": "LayoutModel",
            "_view_count": null,
            "_view_module": "@jupyter-widgets/base",
            "_view_module_version": "1.2.0",
            "_view_name": "LayoutView",
            "align_content": null,
            "align_items": null,
            "align_self": null,
            "border": null,
            "bottom": null,
            "display": null,
            "flex": null,
            "flex_flow": null,
            "grid_area": null,
            "grid_auto_columns": null,
            "grid_auto_flow": null,
            "grid_auto_rows": null,
            "grid_column": null,
            "grid_gap": null,
            "grid_row": null,
            "grid_template_areas": null,
            "grid_template_columns": null,
            "grid_template_rows": null,
            "height": null,
            "justify_content": null,
            "justify_items": null,
            "left": null,
            "margin": null,
            "max_height": null,
            "max_width": null,
            "min_height": null,
            "min_width": null,
            "object_fit": null,
            "object_position": null,
            "order": null,
            "overflow": null,
            "overflow_x": null,
            "overflow_y": null,
            "padding": null,
            "right": null,
            "top": null,
            "visibility": null,
            "width": null
          }
        },
        "b758133e96204e3099d06bc071d0799e": {
          "model_module": "@jupyter-widgets/controls",
          "model_module_version": "1.5.0",
          "model_name": "DescriptionStyleModel",
          "state": {
            "_model_module": "@jupyter-widgets/controls",
            "_model_module_version": "1.5.0",
            "_model_name": "DescriptionStyleModel",
            "_view_count": null,
            "_view_module": "@jupyter-widgets/base",
            "_view_module_version": "1.2.0",
            "_view_name": "StyleView",
            "description_width": ""
          }
        },
        "ba67a2731a054f61b21c6e09a5351a34": {
          "model_module": "@jupyter-widgets/base",
          "model_module_version": "1.2.0",
          "model_name": "LayoutModel",
          "state": {
            "_model_module": "@jupyter-widgets/base",
            "_model_module_version": "1.2.0",
            "_model_name": "LayoutModel",
            "_view_count": null,
            "_view_module": "@jupyter-widgets/base",
            "_view_module_version": "1.2.0",
            "_view_name": "LayoutView",
            "align_content": null,
            "align_items": null,
            "align_self": null,
            "border": null,
            "bottom": null,
            "display": null,
            "flex": null,
            "flex_flow": null,
            "grid_area": null,
            "grid_auto_columns": null,
            "grid_auto_flow": null,
            "grid_auto_rows": null,
            "grid_column": null,
            "grid_gap": null,
            "grid_row": null,
            "grid_template_areas": null,
            "grid_template_columns": null,
            "grid_template_rows": null,
            "height": null,
            "justify_content": null,
            "justify_items": null,
            "left": null,
            "margin": null,
            "max_height": null,
            "max_width": null,
            "min_height": null,
            "min_width": null,
            "object_fit": null,
            "object_position": null,
            "order": null,
            "overflow": null,
            "overflow_x": null,
            "overflow_y": null,
            "padding": null,
            "right": null,
            "top": null,
            "visibility": null,
            "width": null
          }
        },
        "bb7dd612c71f4d578c9eee4170d3bb94": {
          "model_module": "@jupyter-widgets/controls",
          "model_module_version": "1.5.0",
          "model_name": "HBoxModel",
          "state": {
            "_dom_classes": [],
            "_model_module": "@jupyter-widgets/controls",
            "_model_module_version": "1.5.0",
            "_model_name": "HBoxModel",
            "_view_count": null,
            "_view_module": "@jupyter-widgets/controls",
            "_view_module_version": "1.5.0",
            "_view_name": "HBoxView",
            "box_style": "",
            "children": [
              "IPY_MODEL_4cc9d7219e2f4675aed0949c1b2f599c",
              "IPY_MODEL_f053404f1c9c4e959509194c8ff23692",
              "IPY_MODEL_58127642d42049978a71d486d110f5dd"
            ],
            "layout": "IPY_MODEL_79555d3366a34226a4ae9b780ae9342e"
          }
        },
        "c3129f0938a44c3581e34b269730f2f9": {
          "model_module": "@jupyter-widgets/controls",
          "model_module_version": "1.5.0",
          "model_name": "DescriptionStyleModel",
          "state": {
            "_model_module": "@jupyter-widgets/controls",
            "_model_module_version": "1.5.0",
            "_model_name": "DescriptionStyleModel",
            "_view_count": null,
            "_view_module": "@jupyter-widgets/base",
            "_view_module_version": "1.2.0",
            "_view_name": "StyleView",
            "description_width": ""
          }
        },
        "c9cdbb1bdb1d40089a93b375a05b2393": {
          "model_module": "@jupyter-widgets/base",
          "model_module_version": "1.2.0",
          "model_name": "LayoutModel",
          "state": {
            "_model_module": "@jupyter-widgets/base",
            "_model_module_version": "1.2.0",
            "_model_name": "LayoutModel",
            "_view_count": null,
            "_view_module": "@jupyter-widgets/base",
            "_view_module_version": "1.2.0",
            "_view_name": "LayoutView",
            "align_content": null,
            "align_items": null,
            "align_self": null,
            "border": null,
            "bottom": null,
            "display": null,
            "flex": null,
            "flex_flow": null,
            "grid_area": null,
            "grid_auto_columns": null,
            "grid_auto_flow": null,
            "grid_auto_rows": null,
            "grid_column": null,
            "grid_gap": null,
            "grid_row": null,
            "grid_template_areas": null,
            "grid_template_columns": null,
            "grid_template_rows": null,
            "height": null,
            "justify_content": null,
            "justify_items": null,
            "left": null,
            "margin": null,
            "max_height": null,
            "max_width": null,
            "min_height": null,
            "min_width": null,
            "object_fit": null,
            "object_position": null,
            "order": null,
            "overflow": null,
            "overflow_x": null,
            "overflow_y": null,
            "padding": null,
            "right": null,
            "top": null,
            "visibility": null,
            "width": null
          }
        },
        "d0f3325790024479b960615664d15244": {
          "model_module": "@jupyter-widgets/controls",
          "model_module_version": "1.5.0",
          "model_name": "HTMLModel",
          "state": {
            "_dom_classes": [],
            "_model_module": "@jupyter-widgets/controls",
            "_model_module_version": "1.5.0",
            "_model_name": "HTMLModel",
            "_view_count": null,
            "_view_module": "@jupyter-widgets/controls",
            "_view_module_version": "1.5.0",
            "_view_name": "HTMLView",
            "description": "",
            "description_tooltip": null,
            "layout": "IPY_MODEL_25802200a6e6441fac745751069666ae",
            "placeholder": "​",
            "style": "IPY_MODEL_225d47c4529742468e49b4f5212992a8",
            "value": "artifact.metadata: 100%"
          }
        },
        "d78fff4d79124831b1190117eb7d65de": {
          "model_module": "@jupyter-widgets/controls",
          "model_module_version": "1.5.0",
          "model_name": "HTMLModel",
          "state": {
            "_dom_classes": [],
            "_model_module": "@jupyter-widgets/controls",
            "_model_module_version": "1.5.0",
            "_model_name": "HTMLModel",
            "_view_count": null,
            "_view_module": "@jupyter-widgets/controls",
            "_view_module_version": "1.5.0",
            "_view_name": "HTMLView",
            "description": "",
            "description_tooltip": null,
            "layout": "IPY_MODEL_083e778cfa0245a486957d9acc57cd42",
            "placeholder": "​",
            "style": "IPY_MODEL_0a762570dc37467c9292e6dff6634096",
            "value": "config.json: 100%"
          }
        },
        "d8f5baab6ad24923a8c8c34b9f49df12": {
          "model_module": "@jupyter-widgets/base",
          "model_module_version": "1.2.0",
          "model_name": "LayoutModel",
          "state": {
            "_model_module": "@jupyter-widgets/base",
            "_model_module_version": "1.2.0",
            "_model_name": "LayoutModel",
            "_view_count": null,
            "_view_module": "@jupyter-widgets/base",
            "_view_module_version": "1.2.0",
            "_view_name": "LayoutView",
            "align_content": null,
            "align_items": null,
            "align_self": null,
            "border": null,
            "bottom": null,
            "display": null,
            "flex": null,
            "flex_flow": null,
            "grid_area": null,
            "grid_auto_columns": null,
            "grid_auto_flow": null,
            "grid_auto_rows": null,
            "grid_column": null,
            "grid_gap": null,
            "grid_row": null,
            "grid_template_areas": null,
            "grid_template_columns": null,
            "grid_template_rows": null,
            "height": null,
            "justify_content": null,
            "justify_items": null,
            "left": null,
            "margin": null,
            "max_height": null,
            "max_width": null,
            "min_height": null,
            "min_width": null,
            "object_fit": null,
            "object_position": null,
            "order": null,
            "overflow": null,
            "overflow_x": null,
            "overflow_y": null,
            "padding": null,
            "right": null,
            "top": null,
            "visibility": null,
            "width": null
          }
        },
        "db03b211a3ad4234b17ee2745c1fa92e": {
          "model_module": "@jupyter-widgets/controls",
          "model_module_version": "1.5.0",
          "model_name": "ProgressStyleModel",
          "state": {
            "_model_module": "@jupyter-widgets/controls",
            "_model_module_version": "1.5.0",
            "_model_name": "ProgressStyleModel",
            "_view_count": null,
            "_view_module": "@jupyter-widgets/base",
            "_view_module_version": "1.2.0",
            "_view_name": "StyleView",
            "bar_color": null,
            "description_width": ""
          }
        },
        "de6cfe21fb1341f8a56b4b748d9912db": {
          "model_module": "@jupyter-widgets/base",
          "model_module_version": "1.2.0",
          "model_name": "LayoutModel",
          "state": {
            "_model_module": "@jupyter-widgets/base",
            "_model_module_version": "1.2.0",
            "_model_name": "LayoutModel",
            "_view_count": null,
            "_view_module": "@jupyter-widgets/base",
            "_view_module_version": "1.2.0",
            "_view_name": "LayoutView",
            "align_content": null,
            "align_items": null,
            "align_self": null,
            "border": null,
            "bottom": null,
            "display": null,
            "flex": null,
            "flex_flow": null,
            "grid_area": null,
            "grid_auto_columns": null,
            "grid_auto_flow": null,
            "grid_auto_rows": null,
            "grid_column": null,
            "grid_gap": null,
            "grid_row": null,
            "grid_template_areas": null,
            "grid_template_columns": null,
            "grid_template_rows": null,
            "height": null,
            "justify_content": null,
            "justify_items": null,
            "left": null,
            "margin": null,
            "max_height": null,
            "max_width": null,
            "min_height": null,
            "min_width": null,
            "object_fit": null,
            "object_position": null,
            "order": null,
            "overflow": null,
            "overflow_x": null,
            "overflow_y": null,
            "padding": null,
            "right": null,
            "top": null,
            "visibility": null,
            "width": null
          }
        },
        "e20818f648fc4d5fbb6fac71d1715739": {
          "model_module": "@jupyter-widgets/base",
          "model_module_version": "1.2.0",
          "model_name": "LayoutModel",
          "state": {
            "_model_module": "@jupyter-widgets/base",
            "_model_module_version": "1.2.0",
            "_model_name": "LayoutModel",
            "_view_count": null,
            "_view_module": "@jupyter-widgets/base",
            "_view_module_version": "1.2.0",
            "_view_name": "LayoutView",
            "align_content": null,
            "align_items": null,
            "align_self": null,
            "border": null,
            "bottom": null,
            "display": null,
            "flex": null,
            "flex_flow": null,
            "grid_area": null,
            "grid_auto_columns": null,
            "grid_auto_flow": null,
            "grid_auto_rows": null,
            "grid_column": null,
            "grid_gap": null,
            "grid_row": null,
            "grid_template_areas": null,
            "grid_template_columns": null,
            "grid_template_rows": null,
            "height": null,
            "justify_content": null,
            "justify_items": null,
            "left": null,
            "margin": null,
            "max_height": null,
            "max_width": null,
            "min_height": null,
            "min_width": null,
            "object_fit": null,
            "object_position": null,
            "order": null,
            "overflow": null,
            "overflow_x": null,
            "overflow_y": null,
            "padding": null,
            "right": null,
            "top": null,
            "visibility": null,
            "width": null
          }
        },
        "e808defebb5e4afb8ebd9bc8e196776f": {
          "model_module": "@jupyter-widgets/base",
          "model_module_version": "1.2.0",
          "model_name": "LayoutModel",
          "state": {
            "_model_module": "@jupyter-widgets/base",
            "_model_module_version": "1.2.0",
            "_model_name": "LayoutModel",
            "_view_count": null,
            "_view_module": "@jupyter-widgets/base",
            "_view_module_version": "1.2.0",
            "_view_name": "LayoutView",
            "align_content": null,
            "align_items": null,
            "align_self": null,
            "border": null,
            "bottom": null,
            "display": null,
            "flex": null,
            "flex_flow": null,
            "grid_area": null,
            "grid_auto_columns": null,
            "grid_auto_flow": null,
            "grid_auto_rows": null,
            "grid_column": null,
            "grid_gap": null,
            "grid_row": null,
            "grid_template_areas": null,
            "grid_template_columns": null,
            "grid_template_rows": null,
            "height": null,
            "justify_content": null,
            "justify_items": null,
            "left": null,
            "margin": null,
            "max_height": null,
            "max_width": null,
            "min_height": null,
            "min_width": null,
            "object_fit": null,
            "object_position": null,
            "order": null,
            "overflow": null,
            "overflow_x": null,
            "overflow_y": null,
            "padding": null,
            "right": null,
            "top": null,
            "visibility": null,
            "width": null
          }
        },
        "e921af073ac14951bf95edbe3b1a4301": {
          "model_module": "@jupyter-widgets/base",
          "model_module_version": "1.2.0",
          "model_name": "LayoutModel",
          "state": {
            "_model_module": "@jupyter-widgets/base",
            "_model_module_version": "1.2.0",
            "_model_name": "LayoutModel",
            "_view_count": null,
            "_view_module": "@jupyter-widgets/base",
            "_view_module_version": "1.2.0",
            "_view_name": "LayoutView",
            "align_content": null,
            "align_items": null,
            "align_self": null,
            "border": null,
            "bottom": null,
            "display": null,
            "flex": null,
            "flex_flow": null,
            "grid_area": null,
            "grid_auto_columns": null,
            "grid_auto_flow": null,
            "grid_auto_rows": null,
            "grid_column": null,
            "grid_gap": null,
            "grid_row": null,
            "grid_template_areas": null,
            "grid_template_columns": null,
            "grid_template_rows": null,
            "height": null,
            "justify_content": null,
            "justify_items": null,
            "left": null,
            "margin": null,
            "max_height": null,
            "max_width": null,
            "min_height": null,
            "min_width": null,
            "object_fit": null,
            "object_position": null,
            "order": null,
            "overflow": null,
            "overflow_x": null,
            "overflow_y": null,
            "padding": null,
            "right": null,
            "top": null,
            "visibility": null,
            "width": null
          }
        },
        "f053404f1c9c4e959509194c8ff23692": {
          "model_module": "@jupyter-widgets/controls",
          "model_module_version": "1.5.0",
          "model_name": "FloatProgressModel",
          "state": {
            "_dom_classes": [],
            "_model_module": "@jupyter-widgets/controls",
            "_model_module_version": "1.5.0",
            "_model_name": "FloatProgressModel",
            "_view_count": null,
            "_view_module": "@jupyter-widgets/controls",
            "_view_module_version": "1.5.0",
            "_view_name": "ProgressView",
            "bar_style": "success",
            "description": "",
            "description_tooltip": null,
            "layout": "IPY_MODEL_de6cfe21fb1341f8a56b4b748d9912db",
            "max": 438349816,
            "min": 0,
            "orientation": "horizontal",
            "style": "IPY_MODEL_7026553a89bb4a5d982faa51ca199265",
            "value": 438349816
          }
        },
        "f5f1dc8873344284af358fae2b63099a": {
          "model_module": "@jupyter-widgets/controls",
          "model_module_version": "1.5.0",
          "model_name": "FloatProgressModel",
          "state": {
            "_dom_classes": [],
            "_model_module": "@jupyter-widgets/controls",
            "_model_module_version": "1.5.0",
            "_model_name": "FloatProgressModel",
            "_view_count": null,
            "_view_module": "@jupyter-widgets/controls",
            "_view_module_version": "1.5.0",
            "_view_name": "ProgressView",
            "bar_style": "success",
            "description": "",
            "description_tooltip": null,
            "layout": "IPY_MODEL_4d3529da717a47a5a0b611af44d7ad57",
            "max": 466081,
            "min": 0,
            "orientation": "horizontal",
            "style": "IPY_MODEL_a3f72f66e1f74867bfa3a2db8923b225",
            "value": 466081
          }
        },
        "fd2698e83a9e44388841daad8b34dcac": {
          "model_module": "@jupyter-widgets/controls",
          "model_module_version": "1.5.0",
          "model_name": "HTMLModel",
          "state": {
            "_dom_classes": [],
            "_model_module": "@jupyter-widgets/controls",
            "_model_module_version": "1.5.0",
            "_model_name": "HTMLModel",
            "_view_count": null,
            "_view_module": "@jupyter-widgets/controls",
            "_view_module_version": "1.5.0",
            "_view_name": "HTMLView",
            "description": "",
            "description_tooltip": null,
            "layout": "IPY_MODEL_0c99ba25297442479b5b22f482bb160f",
            "placeholder": "​",
            "style": "IPY_MODEL_b30a9db937644b3399db692efc3da060",
            "value": "special_tokens_map.json: 100%"
          }
        }
      }
    }
  },
  "nbformat": 4,
  "nbformat_minor": 0
}
