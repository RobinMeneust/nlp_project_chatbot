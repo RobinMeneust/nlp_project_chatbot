{
  "cells": [
    {
      "cell_type": "markdown",
      "metadata": {
        "id": "x01kZyGLJWA7"
      },
      "source": [
        "# This code only works on google collab"
      ]
    },
    {
      "cell_type": "markdown",
      "metadata": {
        "id": "THp08ZuwJWA9"
      },
      "source": [
        "### Script to load the indexer already created + use the searcher"
      ]
    },
    {
      "cell_type": "code",
      "execution_count": 1,
      "metadata": {
        "colab": {
          "base_uri": "https://localhost:8080/"
        },
        "id": "sY9Ckne9JWA9",
        "outputId": "e1cc13a7-6125-4ea9-f46b-ca43dd60ca56"
      },
      "outputs": [
        {
          "name": "stdout",
          "output_type": "stream",
          "text": [
            "fatal: cannot change to 'ColBERT/': No such file or directory\n",
            "Cloning into 'ColBERT'...\n",
            "remote: Enumerating objects: 2835, done.\u001b[K\n",
            "remote: Counting objects: 100% (1179/1179), done.\u001b[K\n",
            "remote: Compressing objects: 100% (351/351), done.\u001b[K\n",
            "remote: Total 2835 (delta 957), reused 829 (delta 828), pack-reused 1656 (from 2)\u001b[K\n",
            "Receiving objects: 100% (2835/2835), 2.07 MiB | 8.18 MiB/s, done.\n",
            "Resolving deltas: 100% (1788/1788), done.\n"
          ]
        }
      ],
      "source": [
        "!git -C ColBERT/ pull || git clone https://github.com/stanford-futuredata/ColBERT.git\n",
        "import sys; sys.path.insert(0, 'ColBERT/')"
      ]
    },
    {
      "cell_type": "code",
      "execution_count": 2,
      "metadata": {
        "colab": {
          "base_uri": "https://localhost:8080/"
        },
        "id": "sLouH5XeJWA-",
        "outputId": "ab2df5c3-ccd6-4ae8-d678-15f3fe9ed0e6"
      },
      "outputs": [
        {
          "name": "stdout",
          "output_type": "stream",
          "text": [
            "Requirement already satisfied: pip in /usr/local/lib/python3.10/dist-packages (24.1.2)\n",
            "Collecting pip\n",
            "  Downloading pip-24.3.1-py3-none-any.whl.metadata (3.7 kB)\n",
            "Downloading pip-24.3.1-py3-none-any.whl (1.8 MB)\n",
            "\u001b[2K   \u001b[90m━━━━━━━━━━━━━━━━━━━━━━━━━━━━━━━━━━━━━━━━\u001b[0m \u001b[32m1.8/1.8 MB\u001b[0m \u001b[31m17.1 MB/s\u001b[0m eta \u001b[36m0:00:00\u001b[0m\n",
            "\u001b[?25hInstalling collected packages: pip\n",
            "  Attempting uninstall: pip\n",
            "    Found existing installation: pip 24.1.2\n",
            "    Uninstalling pip-24.1.2:\n",
            "      Successfully uninstalled pip-24.1.2\n",
            "Successfully installed pip-24.3.1\n",
            "Obtaining file:///content/ColBERT\n",
            "  Preparing metadata (setup.py) ... \u001b[?25l\u001b[?25hdone\n",
            "Collecting bitarray (from colbert-ai==0.2.20)\n",
            "  Downloading bitarray-3.0.0-cp310-cp310-manylinux_2_17_x86_64.manylinux2014_x86_64.whl.metadata (32 kB)\n",
            "Collecting datasets (from colbert-ai==0.2.20)\n",
            "  Downloading datasets-3.2.0-py3-none-any.whl.metadata (20 kB)\n",
            "Requirement already satisfied: flask in /usr/local/lib/python3.10/dist-packages (from colbert-ai==0.2.20) (3.1.0)\n",
            "Collecting git-python (from colbert-ai==0.2.20)\n",
            "  Downloading git_python-1.0.3-py2.py3-none-any.whl.metadata (331 bytes)\n",
            "Collecting python-dotenv (from colbert-ai==0.2.20)\n",
            "  Downloading python_dotenv-1.0.1-py3-none-any.whl.metadata (23 kB)\n",
            "Collecting ninja (from colbert-ai==0.2.20)\n",
            "  Downloading ninja-1.11.1.3-py3-none-manylinux_2_12_x86_64.manylinux2010_x86_64.whl.metadata (5.3 kB)\n",
            "Requirement already satisfied: scipy in /usr/local/lib/python3.10/dist-packages (from colbert-ai==0.2.20) (1.13.1)\n",
            "Requirement already satisfied: tqdm in /usr/local/lib/python3.10/dist-packages (from colbert-ai==0.2.20) (4.67.1)\n",
            "Requirement already satisfied: transformers in /usr/local/lib/python3.10/dist-packages (from colbert-ai==0.2.20) (4.47.1)\n",
            "Collecting ujson (from colbert-ai==0.2.20)\n",
            "  Downloading ujson-5.10.0-cp310-cp310-manylinux_2_17_x86_64.manylinux2014_x86_64.whl.metadata (9.3 kB)\n",
            "Requirement already satisfied: filelock in /usr/local/lib/python3.10/dist-packages (from datasets->colbert-ai==0.2.20) (3.16.1)\n",
            "Requirement already satisfied: numpy>=1.17 in /usr/local/lib/python3.10/dist-packages (from datasets->colbert-ai==0.2.20) (1.26.4)\n",
            "Requirement already satisfied: pyarrow>=15.0.0 in /usr/local/lib/python3.10/dist-packages (from datasets->colbert-ai==0.2.20) (17.0.0)\n",
            "Collecting dill<0.3.9,>=0.3.0 (from datasets->colbert-ai==0.2.20)\n",
            "  Downloading dill-0.3.8-py3-none-any.whl.metadata (10 kB)\n",
            "Requirement already satisfied: pandas in /usr/local/lib/python3.10/dist-packages (from datasets->colbert-ai==0.2.20) (2.2.2)\n",
            "Requirement already satisfied: requests>=2.32.2 in /usr/local/lib/python3.10/dist-packages (from datasets->colbert-ai==0.2.20) (2.32.3)\n",
            "Collecting xxhash (from datasets->colbert-ai==0.2.20)\n",
            "  Downloading xxhash-3.5.0-cp310-cp310-manylinux_2_17_x86_64.manylinux2014_x86_64.whl.metadata (12 kB)\n",
            "Collecting multiprocess<0.70.17 (from datasets->colbert-ai==0.2.20)\n",
            "  Downloading multiprocess-0.70.16-py310-none-any.whl.metadata (7.2 kB)\n",
            "Collecting fsspec<=2024.9.0,>=2023.1.0 (from fsspec[http]<=2024.9.0,>=2023.1.0->datasets->colbert-ai==0.2.20)\n",
            "  Downloading fsspec-2024.9.0-py3-none-any.whl.metadata (11 kB)\n",
            "Requirement already satisfied: aiohttp in /usr/local/lib/python3.10/dist-packages (from datasets->colbert-ai==0.2.20) (3.11.11)\n",
            "Requirement already satisfied: huggingface-hub>=0.23.0 in /usr/local/lib/python3.10/dist-packages (from datasets->colbert-ai==0.2.20) (0.27.1)\n",
            "Requirement already satisfied: packaging in /usr/local/lib/python3.10/dist-packages (from datasets->colbert-ai==0.2.20) (24.2)\n",
            "Requirement already satisfied: pyyaml>=5.1 in /usr/local/lib/python3.10/dist-packages (from datasets->colbert-ai==0.2.20) (6.0.2)\n",
            "Requirement already satisfied: Werkzeug>=3.1 in /usr/local/lib/python3.10/dist-packages (from flask->colbert-ai==0.2.20) (3.1.3)\n",
            "Requirement already satisfied: Jinja2>=3.1.2 in /usr/local/lib/python3.10/dist-packages (from flask->colbert-ai==0.2.20) (3.1.5)\n",
            "Requirement already satisfied: itsdangerous>=2.2 in /usr/local/lib/python3.10/dist-packages (from flask->colbert-ai==0.2.20) (2.2.0)\n",
            "Requirement already satisfied: click>=8.1.3 in /usr/local/lib/python3.10/dist-packages (from flask->colbert-ai==0.2.20) (8.1.8)\n",
            "Requirement already satisfied: blinker>=1.9 in /usr/local/lib/python3.10/dist-packages (from flask->colbert-ai==0.2.20) (1.9.0)\n",
            "Requirement already satisfied: gitpython in /usr/local/lib/python3.10/dist-packages (from git-python->colbert-ai==0.2.20) (3.1.44)\n",
            "Requirement already satisfied: regex!=2019.12.17 in /usr/local/lib/python3.10/dist-packages (from transformers->colbert-ai==0.2.20) (2024.11.6)\n",
            "Requirement already satisfied: tokenizers<0.22,>=0.21 in /usr/local/lib/python3.10/dist-packages (from transformers->colbert-ai==0.2.20) (0.21.0)\n",
            "Requirement already satisfied: safetensors>=0.4.1 in /usr/local/lib/python3.10/dist-packages (from transformers->colbert-ai==0.2.20) (0.5.1)\n",
            "Requirement already satisfied: aiohappyeyeballs>=2.3.0 in /usr/local/lib/python3.10/dist-packages (from aiohttp->datasets->colbert-ai==0.2.20) (2.4.4)\n",
            "Requirement already satisfied: aiosignal>=1.1.2 in /usr/local/lib/python3.10/dist-packages (from aiohttp->datasets->colbert-ai==0.2.20) (1.3.2)\n",
            "Requirement already satisfied: async-timeout<6.0,>=4.0 in /usr/local/lib/python3.10/dist-packages (from aiohttp->datasets->colbert-ai==0.2.20) (4.0.3)\n",
            "Requirement already satisfied: attrs>=17.3.0 in /usr/local/lib/python3.10/dist-packages (from aiohttp->datasets->colbert-ai==0.2.20) (24.3.0)\n",
            "Requirement already satisfied: frozenlist>=1.1.1 in /usr/local/lib/python3.10/dist-packages (from aiohttp->datasets->colbert-ai==0.2.20) (1.5.0)\n",
            "Requirement already satisfied: multidict<7.0,>=4.5 in /usr/local/lib/python3.10/dist-packages (from aiohttp->datasets->colbert-ai==0.2.20) (6.1.0)\n",
            "Requirement already satisfied: propcache>=0.2.0 in /usr/local/lib/python3.10/dist-packages (from aiohttp->datasets->colbert-ai==0.2.20) (0.2.1)\n",
            "Requirement already satisfied: yarl<2.0,>=1.17.0 in /usr/local/lib/python3.10/dist-packages (from aiohttp->datasets->colbert-ai==0.2.20) (1.18.3)\n",
            "Requirement already satisfied: typing-extensions>=3.7.4.3 in /usr/local/lib/python3.10/dist-packages (from huggingface-hub>=0.23.0->datasets->colbert-ai==0.2.20) (4.12.2)\n",
            "Requirement already satisfied: MarkupSafe>=2.0 in /usr/local/lib/python3.10/dist-packages (from Jinja2>=3.1.2->flask->colbert-ai==0.2.20) (3.0.2)\n",
            "Requirement already satisfied: charset-normalizer<4,>=2 in /usr/local/lib/python3.10/dist-packages (from requests>=2.32.2->datasets->colbert-ai==0.2.20) (3.4.1)\n",
            "Requirement already satisfied: idna<4,>=2.5 in /usr/local/lib/python3.10/dist-packages (from requests>=2.32.2->datasets->colbert-ai==0.2.20) (3.10)\n",
            "Requirement already satisfied: urllib3<3,>=1.21.1 in /usr/local/lib/python3.10/dist-packages (from requests>=2.32.2->datasets->colbert-ai==0.2.20) (2.3.0)\n",
            "Requirement already satisfied: certifi>=2017.4.17 in /usr/local/lib/python3.10/dist-packages (from requests>=2.32.2->datasets->colbert-ai==0.2.20) (2024.12.14)\n",
            "Requirement already satisfied: gitdb<5,>=4.0.1 in /usr/local/lib/python3.10/dist-packages (from gitpython->git-python->colbert-ai==0.2.20) (4.0.12)\n",
            "Requirement already satisfied: python-dateutil>=2.8.2 in /usr/local/lib/python3.10/dist-packages (from pandas->datasets->colbert-ai==0.2.20) (2.8.2)\n",
            "Requirement already satisfied: pytz>=2020.1 in /usr/local/lib/python3.10/dist-packages (from pandas->datasets->colbert-ai==0.2.20) (2024.2)\n",
            "Requirement already satisfied: tzdata>=2022.7 in /usr/local/lib/python3.10/dist-packages (from pandas->datasets->colbert-ai==0.2.20) (2024.2)\n",
            "Requirement already satisfied: smmap<6,>=3.0.1 in /usr/local/lib/python3.10/dist-packages (from gitdb<5,>=4.0.1->gitpython->git-python->colbert-ai==0.2.20) (5.0.2)\n",
            "Requirement already satisfied: six>=1.5 in /usr/local/lib/python3.10/dist-packages (from python-dateutil>=2.8.2->pandas->datasets->colbert-ai==0.2.20) (1.17.0)\n",
            "Downloading bitarray-3.0.0-cp310-cp310-manylinux_2_17_x86_64.manylinux2014_x86_64.whl (278 kB)\n",
            "Downloading datasets-3.2.0-py3-none-any.whl (480 kB)\n",
            "Downloading git_python-1.0.3-py2.py3-none-any.whl (1.9 kB)\n",
            "Downloading ninja-1.11.1.3-py3-none-manylinux_2_12_x86_64.manylinux2010_x86_64.whl (422 kB)\n",
            "Downloading python_dotenv-1.0.1-py3-none-any.whl (19 kB)\n",
            "Downloading ujson-5.10.0-cp310-cp310-manylinux_2_17_x86_64.manylinux2014_x86_64.whl (53 kB)\n",
            "Downloading dill-0.3.8-py3-none-any.whl (116 kB)\n",
            "Downloading fsspec-2024.9.0-py3-none-any.whl (179 kB)\n",
            "Downloading multiprocess-0.70.16-py310-none-any.whl (134 kB)\n",
            "Downloading xxhash-3.5.0-cp310-cp310-manylinux_2_17_x86_64.manylinux2014_x86_64.whl (194 kB)\n",
            "Installing collected packages: bitarray, xxhash, ujson, python-dotenv, ninja, fsspec, dill, multiprocess, git-python, datasets, colbert-ai\n",
            "  Attempting uninstall: fsspec\n",
            "    Found existing installation: fsspec 2024.10.0\n",
            "    Uninstalling fsspec-2024.10.0:\n",
            "      Successfully uninstalled fsspec-2024.10.0\n",
            "\u001b[33m  DEPRECATION: Legacy editable install of colbert-ai==0.2.20 from file:///content/ColBERT (setup.py develop) is deprecated. pip 25.0 will enforce this behaviour change. A possible replacement is to add a pyproject.toml or enable --use-pep517, and use setuptools >= 64. If the resulting installation is not behaving as expected, try using --config-settings editable_mode=compat. Please consult the setuptools documentation for more information. Discussion can be found at https://github.com/pypa/pip/issues/11457\u001b[0m\u001b[33m\n",
            "\u001b[0m  Running setup.py develop for colbert-ai\n",
            "\u001b[31mERROR: pip's dependency resolver does not currently take into account all the packages that are installed. This behaviour is the source of the following dependency conflicts.\n",
            "gcsfs 2024.10.0 requires fsspec==2024.10.0, but you have fsspec 2024.9.0 which is incompatible.\u001b[0m\u001b[31m\n",
            "\u001b[0mSuccessfully installed bitarray-3.0.0 colbert-ai datasets-3.2.0 dill-0.3.8 fsspec-2024.9.0 git-python-1.0.3 multiprocess-0.70.16 ninja-1.11.1.3 python-dotenv-1.0.1 ujson-5.10.0 xxhash-3.5.0\n",
            "Collecting faiss-gpu\n",
            "  Downloading faiss_gpu-1.7.2-cp310-cp310-manylinux_2_17_x86_64.manylinux2014_x86_64.whl.metadata (1.4 kB)\n",
            "Requirement already satisfied: torch in /usr/local/lib/python3.10/dist-packages (2.5.1+cu121)\n",
            "Requirement already satisfied: filelock in /usr/local/lib/python3.10/dist-packages (from torch) (3.16.1)\n",
            "Requirement already satisfied: typing-extensions>=4.8.0 in /usr/local/lib/python3.10/dist-packages (from torch) (4.12.2)\n",
            "Requirement already satisfied: networkx in /usr/local/lib/python3.10/dist-packages (from torch) (3.4.2)\n",
            "Requirement already satisfied: jinja2 in /usr/local/lib/python3.10/dist-packages (from torch) (3.1.5)\n",
            "Requirement already satisfied: fsspec in /usr/local/lib/python3.10/dist-packages (from torch) (2024.9.0)\n",
            "Requirement already satisfied: sympy==1.13.1 in /usr/local/lib/python3.10/dist-packages (from torch) (1.13.1)\n",
            "Requirement already satisfied: mpmath<1.4,>=1.1.0 in /usr/local/lib/python3.10/dist-packages (from sympy==1.13.1->torch) (1.3.0)\n",
            "Requirement already satisfied: MarkupSafe>=2.0 in /usr/local/lib/python3.10/dist-packages (from jinja2->torch) (3.0.2)\n",
            "Downloading faiss_gpu-1.7.2-cp310-cp310-manylinux_2_17_x86_64.manylinux2014_x86_64.whl (85.5 MB)\n",
            "\u001b[2K   \u001b[90m━━━━━━━━━━━━━━━━━━━━━━━━━━━━━━━━━━━━━━━━\u001b[0m \u001b[32m85.5/85.5 MB\u001b[0m \u001b[31m42.0 MB/s\u001b[0m eta \u001b[36m0:00:00\u001b[0m\n",
            "\u001b[?25hInstalling collected packages: faiss-gpu\n",
            "Successfully installed faiss-gpu-1.7.2\n"
          ]
        }
      ],
      "source": [
        "try:\n",
        "    import google.colab\n",
        "    !pip install -U pip\n",
        "    !pip install -e ColBERT/\n",
        "    !pip install faiss-gpu torch\n",
        "except Exception:\n",
        "  import sys; sys.path.insert(0, 'ColBERT/')\n",
        "  try:\n",
        "    from colbert import Indexer, Searcher\n",
        "  except Exception:\n",
        "    print(\"If you're running outside Colab, use conda or install with pip, but it will be lower and less stable\")\n",
        "    assert False"
      ]
    },
    {
      "cell_type": "code",
      "execution_count": 3,
      "metadata": {
        "colab": {
          "base_uri": "https://localhost:8080/"
        },
        "id": "I32olS-wJWA-",
        "outputId": "ecfada5b-b1ba-43b5-ea2c-864c9a82f3e1"
      },
      "outputs": [
        {
          "name": "stderr",
          "output_type": "stream",
          "text": [
            "No CUDA runtime is found, using CUDA_HOME='/usr/local/cuda'\n"
          ]
        }
      ],
      "source": [
        "import colbert\n",
        "from colbert import Indexer, Searcher\n",
        "from colbert.infra import Run, RunConfig, ColBERTConfig\n",
        "from colbert.data import Queries, Collection"
      ]
    },
    {
      "cell_type": "markdown",
      "metadata": {
        "id": "DGTe9b2fJWA-"
      },
      "source": [
        "## Unzip the archive containing the embeddings"
      ]
    },
    {
      "cell_type": "code",
      "execution_count": 4,
      "metadata": {
        "id": "ZCICRQHjJWA-"
      },
      "outputs": [],
      "source": [
        "import zipfile\n",
        "import pandas as pd\n",
        "\n",
        "\n",
        "with zipfile.ZipFile('experiments.zip', 'r') as zip_ref:\n",
        "    zip_ref.extractall()"
      ]
    },
    {
      "cell_type": "code",
      "execution_count": 5,
      "metadata": {
        "colab": {
          "base_uri": "https://localhost:8080/"
        },
        "id": "5TbuSqsiJWA-",
        "outputId": "a5f8a917-6caa-4f48-df44-742ce35d72bd"
      },
      "outputs": [
        {
          "name": "stdout",
          "output_type": "stream",
          "text": [
            "Collection chargée.\n"
          ]
        }
      ],
      "source": [
        "import pickle\n",
        "\n",
        "collection_file = 'experiments/movie_plots/indexes/wikipedia_movie_plots/movie_plots_collection.pkl'\n",
        "\n",
        "with open(collection_file, 'rb') as f:\n",
        "    collection = pickle.load(f)\n",
        "    print(\"Collection chargée.\")"
      ]
    },
    {
      "cell_type": "markdown",
      "metadata": {},
      "source": [
        "### Searcher"
      ]
    },
    {
      "cell_type": "code",
      "execution_count": 10,
      "metadata": {
        "colab": {
          "base_uri": "https://localhost:8080/"
        },
        "id": "zmRbgdhmJWA-",
        "outputId": "86ec1f06-8de1-4e49-9dda-421147330b4c"
      },
      "outputs": [
        {
          "name": "stdout",
          "output_type": "stream",
          "text": [
            "[Jan 11, 16:24:33] #> Loading codec...\n",
            "[Jan 11, 16:24:33] #> Loading IVF...\n",
            "[Jan 11, 16:24:33] #> Loading doclens...\n"
          ]
        },
        {
          "name": "stderr",
          "output_type": "stream",
          "text": [
            "/content/ColBERT/colbert/utils/amp.py:12: FutureWarning: `torch.cuda.amp.GradScaler(args...)` is deprecated. Please use `torch.amp.GradScaler('cuda', args...)` instead.\n",
            "  self.scaler = torch.cuda.amp.GradScaler()\n",
            "/usr/local/lib/python3.10/dist-packages/torch/amp/grad_scaler.py:132: UserWarning: torch.cuda.amp.GradScaler is enabled, but CUDA is not available.  Disabling.\n",
            "  warnings.warn(\n",
            "/content/ColBERT/colbert/indexing/codecs/residual.py:141: FutureWarning: You are using `torch.load` with `weights_only=False` (the current default value), which uses the default pickle module implicitly. It is possible to construct malicious pickle data which will execute arbitrary code during unpickling (See https://github.com/pytorch/pytorch/blob/main/SECURITY.md#untrusted-models for more details). In a future release, the default value for `weights_only` will be flipped to `True`. This limits the functions that could be executed during unpickling. Arbitrary objects will no longer be allowed to be loaded via this mode unless they are explicitly allowlisted by the user via `torch.serialization.add_safe_globals`. We recommend you start setting `weights_only=True` for any use case where you don't have full control of the loaded file. Please open an issue on GitHub for any issues related to this experimental feature.\n",
            "  centroids = torch.load(centroids_path, map_location='cpu')\n",
            "/content/ColBERT/colbert/indexing/codecs/residual.py:142: FutureWarning: You are using `torch.load` with `weights_only=False` (the current default value), which uses the default pickle module implicitly. It is possible to construct malicious pickle data which will execute arbitrary code during unpickling (See https://github.com/pytorch/pytorch/blob/main/SECURITY.md#untrusted-models for more details). In a future release, the default value for `weights_only` will be flipped to `True`. This limits the functions that could be executed during unpickling. Arbitrary objects will no longer be allowed to be loaded via this mode unless they are explicitly allowlisted by the user via `torch.serialization.add_safe_globals`. We recommend you start setting `weights_only=True` for any use case where you don't have full control of the loaded file. Please open an issue on GitHub for any issues related to this experimental feature.\n",
            "  avg_residual = torch.load(avgresidual_path, map_location='cpu')\n",
            "/content/ColBERT/colbert/indexing/codecs/residual.py:143: FutureWarning: You are using `torch.load` with `weights_only=False` (the current default value), which uses the default pickle module implicitly. It is possible to construct malicious pickle data which will execute arbitrary code during unpickling (See https://github.com/pytorch/pytorch/blob/main/SECURITY.md#untrusted-models for more details). In a future release, the default value for `weights_only` will be flipped to `True`. This limits the functions that could be executed during unpickling. Arbitrary objects will no longer be allowed to be loaded via this mode unless they are explicitly allowlisted by the user via `torch.serialization.add_safe_globals`. We recommend you start setting `weights_only=True` for any use case where you don't have full control of the loaded file. Please open an issue on GitHub for any issues related to this experimental feature.\n",
            "  bucket_cutoffs, bucket_weights = torch.load(buckets_path, map_location='cpu')\n",
            "/content/ColBERT/colbert/search/index_loader.py:33: FutureWarning: You are using `torch.load` with `weights_only=False` (the current default value), which uses the default pickle module implicitly. It is possible to construct malicious pickle data which will execute arbitrary code during unpickling (See https://github.com/pytorch/pytorch/blob/main/SECURITY.md#untrusted-models for more details). In a future release, the default value for `weights_only` will be flipped to `True`. This limits the functions that could be executed during unpickling. Arbitrary objects will no longer be allowed to be loaded via this mode unless they are explicitly allowlisted by the user via `torch.serialization.add_safe_globals`. We recommend you start setting `weights_only=True` for any use case where you don't have full control of the loaded file. Please open an issue on GitHub for any issues related to this experimental feature.\n",
            "  ivf, ivf_lengths = torch.load(os.path.join(self.index_path, \"ivf.pid.pt\"), map_location='cpu')\n",
            "100%|██████████| 1/1 [00:00<00:00, 478.04it/s]"
          ]
        },
        {
          "name": "stdout",
          "output_type": "stream",
          "text": [
            "[Jan 11, 16:24:34] #> Loading codes and residuals...\n"
          ]
        },
        {
          "name": "stderr",
          "output_type": "stream",
          "text": [
            "\n",
            "  0%|          | 0/1 [00:00<?, ?it/s]/content/ColBERT/colbert/indexing/codecs/residual_embeddings.py:86: FutureWarning: You are using `torch.load` with `weights_only=False` (the current default value), which uses the default pickle module implicitly. It is possible to construct malicious pickle data which will execute arbitrary code during unpickling (See https://github.com/pytorch/pytorch/blob/main/SECURITY.md#untrusted-models for more details). In a future release, the default value for `weights_only` will be flipped to `True`. This limits the functions that could be executed during unpickling. Arbitrary objects will no longer be allowed to be loaded via this mode unless they are explicitly allowlisted by the user via `torch.serialization.add_safe_globals`. We recommend you start setting `weights_only=True` for any use case where you don't have full control of the loaded file. Please open an issue on GitHub for any issues related to this experimental feature.\n",
            "  return torch.load(codes_path, map_location='cpu')\n",
            "/content/ColBERT/colbert/indexing/codecs/residual_embeddings.py:93: FutureWarning: You are using `torch.load` with `weights_only=False` (the current default value), which uses the default pickle module implicitly. It is possible to construct malicious pickle data which will execute arbitrary code during unpickling (See https://github.com/pytorch/pytorch/blob/main/SECURITY.md#untrusted-models for more details). In a future release, the default value for `weights_only` will be flipped to `True`. This limits the functions that could be executed during unpickling. Arbitrary objects will no longer be allowed to be loaded via this mode unless they are explicitly allowlisted by the user via `torch.serialization.add_safe_globals`. We recommend you start setting `weights_only=True` for any use case where you don't have full control of the loaded file. Please open an issue on GitHub for any issues related to this experimental feature.\n",
            "  return torch.load(residuals_path, map_location='cpu')\n",
            "100%|██████████| 1/1 [00:00<00:00,  2.60it/s]\n"
          ]
        },
        {
          "name": "stdout",
          "output_type": "stream",
          "text": [
            "Requete: A movie about space exploration and human survival\n",
            "\n",
            "#> QueryTokenizer.tensorize(batch_text[0], batch_background[0], bsize) ==\n",
            "#> Input: A movie about space exploration and human survival, \t\t True, \t\t None\n",
            "#> Output IDs: torch.Size([32]), tensor([ 101,    1, 1037, 3185, 2055, 2686, 8993, 1998, 2529, 7691,  102,  103,\n",
            "         103,  103,  103,  103,  103,  103,  103,  103,  103,  103,  103,  103,\n",
            "         103,  103,  103,  103,  103,  103,  103,  103])\n",
            "#> Output Mask: torch.Size([32]), tensor([1, 1, 1, 1, 1, 1, 1, 1, 1, 1, 1, 0, 0, 0, 0, 0, 0, 0, 0, 0, 0, 0, 0, 0,\n",
            "        0, 0, 0, 0, 0, 0, 0, 0])\n",
            "\n",
            "Résultats: ([2080, 4457, 12749], [1, 2, 3], [19.37470245361328, 18.967586517333984, 18.755653381347656])\n"
          ]
        }
      ],
      "source": [
        "from colbert import Searcher\n",
        "\n",
        "nb_result = 3\n",
        "\n",
        "index_name = \"wikipedia_movie_plots\"\n",
        "experiments_name = \"movie_plots\"\n",
        "\n",
        "# Load the dense index and configure the searcher\n",
        "with Run().context(RunConfig(experiment=experiments_name)):\n",
        "    searcher = Searcher(index=index_name, collection=collection)\n",
        "\n",
        "query = \"A movie about space exploration and human survival\"\n",
        "print(f\"Requete: {query}\")\n",
        "\n",
        "results = searcher.search(query, k=nb_result)\n",
        "print(f\"Résultats: {results}\")\n",
        "\n",
        "id = results[0]\n",
        "rank = results[1]\n",
        "score = results[2]"
      ]
    },
    {
      "cell_type": "markdown",
      "metadata": {},
      "source": [
        "### Result"
      ]
    },
    {
      "cell_type": "code",
      "execution_count": 11,
      "metadata": {
        "colab": {
          "base_uri": "https://localhost:8080/"
        },
        "id": "csINnh-5Lo16",
        "outputId": "0742266c-b5c2-4f49-d38f-01ee21341877"
      },
      "outputs": [
        {
          "name": "stdout",
          "output_type": "stream",
          "text": [
            "[Rank 1] (Score: 19.37)\n",
            "Title: Spaceflight IC-1: An Adventure in Space Plot: The opening narrative is given by a man in a high ranking military uniform. He tells us the film is set 50 years into the future, when an overcrowded Earth will begin looking for other Earths. Flights will be made taking 25 to 50 years. This film is the story of one such flight IC 1 (Interstellar Colony ship One) It is a Noahs Ark of space, 8 couples with their children will travel to Earth 2 well beyond our Solar System\n",
            "We are then introduced to the couples who make up the crew. First is the Captain, Mead Ralston, (Bill Williams) his wife and educator Jan Ralston (Norma West) The medical team are doctors Steven Thomas (John Cairney) and his wife Helen Thomas (Linda Marlowe) Aside from the health of the crew, the doctors are involved in an experiment in suspended animation. Two men and two women to be revived when they reach Earth 2The next couple is engineer John Saunders (Jeremy Longhurst) and his wife biologist Kate Saunders (Kathleen Breck) The crews computer experts are Karl Walcott (Donald Churchill) and his wife Joyce Walcott (Margo McLennan) The final member of the crew is the most unusual. A synthetic man called Doctor Garth (John Lee) is the operations commander. His body replicates every action of a normal human body.The film begins on the first anniversary of the ship's departure from Earth. Captain Ralston is speaking to reporters back home as news of the flight is released. It is a joint mission of Great Britain, Canada and the United States. All seems to be going well, the crew's morale is high and the children are growing normally.Ralston reports the ship is operating better than expected. Garth interrupts the interview to ask if he can speak to Captain Ralston explains that is against regulations, Garth acts with a little annoyance at the reply.After the contact is broken, Ralston speaks to his wife (much younger than he) about their inability to conceive children. She assures him no one, especially her, is concerned about the issue. She argues they have only been married a year, there is plenty of time to have children. Ralston still seems disgusted and is convinced the whole world thinks he is a failureIn another part of the ship, plans are being made for a surprise party to celebrate the first year in space. Someone asks if the Captain is aware of the event, the answer is no, that]s the surprise. A number of the crew seem nervous about the plans and beg offIn another area of the ship, Kate is teaching the children. Their lessons over, she puts them to bed in a communal bedroom. The children choose a story to end their day. Ho Ho The Holographic Clown (Max Kirby) begins to entertain the children as Kate slips away to the party.John Saunders plays the clown as he serves the crew water and a small pill mimicking the flavor of various alcoholic drinks. Ralston joins the party and immediately breaks it up, declaring that the ship could have been in danger while everyone was having a good time. Dr Thomas and his wife plead with the captain to allow the crew some recreation time. He responds by ordering all the capsules brought to his cabin so he can keep control of them.Steven Thomas goes to the control room to check Dr Garth. He is happy in a melancholy way. Saunders asked Garth if he knows of any plans given to Ralston for the coming year. Dr Garth admits he could not answer even if he wanted to.The Thomases are checking on the crew in suspended animation when Helen suddenly feels faint. Her husband asked what the results of the last tests were and she admits she never took the exam. Steven decides he needs to get that rectified immediatelyThe Saunders talk over the events of the night and Ralston's behavior. Kate is disgruntled and tries to goad her husband into a fight. The next morning during breakfast tension is running very high; the bland algae diet is getting one everyone's nerves. Kate defends herself, saying she has very limited resources with which to work. Saunders brings up the question of what is to happen during the second year regarding children. Ralston becomes defensive and tells the crew he will tell them what concerns them.Ralston sends Helen to find Steve, he wants a meeting. In the lab Steve is going over Helen's results and it is not good news. It appears Helen has a pancreatic infection, and the prognosis is not good. As a doctor she understands the seriousness of the situation.Steven believes the only way to save Helen is to return to Earth, she argues Ralston will never agree to the return. Steven approaches the crew explains the situation. Ralston immediately rejects the option, claiming he has no choice.Steven reports back to Helen that Ralston reacted exactly how she expected. He wants to force Ralston to turn around but Helen argues otherwise. The future of their son is at stake. She wants the chance for the boy to have a new future.Steven arranges a grievance committee to see how much support he may have among the balance of the crew. Jan puts together a lesson plan for the children, of which her husband disapproves. She is concerned her husband is spying on her and reviewing all the information being taught to the kids. In particular, she is bothered by the style of government and organization, called RULE, introduced. Mead admits he is a member of the organization and has been before the couple married.Mrs. Ralston criticizes her husband for having changed. She says the rest of the crew has also seen the change and dislikes itSteven and Helen talk about the future; at best she has three years. Steven still wants to return but Helen argues against it. Better to have three good years than to be stuck on an overcrowded, over-controlled Earth. She does tell him she wants to have a little sister for her son. She does not want to ask Ralston, simply do it and let him deal with the future.Ralston contacts the couple, admonishes Steven for not being at his post, then requests a meeting with Helen. At the meeting Ralston speaks of the regrets he has for Helen. He then warns Helen that Steven needs to tone down his attitude and questions Steven has about the Captain. She then asks the Ralston for permission to have a second child. Ralston tells her it is not his choice, the mission profile does not allow her a second child and he is going to stand by that. Steven speaks with Saunders about the growing friction with Ralston. Saunders explains he is very frustrated with the situation and wants to do something.Later, Steven goes to get Helen for dinner. She is dead in bed, leaving a suicide note explaining that Ralston refusing to allow a child was more than she can take. Steven finds Ralston and challenges him over his behavior and knocks him out. With the help of Saunders, they take him to his cabin and lock him inside. Effectively they have staged a mutiny. Finally Saunders shows Stevens the special key to set off a self destruct sequence to destroy the ship.Later, Ralston discusses the situation with his wife, according to the regulations he only has one course of action, to execute Thomas.In their cabin, the Saunders discusses the situation. John speaks to his wife about his involvement in putting Ralston in restraints, he does not feel like a hero, and is worried that he cannot justify his actions. Trying to stay practical, his wife discusses what will happen regarding the funeral. John tells her the regulations say she will be buried in space.Saunders leads the funeral service in the absence of the captain. Everyone is deeply distressed as Helen's body is ejected from the ship. Later the Saunders and Thomas call a meeting to elect a new captain. Steven Thomas is the only nomination.He expresses regret over what occurred on the ship, and really does not want the nomination unless the crew gives him their full support, and continues to do their jobs as before. All agree with the exception of Karl, who still supports the captain, but realizes he is in the minority.On Earth we see Captain Burnett dictating a memo to the RULE council. He advises the council that he has lost contact with the spacecraft, and if contact is not re-established within 2 days the ship will be presumed lost.\n",
            "Steven talks to Garth about the situation. Should he tell them about the coup or press on in total silence. Steven tells Garth that he's explained the orders for year two, and the crew is allowed to try and have children.Later, Saunders confides in Steve that Kate is pregnant. Joyce interrupts the news to tell Steven she and Karl have had another argument. Steven thinks the source of her problems are caused by the continuing situation with the Captain, Joyce tells him she's never really loved Karl and the problems date long before the mission beganSteven finds Jan and asks for her help about what to do with the captain. He asks Jan to try and talk to the captain to see if some resolution can be found. Jan warns Steven that if the captain get out he is going to kill Steven because the captain believes Steven's actions were mutiny. Steven assures her everything will be fine\n",
            "Karl finds the keys to unlock the room the captain is in and releases him before he can correct the situation. Ralston jumps him from behind and knocks him out, retaking command of the ship. The captain tells the crew they will be locked in their rooms until further notice.He then tells Steven about his execution. Before he does, he orders Thomas to awaken Dr Griffiths so that there is a medical person after Thomas is executed.Jan Ralston talks to Garth about the location of weapons on-board. Garth tells her they are stored with the rest of the survival gear needed once the ship reaches Earth 2. He cautions the weapons are inaccessible until the ship lands.Thomas approaches Ralston again pleading not to awaken Griffiths, Steven argues conditions are too unstable and he can't guarantee the results. Ralston warns Thomas, any treachery will cause him to set off the self destruct system on the shipSteven goes to his quarters and finds Kate. She asks Steven pointedly does he think the captain is insane. Steven doesn't thinks so, he believes Ralston is simply suffering the pressure of command. Steven begins to process of waking Dr Griffiths, it will take at least 18 hours to warm him enough to begin revival.Karl speaks to Thomas and apologizes for siding with the Captain, he did not think Ralston would go through with his plan to execute Steven after he got free. Steven dismisses the apology and tells Karl he is not his consciousBack in the medical area, Dr Griffiths (Tony Doonan) breaks free of his container. He seems disorientated and unsure of his surroundings. He leaves the medical bay and begins exploring the ship. He comes across Kate asleep in the nursery and knocks her out. Ralston thinks he hears something and goes to investigate. Ralston finds Griffiths. In his confused state, Griffiths kills him immediately.Karl discovers what has happened and slugs Griffiths, knocking him out. Thomas arrives on the scene and checks to see if the captain may still be alive. Karl and Steven take Griffith back to the medical bay but he dies.Steven explains it was the temperature differential that caused Griffith to fall apart from the inside.At the funeral for the two men, Steven and Kate quietly hold hands during the service, the inference being they may be starting a relationship\n",
            "\n",
            "\n",
            "\n",
            "[Rank 2] (Score: 18.97)\n",
            "Title: The Power Plot: Dr. Jim Tanner has always been an expert on human endurance. As the film opens, he is the chairman of a committee of scientists, based at the laboratory of the Space Research Commission in San Marino, CA, tasked to find the limits of human endurance, and those factors that could best enable a human being, say a prospective space pilot, to survive extreme stress and to make instant decisions that could save his life in an emergency. But never before has Tanner found himself pushed to the limits of his own endurance.On a day like any other, Mr. Arthur Nordlund, US Naval liaison, visits his laboratory and observes some of Tanner's work, as four test subjects are undergoing endurance tests of direct neural stimulation, immersion in freezing-cold water, extreme heat, and high acceleration in a centrifuge. Though impressed, Nordlund is skeptical of the expense, though Tanner seeks to assure him that the work is necessary to the continued viability of the US space program. Biologist Talbot Scott interrupts Tanner, asks to talk with him privately, and warns him that another of their colleagues, anthropologist Henry Hallston, is scheduled to present his report on his human-intelligence survey, and is somehow convinced that all the committee members are \"being watched.\" Scott is afraid that Hallston will embarrass the Committee in front of Nordlund, who is scheduled to attend.Tanner cannot put off Nordlund, so when the Committee sits, Tanner tries to put off Hallston instead. But Hallston will not be put off. His survey, in which the Committee members participated, reveals that one member--unidentified because the questionnaires were coded--is an unmeasurable genius, so much so that his genius might reward him with preternatural powers that others would be helpless to resist. The other members are openly skeptical, and Tanner despairs of the impression that Hallston is making in front of Nordlund, but Nordlund wants to hear more--and the laboratory's chief administrator, Norman E. Van Zandt, insists on allowing Hallston to have his say, if only to falsify his seemingly outrageous theories. But when physicist Carl Melniker sets up a test of telekinesis by placing a sheet of notepaper on an improvised spindle, and Hallston insists that everyone in the room try together to make the paper spin without touching it, the incredible happens: the paper does spin, slowly at first, then faster and faster.Tanner is inclined to ignore the whole thing, but his colleague and paramour, geneticist Margery Lansing, is not so sure. She asserts that such a genius could be born today. Then the telephone interrupts them, and at the other end is a frantic Sally Hallston who tells Tanner that her husband had gone to the lab to pick up his questionnaires and had not returned home.(In fact, Hallston has gone to his office, but never made it out. Someone--presumably the unidentified genius--has impressed on Hallston's mind that the knee-level swinging door has become a gate taller than he, and then a solid wall. After that, Hallston has suffered a heart attack and collapsed at his desk.)Reluctantly, Tanner drives back to the lab, with Marge in tow. Together they look over Hallston's office, which is unusual in appearance except for some signs that someone has fallen over the desk and spilled some papers. Among the papers, Tanner finds a memo sheet with the name \"Adam Hart\" scrawled on it. As he is trying to figure out who that person might be, they overhear the centrifuge starting up. Tanner and Marge rush to the centrifuge control room but cannot stop the centrifuge. Tanner rushes down the hallway to pull the main switch, and together he and Marge wait for the centrifuge to stop, and then open it. There they find Hallston, dead, his eyes and tongue still protruding from the high-acceleration forces he has suffered.The next day, a police detective oversees the removal of Hallston's body and interviews Tanner. That is when things begin to go seriously wrong for Tanner. First, the centrifuge's controls now work properly, contrary to Tanner's story (and experience). Then, the detective and Dr. Van Zandt both accuse Tanner of academic fraud, after Tanner's degree-granting colleges and graduate schools disavow any memory of his having ever enrolled, much less graduated. Then Talbot Scott abruptly refuses to have anything to say to Tanner, this although they had had a friendly conversation only five minutes before. Forced to resign his position, Tanner leaves the laboratory, but not before the detective hints to him that he is now a \"person of interest\" in what is now a murder investigation.Unable to figure out what to do next, Tanner wanders aimlessly in the tourist section of San Marino, only to have more weird experiences. A water-dipping bird on display abruptly straightens up, winks at him, then drinks from the water glass and spits at him. In another display window, a company of toy soldiers march smartly into formation, unlimber their muskets, aim at him, and fire! Then he tries to cross the street, but the pedestrian-traffic signal changes its message from DON'T WALK to DON'T RUN. He runs from the intersection and into a fun house, where he finds himself on an empty carousel (with a horse that winks at him) that begins to spin as fast as the centrifuge, and the carousel operator has to pull a main switch of his own to stop it and get Tanner off.By now, Tanner has had it. He realizes that someone who was at that Committee meeting has set him up. That person, presumably the mysterious Adam Hart, first murdered Hallston, then framed Tanner with the murder, somehow erased Tanner's academic record, and just now tried to kill him--but for a reason that escapes Tanner, failed. Tanner does not want to wait for another murder attempt, but decides to track Adam Hart down himself.He goes to Joshua Flats, CA, Hallston's hometown, and starts asking questions about Hart, first of a local cafe waitress (who seems unusually romantically interested in Tanner, a thing that also happened to him in the tourist section, but to which he paid no attention), and then of Hallston's parents. The witnesses variously describe Hart, who had been Hallston's schoolmate, as a genius and a sexual magnet. Then the local fill-up station operator offers to take Tanner to Hart's old hangout--but instead dumps Tanner in the middle of the desert next to an Air Force firing range. Tanner is nearly killed again when a squadron of Air Force jets starts strafing the range. He escapes only because he has the presence of mind to light a fire in the brush on the range, prompting the pilots to break off. Furious, he returns to the fill-up station, bursts into the operator's bedroom, and interrogates the operator, who confesses that Adam Hart gave him a standing order ten years earlier to kill any person who dared make inquiries about him. That this operator would blindly obey such a dangerous order after all these years only convinces Tanner further that he is dealing with an assassin with the very preternatural abilities that Hallston most feared. Now he knows the reason for Hallston's attitude: Hallston, having grown up with Hart, had felt instinctively that Hart was a very dangerous person. But Hallston is dead, and Tanner is now Hart's target.Tanner next goes to see Hallston's widow, who is no help. She now doesn't remember the name Adam Hart (though she had said that Hallston had mentioned him once), doesn't remember what her late husband looked like, and doesn't even remember Tanner, though for some weird reason she also seems romantically interested in him, though Tanner puts that down to her being drunk. Next he goes to the home of Margery Lansing, but is violently attacked by Carl Melniker, who earlier has invaded Marge's home, bound her, and lain in wait for Tanner, thinking him to be the unknown genius who had killed Hallston. Tanner manages to subdue Melniker long enough to convince him that he means him no harm, and unbinds Marge. The three scientists then try to have a rational discussion about what they're facing, and how to combat it--or survive it. The three decide that for now they don't dare fall asleep, so they drive to a hotel in nearby Santa Lisa, that his hosting a salesmen's convention, and in effect, crash the party. While there, Tanner sees a newspaper with several copies bearing a partial headline: DON'T RUN! This turns out to be part of a legitimate headline--but why the newspaper would run a banner headline about the city's mayor telling an opposing candidate not to run against him seems most strange. Later, despite their best efforts, Melniker winds up dead, and Tanner and Marge have to flee.Tanner and Marge next drive to the apartment complex where Arthur Nordlund lives. As they drive into the parking garage, they notice Nordlund abruptly suffering an apparent heart attack and then stumbling into an elevator. The elevator starts to go up, then starts back down, then gets stuck between floors. Tanner climbs to the top floor, enters the elevator shaft, and tries to climb down to the elevator by rapelling down the cable--but then the elevator starts to go up, threatening to crush Tanner. Tanner quickly lets himself down to the elevator cab, opens the trap door, enters the cab, and finds Nordlund, who is near death.Now that Hallston and Melniker are dead, Nordlund seems to have been attacked himself, and Tanner trusts Marge implicitly, Tanner now narrows his list of suspects to Van Zandt and Scott. Nordlund, who has now joined their group, urges a homicidal counterstrike against the unknown genius, but Tanner does not wish to kill a man indiscriminately, not without knowing which man is the right man. Tanner then visits Van Zandt's home, but succeeds only in speaking to Mrs. Van Zandt before realizing that Dr.Van Zandt suspects Tanner of murder. Then Tanner barely escapes alive when someone (not Norman Van Zandt) tries to run him down. He drives away, only to find himself in an out-of-control car with brakes that don't hold. He splashes into a river and escapes by unfastening the car's convertible top, and then is picked up by police. They take him to a hospital, where the detective first tells him that he is under arrest--for the murders of Dr. and Mrs. Van Zandt, who have died when their house burned down shortly after his visit to it. The detective also informs him that Nordlund has disappeared.Then comes word that Talbot Scott has locked himself in the auditorium at the laboratory, is armed, and has demanded to see Tanner. Tanner insists that he can talk to Scott and reason with him, and reluctantly the detective lets Tanner go to the laboratory. There he listens incredulously as Scott babbles disconnectedly about Tanner being the genius, and Scott's willingness to serve Tanner however he wishes if only Tanner will not kill him. In the end, the out-of-control Scott dies in a gun battle with police.At last Tanner realizes who is responsible for his set-up and the murders of his colleagues: Arthur Nordlund, otherwise known as Adam Hart. Instead of running, Tanner walks the corridor and looks at some notes that someone had left, concerning the effect of intense pain on the heart. Marge then reveals herself, telling Tanner that she is glad that he has stopped running and will now stand and fight--because she, too, realizes that Nordlund is responsible.Tanner confronts Nordlund directly in the corridor of the laboratory. Nordlund then unleashes his full telepathic fury against Tanner, seeking to hypnotize him into believing himself plunged into freezing cold, then searing heat, and finally into the unforgiving void of outer space. Somehow Tanner survives, though he physically collapses--but does not black out. Now he knows why Nordlund/Hart wanted him dead: there are in fact not one genius, but two: Adam Hart and himself! Now he fights back directly, and kills Nordlund by telekinetically squeezing his heart and holding it compressed.Marge tells Tanner, in wonderment, that she ought to have suspected earlier: Adam Hart would never have revealed himself by making the paper spin at the original meeting, and everyone else (except Van Zandt) had tried individually to spin the paper and failed, so therefore Tanner had been the genius all along. Nordlund had tried to kill Tanner after deciding that the world wasn't big enough for two such geniuses, and had eliminated his colleagues to dispose of all possible witnesses (except for Marge, perhaps because he hadn't had a chance to eliminate her yet). Now that Tanner realizes the kind of genius that he is, he and Marge leave the laboratory, with Tanner speculating idly on whether his newfound power will corrupt him--and unable to answer his own question.\n",
            "\n",
            "\n",
            "\n",
            "[Rank 3] (Score: 18.76)\n",
            "Title: Lost in Space Plot: In October 1997, 32 years in the future from the perspective of viewers in 1965, the United States is about to launch one of history's great adventures: man's colonization of deep space. The Jupiter 2 (called Gemini 12 in the unaired pilot episode), a futuristic saucer-shaped spacecraft which owed its design to the Fifties sci-fi movie The Day the Earth Stood Still, stands on its launch pad undergoing final preparations. Its mission is to take a single family on a five-and-a-half-year journey (altered from 98 years in the unaired pilot) to a planet orbiting the nearest star, Alpha Centauri (the pilot show had referred to the planet itself as Alpha Centauri), which space probes have revealed possesses ideal conditions for human life.\n",
            "The Robinson family, supposedly selected from two million volunteers for this mission, consisted of Professor John Robinson, played by Guy Williams, his wife, Maureen, played by June Lockhart, their children, Judy (Marta Kristen), Penny (Angela Cartwright), and Will (Billy Mumy). They are accompanied by their pilot, U.S. Space Corps Major Donald West (Mark Goddard), who is trained to fly the ship when the time comes for the eventual landing. Initially the Robinsons and Major West will be in freezing tubes for the voyage, with the tubes opening when the spacecraft approached its destination. Unless there is a problem with the ship's navigation or guidance system during the voyage, Major West was only to take the controls during the final approach and landing on the destination planet, while the Robinsons were to strap themselves into contour couches on the lower deck for the landing.\n",
            "Other nations are racing to colonize space, and they would stop at nothing, not even sabotage, to thwart the United States's effort. It turns out that Dr. Zachary Smith (Jonathan Harris), Alpha Control's doctor, and later supposedly a psychologist and environmental control expert, is moonlighting as a secret agent for one of those competing nations. After disposing of a guard who catches him on board the spacecraft, Smith reprograms the Jupiter 2's B-9 environmental control robot, voiced by Dick Tufeld, to destroy critical systems on the spaceship eight hours after launch. Smith, however, unintentionally becomes trapped aboard at launch and his extra weight throws the Jupiter 2 off course, causing it to encounter a meteor storm. This, plus the robot's rampage which causes the ship to prematurely engage its hyperdrive, causes the expedition to become hopelessly lost in the infinite depths of outer space.\n",
            "The Robinsons are regularly placed in danger by Smith, whose selfish actions and laziness endanger the family frequently. After the first half of the first season, Smith's role assumes less sinister overtones, although he continues to display many character flaws. In \"The Time Merchant\" Smith shows he actually does care about the Robinsons, when he travels back in time to the day of the Jupiter 2 launch, with the hope of changing his own fate by not boarding the ship, so allowing the Robinsons to start the mission as originally planned. However, he learns that without his weight altering the ship's course, the Jupiter 2 will be destroyed by an uncharted asteroid. So he sacrifices his chance to stay on his beloved Earth, electing to re-board the ship, thus saving the lives of the family and continuing his role amongst them as the reluctant stowaway.\n",
            "The fate of the Robinsons, Don West and Dr. Smith is never resolved, as the series unexpected cancellation left the Jupiter 2 and her crew literally on the junk-pile at the end of season three.\n",
            "\n",
            "\n",
            "\n"
          ]
        }
      ],
      "source": [
        "for i in range(nb_result):\n",
        "    print(f\"[Rank {rank[i]}] (Score: {score[i]:.2f})\")\n",
        "    print(collection[id[i]])\n",
        "    print(\"\\n\\n\")"
      ]
    }
  ],
  "metadata": {
    "colab": {
      "provenance": []
    },
    "kernelspec": {
      "display_name": "Python 3",
      "language": "python",
      "name": "python3"
    },
    "language_info": {
      "name": "python",
      "version": "3.8.10"
    }
  },
  "nbformat": 4,
  "nbformat_minor": 0
}
